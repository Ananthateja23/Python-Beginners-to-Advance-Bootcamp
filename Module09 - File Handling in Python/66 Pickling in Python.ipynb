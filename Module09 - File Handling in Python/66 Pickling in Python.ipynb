{
 "cells": [
  {
   "cell_type": "markdown",
   "id": "e70e78bc-451f-4351-8301-1dd81ee88e9a",
   "metadata": {},
   "source": [
    "![](Images/Image05.png)"
   ]
  },
  {
   "cell_type": "code",
   "execution_count": 1,
   "id": "ef413b7a-fcb3-42fe-9f72-fd0a0e1a6fe8",
   "metadata": {},
   "outputs": [],
   "source": [
    "def display_info():\n",
    "    return \"Hi my name is Happy and I am a programmer\""
   ]
  },
  {
   "cell_type": "code",
   "execution_count": 2,
   "id": "bf7b3dea-0fd0-4675-aca1-7ddda0b4408e",
   "metadata": {},
   "outputs": [],
   "source": [
    "d = display_info()"
   ]
  },
  {
   "cell_type": "code",
   "execution_count": 3,
   "id": "42d5104b-bb34-4350-ad4e-8bac235f9f6b",
   "metadata": {},
   "outputs": [],
   "source": [
    "# pickle dump\n",
    "\n",
    "import pickle\n",
    "\n",
    "with open(\"files/test.pkl\", \"wb\") as f:\n",
    "    pickle.dump(d, f)"
   ]
  },
  {
   "cell_type": "code",
   "execution_count": 4,
   "id": "b99b39a4-64e6-4922-be71-593227faa483",
   "metadata": {},
   "outputs": [
    {
     "name": "stdout",
     "output_type": "stream",
     "text": [
      "Hi my name is Happy and I am a programmer\n"
     ]
    }
   ],
   "source": [
    "# pickle load\n",
    "\n",
    "import pickle\n",
    "\n",
    "with open(\"files/test.pkl\", \"rb\") as f:\n",
    "    p = pickle.load(f)\n",
    "    print(p)"
   ]
  },
  {
   "cell_type": "code",
   "execution_count": null,
   "id": "ae991727-6140-4a08-96f0-13229808c3ba",
   "metadata": {},
   "outputs": [],
   "source": []
  }
 ],
 "metadata": {
  "kernelspec": {
   "display_name": "Python 3 (ipykernel)",
   "language": "python",
   "name": "python3"
  },
  "language_info": {
   "codemirror_mode": {
    "name": "ipython",
    "version": 3
   },
   "file_extension": ".py",
   "mimetype": "text/x-python",
   "name": "python",
   "nbconvert_exporter": "python",
   "pygments_lexer": "ipython3",
   "version": "3.11.7"
  }
 },
 "nbformat": 4,
 "nbformat_minor": 5
}
