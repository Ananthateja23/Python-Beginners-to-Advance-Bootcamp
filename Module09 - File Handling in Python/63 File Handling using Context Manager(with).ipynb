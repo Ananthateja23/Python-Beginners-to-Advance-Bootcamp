{
 "cells": [
  {
   "cell_type": "markdown",
   "id": "c962ec18-7975-49c4-90c5-821a7ea742e2",
   "metadata": {},
   "source": [
    "![](Images/Image02.png)"
   ]
  },
  {
   "cell_type": "code",
   "execution_count": 15,
   "id": "267361b2-90fa-46b5-a11c-c6f56923cdcc",
   "metadata": {},
   "outputs": [],
   "source": [
    "with open(\"files/sample.txt\", \"w\") as f:\n",
    "    f.write(\"Hello there!\")\n",
    "    f.write(\"\\nHow are you?\")"
   ]
  },
  {
   "cell_type": "code",
   "execution_count": 16,
   "id": "6d63553e-451e-4afe-afe5-f5af7385b5b9",
   "metadata": {},
   "outputs": [
    {
     "ename": "ValueError",
     "evalue": "I/O operation on closed file.",
     "output_type": "error",
     "traceback": [
      "\u001b[1;31m---------------------------------------------------------------------------\u001b[0m",
      "\u001b[1;31mValueError\u001b[0m                                Traceback (most recent call last)",
      "Cell \u001b[1;32mIn[16], line 1\u001b[0m\n\u001b[1;32m----> 1\u001b[0m f\u001b[38;5;241m.\u001b[39mwrite(\u001b[38;5;124m\"\u001b[39m\u001b[38;5;124mHappy\u001b[39m\u001b[38;5;124m\"\u001b[39m)\n",
      "\u001b[1;31mValueError\u001b[0m: I/O operation on closed file."
     ]
    }
   ],
   "source": [
    "f.write(\"Happy\")"
   ]
  },
  {
   "cell_type": "code",
   "execution_count": 17,
   "id": "33209764-076a-4616-b75b-aeb9c1877b4d",
   "metadata": {},
   "outputs": [
    {
     "name": "stdout",
     "output_type": "stream",
     "text": [
      "Hello there!\n",
      "How are you?\n"
     ]
    }
   ],
   "source": [
    "# reading from a file\n",
    "\n",
    "with open(\"files/sample.txt\", \"r\") as f:\n",
    "    data = f.read()\n",
    "    print(data)"
   ]
  },
  {
   "cell_type": "code",
   "execution_count": 18,
   "id": "b6d26b69-b410-426c-8c88-6eb5c273671c",
   "metadata": {},
   "outputs": [
    {
     "name": "stdout",
     "output_type": "stream",
     "text": [
      "Hello there!\n",
      "\n"
     ]
    }
   ],
   "source": [
    "with open(\"files/sample.txt\", \"r\") as f:\n",
    "    data = f.readline()\n",
    "    print(data)"
   ]
  },
  {
   "cell_type": "code",
   "execution_count": 19,
   "id": "17e825c4-761b-4554-83a9-3f6256d2e34d",
   "metadata": {},
   "outputs": [],
   "source": [
    "# append mode\n",
    "\n",
    "with open(\"files/sample.txt\", \"a\") as f:\n",
    "    f.write(\"\\nWe are happy\")\n",
    "    f.write(\"\\nmay day may day\")"
   ]
  },
  {
   "cell_type": "code",
   "execution_count": 20,
   "id": "c6580089-9899-4fe7-b565-84e66bfeb217",
   "metadata": {},
   "outputs": [
    {
     "name": "stdout",
     "output_type": "stream",
     "text": [
      "Hello ther\n"
     ]
    }
   ],
   "source": [
    "# reading n char\n",
    "\n",
    "with open(\"files/sample.txt\", \"r\") as f:\n",
    "    data = f.read(10)\n",
    "    print(data)"
   ]
  },
  {
   "cell_type": "code",
   "execution_count": 21,
   "id": "36fabf18-26a5-48cf-8154-69910be47a72",
   "metadata": {},
   "outputs": [
    {
     "name": "stdout",
     "output_type": "stream",
     "text": [
      "Hello ther\n",
      "e!\n",
      "How are\n"
     ]
    }
   ],
   "source": [
    "with open(\"files/sample.txt\", \"r\") as f:\n",
    "    print(f.read(10))\n",
    "    print(f.read(10))"
   ]
  },
  {
   "cell_type": "code",
   "execution_count": 22,
   "id": "8d5c717c-3b0b-4301-a036-b0645cf9dd05",
   "metadata": {},
   "outputs": [],
   "source": [
    "# benefits? -> to load a big file in memory\n",
    "\n",
    "big_L = [\"hello world\" for i in range(1000)]\n",
    "\n",
    "with open(\"files/big.txt\", \"w\") as f:\n",
    "    f.writelines(big_L)\n",
    "    "
   ]
  },
  {
   "cell_type": "code",
   "execution_count": 23,
   "id": "f081691d-4d05-4760-ad17-b65b96abaa16",
   "metadata": {},
   "outputs": [
    {
     "name": "stdout",
     "output_type": "stream",
     "text": [
      "dhello wor orldhello  o worldhel ello world ldhello wo worldhello lo worldhe hello worl rldhello w  worldhell llo worldh dhello wor orldhello  o worldhel ello world ldhello wo worldhello lo worldhe hello worl rldhello w  worldhell llo worldh dhello wor orldhello  o worldhel ello world ldhello wo worldhello lo worldhe hello worl rldhello w  worldhell llo worldh dhello wor orldhello  o worldhel ello world ldhello wo worldhello lo worldhe hello worl rldhello w  worldhell llo worldh dhello wor orldhello  o worldhel ello world ldhello wo worldhello lo worldhe hello worl rldhello w  worldhell llo worldh dhello wor orldhello  o worldhel ello world ldhello wo worldhello lo worldhe hello worl rldhello w  worldhell llo worldh dhello wor orldhello  o worldhel ello world ldhello wo worldhello lo worldhe hello worl rldhello w  worldhell llo worldh dhello wor orldhello  o worldhel ello world ldhello wo worldhello lo worldhe hello worl rldhello w  worldhell llo worldh dhello wor orldhello  o worldhel ello world ldhello wo worldhello lo worldhe hello worl rldhello w  worldhell llo worldh dhello wor orldhello  o worldhel ello world ldhello wo worldhello lo worldhe hello worl rldhello w  worldhell llo worldh dhello wor orldhello  o worldhel ello world ldhello wo worldhello lo worldhe hello worl rldhello w  worldhell llo worldh dhello wor orldhello  o worldhel ello world ldhello wo worldhello lo worldhe hello worl rldhello w  worldhell llo worldh dhello wor orldhello  o worldhel ello world ldhello wo worldhello lo worldhe hello worl rldhello w  worldhell llo worldh dhello wor orldhello  o worldhel ello world ldhello wo worldhello lo worldhe hello worl rldhello w  worldhell llo worldh dhello wor orldhello  o worldhel ello world ldhello wo worldhello lo worldhe hello worl rldhello w  worldhell llo worldh dhello wor orldhello  o worldhel ello world ldhello wo worldhello lo worldhe hello worl rldhello w  worldhell llo worldh dhello wor orldhello  o worldhel ello world ldhello wo worldhello lo worldhe hello worl rldhello w  worldhell llo worldh dhello wor orldhello  o worldhel ello world ldhello wo worldhello lo worldhe hello worl rldhello w  worldhell llo worldh dhello wor orldhello  o worldhel ello world ldhello wo worldhello lo worldhe hello worl rldhello w  worldhell llo worldh dhello wor orldhello  o worldhel ello world ldhello wo worldhello lo worldhe hello worl rldhello w  worldhell llo worldh dhello wor orldhello  o worldhel ello world ldhello wo worldhello lo worldhe hello worl rldhello w  worldhell llo worldh dhello wor orldhello  o worldhel ello world ldhello wo worldhello lo worldhe hello worl rldhello w  worldhell llo worldh dhello wor orldhello  o worldhel ello world ldhello wo worldhello lo worldhe hello worl rldhello w  worldhell llo worldh dhello wor orldhello  o worldhel ello world ldhello wo worldhello lo worldhe hello worl rldhello w  worldhell llo worldh dhello wor orldhello  o worldhel ello world ldhello wo worldhello lo worldhe hello worl rldhello w  worldhell llo worldh dhello wor orldhello  o worldhel ello world ldhello wo worldhello lo worldhe hello worl rldhello w  worldhell llo worldh dhello wor orldhello  o worldhel ello world ldhello wo worldhello lo worldhe hello worl rldhello w  worldhell llo worldh dhello wor orldhello  o worldhel ello world ldhello wo worldhello lo worldhe hello worl rldhello w  worldhell llo worldh dhello wor orldhello  o worldhel ello world ldhello wo worldhello lo worldhe hello worl rldhello w  worldhell llo worldh dhello wor orldhello  o worldhel ello world ldhello wo worldhello lo worldhe hello worl rldhello w  worldhell llo worldh dhello wor orldhello  o worldhel ello world ldhello wo worldhello lo worldhe hello worl rldhello w  worldhell llo worldh dhello wor orldhello  o worldhel ello world ldhello wo worldhello lo worldhe hello worl rldhello w  worldhell llo worldh dhello wor orldhello  o worldhel ello world ldhello wo worldhello lo worldhe hello worl rldhello w  worldhell llo worldh dhello wor orldhello  o worldhel ello world "
     ]
    }
   ],
   "source": [
    "with open(\"files/big.txt\", \"r\") as f:\n",
    "    chunk_size = 10\n",
    "\n",
    "    while len(f.read(chunk_size)) > 0:\n",
    "        print(f.read(chunk_size), end=\" \")\n",
    "        f.read(chunk_size)"
   ]
  },
  {
   "cell_type": "code",
   "execution_count": 24,
   "id": "fc0b08e9-9eed-44ee-b1c2-3049da1adfed",
   "metadata": {},
   "outputs": [
    {
     "name": "stdout",
     "output_type": "stream",
     "text": [
      "Hello ther\n",
      "10\n"
     ]
    }
   ],
   "source": [
    "# seek and tell\n",
    "\n",
    "with open(\"files/sample.txt\", \"r\") as f:\n",
    "    print(f.read(10))\n",
    "    print(f.tell())"
   ]
  },
  {
   "cell_type": "code",
   "execution_count": 25,
   "id": "162d6b30-1ee8-4b20-8508-f871ae43ef3a",
   "metadata": {},
   "outputs": [
    {
     "name": "stdout",
     "output_type": "stream",
     "text": [
      "Hello ther\n",
      "e!\n",
      "How are\n",
      "21\n"
     ]
    }
   ],
   "source": [
    "with open(\"files/sample.txt\", \"r\") as f:\n",
    "    print(f.read(10))\n",
    "    print(f.read(10))\n",
    "    print(f.tell())"
   ]
  },
  {
   "cell_type": "code",
   "execution_count": 26,
   "id": "05e551cd-9a02-44b3-aa59-039d9bf19069",
   "metadata": {},
   "outputs": [
    {
     "name": "stdout",
     "output_type": "stream",
     "text": [
      "Hello ther\n",
      "10\n",
      "Hello ther\n",
      "10\n"
     ]
    }
   ],
   "source": [
    "with open(\"files/sample.txt\", \"r\") as f:\n",
    "    print(f.read(10))\n",
    "    print(f.tell())\n",
    "    f.seek(0)\n",
    "    print(f.read(10))\n",
    "    print(f.tell())"
   ]
  },
  {
   "cell_type": "code",
   "execution_count": 27,
   "id": "a1304deb-9f2d-4a4b-bc56-be00ff747abe",
   "metadata": {},
   "outputs": [
    {
     "name": "stdout",
     "output_type": "stream",
     "text": [
      "5\n",
      "1\n"
     ]
    }
   ],
   "source": [
    "with open(\"files/sample.txt\", \"w\") as f:\n",
    "    f.write(\"Hello\")\n",
    "    print(f.tell())\n",
    "    f.seek(0)\n",
    "    f.write(\"X\")\n",
    "    print(f.tell())"
   ]
  },
  {
   "cell_type": "code",
   "execution_count": null,
   "id": "e4262e43-544d-4842-8129-8c09a64534a4",
   "metadata": {},
   "outputs": [],
   "source": []
  }
 ],
 "metadata": {
  "kernelspec": {
   "display_name": "Python 3 (ipykernel)",
   "language": "python",
   "name": "python3"
  },
  "language_info": {
   "codemirror_mode": {
    "name": "ipython",
    "version": 3
   },
   "file_extension": ".py",
   "mimetype": "text/x-python",
   "name": "python",
   "nbconvert_exporter": "python",
   "pygments_lexer": "ipython3",
   "version": "3.11.7"
  }
 },
 "nbformat": 4,
 "nbformat_minor": 5
}
