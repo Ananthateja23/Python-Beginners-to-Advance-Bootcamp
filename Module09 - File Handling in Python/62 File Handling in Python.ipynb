{
 "cells": [
  {
   "cell_type": "markdown",
   "id": "abba23dd-1449-46fe-9bf3-a684e29153be",
   "metadata": {},
   "source": [
    "![](Images/Image01.png)"
   ]
  },
  {
   "cell_type": "markdown",
   "id": "c4b39a29-c89b-442b-8b2f-f6642d2216fd",
   "metadata": {},
   "source": [
    "# Writing to a file"
   ]
  },
  {
   "cell_type": "code",
   "execution_count": 7,
   "id": "947cf51b-9b6a-4dfe-970f-f42b8fedfb52",
   "metadata": {},
   "outputs": [],
   "source": [
    "# If the file is not present\n",
    "\n",
    "f = open(\"files/sample.txt\", \"w\")\n",
    "f.write(\"Hello Python\")\n",
    "f.close()"
   ]
  },
  {
   "cell_type": "code",
   "execution_count": 8,
   "id": "8ff9ae5a-dbd2-42b0-87ca-2aea1d238339",
   "metadata": {},
   "outputs": [
    {
     "ename": "ValueError",
     "evalue": "I/O operation on closed file.",
     "output_type": "error",
     "traceback": [
      "\u001b[1;31m---------------------------------------------------------------------------\u001b[0m",
      "\u001b[1;31mValueError\u001b[0m                                Traceback (most recent call last)",
      "Cell \u001b[1;32mIn[8], line 1\u001b[0m\n\u001b[1;32m----> 1\u001b[0m f\u001b[38;5;241m.\u001b[39mwrite(\u001b[38;5;124m\"\u001b[39m\u001b[38;5;124mHello\u001b[39m\u001b[38;5;124m\"\u001b[39m)\n",
      "\u001b[1;31mValueError\u001b[0m: I/O operation on closed file."
     ]
    }
   ],
   "source": [
    "f.write(\"Hello\")"
   ]
  },
  {
   "cell_type": "code",
   "execution_count": 9,
   "id": "e6561327-df64-4ddc-8dac-24013012afdc",
   "metadata": {},
   "outputs": [],
   "source": [
    "# write multiline strings\n",
    "\n",
    "f = open(\"files/sample1.txt\", \"w\")\n",
    "f.write(\"hello world\")\n",
    "f.write(\"\\nhow are you?\")\n",
    "f.close()"
   ]
  },
  {
   "cell_type": "code",
   "execution_count": 11,
   "id": "fb2b6357-3a25-4e2b-b143-d13175a14535",
   "metadata": {},
   "outputs": [],
   "source": [
    "# case02 : if the file is already present\n",
    "\n",
    "f = open(\"files/sample.txt\", \"w\")\n",
    "f.write(\"What's happening ???\")\n",
    "f.close()"
   ]
  },
  {
   "cell_type": "code",
   "execution_count": 12,
   "id": "1bbe24ef-019b-4a5c-a4e2-8d91c20f8735",
   "metadata": {},
   "outputs": [],
   "source": [
    "# introducing append mode\n",
    "\n",
    "f = open(\"files/sample.txt\", \"a\")\n",
    "f.write(\"\\nWe are using append mode\")\n",
    "f.write(\"\\nWe are safe\")\n",
    "f.close()"
   ]
  },
  {
   "cell_type": "code",
   "execution_count": 13,
   "id": "48b4efb5-042a-405c-98c1-bab394c93819",
   "metadata": {},
   "outputs": [],
   "source": [
    "# write lines\n",
    "\n",
    "L = [\"hello\\n\", \"hi\\n\", \"how are you?\\n\", \"I am fine\"]\n",
    "\n",
    "f = open(\"files/sample.txt\", \"w\")\n",
    "f.writelines(L)\n",
    "f.close()"
   ]
  },
  {
   "cell_type": "markdown",
   "id": "18fad0fb-3ad5-4c4b-b137-ca9f55ddd619",
   "metadata": {},
   "source": [
    "# reading from files"
   ]
  },
  {
   "cell_type": "code",
   "execution_count": 14,
   "id": "ed700649-15c7-4187-945a-aee17395b97f",
   "metadata": {},
   "outputs": [
    {
     "name": "stdout",
     "output_type": "stream",
     "text": [
      "hello\n",
      "hi\n",
      "how are you?\n",
      "I am fine\n"
     ]
    }
   ],
   "source": [
    "f = open(\"files/sample.txt\", \"r\")\n",
    "s = f.read()\n",
    "print(s)\n",
    "f.close()"
   ]
  },
  {
   "cell_type": "code",
   "execution_count": 15,
   "id": "eb7663d5-016b-48b0-8298-e2ed640628ed",
   "metadata": {},
   "outputs": [
    {
     "name": "stdout",
     "output_type": "stream",
     "text": [
      "hello\n",
      "hi\n",
      "h\n"
     ]
    }
   ],
   "source": [
    "# reading upto n chars\n",
    "f = open(\"files/sample.txt\", \"r\")\n",
    "s = f.read(10)\n",
    "print(s)\n",
    "f.close()"
   ]
  },
  {
   "cell_type": "code",
   "execution_count": 16,
   "id": "1b3da647-c424-4894-baa2-962e500b344b",
   "metadata": {},
   "outputs": [
    {
     "name": "stdout",
     "output_type": "stream",
     "text": [
      "hello\n",
      "hi\n"
     ]
    }
   ],
   "source": [
    "# readline() -> to read line by line\n",
    "\n",
    "f = open(\"files/sample.txt\", \"r\")\n",
    "print(f.readline(), end=\"\")\n",
    "print(f.readline(), end=\"\")\n",
    "f.close()"
   ]
  },
  {
   "cell_type": "code",
   "execution_count": 17,
   "id": "b00496d3-dfb7-41a7-bd1f-2475df467857",
   "metadata": {},
   "outputs": [
    {
     "name": "stdout",
     "output_type": "stream",
     "text": [
      "hello\n",
      "hi\n",
      "how are you?\n",
      "I am fine"
     ]
    }
   ],
   "source": [
    "# reading entire data using readline\n",
    "\n",
    "f = open(\"files/sample.txt\", \"r\")\n",
    "\n",
    "while True:\n",
    "    data = f.readline()\n",
    "    if data == \"\":\n",
    "        break\n",
    "    else:\n",
    "        print(data, end=\"\")\n",
    "\n",
    "f.close()"
   ]
  },
  {
   "cell_type": "code",
   "execution_count": null,
   "id": "008ab163-6e82-47b1-8c26-88eb410bd07a",
   "metadata": {},
   "outputs": [],
   "source": []
  }
 ],
 "metadata": {
  "kernelspec": {
   "display_name": "Python 3 (ipykernel)",
   "language": "python",
   "name": "python3"
  },
  "language_info": {
   "codemirror_mode": {
    "name": "ipython",
    "version": 3
   },
   "file_extension": ".py",
   "mimetype": "text/x-python",
   "name": "python",
   "nbconvert_exporter": "python",
   "pygments_lexer": "ipython3",
   "version": "3.11.7"
  }
 },
 "nbformat": 4,
 "nbformat_minor": 5
}
