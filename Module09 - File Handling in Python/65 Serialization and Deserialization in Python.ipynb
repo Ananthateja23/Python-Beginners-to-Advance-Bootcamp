{
 "cells": [
  {
   "cell_type": "markdown",
   "id": "782211b5-0a41-4049-9359-82592a7fddd4",
   "metadata": {},
   "source": [
    "![](Images/Image04.png)"
   ]
  },
  {
   "cell_type": "code",
   "execution_count": 1,
   "id": "3db4b9c6-7e04-4855-a6f7-695a89b17a18",
   "metadata": {},
   "outputs": [],
   "source": [
    "# Serialization using json module\n",
    "# list\n",
    "\n",
    "import json\n",
    "\n",
    "L = [1, 2, 3, 4, 5, 6, 7, 8]\n",
    "\n",
    "with open(\"files/test.json\", \"w\") as f:\n",
    "    json.dump(L, f)"
   ]
  },
  {
   "cell_type": "code",
   "execution_count": 2,
   "id": "bc16194a-5228-451a-b0f4-66fe52a7d7e5",
   "metadata": {},
   "outputs": [],
   "source": [
    "# Serialization using json module\n",
    "# dictionary\n",
    "\n",
    "import json\n",
    "\n",
    "d = {\n",
    "    \"name\": \"Happy\",\n",
    "    \"age\": 23,\n",
    "    \"gender\": \"male\"\n",
    "}\n",
    "\n",
    "with open(\"files/test.json\", \"w\") as f:\n",
    "    json.dump(d, f)"
   ]
  },
  {
   "cell_type": "code",
   "execution_count": 3,
   "id": "7f2fbb90-b988-4501-90b0-35e9a33087b8",
   "metadata": {},
   "outputs": [],
   "source": [
    "# Serialization using json module\n",
    "# dictionary\n",
    "\n",
    "import json\n",
    "\n",
    "d = {\n",
    "    \"name\": \"Happy\",\n",
    "    \"age\": 23,\n",
    "    \"gender\": \"male\"\n",
    "}\n",
    "\n",
    "with open(\"files/test.json\", \"w\") as f:\n",
    "    json.dump(d, f, indent=4)"
   ]
  },
  {
   "cell_type": "code",
   "execution_count": 4,
   "id": "2dd0c131-9000-4d64-a303-9a447c6372cc",
   "metadata": {},
   "outputs": [
    {
     "name": "stdout",
     "output_type": "stream",
     "text": [
      "{'name': 'Happy', 'age': 23, 'gender': 'male'}\n",
      "<class 'dict'>\n"
     ]
    }
   ],
   "source": [
    "# deserialization\n",
    "\n",
    "with open(\"files/test.json\", \"r\") as f:\n",
    "    data = json.load(f)\n",
    "    print(data)\n",
    "    print(type(data))"
   ]
  },
  {
   "cell_type": "code",
   "execution_count": null,
   "id": "7ec5ebe7-1b62-4074-a0a5-5dab6ba9dd24",
   "metadata": {},
   "outputs": [],
   "source": []
  }
 ],
 "metadata": {
  "kernelspec": {
   "display_name": "Python 3 (ipykernel)",
   "language": "python",
   "name": "python3"
  },
  "language_info": {
   "codemirror_mode": {
    "name": "ipython",
    "version": 3
   },
   "file_extension": ".py",
   "mimetype": "text/x-python",
   "name": "python",
   "nbconvert_exporter": "python",
   "pygments_lexer": "ipython3",
   "version": "3.11.7"
  }
 },
 "nbformat": 4,
 "nbformat_minor": 5
}
