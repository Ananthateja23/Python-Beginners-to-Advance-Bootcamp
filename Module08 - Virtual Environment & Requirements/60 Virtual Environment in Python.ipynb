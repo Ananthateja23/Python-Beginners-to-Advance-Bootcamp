{
 "cells": [
  {
   "cell_type": "markdown",
   "id": "f033390e-901e-43e9-8fb5-e32362467fd6",
   "metadata": {},
   "source": [
    "```\n",
    "Virtual Environment:\n",
    "--------------------\n",
    "\n",
    "- It enables us to create a new Python interpreter where we can install all the dependencies for our new project\n",
    "\n",
    "command:  conda -n project1 python=3.8 -y\n",
    "command:  conda activate project1\n",
    "command:  pip install pandas==1.4.1\n",
    "command:  pip list\n",
    "command:  conda env list\n",
    "command:  conda activate base\n",
    "```"
   ]
  },
  {
   "cell_type": "code",
   "execution_count": null,
   "id": "57491dab-321f-43c5-b6f4-67c6e49cd66f",
   "metadata": {},
   "outputs": [],
   "source": []
  }
 ],
 "metadata": {
  "kernelspec": {
   "display_name": "Python 3 (ipykernel)",
   "language": "python",
   "name": "python3"
  },
  "language_info": {
   "codemirror_mode": {
    "name": "ipython",
    "version": 3
   },
   "file_extension": ".py",
   "mimetype": "text/x-python",
   "name": "python",
   "nbconvert_exporter": "python",
   "pygments_lexer": "ipython3",
   "version": "3.11.7"
  }
 },
 "nbformat": 4,
 "nbformat_minor": 5
}
