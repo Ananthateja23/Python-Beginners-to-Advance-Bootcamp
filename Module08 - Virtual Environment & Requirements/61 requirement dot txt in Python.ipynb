{
 "cells": [
  {
   "cell_type": "markdown",
   "id": "7c285cae-4e3e-4339-ac15-c7db8a52600e",
   "metadata": {},
   "source": [
    "```\n",
    "requirements.txt in Python:\n",
    "---------------------------\n",
    "\n",
    "- It allows us to specify and install multiple packages simultaneously in our new environment\n",
    "\n",
    "- For example, packages such as NumPy, Pandas, and Scikit-learn.\n",
    "\n",
    "- command: pip install -r requirements.txt\n",
    "```"
   ]
  },
  {
   "cell_type": "code",
   "execution_count": null,
   "id": "67592e76-2954-4fc1-8120-043dee9f28dd",
   "metadata": {},
   "outputs": [],
   "source": []
  }
 ],
 "metadata": {
  "kernelspec": {
   "display_name": "Python 3 (ipykernel)",
   "language": "python",
   "name": "python3"
  },
  "language_info": {
   "codemirror_mode": {
    "name": "ipython",
    "version": 3
   },
   "file_extension": ".py",
   "mimetype": "text/x-python",
   "name": "python",
   "nbconvert_exporter": "python",
   "pygments_lexer": "ipython3",
   "version": "3.11.7"
  }
 },
 "nbformat": 4,
 "nbformat_minor": 5
}
