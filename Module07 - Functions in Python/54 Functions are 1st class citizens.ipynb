{
 "cells": [
  {
   "cell_type": "markdown",
   "id": "cbfbb6a3-5545-4c09-8b0f-9d24cf89bdcd",
   "metadata": {},
   "source": [
    "# Functions are 1st class citizens\n",
    "\n",
    "- It acts like data types\n",
    "- https://en.wikipedia.org/wiki/First-class_citizen"
   ]
  },
  {
   "cell_type": "code",
   "execution_count": 3,
   "id": "09f0acaf-873a-42cf-99d7-c945940f53d0",
   "metadata": {},
   "outputs": [
    {
     "name": "stdout",
     "output_type": "stream",
     "text": [
      "<class 'int'>\n",
      "140714708091976\n"
     ]
    }
   ],
   "source": [
    "a = 10\n",
    "print(type(a))\n",
    "print(id(a))"
   ]
  },
  {
   "cell_type": "code",
   "execution_count": 1,
   "id": "b2c636ec-248d-4fec-9ee3-d10cfc34f5b9",
   "metadata": {},
   "outputs": [],
   "source": [
    "# type and id\n",
    "\n",
    "def square(num):\n",
    "    return num**2"
   ]
  },
  {
   "cell_type": "code",
   "execution_count": 2,
   "id": "d59a00c3-a5e3-4438-b95e-b0754877a2a7",
   "metadata": {},
   "outputs": [
    {
     "name": "stdout",
     "output_type": "stream",
     "text": [
      "<class 'function'>\n",
      "1674864635520\n"
     ]
    }
   ],
   "source": [
    "print(type(square))\n",
    "print(id(square))"
   ]
  },
  {
   "cell_type": "code",
   "execution_count": 4,
   "id": "6a9e352e-2f3e-468e-aee0-5a5eaeea8a3c",
   "metadata": {},
   "outputs": [
    {
     "name": "stdout",
     "output_type": "stream",
     "text": [
      "3\n",
      "3\n"
     ]
    }
   ],
   "source": [
    "# reassign\n",
    "\n",
    "a = 3\n",
    "b = a\n",
    "\n",
    "print(a)\n",
    "print(b)"
   ]
  },
  {
   "cell_type": "code",
   "execution_count": 5,
   "id": "ed864899-75c1-4e71-853b-e174e110e978",
   "metadata": {},
   "outputs": [
    {
     "name": "stdout",
     "output_type": "stream",
     "text": [
      "<function square at 0x00000185F5B62E80>\n",
      "<function square at 0x00000185F5B62E80>\n"
     ]
    }
   ],
   "source": [
    "x = square\n",
    "print(x)\n",
    "print(square)"
   ]
  },
  {
   "cell_type": "code",
   "execution_count": 6,
   "id": "b0d00535-0ca3-4d29-a3d0-f399237cc53b",
   "metadata": {},
   "outputs": [
    {
     "name": "stdout",
     "output_type": "stream",
     "text": [
      "1674864635520\n",
      "1674864635520\n"
     ]
    }
   ],
   "source": [
    "print(id(x))\n",
    "print(id(square))"
   ]
  },
  {
   "cell_type": "code",
   "execution_count": 7,
   "id": "151fe2b2-3f43-4703-ba71-f8cf88089d49",
   "metadata": {},
   "outputs": [
    {
     "name": "stdout",
     "output_type": "stream",
     "text": [
      "16\n",
      "16\n"
     ]
    }
   ],
   "source": [
    "print(x(4))\n",
    "print(square(4))"
   ]
  },
  {
   "cell_type": "code",
   "execution_count": 8,
   "id": "84981613-783c-4425-b925-e7867283beff",
   "metadata": {},
   "outputs": [
    {
     "ename": "NameError",
     "evalue": "name 'square' is not defined",
     "output_type": "error",
     "traceback": [
      "\u001b[1;31m---------------------------------------------------------------------------\u001b[0m",
      "\u001b[1;31mNameError\u001b[0m                                 Traceback (most recent call last)",
      "Cell \u001b[1;32mIn[8], line 5\u001b[0m\n\u001b[0;32m      1\u001b[0m \u001b[38;5;66;03m# deleting a function\u001b[39;00m\n\u001b[0;32m      3\u001b[0m \u001b[38;5;28;01mdel\u001b[39;00m square\n\u001b[1;32m----> 5\u001b[0m \u001b[38;5;28mprint\u001b[39m(square)\n",
      "\u001b[1;31mNameError\u001b[0m: name 'square' is not defined"
     ]
    }
   ],
   "source": [
    "# deleting a function\n",
    "\n",
    "del square\n",
    "\n",
    "print(square)"
   ]
  },
  {
   "cell_type": "code",
   "execution_count": 9,
   "id": "a8cfbf56-ea2b-44af-b78b-6d7ddb9d7698",
   "metadata": {},
   "outputs": [],
   "source": [
    "# storing\n",
    "\n",
    "def square(num):\n",
    "    return num**2"
   ]
  },
  {
   "cell_type": "code",
   "execution_count": 10,
   "id": "e0148f12-7d3a-474c-b6bc-0f614e33859a",
   "metadata": {},
   "outputs": [
    {
     "data": {
      "text/plain": [
       "[1, 2, 3, 4, 5, <function __main__.square(num)>]"
      ]
     },
     "execution_count": 10,
     "metadata": {},
     "output_type": "execute_result"
    }
   ],
   "source": [
    "L = [1, 2, 3, 4, 5, square]\n",
    "L"
   ]
  },
  {
   "cell_type": "code",
   "execution_count": 11,
   "id": "a20dcc75-3d0c-49fa-adb4-7cfa87c95969",
   "metadata": {},
   "outputs": [
    {
     "data": {
      "text/plain": [
       "<function __main__.square(num)>"
      ]
     },
     "execution_count": 11,
     "metadata": {},
     "output_type": "execute_result"
    }
   ],
   "source": [
    "L[-1]"
   ]
  },
  {
   "cell_type": "code",
   "execution_count": 12,
   "id": "b9d14cb6-9433-4ebe-81d7-9f6e6d2b9aa4",
   "metadata": {},
   "outputs": [
    {
     "data": {
      "text/plain": [
       "16"
      ]
     },
     "execution_count": 12,
     "metadata": {},
     "output_type": "execute_result"
    }
   ],
   "source": [
    "L[-1](4)"
   ]
  },
  {
   "cell_type": "code",
   "execution_count": 14,
   "id": "5451471b-cb26-48ed-9e90-84ce27456018",
   "metadata": {},
   "outputs": [
    {
     "data": {
      "text/plain": [
       "{<function __main__.square(num)>}"
      ]
     },
     "execution_count": 14,
     "metadata": {},
     "output_type": "execute_result"
    }
   ],
   "source": [
    "s = {square}\n",
    "s"
   ]
  },
  {
   "cell_type": "markdown",
   "id": "c5e71495-68be-433f-8f8d-c637c49e1753",
   "metadata": {},
   "source": [
    "**Note: Functions are immutable data types**"
   ]
  },
  {
   "cell_type": "code",
   "execution_count": 15,
   "id": "9dcb2d4c-acd7-4ee8-a7b0-0a54c82c5d1a",
   "metadata": {},
   "outputs": [],
   "source": [
    "# returning a function\n",
    "\n",
    "def f():\n",
    "    def g(a, b):\n",
    "        return a + b\n",
    "    return g"
   ]
  },
  {
   "cell_type": "code",
   "execution_count": 16,
   "id": "9ff02076-469f-4298-9604-4ba04b87212b",
   "metadata": {},
   "outputs": [
    {
     "name": "stdout",
     "output_type": "stream",
     "text": [
      "<function f.<locals>.g at 0x00000185F5B63A60>\n"
     ]
    }
   ],
   "source": [
    "res = f()\n",
    "print(res)"
   ]
  },
  {
   "cell_type": "code",
   "execution_count": 17,
   "id": "15dd0150-1b2d-4170-9913-63af4b0e2e01",
   "metadata": {},
   "outputs": [
    {
     "data": {
      "text/plain": [
       "7"
      ]
     },
     "execution_count": 17,
     "metadata": {},
     "output_type": "execute_result"
    }
   ],
   "source": [
    "res(3, 4)"
   ]
  },
  {
   "cell_type": "code",
   "execution_count": 18,
   "id": "549602ba-2e7c-417a-bdc5-41d3f69de938",
   "metadata": {},
   "outputs": [
    {
     "data": {
      "text/plain": [
       "5"
      ]
     },
     "execution_count": 18,
     "metadata": {},
     "output_type": "execute_result"
    }
   ],
   "source": [
    "f()(2, 3)"
   ]
  },
  {
   "cell_type": "code",
   "execution_count": 20,
   "id": "01c10936-605e-429b-a983-078da171aa88",
   "metadata": {},
   "outputs": [
    {
     "name": "stdout",
     "output_type": "stream",
     "text": [
      "Inside func_b\n",
      "Inside func_a\n",
      "None\n"
     ]
    }
   ],
   "source": [
    "# function as argument\n",
    "\n",
    "def fun_a():\n",
    "    print(\"Inside func_a\")\n",
    "\n",
    "def fun_b(z):\n",
    "    print(\"Inside func_b\")\n",
    "    return z()\n",
    "\n",
    "print(fun_b(fun_a))"
   ]
  },
  {
   "cell_type": "code",
   "execution_count": null,
   "id": "fc28088d-5536-441d-8149-0acc96270130",
   "metadata": {},
   "outputs": [],
   "source": []
  }
 ],
 "metadata": {
  "kernelspec": {
   "display_name": "Python 3 (ipykernel)",
   "language": "python",
   "name": "python3"
  },
  "language_info": {
   "codemirror_mode": {
    "name": "ipython",
    "version": 3
   },
   "file_extension": ".py",
   "mimetype": "text/x-python",
   "name": "python",
   "nbconvert_exporter": "python",
   "pygments_lexer": "ipython3",
   "version": "3.11.7"
  }
 },
 "nbformat": 4,
 "nbformat_minor": 5
}
