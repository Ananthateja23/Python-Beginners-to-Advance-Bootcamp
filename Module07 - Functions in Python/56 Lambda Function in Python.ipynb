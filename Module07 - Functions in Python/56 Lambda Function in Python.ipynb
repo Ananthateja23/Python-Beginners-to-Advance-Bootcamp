{
 "cells": [
  {
   "cell_type": "code",
   "execution_count": 1,
   "id": "4beaa8af-88e6-458c-8501-5e127eded5f7",
   "metadata": {},
   "outputs": [
    {
     "data": {
      "text/plain": [
       "<function __main__.<lambda>(x)>"
      ]
     },
     "execution_count": 1,
     "metadata": {},
     "output_type": "execute_result"
    }
   ],
   "source": [
    "a = lambda x: x**2\n",
    "a"
   ]
  },
  {
   "cell_type": "code",
   "execution_count": 2,
   "id": "cd9157f8-d9c2-4bba-a4ac-9ae055807a52",
   "metadata": {},
   "outputs": [
    {
     "data": {
      "text/plain": [
       "16"
      ]
     },
     "execution_count": 2,
     "metadata": {},
     "output_type": "execute_result"
    }
   ],
   "source": [
    "a(4)"
   ]
  },
  {
   "cell_type": "code",
   "execution_count": 3,
   "id": "c1d07fde-e137-4bad-9256-866a44e51da6",
   "metadata": {},
   "outputs": [
    {
     "ename": "TypeError",
     "evalue": "<lambda>() missing 1 required positional argument: 'y'",
     "output_type": "error",
     "traceback": [
      "\u001b[1;31m---------------------------------------------------------------------------\u001b[0m",
      "\u001b[1;31mTypeError\u001b[0m                                 Traceback (most recent call last)",
      "Cell \u001b[1;32mIn[3], line 2\u001b[0m\n\u001b[0;32m      1\u001b[0m a \u001b[38;5;241m=\u001b[39m \u001b[38;5;28;01mlambda\u001b[39;00m x, y: x\u001b[38;5;241m*\u001b[39m\u001b[38;5;241m*\u001b[39m\u001b[38;5;241m2\u001b[39m\n\u001b[1;32m----> 2\u001b[0m a(\u001b[38;5;241m4\u001b[39m)\n",
      "\u001b[1;31mTypeError\u001b[0m: <lambda>() missing 1 required positional argument: 'y'"
     ]
    }
   ],
   "source": [
    "a = lambda x, y: x**2\n",
    "a(4)"
   ]
  },
  {
   "cell_type": "code",
   "execution_count": 4,
   "id": "3c232995-6ba3-4f4b-815a-99dfc7c9f2a7",
   "metadata": {},
   "outputs": [
    {
     "data": {
      "text/plain": [
       "10"
      ]
     },
     "execution_count": 4,
     "metadata": {},
     "output_type": "execute_result"
    }
   ],
   "source": [
    "a = lambda x, y: x+y\n",
    "a(4, 6)"
   ]
  },
  {
   "cell_type": "markdown",
   "id": "db08e961-b10c-4c11-948d-2f57d4e6ea88",
   "metadata": {},
   "source": [
    "## Difference between lambda vs Normal Function\n",
    "\n",
    "- No name\n",
    "- lambda has no return value (infact, returns a function)\n",
    "- lambda is written in 1 line\n",
    "- not reusable\n",
    "\n",
    "### Then why use lambda function ???\n",
    "## They are used with HOF"
   ]
  },
  {
   "cell_type": "code",
   "execution_count": 5,
   "id": "c50d3ec9-2362-4ca1-9b2a-be2e2415e019",
   "metadata": {},
   "outputs": [
    {
     "data": {
      "text/plain": [
       "True"
      ]
     },
     "execution_count": 5,
     "metadata": {},
     "output_type": "execute_result"
    }
   ],
   "source": [
    "# check if a string has 'a'\n",
    "\n",
    "a = lambda s: 'e' in s\n",
    "a('hello')"
   ]
  },
  {
   "cell_type": "code",
   "execution_count": 6,
   "id": "b52420cb-bd32-4e2a-922f-e5cf9bcc3219",
   "metadata": {},
   "outputs": [
    {
     "data": {
      "text/plain": [
       "False"
      ]
     },
     "execution_count": 6,
     "metadata": {},
     "output_type": "execute_result"
    }
   ],
   "source": [
    "a = lambda s: 'a' in s\n",
    "a('hello')"
   ]
  },
  {
   "cell_type": "code",
   "execution_count": 7,
   "id": "7ead7ce7-5aac-47d8-bd73-5d5f0b4959df",
   "metadata": {},
   "outputs": [
    {
     "data": {
      "text/plain": [
       "'even'"
      ]
     },
     "execution_count": 7,
     "metadata": {},
     "output_type": "execute_result"
    }
   ],
   "source": [
    "# odd or even\n",
    "\n",
    "a = lambda x: 'even' if x%2==0 else 'odd'\n",
    "a(2)"
   ]
  },
  {
   "cell_type": "code",
   "execution_count": 8,
   "id": "1bd0c147-5a50-4ae1-b8ff-dd2fe729a996",
   "metadata": {},
   "outputs": [
    {
     "data": {
      "text/plain": [
       "'odd'"
      ]
     },
     "execution_count": 8,
     "metadata": {},
     "output_type": "execute_result"
    }
   ],
   "source": [
    "a(5)"
   ]
  },
  {
   "cell_type": "markdown",
   "id": "45c4cc3c-6f4c-4712-93f1-b6a4bcd7591f",
   "metadata": {},
   "source": [
    "# Higher Order Functions"
   ]
  },
  {
   "cell_type": "code",
   "execution_count": 9,
   "id": "dbc936d0-8c2e-49b5-96df-dc5c7cadcc32",
   "metadata": {},
   "outputs": [],
   "source": [
    "L = [1, 2, 3, 4, 5]\n",
    "\n",
    "def square(x):\n",
    "    return x**2\n",
    "\n",
    "def transform(f, L):\n",
    "    output = []\n",
    "    for i in L:\n",
    "        output.append(f(i))\n",
    "    print(output)"
   ]
  },
  {
   "cell_type": "code",
   "execution_count": 10,
   "id": "c7aadb32-a597-4cca-919b-23472a425886",
   "metadata": {},
   "outputs": [
    {
     "name": "stdout",
     "output_type": "stream",
     "text": [
      "[1, 4, 9, 16, 25]\n"
     ]
    }
   ],
   "source": [
    "transform(square, L)"
   ]
  },
  {
   "cell_type": "code",
   "execution_count": 11,
   "id": "585a049f-7744-44f1-833f-24c0d61d802c",
   "metadata": {},
   "outputs": [],
   "source": [
    "L = [1, 2, 3, 4, 5]\n",
    "\n",
    "def square(x):\n",
    "    return x**2\n",
    "\n",
    "def cube(x):\n",
    "    return x**3\n",
    "\n",
    "def transform(f, L):\n",
    "    output = []\n",
    "    for i in L:\n",
    "        output.append(f(i))\n",
    "    print(output)"
   ]
  },
  {
   "cell_type": "code",
   "execution_count": 12,
   "id": "c60fe2ff-a8ba-4330-9cf2-681310c80493",
   "metadata": {},
   "outputs": [
    {
     "name": "stdout",
     "output_type": "stream",
     "text": [
      "[1, 8, 27, 64, 125]\n"
     ]
    }
   ],
   "source": [
    "transform(cube, L)"
   ]
  },
  {
   "cell_type": "code",
   "execution_count": 13,
   "id": "5f96b506-08b6-4e12-9ddd-da80f617840b",
   "metadata": {},
   "outputs": [
    {
     "name": "stdout",
     "output_type": "stream",
     "text": [
      "[1, 4, 9, 16, 25]\n"
     ]
    }
   ],
   "source": [
    "transform(lambda x: x**2, L)"
   ]
  },
  {
   "cell_type": "code",
   "execution_count": 14,
   "id": "6e866347-4f85-44fa-8fba-5babedc70731",
   "metadata": {},
   "outputs": [
    {
     "name": "stdout",
     "output_type": "stream",
     "text": [
      "[1, 8, 27, 64, 125]\n"
     ]
    }
   ],
   "source": [
    "transform(lambda x: x**3, L)"
   ]
  },
  {
   "cell_type": "code",
   "execution_count": null,
   "id": "df1d5a8e-a6f9-4ae2-a9d0-291edf3f5cab",
   "metadata": {},
   "outputs": [],
   "source": []
  }
 ],
 "metadata": {
  "kernelspec": {
   "display_name": "Python 3 (ipykernel)",
   "language": "python",
   "name": "python3"
  },
  "language_info": {
   "codemirror_mode": {
    "name": "ipython",
    "version": 3
   },
   "file_extension": ".py",
   "mimetype": "text/x-python",
   "name": "python",
   "nbconvert_exporter": "python",
   "pygments_lexer": "ipython3",
   "version": "3.11.7"
  }
 },
 "nbformat": 4,
 "nbformat_minor": 5
}
