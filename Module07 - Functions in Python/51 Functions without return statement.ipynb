{
 "cells": [
  {
   "cell_type": "code",
   "execution_count": 1,
   "id": "6ba627aa-a0e2-42fb-b80a-67cb91caa886",
   "metadata": {},
   "outputs": [
    {
     "name": "stdout",
     "output_type": "stream",
     "text": [
      "Even number\n"
     ]
    }
   ],
   "source": [
    "# Function with return statement\n",
    "\n",
    "\n",
    "def odd_even(num):\n",
    "    if num % 2 == 0:\n",
    "        return \"Even number\"\n",
    "    else:\n",
    "        return \"Odd number\"\n",
    "\n",
    "print(odd_even(2))"
   ]
  },
  {
   "cell_type": "code",
   "execution_count": 2,
   "id": "cb165765-bd61-4a11-acc6-eb5a73d3c45e",
   "metadata": {},
   "outputs": [
    {
     "name": "stdout",
     "output_type": "stream",
     "text": [
      "Even number\n",
      "None\n"
     ]
    }
   ],
   "source": [
    "# Function without return statement\n",
    "\n",
    "\n",
    "def odd_even(num):\n",
    "    if num % 2 == 0:\n",
    "        print(\"Even number\")\n",
    "    else:\n",
    "        print(\"Odd number\")\n",
    "\n",
    "print(odd_even(2))"
   ]
  },
  {
   "cell_type": "code",
   "execution_count": null,
   "id": "73e4b3b3-0f18-43b3-98cc-280b43f6fce5",
   "metadata": {},
   "outputs": [],
   "source": []
  }
 ],
 "metadata": {
  "kernelspec": {
   "display_name": "Python 3 (ipykernel)",
   "language": "python",
   "name": "python3"
  },
  "language_info": {
   "codemirror_mode": {
    "name": "ipython",
    "version": 3
   },
   "file_extension": ".py",
   "mimetype": "text/x-python",
   "name": "python",
   "nbconvert_exporter": "python",
   "pygments_lexer": "ipython3",
   "version": "3.11.7"
  }
 },
 "nbformat": 4,
 "nbformat_minor": 5
}
