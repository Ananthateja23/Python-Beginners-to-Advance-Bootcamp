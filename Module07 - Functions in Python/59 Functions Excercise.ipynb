{
 "cells": [
  {
   "cell_type": "markdown",
   "id": "54745b3c-19b7-45c8-94ff-42d8ed0a17d4",
   "metadata": {},
   "source": [
    "```\n",
    "Problem 01: Write a python function that takes a list and returns a new list with unique elements of the first list\n",
    "\n",
    "Example:\n",
    "\n",
    "Input : [1, 2, 3, 3, 3, 3, 4, 5]\n",
    "\n",
    "output : [1, 2, 3, 4, 5]\n",
    "```"
   ]
  },
  {
   "cell_type": "code",
   "execution_count": 1,
   "id": "e65b57b7-5298-4fa4-a311-70619d7cd478",
   "metadata": {},
   "outputs": [
    {
     "data": {
      "text/plain": [
       "[1, 2, 3, 4, 5]"
      ]
     },
     "execution_count": 1,
     "metadata": {},
     "output_type": "execute_result"
    }
   ],
   "source": [
    "def find_unique_item_list(old_list):\n",
    "    new_list = []\n",
    "    for item in old_list:\n",
    "        if item not in new_list:\n",
    "            new_list.append(item)\n",
    "            \n",
    "    return new_list\n",
    "\n",
    "find_unique_item_list([1, 2, 3, 3, 3, 3, 4, 5])"
   ]
  },
  {
   "cell_type": "markdown",
   "id": "4b413aab-945f-4b13-9a55-e1b292dfd010",
   "metadata": {},
   "source": [
    "```\n",
    "Problem 02: Write a python function that accepts a hyphen-seperated sequence of words as parameter \n",
    "and returns the words in a hyphen-seperated sequence after sorting them alphabetically\n",
    "\n",
    "Example:\n",
    "\n",
    "Input: green-red-yellow-black-white\n",
    "\n",
    "output: black-green-red-white-yellow\n",
    "```"
   ]
  },
  {
   "cell_type": "code",
   "execution_count": 2,
   "id": "3c8cc323-04f4-4b12-b420-90ec2e833640",
   "metadata": {},
   "outputs": [],
   "source": [
    "def find_sorted_word(sentence):\n",
    "    words = sentence.split('-')\n",
    "    sorted_sentence = \"-\".join(sorted(words))\n",
    "    return sorted_sentence"
   ]
  },
  {
   "cell_type": "code",
   "execution_count": 3,
   "id": "15ade6ca-f9f7-4b25-97fd-0ca44414f649",
   "metadata": {},
   "outputs": [
    {
     "data": {
      "text/plain": [
       "'black-green-red-white-yellow'"
      ]
     },
     "execution_count": 3,
     "metadata": {},
     "output_type": "execute_result"
    }
   ],
   "source": [
    "find_sorted_word(\"green-red-yellow-black-white\")"
   ]
  },
  {
   "cell_type": "markdown",
   "id": "a965e93a-fb3d-4c4e-8216-de3392c47ded",
   "metadata": {},
   "source": [
    "```\n",
    "Problem 03: A dictionary contains following information about 5 employees\n",
    "\n",
    "- first name\n",
    "- last name\n",
    "- age\n",
    "- grade (Skilled, Semi-Skilled, Highly Skilled)\n",
    "\n",
    "Write a program using map/ filter/ reduce to a list of employees(first name + last name) who are highly skilled\n",
    "\n",
    "employees = [\n",
    "    {\n",
    "        \"fname\": \"Happy\",\n",
    "        \"lname\": \"Vance\",\n",
    "        \"age\": 33,\n",
    "        \"grade\": \"skilled\"\n",
    "    },\n",
    "    {\n",
    "        \"fname\": \"Alex\",\n",
    "        \"lname\": \"Musk\",\n",
    "        \"age\": 34,\n",
    "        \"grade\": \"semi-skilled\"\n",
    "    },\n",
    "    {\n",
    "        \"fname\": \"Happy\",\n",
    "        \"lname\": \"Stark\",\n",
    "        \"age\": 35,\n",
    "        \"grade\": \"highly-skilled\"\n",
    "    },\n",
    "    {\n",
    "        \"fname\": \"Arjit\",\n",
    "        \"lname\": \"Singh\",\n",
    "        \"age\": 30,\n",
    "        \"grade\": \"skilled\"\n",
    "    },\n",
    "    {\n",
    "        \"fname\": \"Rakesh\",\n",
    "        \"lname\": \"Sharma\",\n",
    "        \"age\": 37,\n",
    "        \"grade\": \"highly-skilled\"\n",
    "    }\n",
    "]\n",
    "```"
   ]
  },
  {
   "cell_type": "code",
   "execution_count": 6,
   "id": "263e8a99-fc4e-44e1-a0f8-6614e6f5afba",
   "metadata": {},
   "outputs": [
    {
     "data": {
      "text/plain": [
       "['Happy Stark', 'Rakesh Sharma']"
      ]
     },
     "execution_count": 6,
     "metadata": {},
     "output_type": "execute_result"
    }
   ],
   "source": [
    "employees = [\n",
    "    {\n",
    "        \"fname\": \"Happy\",\n",
    "        \"lname\": \"Vance\",\n",
    "        \"age\": 33,\n",
    "        \"grade\": \"skilled\"\n",
    "    },\n",
    "    {\n",
    "        \"fname\": \"Alex\",\n",
    "        \"lname\": \"Musk\",\n",
    "        \"age\": 34,\n",
    "        \"grade\": \"semi-skilled\"\n",
    "    },\n",
    "    {\n",
    "        \"fname\": \"Happy\",\n",
    "        \"lname\": \"Stark\",\n",
    "        \"age\": 35,\n",
    "        \"grade\": \"highly-skilled\"\n",
    "    },\n",
    "    {\n",
    "        \"fname\": \"Arjit\",\n",
    "        \"lname\": \"Singh\",\n",
    "        \"age\": 30,\n",
    "        \"grade\": \"skilled\"\n",
    "    },\n",
    "    {\n",
    "        \"fname\": \"Rakesh\",\n",
    "        \"lname\": \"Sharma\",\n",
    "        \"age\": 37,\n",
    "        \"grade\": \"highly-skilled\"\n",
    "    }\n",
    "]\n",
    "\n",
    "high_skilled = list(filter(lambda x:True if x['grade'] == \"highly-skilled\" else False, employees))\n",
    "list(map(lambda x: x[\"fname\"] +\" \" + x['lname'], high_skilled))"
   ]
  },
  {
   "cell_type": "code",
   "execution_count": null,
   "id": "efb91fb4-456b-4c29-8b36-a59d7e3fc206",
   "metadata": {},
   "outputs": [],
   "source": [
    "# Please visit HackerRank to practice Python questions."
   ]
  }
 ],
 "metadata": {
  "kernelspec": {
   "display_name": "Python 3 (ipykernel)",
   "language": "python",
   "name": "python3"
  },
  "language_info": {
   "codemirror_mode": {
    "name": "ipython",
    "version": 3
   },
   "file_extension": ".py",
   "mimetype": "text/x-python",
   "name": "python",
   "nbconvert_exporter": "python",
   "pygments_lexer": "ipython3",
   "version": "3.11.7"
  }
 },
 "nbformat": 4,
 "nbformat_minor": 5
}
