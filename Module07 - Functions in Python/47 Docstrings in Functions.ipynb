{
 "cells": [
  {
   "cell_type": "code",
   "execution_count": 1,
   "id": "06127cf4-759a-4e11-a251-133fcc202eca",
   "metadata": {},
   "outputs": [],
   "source": [
    "def odd_even(num):\n",
    "    if (num % 2 == 0):\n",
    "        return \"Even number\"\n",
    "    else:\n",
    "        return \"Odd number\""
   ]
  },
  {
   "cell_type": "code",
   "execution_count": 2,
   "id": "d1844f92-b3aa-483c-88f3-a753793ac8de",
   "metadata": {},
   "outputs": [
    {
     "ename": "TypeError",
     "evalue": "not all arguments converted during string formatting",
     "output_type": "error",
     "traceback": [
      "\u001b[1;31m---------------------------------------------------------------------------\u001b[0m",
      "\u001b[1;31mTypeError\u001b[0m                                 Traceback (most recent call last)",
      "Cell \u001b[1;32mIn[2], line 1\u001b[0m\n\u001b[1;32m----> 1\u001b[0m res \u001b[38;5;241m=\u001b[39m odd_even(\u001b[38;5;124m\"\u001b[39m\u001b[38;5;124mHappy\u001b[39m\u001b[38;5;124m\"\u001b[39m)\n\u001b[0;32m      2\u001b[0m \u001b[38;5;28mprint\u001b[39m(res)\n",
      "Cell \u001b[1;32mIn[1], line 2\u001b[0m, in \u001b[0;36modd_even\u001b[1;34m(num)\u001b[0m\n\u001b[0;32m      1\u001b[0m \u001b[38;5;28;01mdef\u001b[39;00m \u001b[38;5;21modd_even\u001b[39m(num):\n\u001b[1;32m----> 2\u001b[0m     \u001b[38;5;28;01mif\u001b[39;00m (num \u001b[38;5;241m%\u001b[39m \u001b[38;5;241m2\u001b[39m \u001b[38;5;241m==\u001b[39m \u001b[38;5;241m0\u001b[39m):\n\u001b[0;32m      3\u001b[0m         \u001b[38;5;28;01mreturn\u001b[39;00m \u001b[38;5;124m\"\u001b[39m\u001b[38;5;124mEven number\u001b[39m\u001b[38;5;124m\"\u001b[39m\n\u001b[0;32m      4\u001b[0m     \u001b[38;5;28;01melse\u001b[39;00m:\n",
      "\u001b[1;31mTypeError\u001b[0m: not all arguments converted during string formatting"
     ]
    }
   ],
   "source": [
    "res = odd_even(\"Happy\")\n",
    "print(res)"
   ]
  },
  {
   "cell_type": "markdown",
   "id": "a4b81cf5-cdac-48b5-9e44-a9e184ac1be4",
   "metadata": {},
   "source": [
    "```\n",
    "Key Point to Remember:\n",
    "----------------------\n",
    "\n",
    "==> It is best practice to define a docstring and inform others about the function.\n",
    "```"
   ]
  },
  {
   "cell_type": "code",
   "execution_count": 3,
   "id": "f4dd378c-31ee-4a1a-9082-0e63317d42a8",
   "metadata": {},
   "outputs": [],
   "source": [
    "def odd_even(num):\n",
    "    \"\"\"\n",
    "    description: This function checks if a given number is odd or even\n",
    "    input: any valid number / integer\n",
    "    output: odd / even\n",
    "    \"\"\"\n",
    "    if num % 2 == 0:\n",
    "        return \"Even number\"\n",
    "    else:\n",
    "        return \"Odd number\""
   ]
  },
  {
   "cell_type": "code",
   "execution_count": 4,
   "id": "4acdfc4e-6caa-4086-9328-af6d5a9b97f2",
   "metadata": {},
   "outputs": [
    {
     "name": "stdout",
     "output_type": "stream",
     "text": [
      "Help on function odd_even in module __main__:\n",
      "\n",
      "odd_even(num)\n",
      "    description: This function checks if a given number is odd or even\n",
      "    input: any valid number / integer\n",
      "    output: odd / even\n",
      "\n"
     ]
    }
   ],
   "source": [
    "help(odd_even)"
   ]
  },
  {
   "cell_type": "code",
   "execution_count": 5,
   "id": "46fd2bf1-cc98-4fa8-930b-243e07095de0",
   "metadata": {},
   "outputs": [
    {
     "data": {
      "text/plain": [
       "'\\n    description: This function checks if a given number is odd or even\\n    input: any valid number / integer\\n    output: odd / even\\n    '"
      ]
     },
     "execution_count": 5,
     "metadata": {},
     "output_type": "execute_result"
    }
   ],
   "source": [
    "odd_even.__doc__"
   ]
  },
  {
   "cell_type": "code",
   "execution_count": 6,
   "id": "808f232d-647f-47af-a768-b60460d88b1c",
   "metadata": {},
   "outputs": [
    {
     "name": "stdout",
     "output_type": "stream",
     "text": [
      "\n",
      "    description: This function checks if a given number is odd or even\n",
      "    input: any valid number / integer\n",
      "    output: odd / even\n",
      "    \n"
     ]
    }
   ],
   "source": [
    "print(odd_even.__doc__)"
   ]
  },
  {
   "cell_type": "code",
   "execution_count": 7,
   "id": "8853ff85-b9c1-4176-9c02-70d6c8fd4a33",
   "metadata": {},
   "outputs": [
    {
     "name": "stdout",
     "output_type": "stream",
     "text": [
      "max(iterable, *[, default=obj, key=func]) -> value\n",
      "max(arg1, arg2, *args, *[, key=func]) -> value\n",
      "\n",
      "With a single iterable argument, return its biggest item. The\n",
      "default keyword-only argument specifies an object to return if\n",
      "the provided iterable is empty.\n",
      "With two or more arguments, return the largest argument.\n"
     ]
    }
   ],
   "source": [
    "print(max.__doc__)"
   ]
  },
  {
   "cell_type": "code",
   "execution_count": 11,
   "id": "5663d9ff-a62b-441e-a414-10194bd4be53",
   "metadata": {},
   "outputs": [],
   "source": [
    "def odd_even(num):\n",
    "    \"\"\"\n",
    "    description: This function checks if a given number is odd or even\n",
    "    input: any valid number / integer\n",
    "    output: odd / even\n",
    "    \"\"\"\n",
    "    if type(num) == int:\n",
    "        if num % 2 == 0:\n",
    "            return \"Even number\"\n",
    "        else:\n",
    "            return \"Odd number\"\n",
    "    else:\n",
    "        return \"wrong input\""
   ]
  },
  {
   "cell_type": "code",
   "execution_count": 12,
   "id": "e1797938-5381-47b0-bb93-605b2a32793e",
   "metadata": {},
   "outputs": [
    {
     "name": "stdout",
     "output_type": "stream",
     "text": [
      "wrong input\n"
     ]
    }
   ],
   "source": [
    "res = odd_even(\"Happy\")\n",
    "print(res)"
   ]
  },
  {
   "cell_type": "code",
   "execution_count": null,
   "id": "6f4ffd4a-153c-42aa-8c71-52c6126861a1",
   "metadata": {},
   "outputs": [],
   "source": []
  }
 ],
 "metadata": {
  "kernelspec": {
   "display_name": "Python 3 (ipykernel)",
   "language": "python",
   "name": "python3"
  },
  "language_info": {
   "codemirror_mode": {
    "name": "ipython",
    "version": 3
   },
   "file_extension": ".py",
   "mimetype": "text/x-python",
   "name": "python",
   "nbconvert_exporter": "python",
   "pygments_lexer": "ipython3",
   "version": "3.11.7"
  }
 },
 "nbformat": 4,
 "nbformat_minor": 5
}
