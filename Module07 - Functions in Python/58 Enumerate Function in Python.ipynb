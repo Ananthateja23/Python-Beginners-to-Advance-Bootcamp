{
 "cells": [
  {
   "cell_type": "code",
   "execution_count": 1,
   "id": "83db9f97-7c2d-4379-bad9-b11f65348a87",
   "metadata": {},
   "outputs": [
    {
     "name": "stdout",
     "output_type": "stream",
     "text": [
      "Happy\n",
      "Alex\n",
      "kumar\n",
      "Ahmed\n"
     ]
    }
   ],
   "source": [
    "names = ['Happy', 'Alex', 'kumar', 'Ahmed']\n",
    "\n",
    "for name in names:\n",
    "    print(name)"
   ]
  },
  {
   "cell_type": "code",
   "execution_count": 2,
   "id": "1fe66520-e2b0-4df3-9a94-b94fbeed82c8",
   "metadata": {},
   "outputs": [
    {
     "name": "stdout",
     "output_type": "stream",
     "text": [
      "(0, 'Happy')\n",
      "(1, 'Alex')\n",
      "(2, 'kumar')\n",
      "(3, 'Ahmed')\n"
     ]
    }
   ],
   "source": [
    "for name in enumerate(names):\n",
    "    print(name)"
   ]
  },
  {
   "cell_type": "code",
   "execution_count": 3,
   "id": "ae3c652d-f994-4087-b691-7213086de1c5",
   "metadata": {},
   "outputs": [
    {
     "name": "stdout",
     "output_type": "stream",
     "text": [
      "0 Happy\n",
      "1 Alex\n",
      "2 kumar\n",
      "3 Ahmed\n"
     ]
    }
   ],
   "source": [
    "for i, name in enumerate(names):\n",
    "    print(i, name)"
   ]
  },
  {
   "cell_type": "code",
   "execution_count": 4,
   "id": "c29f32a2-274d-476a-a6c4-280d98e25f37",
   "metadata": {},
   "outputs": [
    {
     "name": "stdout",
     "output_type": "stream",
     "text": [
      "1 Happy\n",
      "2 Alex\n",
      "3 kumar\n",
      "4 Ahmed\n"
     ]
    }
   ],
   "source": [
    "for i, name in enumerate(names, start = 1):\n",
    "    print(i, name)"
   ]
  },
  {
   "cell_type": "code",
   "execution_count": 5,
   "id": "99cb2362-c9f2-44d4-b041-3a698b13ea10",
   "metadata": {},
   "outputs": [
    {
     "name": "stdout",
     "output_type": "stream",
     "text": [
      "3 kumar\n"
     ]
    }
   ],
   "source": [
    "for i, name in enumerate(names, start = 1):\n",
    "    if i == 3:\n",
    "        print(i, name)"
   ]
  },
  {
   "cell_type": "code",
   "execution_count": null,
   "id": "5a4e4d3c-3556-4950-91d6-08a88474faf1",
   "metadata": {},
   "outputs": [],
   "source": []
  }
 ],
 "metadata": {
  "kernelspec": {
   "display_name": "Python 3 (ipykernel)",
   "language": "python",
   "name": "python3"
  },
  "language_info": {
   "codemirror_mode": {
    "name": "ipython",
    "version": 3
   },
   "file_extension": ".py",
   "mimetype": "text/x-python",
   "name": "python",
   "nbconvert_exporter": "python",
   "pygments_lexer": "ipython3",
   "version": "3.11.7"
  }
 },
 "nbformat": 4,
 "nbformat_minor": 5
}
