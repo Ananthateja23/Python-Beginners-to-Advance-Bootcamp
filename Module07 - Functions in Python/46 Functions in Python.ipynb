{
 "cells": [
  {
   "cell_type": "markdown",
   "id": "3a8ffb66-1320-42be-b052-b9327c51cb84",
   "metadata": {},
   "source": [
    "# What are Functions?\n",
    "\n",
    "- Functions are a programming construct. It takes input & returns output\n",
    "- There are 2 types of functions:\n",
    "    1. Built-in\n",
    "    2. User Define\n",
    "- The benefit of Functions is Code Reusability\n",
    "\n",
    "- Principles of functions:\n",
    "    1. Abstraction   (We only aware of function name, but we don't know process behind of it)\n",
    "    2. Decomposition (combining every function in our code to build an application)\n",
    "\n",
    "## Why use functions?\n",
    "\n",
    "- To reuse code: We define the code once and use it many times\n"
   ]
  },
  {
   "cell_type": "markdown",
   "id": "d0923c77-d4b1-42ce-9187-ddc8b11b23e0",
   "metadata": {},
   "source": [
    "# Creating Functions"
   ]
  },
  {
   "cell_type": "code",
   "execution_count": 1,
   "id": "d66c79ab-4e26-4abc-baee-74206c0e86e9",
   "metadata": {},
   "outputs": [
    {
     "name": "stdout",
     "output_type": "stream",
     "text": [
      "Hello Happy, Welcome to Python\n"
     ]
    }
   ],
   "source": [
    "print(\"Hello Happy, Welcome to Python\")"
   ]
  },
  {
   "cell_type": "code",
   "execution_count": 2,
   "id": "3889ef14-0f22-4f64-8341-7fa3e6c4e56a",
   "metadata": {},
   "outputs": [
    {
     "name": "stdout",
     "output_type": "stream",
     "text": [
      "Hello Alex, Welcome to Python\n"
     ]
    }
   ],
   "source": [
    "print(\"Hello Alex, Welcome to Python\")"
   ]
  },
  {
   "cell_type": "code",
   "execution_count": 3,
   "id": "fc9f391a-0011-42db-9554-33b06e1fb8c6",
   "metadata": {},
   "outputs": [
    {
     "name": "stdout",
     "output_type": "stream",
     "text": [
      "Hello Ahmed, Welcome to Python\n"
     ]
    }
   ],
   "source": [
    "print(\"Hello Ahmed, Welcome to Python\")"
   ]
  },
  {
   "cell_type": "code",
   "execution_count": 4,
   "id": "cd401e7e-f2de-4324-b95a-2fe2767cd15f",
   "metadata": {},
   "outputs": [],
   "source": [
    "def greet(name):\n",
    "    output = f\"Hello {name}, Welcome to Python\"\n",
    "    return output"
   ]
  },
  {
   "cell_type": "code",
   "execution_count": 5,
   "id": "9f150155-e5ce-452a-a35a-486e39b849ed",
   "metadata": {},
   "outputs": [
    {
     "data": {
      "text/plain": [
       "'Hello Happy, Welcome to Python'"
      ]
     },
     "execution_count": 5,
     "metadata": {},
     "output_type": "execute_result"
    }
   ],
   "source": [
    "greet(\"Happy\")"
   ]
  },
  {
   "cell_type": "code",
   "execution_count": 6,
   "id": "074bb827-198e-417a-a29c-a3535eca93e8",
   "metadata": {},
   "outputs": [
    {
     "data": {
      "text/plain": [
       "'Hello Alex, Welcome to Python'"
      ]
     },
     "execution_count": 6,
     "metadata": {},
     "output_type": "execute_result"
    }
   ],
   "source": [
    "greet(\"Alex\")"
   ]
  },
  {
   "cell_type": "code",
   "execution_count": 7,
   "id": "94a0a438-f903-427f-b34b-44fd97e539cf",
   "metadata": {},
   "outputs": [
    {
     "data": {
      "text/plain": [
       "'Hello Ahmed, Welcome to Python'"
      ]
     },
     "execution_count": 7,
     "metadata": {},
     "output_type": "execute_result"
    }
   ],
   "source": [
    "greet(\"Ahmed\")"
   ]
  },
  {
   "cell_type": "code",
   "execution_count": 8,
   "id": "f2dddd8a-ff91-499b-a4b3-996ecf228c5e",
   "metadata": {},
   "outputs": [
    {
     "name": "stdout",
     "output_type": "stream",
     "text": [
      "Hello Alex, Welcome to Python\n"
     ]
    }
   ],
   "source": [
    "res = greet(\"Alex\")\n",
    "print(res)"
   ]
  },
  {
   "cell_type": "code",
   "execution_count": 9,
   "id": "0837ff33-6e7f-4f26-a132-2a6079ac574f",
   "metadata": {},
   "outputs": [
    {
     "name": "stdout",
     "output_type": "stream",
     "text": [
      "Hello Happy, Welcome to Python\n",
      "Hello Alex, Welcome to Python\n",
      "Hello Ahmed, Welcome to Python\n",
      "Hello Kumar, Welcome to Python\n"
     ]
    }
   ],
   "source": [
    "names = [\"Happy\", \"Alex\", \"Ahmed\", \"Kumar\"]\n",
    "\n",
    "for name in names:\n",
    "    print(greet(name))"
   ]
  },
  {
   "cell_type": "code",
   "execution_count": 10,
   "id": "6b1878e9-a2f3-400c-ac68-549de776387d",
   "metadata": {},
   "outputs": [],
   "source": [
    "def odd_even(num):\n",
    "    if num % 2 == 0:\n",
    "        return \"Even number\"\n",
    "    else:\n",
    "        return \"Odd Number\""
   ]
  },
  {
   "cell_type": "code",
   "execution_count": 12,
   "id": "a840fc88-177d-429b-a817-63779870b548",
   "metadata": {},
   "outputs": [
    {
     "name": "stdout",
     "output_type": "stream",
     "text": [
      "Even number\n"
     ]
    }
   ],
   "source": [
    "res = odd_even(2)\n",
    "print(res)"
   ]
  },
  {
   "cell_type": "code",
   "execution_count": 13,
   "id": "734fae7a-6b5c-4fd1-b76d-9534b4396a58",
   "metadata": {},
   "outputs": [
    {
     "name": "stdout",
     "output_type": "stream",
     "text": [
      "Odd Number\n"
     ]
    }
   ],
   "source": [
    "res = odd_even(3)\n",
    "print(res)"
   ]
  },
  {
   "cell_type": "code",
   "execution_count": 14,
   "id": "3646df7c-2c69-4642-97e4-cbfe167d914b",
   "metadata": {},
   "outputs": [
    {
     "name": "stdout",
     "output_type": "stream",
     "text": [
      "1 Odd Number\n",
      "2 Even number\n",
      "3 Odd Number\n",
      "4 Even number\n",
      "5 Odd Number\n",
      "6 Even number\n",
      "7 Odd Number\n",
      "8 Even number\n",
      "9 Odd Number\n",
      "10 Even number\n"
     ]
    }
   ],
   "source": [
    "for i in range(1, 11):\n",
    "    print(i, odd_even(i))"
   ]
  },
  {
   "cell_type": "code",
   "execution_count": null,
   "id": "b7fd18bb-8171-49c1-8306-5848b7acc0e3",
   "metadata": {},
   "outputs": [],
   "source": []
  }
 ],
 "metadata": {
  "kernelspec": {
   "display_name": "Python 3 (ipykernel)",
   "language": "python",
   "name": "python3"
  },
  "language_info": {
   "codemirror_mode": {
    "name": "ipython",
    "version": 3
   },
   "file_extension": ".py",
   "mimetype": "text/x-python",
   "name": "python",
   "nbconvert_exporter": "python",
   "pygments_lexer": "ipython3",
   "version": "3.11.7"
  }
 },
 "nbformat": 4,
 "nbformat_minor": 5
}
