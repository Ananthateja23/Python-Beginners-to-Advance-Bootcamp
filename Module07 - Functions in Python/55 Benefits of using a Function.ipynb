{
 "cells": [
  {
   "cell_type": "markdown",
   "id": "86381f44-dc27-4455-a929-fd468a6e8224",
   "metadata": {},
   "source": [
    "# Benefits of using a Function\n",
    "\n",
    "- Code Modularity\n",
    "- Code Readability\n",
    "- Code Reusability"
   ]
  },
  {
   "cell_type": "code",
   "execution_count": 1,
   "id": "b686d5b9-736a-4d3f-ab77-ed0b62d8e44f",
   "metadata": {},
   "outputs": [],
   "source": [
    "def odd_even(num):\n",
    "    \"\"\"\n",
    "    This function checks if a given number is odd or even\n",
    "    input : any valid number / integer\n",
    "    output : odd / even\n",
    "    \"\"\"\n",
    "\n",
    "    if type(num) == int:\n",
    "        if (num % 2 == 0):\n",
    "            return \"Even number\"\n",
    "        else:\n",
    "            return \"Odd number\"\n",
    "    else:\n",
    "        return \"wrong input\""
   ]
  },
  {
   "cell_type": "code",
   "execution_count": 2,
   "id": "3ae430b5-e9a8-4b69-9221-fdf29e4d2720",
   "metadata": {},
   "outputs": [
    {
     "data": {
      "text/plain": [
       "'Odd number'"
      ]
     },
     "execution_count": 2,
     "metadata": {},
     "output_type": "execute_result"
    }
   ],
   "source": [
    "odd_even(3)"
   ]
  },
  {
   "cell_type": "code",
   "execution_count": 3,
   "id": "26717b28-4139-41f0-87df-652f50fcb781",
   "metadata": {},
   "outputs": [
    {
     "data": {
      "text/plain": [
       "'Even number'"
      ]
     },
     "execution_count": 3,
     "metadata": {},
     "output_type": "execute_result"
    }
   ],
   "source": [
    "odd_even(4)"
   ]
  },
  {
   "cell_type": "code",
   "execution_count": null,
   "id": "f84b4d14-8a06-4da5-afbd-f8a26b22e32d",
   "metadata": {},
   "outputs": [],
   "source": []
  }
 ],
 "metadata": {
  "kernelspec": {
   "display_name": "Python 3 (ipykernel)",
   "language": "python",
   "name": "python3"
  },
  "language_info": {
   "codemirror_mode": {
    "name": "ipython",
    "version": 3
   },
   "file_extension": ".py",
   "mimetype": "text/x-python",
   "name": "python",
   "nbconvert_exporter": "python",
   "pygments_lexer": "ipython3",
   "version": "3.11.7"
  }
 },
 "nbformat": 4,
 "nbformat_minor": 5
}
