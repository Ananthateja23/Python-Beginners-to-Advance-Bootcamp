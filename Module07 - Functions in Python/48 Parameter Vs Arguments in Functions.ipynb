{
 "cells": [
  {
   "cell_type": "markdown",
   "id": "3ec1e376-b579-4ae6-9991-b4bcb5cde9ee",
   "metadata": {},
   "source": [
    "# Parameters Vs Arguments"
   ]
  },
  {
   "cell_type": "code",
   "execution_count": 1,
   "id": "32360f07-3b6a-4107-805b-3c7ca114ace2",
   "metadata": {},
   "outputs": [],
   "source": [
    "def odd_even(num): # parameters\n",
    "    \"\"\"\n",
    "    description: This function checks if a given number is odd or even\n",
    "    input: any valid number / integer\n",
    "    output: odd / even\n",
    "    \"\"\"\n",
    "    if type(num) == int:\n",
    "        if num % 2 == 0:\n",
    "            return \"Even number\"\n",
    "        else:\n",
    "            return \"Odd number\"\n",
    "    else:\n",
    "        return \"wrong input\""
   ]
  },
  {
   "cell_type": "code",
   "execution_count": 2,
   "id": "e5432bd0-88ee-4b09-abd3-81a494012a30",
   "metadata": {},
   "outputs": [
    {
     "name": "stdout",
     "output_type": "stream",
     "text": [
      "Even number\n"
     ]
    }
   ],
   "source": [
    "res = odd_even(2) # Arguments\n",
    "print(res)"
   ]
  },
  {
   "cell_type": "markdown",
   "id": "15aea2e4-8949-45fc-bb54-a61835ae8c97",
   "metadata": {},
   "source": [
    "# Types of Arguments\n",
    "\n",
    "- Default Arguments\n",
    "- Positional Arguments\n",
    "- Keyword Arguments"
   ]
  },
  {
   "cell_type": "code",
   "execution_count": 3,
   "id": "3cd661ba-a1af-4776-bac1-e739af0a51ae",
   "metadata": {},
   "outputs": [],
   "source": [
    "# Default Arguments\n",
    "\n",
    "def power(a, b):\n",
    "    return a ** b"
   ]
  },
  {
   "cell_type": "code",
   "execution_count": 4,
   "id": "46c1aa96-9a46-4373-80a8-00795649ea4d",
   "metadata": {},
   "outputs": [
    {
     "data": {
      "text/plain": [
       "8"
      ]
     },
     "execution_count": 4,
     "metadata": {},
     "output_type": "execute_result"
    }
   ],
   "source": [
    "power(2, 3)"
   ]
  },
  {
   "cell_type": "code",
   "execution_count": 5,
   "id": "68bc61e2-57f8-4edf-84fa-4f0cf0aa6dce",
   "metadata": {},
   "outputs": [
    {
     "ename": "TypeError",
     "evalue": "power() missing 1 required positional argument: 'b'",
     "output_type": "error",
     "traceback": [
      "\u001b[1;31m---------------------------------------------------------------------------\u001b[0m",
      "\u001b[1;31mTypeError\u001b[0m                                 Traceback (most recent call last)",
      "Cell \u001b[1;32mIn[5], line 1\u001b[0m\n\u001b[1;32m----> 1\u001b[0m power(\u001b[38;5;241m2\u001b[39m)\n",
      "\u001b[1;31mTypeError\u001b[0m: power() missing 1 required positional argument: 'b'"
     ]
    }
   ],
   "source": [
    "power(2)"
   ]
  },
  {
   "cell_type": "code",
   "execution_count": 6,
   "id": "a18d077f-c734-4986-b76e-27df8725f94a",
   "metadata": {},
   "outputs": [
    {
     "ename": "TypeError",
     "evalue": "power() missing 2 required positional arguments: 'a' and 'b'",
     "output_type": "error",
     "traceback": [
      "\u001b[1;31m---------------------------------------------------------------------------\u001b[0m",
      "\u001b[1;31mTypeError\u001b[0m                                 Traceback (most recent call last)",
      "Cell \u001b[1;32mIn[6], line 1\u001b[0m\n\u001b[1;32m----> 1\u001b[0m power()\n",
      "\u001b[1;31mTypeError\u001b[0m: power() missing 2 required positional arguments: 'a' and 'b'"
     ]
    }
   ],
   "source": [
    "power()"
   ]
  },
  {
   "cell_type": "code",
   "execution_count": 7,
   "id": "1efd5ab0-add4-4425-b3cc-4f851e447821",
   "metadata": {},
   "outputs": [],
   "source": [
    "# Default Arguments\n",
    "\n",
    "def power(a=2, b=3):\n",
    "    return a ** b"
   ]
  },
  {
   "cell_type": "code",
   "execution_count": 8,
   "id": "d09b7ee7-302a-41e3-b65b-786d6d6d5b32",
   "metadata": {},
   "outputs": [
    {
     "data": {
      "text/plain": [
       "8"
      ]
     },
     "execution_count": 8,
     "metadata": {},
     "output_type": "execute_result"
    }
   ],
   "source": [
    "power(2, 3)"
   ]
  },
  {
   "cell_type": "code",
   "execution_count": 9,
   "id": "1b224411-7137-4d3b-8046-0710a593f2bc",
   "metadata": {},
   "outputs": [
    {
     "data": {
      "text/plain": [
       "8"
      ]
     },
     "execution_count": 9,
     "metadata": {},
     "output_type": "execute_result"
    }
   ],
   "source": [
    "power(2)"
   ]
  },
  {
   "cell_type": "code",
   "execution_count": 10,
   "id": "33486ae6-6d82-448a-80f3-82d35d626af7",
   "metadata": {},
   "outputs": [
    {
     "data": {
      "text/plain": [
       "27"
      ]
     },
     "execution_count": 10,
     "metadata": {},
     "output_type": "execute_result"
    }
   ],
   "source": [
    "power(3)"
   ]
  },
  {
   "cell_type": "code",
   "execution_count": 11,
   "id": "07c9c441-4940-4ff2-909f-4d0455962ed5",
   "metadata": {},
   "outputs": [
    {
     "data": {
      "text/plain": [
       "8"
      ]
     },
     "execution_count": 11,
     "metadata": {},
     "output_type": "execute_result"
    }
   ],
   "source": [
    "power()"
   ]
  },
  {
   "cell_type": "code",
   "execution_count": 13,
   "id": "0ec9f907-d1f2-4eda-9937-307448c64527",
   "metadata": {},
   "outputs": [],
   "source": [
    "# positional arguments\n",
    "\n",
    "def power(a, b):\n",
    "    return a ** b"
   ]
  },
  {
   "cell_type": "code",
   "execution_count": 14,
   "id": "c8dc75f0-3a49-4202-9821-6003898cdd55",
   "metadata": {},
   "outputs": [
    {
     "data": {
      "text/plain": [
       "8"
      ]
     },
     "execution_count": 14,
     "metadata": {},
     "output_type": "execute_result"
    }
   ],
   "source": [
    "power(2, 3)"
   ]
  },
  {
   "cell_type": "code",
   "execution_count": 15,
   "id": "4cde9303-dea6-46a6-85c8-41b7309ffd41",
   "metadata": {},
   "outputs": [
    {
     "data": {
      "text/plain": [
       "9"
      ]
     },
     "execution_count": 15,
     "metadata": {},
     "output_type": "execute_result"
    }
   ],
   "source": [
    "power(3, 2)"
   ]
  },
  {
   "cell_type": "code",
   "execution_count": 16,
   "id": "ae9d0ecc-c052-4f12-babd-e59283a05f9e",
   "metadata": {},
   "outputs": [],
   "source": [
    "# keyword arguments\n",
    "\n",
    "def power(a, b):\n",
    "    return a ** b"
   ]
  },
  {
   "cell_type": "code",
   "execution_count": 17,
   "id": "283f22b7-f152-42aa-95ed-46d4ca65fe2e",
   "metadata": {},
   "outputs": [
    {
     "data": {
      "text/plain": [
       "8"
      ]
     },
     "execution_count": 17,
     "metadata": {},
     "output_type": "execute_result"
    }
   ],
   "source": [
    "power(2, 3)"
   ]
  },
  {
   "cell_type": "code",
   "execution_count": 18,
   "id": "bc922993-c2ae-4b7c-a169-bc4d09776d54",
   "metadata": {},
   "outputs": [
    {
     "data": {
      "text/plain": [
       "8"
      ]
     },
     "execution_count": 18,
     "metadata": {},
     "output_type": "execute_result"
    }
   ],
   "source": [
    "power(a = 2, b = 3)"
   ]
  },
  {
   "cell_type": "code",
   "execution_count": 19,
   "id": "07ed026f-a208-44e9-872d-fd4a60c6045b",
   "metadata": {},
   "outputs": [
    {
     "data": {
      "text/plain": [
       "8"
      ]
     },
     "execution_count": 19,
     "metadata": {},
     "output_type": "execute_result"
    }
   ],
   "source": [
    "power(b = 3, a = 2)"
   ]
  },
  {
   "cell_type": "code",
   "execution_count": null,
   "id": "c06ba98a-c53c-4db9-a92d-28d7250a2e6b",
   "metadata": {},
   "outputs": [],
   "source": []
  }
 ],
 "metadata": {
  "kernelspec": {
   "display_name": "Python 3 (ipykernel)",
   "language": "python",
   "name": "python3"
  },
  "language_info": {
   "codemirror_mode": {
    "name": "ipython",
    "version": 3
   },
   "file_extension": ".py",
   "mimetype": "text/x-python",
   "name": "python",
   "nbconvert_exporter": "python",
   "pygments_lexer": "ipython3",
   "version": "3.11.7"
  }
 },
 "nbformat": 4,
 "nbformat_minor": 5
}
