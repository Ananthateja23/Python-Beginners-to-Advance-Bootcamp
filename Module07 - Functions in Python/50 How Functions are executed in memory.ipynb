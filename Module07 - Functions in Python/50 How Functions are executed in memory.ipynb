{
 "cells": [
  {
   "cell_type": "code",
   "execution_count": 1,
   "id": "da2c8e2d-9524-47e3-8c23-a04c3508be8a",
   "metadata": {},
   "outputs": [
    {
     "name": "stdout",
     "output_type": "stream",
     "text": [
      "Odd number\n"
     ]
    }
   ],
   "source": [
    "def odd_even(num):\n",
    "    if num % 2 == 0:\n",
    "        return \"Even number\"\n",
    "    else:\n",
    "        return \"Odd number\"\n",
    "\n",
    "print(odd_even(5)) # The function always creates a temporary block in memory, which is cleared once the work is done"
   ]
  },
  {
   "cell_type": "code",
   "execution_count": null,
   "id": "b11cccc2-8e7b-48c3-8e6f-522b47d01d12",
   "metadata": {},
   "outputs": [],
   "source": [
    "# Please use Python Tutor to gain a better understanding of how functions are executed in memory."
   ]
  }
 ],
 "metadata": {
  "kernelspec": {
   "display_name": "Python 3 (ipykernel)",
   "language": "python",
   "name": "python3"
  },
  "language_info": {
   "codemirror_mode": {
    "name": "ipython",
    "version": 3
   },
   "file_extension": ".py",
   "mimetype": "text/x-python",
   "name": "python",
   "nbconvert_exporter": "python",
   "pygments_lexer": "ipython3",
   "version": "3.11.7"
  }
 },
 "nbformat": 4,
 "nbformat_minor": 5
}
