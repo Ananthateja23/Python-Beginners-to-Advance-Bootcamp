{
 "cells": [
  {
   "cell_type": "markdown",
   "id": "6e118c08-5a3e-41cc-91b8-bb0fc18d1c76",
   "metadata": {},
   "source": [
    "# Variable length non keyword arguments (*args)"
   ]
  },
  {
   "cell_type": "code",
   "execution_count": 1,
   "id": "e8f06d45-3db2-47cb-9796-605c0774fc49",
   "metadata": {},
   "outputs": [],
   "source": [
    "def multiply(a,b):\n",
    "    return a * b"
   ]
  },
  {
   "cell_type": "code",
   "execution_count": 3,
   "id": "81e1f04e-9374-49b6-a47f-c4498e19d97e",
   "metadata": {},
   "outputs": [
    {
     "data": {
      "text/plain": [
       "6"
      ]
     },
     "execution_count": 3,
     "metadata": {},
     "output_type": "execute_result"
    }
   ],
   "source": [
    "multiply(2, 3)"
   ]
  },
  {
   "cell_type": "code",
   "execution_count": 4,
   "id": "ab500b7f-50de-4452-9f06-6a1af9bf7de4",
   "metadata": {},
   "outputs": [],
   "source": [
    "def multiply(a, b, c):\n",
    "    return a * b * c"
   ]
  },
  {
   "cell_type": "code",
   "execution_count": 5,
   "id": "20d10231-7ccd-460b-880a-1eacaadb5212",
   "metadata": {},
   "outputs": [
    {
     "data": {
      "text/plain": [
       "24"
      ]
     },
     "execution_count": 5,
     "metadata": {},
     "output_type": "execute_result"
    }
   ],
   "source": [
    "multiply(2, 3, 4)"
   ]
  },
  {
   "cell_type": "code",
   "execution_count": 6,
   "id": "378ac2bc-755e-4f2c-9e64-dd00c2b98932",
   "metadata": {},
   "outputs": [],
   "source": [
    "def multiply(*args):\n",
    "    product = 1\n",
    "    \n",
    "    for i in args:\n",
    "        product *= i\n",
    "        \n",
    "    return product"
   ]
  },
  {
   "cell_type": "code",
   "execution_count": 7,
   "id": "6821fd63-ca18-4c2d-a586-41f6fcde4764",
   "metadata": {},
   "outputs": [
    {
     "data": {
      "text/plain": [
       "6"
      ]
     },
     "execution_count": 7,
     "metadata": {},
     "output_type": "execute_result"
    }
   ],
   "source": [
    "multiply(1, 2, 3)"
   ]
  },
  {
   "cell_type": "code",
   "execution_count": 8,
   "id": "92ba8782-2ff1-42dd-9f51-fae250496d5a",
   "metadata": {},
   "outputs": [
    {
     "data": {
      "text/plain": [
       "24"
      ]
     },
     "execution_count": 8,
     "metadata": {},
     "output_type": "execute_result"
    }
   ],
   "source": [
    "multiply(1, 2, 3, 4)"
   ]
  },
  {
   "cell_type": "code",
   "execution_count": 9,
   "id": "e953aaaa-7a99-4634-bc2d-0287b880ee49",
   "metadata": {},
   "outputs": [
    {
     "data": {
      "text/plain": [
       "120"
      ]
     },
     "execution_count": 9,
     "metadata": {},
     "output_type": "execute_result"
    }
   ],
   "source": [
    "multiply(1, 2, 3, 4, 5)"
   ]
  },
  {
   "cell_type": "markdown",
   "id": "583b2dd9-eba0-4baf-92cf-5ba378ae6165",
   "metadata": {},
   "source": [
    "# Variable length keyword arguments (**kwargs)"
   ]
  },
  {
   "cell_type": "code",
   "execution_count": 10,
   "id": "f90b86fe-1136-46e4-9584-f215ee8bf2e7",
   "metadata": {},
   "outputs": [],
   "source": [
    "def display(**kwargs):\n",
    "    print(kwargs)"
   ]
  },
  {
   "cell_type": "code",
   "execution_count": 11,
   "id": "3a0c1b67-a588-4800-a2e3-c6da65cd757a",
   "metadata": {},
   "outputs": [
    {
     "name": "stdout",
     "output_type": "stream",
     "text": [
      "{'india': 'New Delhi', 'Bangladesh': 'Dhaka', 'Srilanka': 'Colombo'}\n"
     ]
    }
   ],
   "source": [
    "display(india= \"New Delhi\", Bangladesh = \"Dhaka\", Srilanka = \"Colombo\")"
   ]
  },
  {
   "cell_type": "code",
   "execution_count": 12,
   "id": "f6f7035a-4c70-498d-8748-6fc68ae16267",
   "metadata": {},
   "outputs": [],
   "source": [
    "def display(**kwargs):\n",
    "    for key, value in kwargs.items():\n",
    "        print(f\"{key} = {value}\")"
   ]
  },
  {
   "cell_type": "code",
   "execution_count": 13,
   "id": "4fee3d87-1447-48a3-b6bc-dc6fe5768065",
   "metadata": {},
   "outputs": [
    {
     "name": "stdout",
     "output_type": "stream",
     "text": [
      "india = New Delhi\n",
      "Bangladesh = Dhaka\n",
      "Srilanka = Colombo\n"
     ]
    }
   ],
   "source": [
    "display(india= \"New Delhi\", Bangladesh = \"Dhaka\", Srilanka = \"Colombo\")"
   ]
  },
  {
   "cell_type": "code",
   "execution_count": 14,
   "id": "fe10644a-64b1-4366-a988-bf4961b5bead",
   "metadata": {},
   "outputs": [],
   "source": [
    "def display(**anyname):\n",
    "    for key, value in anyname.items():\n",
    "        print(f\"{key} = {value}\")"
   ]
  },
  {
   "cell_type": "code",
   "execution_count": 15,
   "id": "dbdccdec-0666-4d21-bb71-1736131de2fd",
   "metadata": {},
   "outputs": [
    {
     "name": "stdout",
     "output_type": "stream",
     "text": [
      "india = New Delhi\n",
      "Bangladesh = Dhaka\n",
      "Srilanka = Colombo\n"
     ]
    }
   ],
   "source": [
    "display(india= \"New Delhi\", Bangladesh = \"Dhaka\", Srilanka = \"Colombo\")"
   ]
  },
  {
   "cell_type": "code",
   "execution_count": null,
   "id": "9ce154aa-2be9-414a-a082-6d495d5eda12",
   "metadata": {},
   "outputs": [],
   "source": []
  }
 ],
 "metadata": {
  "kernelspec": {
   "display_name": "Python 3 (ipykernel)",
   "language": "python",
   "name": "python3"
  },
  "language_info": {
   "codemirror_mode": {
    "name": "ipython",
    "version": 3
   },
   "file_extension": ".py",
   "mimetype": "text/x-python",
   "name": "python",
   "nbconvert_exporter": "python",
   "pygments_lexer": "ipython3",
   "version": "3.11.7"
  }
 },
 "nbformat": 4,
 "nbformat_minor": 5
}
