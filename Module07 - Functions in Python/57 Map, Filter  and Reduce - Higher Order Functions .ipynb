{
 "cells": [
  {
   "cell_type": "markdown",
   "id": "c5cf8911-0f8b-4641-ba70-5762a8295c27",
   "metadata": {},
   "source": [
    "# Higher Order Functions\n",
    "\n",
    "- map\n",
    "- reduce\n",
    "- filter"
   ]
  },
  {
   "cell_type": "markdown",
   "id": "de747055-710c-41f0-9e45-09c5eaf9fb28",
   "metadata": {},
   "source": [
    "# map"
   ]
  },
  {
   "cell_type": "code",
   "execution_count": 1,
   "id": "919a0f68-c225-42ee-a8e1-c4b09243ea68",
   "metadata": {},
   "outputs": [
    {
     "data": {
      "text/plain": [
       "[1, 4, 9, 16, 25]"
      ]
     },
     "execution_count": 1,
     "metadata": {},
     "output_type": "execute_result"
    }
   ],
   "source": [
    "# square the items of a list\n",
    "l = [1, 2, 3, 4, 5]\n",
    "list(map(lambda x: x**2, l))"
   ]
  },
  {
   "cell_type": "code",
   "execution_count": 2,
   "id": "2ff3e7e4-8fc4-4c93-9c5d-c385c169e5bf",
   "metadata": {},
   "outputs": [
    {
     "data": {
      "text/plain": [
       "['Odd', 'Even', 'Odd', 'Even', 'Odd']"
      ]
     },
     "execution_count": 2,
     "metadata": {},
     "output_type": "execute_result"
    }
   ],
   "source": [
    "# odd/even labelling of list items\n",
    "\n",
    "l = [1, 2, 3, 4, 5]\n",
    "list(map(lambda x: \"Even\" if x % 2 == 0 else \"Odd\", l))"
   ]
  },
  {
   "cell_type": "code",
   "execution_count": 4,
   "id": "ae53cbc8-3445-4d6f-bc52-2905a86f84bc",
   "metadata": {},
   "outputs": [
    {
     "data": {
      "text/plain": [
       "['Alex', 'Happy', 'max']"
      ]
     },
     "execution_count": 4,
     "metadata": {},
     "output_type": "execute_result"
    }
   ],
   "source": [
    "# fetch names from a list of dict\n",
    "\n",
    "users = [\n",
    "    {\n",
    "        \"name\": \"Alex\",\n",
    "        \"age\": 30,\n",
    "        \"gender\": \"male\"\n",
    "    }, \n",
    "    {\n",
    "        \"name\": \"Happy\",\n",
    "        \"age\": 23,\n",
    "        \"gender\": \"male\"\n",
    "    }, \n",
    "    {\n",
    "        \"name\": \"max\",\n",
    "        \"age\": 50,\n",
    "        \"gender\": \"female\"\n",
    "    }\n",
    "]\n",
    "\n",
    "list(map(lambda x: x[\"name\"], users))"
   ]
  },
  {
   "cell_type": "markdown",
   "id": "9953d045-0cf8-45f5-b0e5-7121417eebb1",
   "metadata": {},
   "source": [
    "# filter"
   ]
  },
  {
   "cell_type": "code",
   "execution_count": 5,
   "id": "321f1969-d2b5-41a5-86fd-a58f70469416",
   "metadata": {},
   "outputs": [
    {
     "data": {
      "text/plain": [
       "[6, 7, 8]"
      ]
     },
     "execution_count": 5,
     "metadata": {},
     "output_type": "execute_result"
    }
   ],
   "source": [
    "# numbers greater than 5\n",
    "\n",
    "l = [1, 2, 3, 4, 5, 6, 7, 8]\n",
    "\n",
    "list(filter(lambda num: num > 5, l))"
   ]
  },
  {
   "cell_type": "code",
   "execution_count": 6,
   "id": "4937e395-6844-48f5-8b81-f552993385df",
   "metadata": {},
   "outputs": [
    {
     "data": {
      "text/plain": [
       "['apple']"
      ]
     },
     "execution_count": 6,
     "metadata": {},
     "output_type": "execute_result"
    }
   ],
   "source": [
    "# fetch fruits starting with 'a'\n",
    "\n",
    "fruits = ['apple', 'guava', 'cherry']\n",
    "\n",
    "list(filter(lambda fruit: fruit[0] == 'a', fruits))"
   ]
  },
  {
   "cell_type": "markdown",
   "id": "a35ee238-6105-4f77-a32d-83504418927c",
   "metadata": {},
   "source": [
    "# reduce"
   ]
  },
  {
   "cell_type": "code",
   "execution_count": 7,
   "id": "86beade5-8191-4ae6-ade6-2cb9143a6edf",
   "metadata": {},
   "outputs": [
    {
     "data": {
      "text/plain": [
       "15"
      ]
     },
     "execution_count": 7,
     "metadata": {},
     "output_type": "execute_result"
    }
   ],
   "source": [
    "# sum of all items\n",
    "\n",
    "from functools import reduce\n",
    "\n",
    "l = [1, 2, 3, 4, 5]\n",
    "reduce(lambda x, y: x + y, l)"
   ]
  },
  {
   "cell_type": "code",
   "execution_count": 8,
   "id": "56dfb824-4996-4548-913a-1c4d8e76cfaa",
   "metadata": {},
   "outputs": [
    {
     "data": {
      "text/plain": [
       "1"
      ]
     },
     "execution_count": 8,
     "metadata": {},
     "output_type": "execute_result"
    }
   ],
   "source": [
    "# find minimum value\n",
    "\n",
    "l = [5, 4, 3, 2, 1]\n",
    "reduce(lambda x, y: x if x < y else y, l)"
   ]
  },
  {
   "cell_type": "code",
   "execution_count": null,
   "id": "84049981-51a6-46df-bdf0-f936a4300004",
   "metadata": {},
   "outputs": [],
   "source": []
  }
 ],
 "metadata": {
  "kernelspec": {
   "display_name": "Python 3 (ipykernel)",
   "language": "python",
   "name": "python3"
  },
  "language_info": {
   "codemirror_mode": {
    "name": "ipython",
    "version": 3
   },
   "file_extension": ".py",
   "mimetype": "text/x-python",
   "name": "python",
   "nbconvert_exporter": "python",
   "pygments_lexer": "ipython3",
   "version": "3.11.7"
  }
 },
 "nbformat": 4,
 "nbformat_minor": 5
}
