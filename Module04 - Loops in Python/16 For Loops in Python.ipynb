{
 "cells": [
  {
   "cell_type": "markdown",
   "id": "416cc802-a3eb-49fd-83cb-c1798233c68c",
   "metadata": {},
   "source": [
    "# For loop\n",
    "\n",
    "## Syntax:\n",
    "```python\n",
    "for variable in sequence:\n",
    "    # code inside for loop\n",
    "    pass\n",
    "```"
   ]
  },
  {
   "cell_type": "code",
   "execution_count": 1,
   "id": "842fc6f4-ab1e-401a-9791-06faab4221d8",
   "metadata": {},
   "outputs": [
    {
     "name": "stdout",
     "output_type": "stream",
     "text": [
      "1\n",
      "2\n",
      "3\n",
      "4\n",
      "5\n",
      "6\n",
      "7\n",
      "8\n",
      "9\n",
      "10\n"
     ]
    }
   ],
   "source": [
    "for i in range(1, 11):\n",
    "    print(i)"
   ]
  },
  {
   "cell_type": "code",
   "execution_count": 5,
   "id": "82615f80-fedc-43db-8569-36509bc5361d",
   "metadata": {},
   "outputs": [
    {
     "name": "stdout",
     "output_type": "stream",
     "text": [
      "1\n",
      "3\n",
      "5\n",
      "7\n",
      "9\n"
     ]
    }
   ],
   "source": [
    "for i in range(1, 11, 2):\n",
    "    print(i)"
   ]
  },
  {
   "cell_type": "code",
   "execution_count": 6,
   "id": "bdd0e3a0-cfbc-49c0-86e3-8da1fe84cf6b",
   "metadata": {},
   "outputs": [
    {
     "name": "stdout",
     "output_type": "stream",
     "text": [
      "1\n",
      "4\n",
      "7\n",
      "10\n"
     ]
    }
   ],
   "source": [
    "for i in range(1, 11, 3):\n",
    "    print(i)"
   ]
  },
  {
   "cell_type": "code",
   "execution_count": 2,
   "id": "f6b94dfe-4367-496a-9ec8-90b59456c039",
   "metadata": {},
   "outputs": [
    {
     "name": "stdout",
     "output_type": "stream",
     "text": [
      "A\n",
      "n\n",
      "a\n",
      "n\n",
      "t\n",
      "h\n"
     ]
    }
   ],
   "source": [
    "for i in \"Ananth\":\n",
    "    print(i)"
   ]
  },
  {
   "cell_type": "code",
   "execution_count": 3,
   "id": "f4797ffd-9f86-4e9a-9619-da7bdf1f8037",
   "metadata": {},
   "outputs": [
    {
     "name": "stdout",
     "output_type": "stream",
     "text": [
      "1\n",
      "2\n",
      "3\n",
      "4\n"
     ]
    }
   ],
   "source": [
    "for i in [1, 2, 3, 4]:\n",
    "    print(i)"
   ]
  },
  {
   "cell_type": "code",
   "execution_count": 4,
   "id": "23c994fa-7fa3-448c-9db6-901ed13a5561",
   "metadata": {},
   "outputs": [
    {
     "name": "stdout",
     "output_type": "stream",
     "text": [
      "1\n",
      "2\n",
      "3\n",
      "4\n"
     ]
    }
   ],
   "source": [
    "for i in (1, 2, 3, 4):\n",
    "    print(i)"
   ]
  },
  {
   "cell_type": "code",
   "execution_count": 7,
   "id": "74f35ca0-1063-4ca2-9b14-0bdeb3c9bb08",
   "metadata": {},
   "outputs": [
    {
     "name": "stdout",
     "output_type": "stream",
     "text": [
      "Ananth 1\n",
      "Ananth 2\n",
      "Ananth 3\n",
      "Ananth 4\n",
      "Ananth 5\n",
      "Ananth 6\n",
      "Ananth 7\n",
      "Ananth 8\n",
      "Ananth 9\n",
      "Ananth 10\n"
     ]
    }
   ],
   "source": [
    "for i in range(10):\n",
    "    print(\"Ananth\", i+1)"
   ]
  },
  {
   "cell_type": "markdown",
   "id": "3d34f65c-45d7-4cc5-a9c1-083585529a4d",
   "metadata": {},
   "source": [
    "# Excercise\n",
    "```\n",
    "Program: \n",
    "\n",
    "The current population of a town is 10000. The population of the town is increasing at the rate of 10% per year.\n",
    "You have to write a program to find out the population at the end of the last 10 years\n",
    "```"
   ]
  },
  {
   "cell_type": "code",
   "execution_count": 8,
   "id": "8b8b3f80-f12a-42ab-bb99-28d68527b1f5",
   "metadata": {},
   "outputs": [
    {
     "name": "stdout",
     "output_type": "stream",
     "text": [
      "10 10000\n",
      "9 9090.90909090909\n",
      "8 8264.462809917353\n",
      "7 7513.148009015775\n",
      "6 6830.134553650703\n",
      "5 6209.213230591548\n",
      "4 5644.739300537771\n",
      "3 5131.5811823070635\n",
      "2 4665.07380209733\n",
      "1 4240.976183724845\n"
     ]
    }
   ],
   "source": [
    "current_population = 10000\n",
    "\n",
    "for i in range(10, 0, -1):\n",
    "    print(i, current_population)\n",
    "    current_population = current_population / 1.1"
   ]
  },
  {
   "cell_type": "code",
   "execution_count": null,
   "id": "dfc86c98-e06c-4cec-ad02-69d1c07021c3",
   "metadata": {},
   "outputs": [],
   "source": []
  }
 ],
 "metadata": {
  "kernelspec": {
   "display_name": "Python 3 (ipykernel)",
   "language": "python",
   "name": "python3"
  },
  "language_info": {
   "codemirror_mode": {
    "name": "ipython",
    "version": 3
   },
   "file_extension": ".py",
   "mimetype": "text/x-python",
   "name": "python",
   "nbconvert_exporter": "python",
   "pygments_lexer": "ipython3",
   "version": "3.11.7"
  }
 },
 "nbformat": 4,
 "nbformat_minor": 5
}
