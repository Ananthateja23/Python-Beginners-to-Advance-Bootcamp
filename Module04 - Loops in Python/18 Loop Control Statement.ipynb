{
 "cells": [
  {
   "cell_type": "markdown",
   "id": "37e8a377-5166-487a-b41d-3bfad8cf7e9e",
   "metadata": {},
   "source": [
    "# Loop Control Statements\n",
    "\n",
    "- Break\n",
    "- Continue\n",
    "- Pass"
   ]
  },
  {
   "cell_type": "code",
   "execution_count": 2,
   "id": "e1f93290-41f4-4373-bb12-a3a65cfd54ec",
   "metadata": {},
   "outputs": [
    {
     "name": "stdout",
     "output_type": "stream",
     "text": [
      "1\n",
      "2\n",
      "3\n",
      "4\n",
      "5\n",
      "6\n",
      "7\n",
      "8\n",
      "9\n",
      "10\n"
     ]
    }
   ],
   "source": [
    "# Using a for loop without a break statement\n",
    "\n",
    "for i in range(1, 11):\n",
    "    # if i == 5:\n",
    "    #     break\n",
    "    print(i)"
   ]
  },
  {
   "cell_type": "code",
   "execution_count": 1,
   "id": "eab75684-9b19-4065-896c-aba169bf7f9e",
   "metadata": {},
   "outputs": [
    {
     "name": "stdout",
     "output_type": "stream",
     "text": [
      "1\n",
      "2\n",
      "3\n",
      "4\n"
     ]
    }
   ],
   "source": [
    "# Using a for loop with a break statement\n",
    "\n",
    "for i in range(1, 11):\n",
    "    if i == 5:\n",
    "        break\n",
    "    print(i)"
   ]
  },
  {
   "cell_type": "code",
   "execution_count": 3,
   "id": "508a0202-ef10-4712-a5f8-1580c04d4e65",
   "metadata": {},
   "outputs": [
    {
     "name": "stdout",
     "output_type": "stream",
     "text": [
      "Alex\n",
      "John\n",
      "Ananth\n"
     ]
    }
   ],
   "source": [
    "names = [\"Alex\", \"John\", \"Ananth\", \"Mr.X\", \"Mr.Y\"]\n",
    "\n",
    "for i in names:\n",
    "    if i == \"Ananth\":\n",
    "        print(i)\n",
    "        break\n",
    "    print(i)"
   ]
  },
  {
   "cell_type": "code",
   "execution_count": 4,
   "id": "5c4d2c0c-b91b-45bf-9131-38fcf7ecc27a",
   "metadata": {},
   "outputs": [
    {
     "name": "stdout",
     "output_type": "stream",
     "text": [
      "Ananth\n"
     ]
    }
   ],
   "source": [
    "names = [\"Alex\", \"John\", \"Ananth\", \"Mr.X\", \"Mr.Y\"]\n",
    "\n",
    "for i in names:\n",
    "    if i == \"Ananth\":\n",
    "        print(i)\n",
    "        break\n",
    "    # print(i)"
   ]
  },
  {
   "cell_type": "code",
   "execution_count": 5,
   "id": "1e2ed9bf-9077-42a5-9223-6934c4a531fa",
   "metadata": {},
   "outputs": [
    {
     "name": "stdin",
     "output_type": "stream",
     "text": [
      "Enter the lower range :  10\n",
      "Enter the upper range :  100\n"
     ]
    },
    {
     "name": "stdout",
     "output_type": "stream",
     "text": [
      "11\n",
      "13\n",
      "17\n",
      "19\n",
      "23\n",
      "29\n",
      "31\n",
      "37\n",
      "41\n",
      "43\n",
      "47\n",
      "53\n",
      "59\n",
      "61\n",
      "67\n",
      "71\n",
      "73\n",
      "79\n",
      "83\n",
      "89\n",
      "97\n"
     ]
    }
   ],
   "source": [
    "# Create a program to print all prime numbers within a specified range\n",
    "\n",
    "lower = int(input(\"Enter the lower range : \"))\n",
    "upper = int(input(\"Enter the upper range : \"))\n",
    "\n",
    "for x in range(lower, upper+1):\n",
    "    for y in range(2, x):\n",
    "        if (x % y == 0):\n",
    "            break\n",
    "    else:\n",
    "        print(x)"
   ]
  },
  {
   "cell_type": "code",
   "execution_count": 6,
   "id": "bfa8753f-7ec1-42dc-b787-e010dd4035bc",
   "metadata": {},
   "outputs": [
    {
     "name": "stdout",
     "output_type": "stream",
     "text": [
      "1\n",
      "2\n",
      "3\n",
      "4\n",
      "5\n",
      "6\n",
      "7\n",
      "8\n",
      "9\n",
      "10\n"
     ]
    }
   ],
   "source": [
    "# Using a for loop without a continue statement\n",
    "\n",
    "for i in range(1, 11):\n",
    "    # if i == 5:\n",
    "    #     continue\n",
    "    print(i)"
   ]
  },
  {
   "cell_type": "code",
   "execution_count": 7,
   "id": "ffb61499-b608-4fa5-8d9d-07b29a0b971e",
   "metadata": {},
   "outputs": [
    {
     "name": "stdout",
     "output_type": "stream",
     "text": [
      "1\n",
      "2\n",
      "3\n",
      "4\n",
      "6\n",
      "7\n",
      "8\n",
      "9\n",
      "10\n"
     ]
    }
   ],
   "source": [
    "# Using a for loop with a continue statement\n",
    "\n",
    "for i in range(1, 11):\n",
    "    if i == 5:\n",
    "        continue\n",
    "    print(i)"
   ]
  },
  {
   "cell_type": "code",
   "execution_count": 8,
   "id": "1d1c7ba3-7baf-4752-afee-d889f1013bd5",
   "metadata": {},
   "outputs": [
    {
     "ename": "SyntaxError",
     "evalue": "incomplete input (2016050033.py, line 4)",
     "output_type": "error",
     "traceback": [
      "\u001b[1;36m  Cell \u001b[1;32mIn[8], line 4\u001b[1;36m\u001b[0m\n\u001b[1;33m    # pass\u001b[0m\n\u001b[1;37m          ^\u001b[0m\n\u001b[1;31mSyntaxError\u001b[0m\u001b[1;31m:\u001b[0m incomplete input\n"
     ]
    }
   ],
   "source": [
    "# Using a for loop without a pass statement\n",
    "\n",
    "for i in range(1, 11):\n",
    "    # pass"
   ]
  },
  {
   "cell_type": "code",
   "execution_count": 9,
   "id": "64c2c612-4250-4632-9e01-367cb5e86f75",
   "metadata": {},
   "outputs": [],
   "source": [
    "# Using a for loop with a pass statement\n",
    "\n",
    "for i in range(1, 11):\n",
    "    pass"
   ]
  },
  {
   "cell_type": "code",
   "execution_count": null,
   "id": "bea4ebc3-db35-4475-860b-814c21115110",
   "metadata": {},
   "outputs": [],
   "source": []
  }
 ],
 "metadata": {
  "kernelspec": {
   "display_name": "Python 3 (ipykernel)",
   "language": "python",
   "name": "python3"
  },
  "language_info": {
   "codemirror_mode": {
    "name": "ipython",
    "version": 3
   },
   "file_extension": ".py",
   "mimetype": "text/x-python",
   "name": "python",
   "nbconvert_exporter": "python",
   "pygments_lexer": "ipython3",
   "version": "3.11.7"
  }
 },
 "nbformat": 4,
 "nbformat_minor": 5
}
