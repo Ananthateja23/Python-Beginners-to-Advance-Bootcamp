{
 "cells": [
  {
   "cell_type": "markdown",
   "id": "30cd6e54-ef1e-4db9-a0a4-f3e815aa4bae",
   "metadata": {},
   "source": [
    "# Guessing Game Implementation\n",
    "\n",
    "- Generate a number between 1 and 100\n",
    "- Take input number from the user\n",
    "- Compare both of them\n",
    "- If match show results"
   ]
  },
  {
   "cell_type": "code",
   "execution_count": 1,
   "id": "5443cee6-ce01-4c36-a9ba-6201501c6f7c",
   "metadata": {},
   "outputs": [
    {
     "name": "stdin",
     "output_type": "stream",
     "text": [
      "Enter your guess number :  50\n"
     ]
    },
    {
     "name": "stdout",
     "output_type": "stream",
     "text": [
      "Wrong guess! Please guess lower\n"
     ]
    },
    {
     "name": "stdin",
     "output_type": "stream",
     "text": [
      "Enter your guess number :  40\n"
     ]
    },
    {
     "name": "stdout",
     "output_type": "stream",
     "text": [
      "Wrong guess! Please guess lower\n"
     ]
    },
    {
     "name": "stdin",
     "output_type": "stream",
     "text": [
      "Enter your guess number :  30\n"
     ]
    },
    {
     "name": "stdout",
     "output_type": "stream",
     "text": [
      "Wrong guess! Please guess lower\n"
     ]
    },
    {
     "name": "stdin",
     "output_type": "stream",
     "text": [
      "Enter your guess number :  20\n"
     ]
    },
    {
     "name": "stdout",
     "output_type": "stream",
     "text": [
      "Wrong guess! Please guess lower\n"
     ]
    },
    {
     "name": "stdin",
     "output_type": "stream",
     "text": [
      "Enter your guess number :  10\n"
     ]
    },
    {
     "name": "stdout",
     "output_type": "stream",
     "text": [
      "Congratulations! your guess is correct\n",
      "Total number of guesses 5\n"
     ]
    }
   ],
   "source": [
    "import random\n",
    "\n",
    "jackpot = random.randint(1, 100)\n",
    "\n",
    "guess_number = int(input(\"Enter your guess number : \"))\n",
    "counter = 1\n",
    "\n",
    "while guess_number != jackpot:\n",
    "    if guess_number < jackpot:\n",
    "        print(\"Wrong guess! Please guess higher\")\n",
    "    else:\n",
    "        print(\"Wrong guess! Please guess lower\")\n",
    "    guess_number = int(input(\"Enter your guess number : \"))\n",
    "    counter += 1\n",
    "else:\n",
    "    print(\"Congratulations! your guess is correct\")\n",
    "    print(\"Total number of guesses\", counter)"
   ]
  },
  {
   "cell_type": "code",
   "execution_count": null,
   "id": "6a6c19ee-ebce-48e5-be27-8d387e9bdd6d",
   "metadata": {},
   "outputs": [],
   "source": []
  }
 ],
 "metadata": {
  "kernelspec": {
   "display_name": "Python 3 (ipykernel)",
   "language": "python",
   "name": "python3"
  },
  "language_info": {
   "codemirror_mode": {
    "name": "ipython",
    "version": 3
   },
   "file_extension": ".py",
   "mimetype": "text/x-python",
   "name": "python",
   "nbconvert_exporter": "python",
   "pygments_lexer": "ipython3",
   "version": "3.11.7"
  }
 },
 "nbformat": 4,
 "nbformat_minor": 5
}
