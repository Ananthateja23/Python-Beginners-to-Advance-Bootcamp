{
 "cells": [
  {
   "cell_type": "markdown",
   "id": "f7547f5b-110c-4201-ad70-d3508ff5cc4f",
   "metadata": {},
   "source": [
    "# Usage of Nested Loops"
   ]
  },
  {
   "cell_type": "code",
   "execution_count": 1,
   "id": "062448a0-d252-474b-ac77-1477491a24d4",
   "metadata": {},
   "outputs": [
    {
     "name": "stdout",
     "output_type": "stream",
     "text": [
      "1 1\n",
      "1 2\n",
      "1 3\n",
      "1 4\n",
      "2 1\n",
      "2 2\n",
      "2 3\n",
      "2 4\n",
      "3 1\n",
      "3 2\n",
      "3 3\n",
      "3 4\n",
      "4 1\n",
      "4 2\n",
      "4 3\n",
      "4 4\n"
     ]
    }
   ],
   "source": [
    "# Program to print unique pairs\n",
    "\n",
    "for i in range(1, 5):\n",
    "    for j in range(1, 5):\n",
    "        print(i, j)"
   ]
  },
  {
   "cell_type": "markdown",
   "id": "4bd9ff94-7b72-41eb-b9d2-a3cf5462ef76",
   "metadata": {},
   "source": [
    "# Pattern programs"
   ]
  },
  {
   "cell_type": "code",
   "execution_count": 2,
   "id": "3f1501ba-2c99-4fd1-9d83-e8c31f68833c",
   "metadata": {},
   "outputs": [
    {
     "name": "stdin",
     "output_type": "stream",
     "text": [
      "Enter number of rows :  4\n"
     ]
    },
    {
     "name": "stdout",
     "output_type": "stream",
     "text": [
      "*\n",
      "**\n",
      "***\n",
      "****\n"
     ]
    }
   ],
   "source": [
    "row = int(input(\"Enter number of rows : \"))\n",
    "\n",
    "for i in range(1, row+1):\n",
    "    for j in range(1, i+1):\n",
    "        print(\"*\", end = \"\")\n",
    "    print()"
   ]
  },
  {
   "cell_type": "code",
   "execution_count": null,
   "id": "5d27e0d0-d9d6-4846-b6ee-917daf539dfc",
   "metadata": {},
   "outputs": [],
   "source": []
  }
 ],
 "metadata": {
  "kernelspec": {
   "display_name": "Python 3 (ipykernel)",
   "language": "python",
   "name": "python3"
  },
  "language_info": {
   "codemirror_mode": {
    "name": "ipython",
    "version": 3
   },
   "file_extension": ".py",
   "mimetype": "text/x-python",
   "name": "python",
   "nbconvert_exporter": "python",
   "pygments_lexer": "ipython3",
   "version": "3.11.7"
  }
 },
 "nbformat": 4,
 "nbformat_minor": 5
}
