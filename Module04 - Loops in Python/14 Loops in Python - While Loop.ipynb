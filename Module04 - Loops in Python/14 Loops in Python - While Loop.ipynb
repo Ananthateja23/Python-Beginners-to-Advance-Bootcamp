{
 "cells": [
  {
   "cell_type": "markdown",
   "id": "69348d2e-f0c3-410d-a6ae-9c9cee7e72f3",
   "metadata": {},
   "source": [
    "# While loop\n",
    "```python\n",
    "\n",
    "# syntax of while loop\n",
    "\n",
    "i = 0 #initialization\n",
    "\n",
    "while i < 5:\n",
    "    print(\"Inside while loop\") # code logic\n",
    "    i += 1 # increment\n",
    "```"
   ]
  },
  {
   "cell_type": "code",
   "execution_count": 1,
   "id": "b982a58f-964b-42e5-a5cc-2ce6cf2d9306",
   "metadata": {},
   "outputs": [
    {
     "name": "stdout",
     "output_type": "stream",
     "text": [
      "Ananth\n",
      "Ananth\n",
      "Ananth\n",
      "Ananth\n",
      "Ananth\n",
      "Ananth\n",
      "Ananth\n",
      "Ananth\n",
      "Ananth\n",
      "Ananth\n"
     ]
    }
   ],
   "source": [
    "# Let's print your name 10 times without using a loop\n",
    "\n",
    "print(\"Ananth\")\n",
    "print(\"Ananth\")\n",
    "print(\"Ananth\")\n",
    "print(\"Ananth\")\n",
    "print(\"Ananth\")\n",
    "print(\"Ananth\")\n",
    "print(\"Ananth\")\n",
    "print(\"Ananth\")\n",
    "print(\"Ananth\")\n",
    "print(\"Ananth\")"
   ]
  },
  {
   "cell_type": "code",
   "execution_count": 2,
   "id": "c1f7b385-4088-47ec-9d9e-aba616e9377f",
   "metadata": {},
   "outputs": [
    {
     "name": "stdout",
     "output_type": "stream",
     "text": [
      "Ananth 1\n",
      "Ananth 2\n",
      "Ananth 3\n",
      "Ananth 4\n",
      "Ananth 5\n",
      "Ananth 6\n",
      "Ananth 7\n",
      "Ananth 8\n",
      "Ananth 9\n",
      "Ananth 10\n"
     ]
    }
   ],
   "source": [
    "i = 0\n",
    "\n",
    "while i < 10:\n",
    "    print(\"Ananth\", i+1)\n",
    "    i += 1"
   ]
  },
  {
   "cell_type": "code",
   "execution_count": 3,
   "id": "361e0fd4-7786-4446-b29b-a7f27b4c2d05",
   "metadata": {},
   "outputs": [
    {
     "name": "stdin",
     "output_type": "stream",
     "text": [
      "Enter the number :  4\n"
     ]
    },
    {
     "name": "stdout",
     "output_type": "stream",
     "text": [
      "4 * 1 = 4\n",
      "4 * 2 = 8\n",
      "4 * 3 = 12\n",
      "4 * 4 = 16\n",
      "4 * 5 = 20\n",
      "4 * 6 = 24\n",
      "4 * 7 = 28\n",
      "4 * 8 = 32\n",
      "4 * 9 = 36\n",
      "4 * 10 = 40\n"
     ]
    }
   ],
   "source": [
    "# program to print multiplication table\n",
    "\n",
    "number = int(input(\"Enter the number : \"))\n",
    "\n",
    "i = 1\n",
    "\n",
    "while (i < 11):\n",
    "    print(number, \"*\", i, \"=\", number*i)\n",
    "    i += 1"
   ]
  },
  {
   "cell_type": "code",
   "execution_count": 4,
   "id": "5b5a8b34-d759-4ab3-b687-04d8ecb9f718",
   "metadata": {},
   "outputs": [
    {
     "name": "stdout",
     "output_type": "stream",
     "text": [
      "1\n",
      "2\n",
      "3\n",
      "Program Executed\n"
     ]
    }
   ],
   "source": [
    "# while loop with else\n",
    "\n",
    "x = 1\n",
    "\n",
    "while x < 4:\n",
    "    print(x)\n",
    "    x += 1\n",
    "\n",
    "else:\n",
    "    print(\"Program Executed\")"
   ]
  },
  {
   "cell_type": "code",
   "execution_count": null,
   "id": "75bfa8eb-87fe-43bf-9640-d7aee584e9b0",
   "metadata": {},
   "outputs": [],
   "source": []
  }
 ],
 "metadata": {
  "kernelspec": {
   "display_name": "Python 3 (ipykernel)",
   "language": "python",
   "name": "python3"
  },
  "language_info": {
   "codemirror_mode": {
    "name": "ipython",
    "version": 3
   },
   "file_extension": ".py",
   "mimetype": "text/x-python",
   "name": "python",
   "nbconvert_exporter": "python",
   "pygments_lexer": "ipython3",
   "version": "3.11.7"
  }
 },
 "nbformat": 4,
 "nbformat_minor": 5
}
