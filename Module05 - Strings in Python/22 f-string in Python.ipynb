{
 "cells": [
  {
   "cell_type": "markdown",
   "id": "038564a5-b619-478f-b1b0-221214f9745c",
   "metadata": {},
   "source": [
    "# f-string"
   ]
  },
  {
   "cell_type": "code",
   "execution_count": 1,
   "id": "261d8999-5671-47d5-a594-6b15d5fd5dad",
   "metadata": {},
   "outputs": [
    {
     "data": {
      "text/plain": [
       "'My name is Happy. I am a Male'"
      ]
     },
     "execution_count": 1,
     "metadata": {},
     "output_type": "execute_result"
    }
   ],
   "source": [
    "s = \"My name is {}. I am a {}\"\n",
    "\n",
    "name = \"Happy\"\n",
    "gender = \"Male\"\n",
    "\n",
    "s.format(name, gender)"
   ]
  },
  {
   "cell_type": "code",
   "execution_count": 2,
   "id": "2a3f5ea0-28bc-4f3e-afdc-30bda62c423d",
   "metadata": {},
   "outputs": [
    {
     "name": "stdout",
     "output_type": "stream",
     "text": [
      "My name is Happy. I am a Male\n"
     ]
    }
   ],
   "source": [
    "name = \"Happy\"\n",
    "gender = \"Male\"\n",
    "\n",
    "s = f\"My name is {name}. I am a {gender}\"\n",
    "print(s)"
   ]
  },
  {
   "cell_type": "code",
   "execution_count": null,
   "id": "37db00b0-976d-4011-adeb-971df2672100",
   "metadata": {},
   "outputs": [],
   "source": []
  }
 ],
 "metadata": {
  "kernelspec": {
   "display_name": "Python 3 (ipykernel)",
   "language": "python",
   "name": "python3"
  },
  "language_info": {
   "codemirror_mode": {
    "name": "ipython",
    "version": 3
   },
   "file_extension": ".py",
   "mimetype": "text/x-python",
   "name": "python",
   "nbconvert_exporter": "python",
   "pygments_lexer": "ipython3",
   "version": "3.11.7"
  }
 },
 "nbformat": 4,
 "nbformat_minor": 5
}
