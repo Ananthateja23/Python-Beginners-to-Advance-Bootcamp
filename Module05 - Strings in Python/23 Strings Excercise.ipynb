{
 "cells": [
  {
   "cell_type": "markdown",
   "id": "2523f789-2061-44ca-b8c8-81476afcf42e",
   "metadata": {},
   "source": [
    "```\n",
    "Excercise:\n",
    "-----------\n",
    "\n",
    "1. Find the length of a given string without using the len() function\n",
    "\n",
    "2. Extract username from a given email\n",
    "Ex: if the email is happy@gmail.com then the username should be happy\n",
    "\n",
    "3. Write a program that can check whether a given string is palindrome or not\n",
    "```"
   ]
  },
  {
   "cell_type": "markdown",
   "id": "036c22bb-b114-42d2-a366-c9b84a4de275",
   "metadata": {},
   "source": [
    "### Find the length of a given string without using the len() function"
   ]
  },
  {
   "cell_type": "code",
   "execution_count": 1,
   "id": "3cac7346-a8e2-439c-abb6-58ed547a917b",
   "metadata": {},
   "outputs": [
    {
     "name": "stdin",
     "output_type": "stream",
     "text": [
      "Enter the string :  Happy\n"
     ]
    },
    {
     "name": "stdout",
     "output_type": "stream",
     "text": [
      "Length of the string Happy is 5\n"
     ]
    }
   ],
   "source": [
    "s = input(\"Enter the string : \")\n",
    "\n",
    "counter = 0\n",
    "\n",
    "for i in s:\n",
    "    counter += 1\n",
    "\n",
    "print(f\"Length of the string {s} is {counter}\")"
   ]
  },
  {
   "cell_type": "markdown",
   "id": "6d375c94-c4e7-4fb3-a27a-788acd07dd2b",
   "metadata": {},
   "source": [
    "### Extract username from a given email"
   ]
  },
  {
   "cell_type": "code",
   "execution_count": 2,
   "id": "4311304c-7edc-4537-adc2-36abdbf9e963",
   "metadata": {},
   "outputs": [
    {
     "name": "stdin",
     "output_type": "stream",
     "text": [
      "Enter your email address :  happy@gmail.com\n"
     ]
    },
    {
     "data": {
      "text/plain": [
       "'happy'"
      ]
     },
     "execution_count": 2,
     "metadata": {},
     "output_type": "execute_result"
    }
   ],
   "source": [
    "email = input(\"Enter your email address : \")\n",
    "\n",
    "pos = email.index('@')\n",
    "\n",
    "email[:pos]"
   ]
  },
  {
   "cell_type": "markdown",
   "id": "fd72d9b4-b2a0-4e8c-9aa6-6d12313dc9f1",
   "metadata": {},
   "source": [
    "### Write a program that can check whether a given string is palindrome or not"
   ]
  },
  {
   "cell_type": "code",
   "execution_count": 3,
   "id": "9645a7c2-26a1-41d0-afdc-88c92f055656",
   "metadata": {},
   "outputs": [
    {
     "name": "stdin",
     "output_type": "stream",
     "text": [
      "Enter your word :  abba\n"
     ]
    },
    {
     "name": "stdout",
     "output_type": "stream",
     "text": [
      "Palindrome\n"
     ]
    }
   ],
   "source": [
    "word = input(\"Enter your word : \")\n",
    "\n",
    "flag = True\n",
    "\n",
    "for i in range(len(word)//2):\n",
    "    if word[i] != word[len(word)-i-1]:\n",
    "        flag = False\n",
    "        print(\"Not a Palindrome\")\n",
    "        break\n",
    "        \n",
    "if flag:\n",
    "    print(\"Palindrome\")"
   ]
  },
  {
   "cell_type": "code",
   "execution_count": 4,
   "id": "514b22e3-1f3c-4ccb-a2c1-942fc4c60175",
   "metadata": {},
   "outputs": [
    {
     "name": "stdin",
     "output_type": "stream",
     "text": [
      "Enter your word :  mam\n"
     ]
    },
    {
     "name": "stdout",
     "output_type": "stream",
     "text": [
      "Palindrome\n"
     ]
    }
   ],
   "source": [
    "word = input(\"Enter your word : \")\n",
    "\n",
    "flag = True\n",
    "\n",
    "for i in range(len(word)//2):\n",
    "    if word[i] != word[len(word)-i-1]:\n",
    "        flag = False\n",
    "        print(\"Not a Palindrome\")\n",
    "        break\n",
    "        \n",
    "if flag:f\n",
    "    print(\"Palindrome\")"
   ]
  },
  {
   "cell_type": "code",
   "execution_count": 5,
   "id": "7140304c-9fed-469b-96b4-fb4aa8298aec",
   "metadata": {},
   "outputs": [
    {
     "name": "stdin",
     "output_type": "stream",
     "text": [
      "Enter your word :  python\n"
     ]
    },
    {
     "name": "stdout",
     "output_type": "stream",
     "text": [
      "Not a Palindrome\n"
     ]
    }
   ],
   "source": [
    "word = input(\"Enter your word : \")\n",
    "\n",
    "flag = True\n",
    "\n",
    "for i in range(len(word)//2):\n",
    "    if word[i] != word[len(word)-i-1]:\n",
    "        flag = False\n",
    "        print(\"Not a Palindrome\")\n",
    "        break\n",
    "        \n",
    "if flag:\n",
    "    print(\"Palindrome\")"
   ]
  },
  {
   "cell_type": "code",
   "execution_count": null,
   "id": "f6d8dd6a-c069-4162-88ef-8bce907b56f3",
   "metadata": {},
   "outputs": [],
   "source": []
  }
 ],
 "metadata": {
  "kernelspec": {
   "display_name": "Python 3 (ipykernel)",
   "language": "python",
   "name": "python3"
  },
  "language_info": {
   "codemirror_mode": {
    "name": "ipython",
    "version": 3
   },
   "file_extension": ".py",
   "mimetype": "text/x-python",
   "name": "python",
   "nbconvert_exporter": "python",
   "pygments_lexer": "ipython3",
   "version": "3.11.7"
  }
 },
 "nbformat": 4,
 "nbformat_minor": 5
}
