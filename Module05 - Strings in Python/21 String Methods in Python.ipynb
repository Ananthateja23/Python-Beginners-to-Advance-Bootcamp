{
 "cells": [
  {
   "cell_type": "markdown",
   "id": "1a017be0-6392-4558-a8d0-d84a79d93aac",
   "metadata": {},
   "source": [
    "# Common Functions / Methods\n",
    "\n",
    "- len\n",
    "- max\n",
    "- min\n",
    "- sorted"
   ]
  },
  {
   "cell_type": "code",
   "execution_count": 1,
   "id": "13507ea5-350d-47f8-afd3-b35614432f0f",
   "metadata": {},
   "outputs": [
    {
     "name": "stdout",
     "output_type": "stream",
     "text": [
      "Welcome to Python\n"
     ]
    }
   ],
   "source": [
    "s = \"Welcome to Python\"\n",
    "print(s)"
   ]
  },
  {
   "cell_type": "code",
   "execution_count": 2,
   "id": "0b55aad7-bd77-4bd4-b1d0-43618c3b63a0",
   "metadata": {},
   "outputs": [
    {
     "data": {
      "text/plain": [
       "17"
      ]
     },
     "execution_count": 2,
     "metadata": {},
     "output_type": "execute_result"
    }
   ],
   "source": [
    "len(s)"
   ]
  },
  {
   "cell_type": "code",
   "execution_count": 3,
   "id": "09057c93-ea95-49f0-8baa-d4056f1bf780",
   "metadata": {},
   "outputs": [
    {
     "data": {
      "text/plain": [
       "'y'"
      ]
     },
     "execution_count": 3,
     "metadata": {},
     "output_type": "execute_result"
    }
   ],
   "source": [
    "max(s)"
   ]
  },
  {
   "cell_type": "code",
   "execution_count": 4,
   "id": "3f6a9e3a-1a92-4812-adbd-c7ddbc3cb36a",
   "metadata": {},
   "outputs": [
    {
     "data": {
      "text/plain": [
       "' '"
      ]
     },
     "execution_count": 4,
     "metadata": {},
     "output_type": "execute_result"
    }
   ],
   "source": [
    "min(s)"
   ]
  },
  {
   "cell_type": "code",
   "execution_count": 5,
   "id": "4652022e-e563-45bb-8395-74e209134b01",
   "metadata": {},
   "outputs": [
    {
     "data": {
      "text/plain": [
       "[' ',\n",
       " ' ',\n",
       " 'P',\n",
       " 'W',\n",
       " 'c',\n",
       " 'e',\n",
       " 'e',\n",
       " 'h',\n",
       " 'l',\n",
       " 'm',\n",
       " 'n',\n",
       " 'o',\n",
       " 'o',\n",
       " 'o',\n",
       " 't',\n",
       " 't',\n",
       " 'y']"
      ]
     },
     "execution_count": 5,
     "metadata": {},
     "output_type": "execute_result"
    }
   ],
   "source": [
    "sorted(s)"
   ]
  },
  {
   "cell_type": "code",
   "execution_count": 6,
   "id": "336d839b-7d26-4243-8ff8-9ef2f994934f",
   "metadata": {},
   "outputs": [
    {
     "name": "stdout",
     "output_type": "stream",
     "text": [
      "hello world\n"
     ]
    }
   ],
   "source": [
    "s = \"hello world\"\n",
    "print(s)"
   ]
  },
  {
   "cell_type": "code",
   "execution_count": 7,
   "id": "3bbd7f3a-bba0-4bd2-938b-63ee449b9710",
   "metadata": {},
   "outputs": [
    {
     "data": {
      "text/plain": [
       "[' ', 'd', 'e', 'h', 'l', 'l', 'l', 'o', 'o', 'r', 'w']"
      ]
     },
     "execution_count": 7,
     "metadata": {},
     "output_type": "execute_result"
    }
   ],
   "source": [
    "sorted(s)"
   ]
  },
  {
   "cell_type": "code",
   "execution_count": 8,
   "id": "288b64f1-e02d-4640-ba9d-143f70f8770d",
   "metadata": {},
   "outputs": [
    {
     "data": {
      "text/plain": [
       "['w', 'r', 'o', 'o', 'l', 'l', 'l', 'h', 'e', 'd', ' ']"
      ]
     },
     "execution_count": 8,
     "metadata": {},
     "output_type": "execute_result"
    }
   ],
   "source": [
    "sorted(s, reverse = True)"
   ]
  },
  {
   "cell_type": "markdown",
   "id": "38ffa136-0f4e-40f9-89fe-f81da4d2d100",
   "metadata": {},
   "source": [
    "# String Functions / Methods\n",
    "\n",
    "- Capitalize\n",
    "- Title\n",
    "- Upper\n",
    "- Lower\n",
    "- Swapcase\n",
    "- Count\n",
    "- Find\n",
    "- Index\n",
    "- endswith\n",
    "- startswith\n",
    "- isalnum\n",
    "- isalpha\n",
    "- isdigit\n",
    "- isidentifier\n",
    "- split\n",
    "- join\n",
    "- replace\n",
    "- strip"
   ]
  },
  {
   "cell_type": "code",
   "execution_count": 9,
   "id": "2f779033-5c42-4ef9-aa3b-83444461bffd",
   "metadata": {},
   "outputs": [
    {
     "name": "stdout",
     "output_type": "stream",
     "text": [
      "welcome to python\n"
     ]
    }
   ],
   "source": [
    "s = \"welcome to python\"\n",
    "print(s)"
   ]
  },
  {
   "cell_type": "code",
   "execution_count": 10,
   "id": "bc6915ef-5055-4190-a3da-b11229aa890b",
   "metadata": {},
   "outputs": [
    {
     "data": {
      "text/plain": [
       "'Welcome to python'"
      ]
     },
     "execution_count": 10,
     "metadata": {},
     "output_type": "execute_result"
    }
   ],
   "source": [
    "s.capitalize()"
   ]
  },
  {
   "cell_type": "code",
   "execution_count": 11,
   "id": "92bc82df-9ba9-4c18-8316-e4fb0585d736",
   "metadata": {},
   "outputs": [
    {
     "data": {
      "text/plain": [
       "'Welcome To Python'"
      ]
     },
     "execution_count": 11,
     "metadata": {},
     "output_type": "execute_result"
    }
   ],
   "source": [
    "s.title()"
   ]
  },
  {
   "cell_type": "code",
   "execution_count": 12,
   "id": "dd1e6d72-89cd-457d-b8de-90ce2586af87",
   "metadata": {},
   "outputs": [
    {
     "data": {
      "text/plain": [
       "'WELCOME TO PYTHON'"
      ]
     },
     "execution_count": 12,
     "metadata": {},
     "output_type": "execute_result"
    }
   ],
   "source": [
    "s.upper()"
   ]
  },
  {
   "cell_type": "code",
   "execution_count": 13,
   "id": "fc0aef43-2f49-47bc-b3db-b5215c790a9e",
   "metadata": {},
   "outputs": [
    {
     "name": "stdout",
     "output_type": "stream",
     "text": [
      "WELCOME TO PYTHON\n"
     ]
    }
   ],
   "source": [
    "s = 'WELCOME TO PYTHON'\n",
    "print(s)"
   ]
  },
  {
   "cell_type": "code",
   "execution_count": 14,
   "id": "8daf6956-d93e-4947-9914-3f0a4bf1d3c9",
   "metadata": {},
   "outputs": [
    {
     "data": {
      "text/plain": [
       "'welcome to python'"
      ]
     },
     "execution_count": 14,
     "metadata": {},
     "output_type": "execute_result"
    }
   ],
   "source": [
    "s.lower()"
   ]
  },
  {
   "cell_type": "code",
   "execution_count": 15,
   "id": "f78b8e1b-380e-46c4-8f2f-7285a9f992ba",
   "metadata": {},
   "outputs": [
    {
     "name": "stdout",
     "output_type": "stream",
     "text": [
      "wElCoMe\n"
     ]
    }
   ],
   "source": [
    "s = 'wElCoMe'\n",
    "print(s)"
   ]
  },
  {
   "cell_type": "code",
   "execution_count": 16,
   "id": "96dbe2bc-7c69-4f25-aa32-d45ef5ddbddd",
   "metadata": {},
   "outputs": [
    {
     "data": {
      "text/plain": [
       "'WeLcOmE'"
      ]
     },
     "execution_count": 16,
     "metadata": {},
     "output_type": "execute_result"
    }
   ],
   "source": [
    "s.swapcase()"
   ]
  },
  {
   "cell_type": "code",
   "execution_count": 17,
   "id": "ad8e95c4-1e7a-4c4f-bfd0-0ebda6bce6a9",
   "metadata": {},
   "outputs": [
    {
     "name": "stdout",
     "output_type": "stream",
     "text": [
      "My name is Ananth\n"
     ]
    }
   ],
   "source": [
    "s = \"My name is Ananth\"\n",
    "print(s)"
   ]
  },
  {
   "cell_type": "code",
   "execution_count": 18,
   "id": "76edbed0-744e-42ae-81fa-a4eb4c27534c",
   "metadata": {},
   "outputs": [
    {
     "data": {
      "text/plain": [
       "2"
      ]
     },
     "execution_count": 18,
     "metadata": {},
     "output_type": "execute_result"
    }
   ],
   "source": [
    "s.count(\"a\")"
   ]
  },
  {
   "cell_type": "code",
   "execution_count": 19,
   "id": "af2356e7-40cc-4b35-80cc-394b31a9a459",
   "metadata": {},
   "outputs": [
    {
     "data": {
      "text/plain": [
       "1"
      ]
     },
     "execution_count": 19,
     "metadata": {},
     "output_type": "execute_result"
    }
   ],
   "source": [
    "s.count(\"h\")"
   ]
  },
  {
   "cell_type": "code",
   "execution_count": 20,
   "id": "1cc9f289-8d1c-418e-895a-c1235f0fdf1a",
   "metadata": {},
   "outputs": [
    {
     "data": {
      "text/plain": [
       "4"
      ]
     },
     "execution_count": 20,
     "metadata": {},
     "output_type": "execute_result"
    }
   ],
   "source": [
    "s.find(\"a\")"
   ]
  },
  {
   "cell_type": "code",
   "execution_count": 21,
   "id": "c56ee4b9-b038-4db2-b78a-10c00d6ed69e",
   "metadata": {},
   "outputs": [
    {
     "data": {
      "text/plain": [
       "8"
      ]
     },
     "execution_count": 21,
     "metadata": {},
     "output_type": "execute_result"
    }
   ],
   "source": [
    "s.find(\"i\")"
   ]
  },
  {
   "cell_type": "code",
   "execution_count": 22,
   "id": "a8c3462c-46a3-40c0-b5f4-e557938eb966",
   "metadata": {},
   "outputs": [
    {
     "data": {
      "text/plain": [
       "8"
      ]
     },
     "execution_count": 22,
     "metadata": {},
     "output_type": "execute_result"
    }
   ],
   "source": [
    "s.index(\"i\")"
   ]
  },
  {
   "cell_type": "code",
   "execution_count": 23,
   "id": "0a0b590d-0bb4-4036-9377-5295961c1ae9",
   "metadata": {},
   "outputs": [
    {
     "ename": "ValueError",
     "evalue": "substring not found",
     "output_type": "error",
     "traceback": [
      "\u001b[1;31m---------------------------------------------------------------------------\u001b[0m",
      "\u001b[1;31mValueError\u001b[0m                                Traceback (most recent call last)",
      "Cell \u001b[1;32mIn[23], line 1\u001b[0m\n\u001b[1;32m----> 1\u001b[0m s\u001b[38;5;241m.\u001b[39mindex(\u001b[38;5;124m\"\u001b[39m\u001b[38;5;124mz\u001b[39m\u001b[38;5;124m\"\u001b[39m)\n",
      "\u001b[1;31mValueError\u001b[0m: substring not found"
     ]
    }
   ],
   "source": [
    "s.index(\"z\")"
   ]
  },
  {
   "cell_type": "code",
   "execution_count": 24,
   "id": "6025b32e-91a4-48f8-b89e-c8f0a3739d1c",
   "metadata": {},
   "outputs": [
    {
     "data": {
      "text/plain": [
       "-1"
      ]
     },
     "execution_count": 24,
     "metadata": {},
     "output_type": "execute_result"
    }
   ],
   "source": [
    "s.find(\"z\")"
   ]
  },
  {
   "cell_type": "code",
   "execution_count": 25,
   "id": "d01c72ac-7589-4fdb-a7eb-15586a0537a9",
   "metadata": {},
   "outputs": [
    {
     "name": "stdout",
     "output_type": "stream",
     "text": [
      "My name is Ananth\n"
     ]
    }
   ],
   "source": [
    "s = \"My name is Ananth\"\n",
    "print(s)"
   ]
  },
  {
   "cell_type": "code",
   "execution_count": 26,
   "id": "bda17a23-489c-4442-8187-d865b3ca5b8b",
   "metadata": {},
   "outputs": [
    {
     "data": {
      "text/plain": [
       "False"
      ]
     },
     "execution_count": 26,
     "metadata": {},
     "output_type": "execute_result"
    }
   ],
   "source": [
    "s.endswith(\"py\")"
   ]
  },
  {
   "cell_type": "code",
   "execution_count": 27,
   "id": "adc5085c-2319-41ba-974f-d62e27afa205",
   "metadata": {},
   "outputs": [
    {
     "data": {
      "text/plain": [
       "True"
      ]
     },
     "execution_count": 27,
     "metadata": {},
     "output_type": "execute_result"
    }
   ],
   "source": [
    "s.endswith(\"th\")"
   ]
  },
  {
   "cell_type": "code",
   "execution_count": 28,
   "id": "df08dc11-cf93-4e06-b8ff-aa16aafa4b63",
   "metadata": {},
   "outputs": [
    {
     "data": {
      "text/plain": [
       "True"
      ]
     },
     "execution_count": 28,
     "metadata": {},
     "output_type": "execute_result"
    }
   ],
   "source": [
    "s.startswith(\"My\")"
   ]
  },
  {
   "cell_type": "code",
   "execution_count": 29,
   "id": "3b66e2d3-8c0e-49c1-a350-745053b19ed2",
   "metadata": {},
   "outputs": [
    {
     "data": {
      "text/plain": [
       "False"
      ]
     },
     "execution_count": 29,
     "metadata": {},
     "output_type": "execute_result"
    }
   ],
   "source": [
    "s.startswith(\"my\")"
   ]
  },
  {
   "cell_type": "markdown",
   "id": "46dfc7ce-289b-43ec-b764-8d823a3a3142",
   "metadata": {},
   "source": [
    "# format"
   ]
  },
  {
   "cell_type": "code",
   "execution_count": 30,
   "id": "6bab3c31-21e4-4d17-bf89-c55274990a20",
   "metadata": {},
   "outputs": [],
   "source": [
    "name = \"Ananth\"\n",
    "gender = \"Male\"\n",
    "\n",
    "s = \"My name is {}, and I am a {}\""
   ]
  },
  {
   "cell_type": "code",
   "execution_count": 31,
   "id": "4f1adb09-3a40-4932-8682-99cc2772f568",
   "metadata": {},
   "outputs": [
    {
     "data": {
      "text/plain": [
       "'My name is Ananth, and I am a Male'"
      ]
     },
     "execution_count": 31,
     "metadata": {},
     "output_type": "execute_result"
    }
   ],
   "source": [
    "s.format(name, gender)"
   ]
  },
  {
   "cell_type": "code",
   "execution_count": 33,
   "id": "64750537-5cd8-4695-8e1e-3203bee03ff6",
   "metadata": {},
   "outputs": [
    {
     "data": {
      "text/plain": [
       "'Welcome Male to facebook'"
      ]
     },
     "execution_count": 33,
     "metadata": {},
     "output_type": "execute_result"
    }
   ],
   "source": [
    "s.format(gender, name)"
   ]
  },
  {
   "cell_type": "code",
   "execution_count": 34,
   "id": "89b51e85-907f-4e63-9d0c-475103c781f7",
   "metadata": {},
   "outputs": [],
   "source": [
    "name = \"Ananth\"\n",
    "gender = \"Male\"\n",
    "\n",
    "s = \"My name is {1}, and I am a {0}\""
   ]
  },
  {
   "cell_type": "code",
   "execution_count": 35,
   "id": "f4541da1-67c5-4b7b-969b-399792407bae",
   "metadata": {},
   "outputs": [
    {
     "data": {
      "text/plain": [
       "'My name is Ananth, and I am a Male'"
      ]
     },
     "execution_count": 35,
     "metadata": {},
     "output_type": "execute_result"
    }
   ],
   "source": [
    "s.format(gender, name)"
   ]
  },
  {
   "cell_type": "code",
   "execution_count": 32,
   "id": "fdc27363-2ce7-4ef0-89b6-15ea2654637e",
   "metadata": {},
   "outputs": [
    {
     "data": {
      "text/plain": [
       "'Welcome Alex to facebook'"
      ]
     },
     "execution_count": 32,
     "metadata": {},
     "output_type": "execute_result"
    }
   ],
   "source": [
    "s = \"Welcome {} to facebook\"\n",
    "\n",
    "name = \"Alex\"\n",
    "\n",
    "s.format(name)"
   ]
  },
  {
   "cell_type": "code",
   "execution_count": 36,
   "id": "c2c075e2-6d6e-4248-bffa-be1ef1c96729",
   "metadata": {},
   "outputs": [
    {
     "name": "stdout",
     "output_type": "stream",
     "text": [
      "happy123\n"
     ]
    }
   ],
   "source": [
    "s = \"happy123\"\n",
    "print(s)"
   ]
  },
  {
   "cell_type": "code",
   "execution_count": 37,
   "id": "06a5c70f-3782-41ad-b9e1-a99cdc22b7bd",
   "metadata": {},
   "outputs": [
    {
     "data": {
      "text/plain": [
       "True"
      ]
     },
     "execution_count": 37,
     "metadata": {},
     "output_type": "execute_result"
    }
   ],
   "source": [
    "s.isalnum()"
   ]
  },
  {
   "cell_type": "code",
   "execution_count": 38,
   "id": "830384fa-7565-4360-85d6-c10205c7969e",
   "metadata": {},
   "outputs": [
    {
     "name": "stdout",
     "output_type": "stream",
     "text": [
      "happy123@\n",
      "False\n"
     ]
    }
   ],
   "source": [
    "s = \"happy123@\"\n",
    "print(s)\n",
    "print(s.isalnum())"
   ]
  },
  {
   "cell_type": "code",
   "execution_count": 39,
   "id": "aaec280c-ccaf-4fb2-a1cd-634c2a8b58ad",
   "metadata": {},
   "outputs": [
    {
     "name": "stdout",
     "output_type": "stream",
     "text": [
      "happy\n",
      "True\n"
     ]
    }
   ],
   "source": [
    "s = \"happy\"\n",
    "print(s)\n",
    "print(s.isalpha())"
   ]
  },
  {
   "cell_type": "code",
   "execution_count": 40,
   "id": "68f938f9-28c5-4a65-ab82-bd4d7dff003a",
   "metadata": {},
   "outputs": [
    {
     "name": "stdout",
     "output_type": "stream",
     "text": [
      "happy12\n",
      "False\n"
     ]
    }
   ],
   "source": [
    "s = \"happy12\"\n",
    "print(s)\n",
    "print(s.isalpha())"
   ]
  },
  {
   "cell_type": "code",
   "execution_count": 41,
   "id": "6138d835-fcdf-44b8-8ee5-0e18347075e5",
   "metadata": {},
   "outputs": [
    {
     "name": "stdout",
     "output_type": "stream",
     "text": [
      "happy12\n",
      "False\n"
     ]
    }
   ],
   "source": [
    "s = \"happy12\"\n",
    "print(s)\n",
    "print(s.isdigit())"
   ]
  },
  {
   "cell_type": "code",
   "execution_count": 42,
   "id": "2fd2a68a-c6a8-4189-a561-d809eb4400f5",
   "metadata": {},
   "outputs": [
    {
     "name": "stdout",
     "output_type": "stream",
     "text": [
      "12\n",
      "True\n"
     ]
    }
   ],
   "source": [
    "s = \"12\"\n",
    "print(s)\n",
    "print(s.isdigit())"
   ]
  },
  {
   "cell_type": "code",
   "execution_count": 43,
   "id": "8e352358-8055-446b-922e-0feb4bd06962",
   "metadata": {},
   "outputs": [
    {
     "name": "stdout",
     "output_type": "stream",
     "text": [
      "1name\n",
      "False\n"
     ]
    }
   ],
   "source": [
    "s = \"1name\"\n",
    "print(s)\n",
    "print(s.isidentifier())"
   ]
  },
  {
   "cell_type": "code",
   "execution_count": 44,
   "id": "40a2710b-e1ad-46af-aa34-5768de6027e1",
   "metadata": {},
   "outputs": [
    {
     "name": "stdout",
     "output_type": "stream",
     "text": [
      "name1\n",
      "True\n"
     ]
    }
   ],
   "source": [
    "s = \"name1\"\n",
    "print(s)\n",
    "print(s.isidentifier())"
   ]
  },
  {
   "cell_type": "code",
   "execution_count": 45,
   "id": "3e1a5999-6445-4e2c-95a5-35d2b8b5db80",
   "metadata": {},
   "outputs": [
    {
     "name": "stdout",
     "output_type": "stream",
     "text": [
      "name1_age2\n",
      "True\n"
     ]
    }
   ],
   "source": [
    "s = \"name1_age2\"\n",
    "print(s)\n",
    "print(s.isidentifier())"
   ]
  },
  {
   "cell_type": "code",
   "execution_count": 46,
   "id": "6b8d6719-de09-4818-bd16-c194686e08be",
   "metadata": {},
   "outputs": [
    {
     "name": "stdout",
     "output_type": "stream",
     "text": [
      "My name is Ananth\n",
      "['My', 'name', 'is', 'Ananth']\n"
     ]
    }
   ],
   "source": [
    "s = \"My name is Ananth\"\n",
    "print(s)\n",
    "print(s.split())"
   ]
  },
  {
   "cell_type": "code",
   "execution_count": 47,
   "id": "2b80f265-65bb-4ea9-9997-764864f1d60d",
   "metadata": {},
   "outputs": [
    {
     "name": "stdout",
     "output_type": "stream",
     "text": [
      "My,name,is,Ananth\n",
      "['My', 'name', 'is', 'Ananth']\n"
     ]
    }
   ],
   "source": [
    "s = \"My,name,is,Ananth\"\n",
    "print(s)\n",
    "print(s.split(\",\"))"
   ]
  },
  {
   "cell_type": "code",
   "execution_count": 48,
   "id": "12357870-1b93-4191-8560-41a68de9c5dd",
   "metadata": {},
   "outputs": [
    {
     "name": "stdout",
     "output_type": "stream",
     "text": [
      "My@name@is@Ananth\n",
      "['My', 'name', 'is', 'Ananth']\n"
     ]
    }
   ],
   "source": [
    "s = \"My@name@is@Ananth\"\n",
    "print(s)\n",
    "print(s.split(\"@\"))"
   ]
  },
  {
   "cell_type": "code",
   "execution_count": 49,
   "id": "0dec1636-fd21-42d8-8df4-7335847200bc",
   "metadata": {},
   "outputs": [
    {
     "name": "stdout",
     "output_type": "stream",
     "text": [
      "MynameisAnanth\n",
      "My name is Ananth\n"
     ]
    }
   ],
   "source": [
    "words = ['My', 'name', 'is', 'Ananth']\n",
    "\n",
    "print(\"\".join(words))\n",
    "print(\" \".join(words))"
   ]
  },
  {
   "cell_type": "code",
   "execution_count": 50,
   "id": "93f9ef87-1556-4c8f-bd8d-627b2676e7d5",
   "metadata": {},
   "outputs": [
    {
     "name": "stdout",
     "output_type": "stream",
     "text": [
      "My-name-is-Ananth\n"
     ]
    }
   ],
   "source": [
    "print(\"-\".join(words))"
   ]
  },
  {
   "cell_type": "code",
   "execution_count": 51,
   "id": "3e1578df-9c7b-41b9-9f35-025c24c58a9b",
   "metadata": {},
   "outputs": [
    {
     "name": "stdout",
     "output_type": "stream",
     "text": [
      "My$name$is$Ananth\n"
     ]
    }
   ],
   "source": [
    "print(\"$\".join(words))"
   ]
  },
  {
   "cell_type": "code",
   "execution_count": 52,
   "id": "bb5a595e-5d7a-479d-80ca-66cf4e529c74",
   "metadata": {},
   "outputs": [],
   "source": [
    "s = \"my name is happy\""
   ]
  },
  {
   "cell_type": "code",
   "execution_count": 53,
   "id": "327b1754-0de6-4c85-8b92-b67a4682a27a",
   "metadata": {},
   "outputs": [
    {
     "data": {
      "text/plain": [
       "'my name is Alex'"
      ]
     },
     "execution_count": 53,
     "metadata": {},
     "output_type": "execute_result"
    }
   ],
   "source": [
    "s.replace(\"happy\", \"Alex\")"
   ]
  },
  {
   "cell_type": "code",
   "execution_count": 54,
   "id": "01c323a4-8df9-49cb-9fd1-3b4f21f2e6a6",
   "metadata": {},
   "outputs": [
    {
     "name": "stdout",
     "output_type": "stream",
     "text": [
      "  My name is happy            \n",
      "30\n"
     ]
    }
   ],
   "source": [
    "s = \"  My name is happy            \"\n",
    "print(s)\n",
    "print(len(s))"
   ]
  },
  {
   "cell_type": "code",
   "execution_count": 55,
   "id": "123e0693-d656-4ffb-ba69-855e0dcdaf25",
   "metadata": {},
   "outputs": [
    {
     "name": "stdout",
     "output_type": "stream",
     "text": [
      "My name is happy\n",
      "16\n"
     ]
    }
   ],
   "source": [
    "s = \"My name is happy\"\n",
    "print(s)\n",
    "print(len(s))"
   ]
  },
  {
   "cell_type": "code",
   "execution_count": 56,
   "id": "b5dee7c8-2e95-4631-8b0f-29d539018750",
   "metadata": {},
   "outputs": [
    {
     "name": "stdout",
     "output_type": "stream",
     "text": [
      "  My name is happy            \n",
      "30\n"
     ]
    }
   ],
   "source": [
    "s = \"  My name is happy            \"\n",
    "print(s)\n",
    "print(len(s))"
   ]
  },
  {
   "cell_type": "code",
   "execution_count": 59,
   "id": "d40a7831-e781-4f4f-b030-1680dfe9cc15",
   "metadata": {},
   "outputs": [
    {
     "name": "stdout",
     "output_type": "stream",
     "text": [
      "My name is happy\n",
      "16\n"
     ]
    }
   ],
   "source": [
    "new_str = s.strip()\n",
    "print(new_str)\n",
    "print(len(new_str))"
   ]
  },
  {
   "cell_type": "code",
   "execution_count": null,
   "id": "2e9e3e2e-95dc-4bef-a109-a505f9ae3057",
   "metadata": {},
   "outputs": [],
   "source": []
  }
 ],
 "metadata": {
  "kernelspec": {
   "display_name": "Python 3 (ipykernel)",
   "language": "python",
   "name": "python3"
  },
  "language_info": {
   "codemirror_mode": {
    "name": "ipython",
    "version": 3
   },
   "file_extension": ".py",
   "mimetype": "text/x-python",
   "name": "python",
   "nbconvert_exporter": "python",
   "pygments_lexer": "ipython3",
   "version": "3.11.7"
  }
 },
 "nbformat": 4,
 "nbformat_minor": 5
}
