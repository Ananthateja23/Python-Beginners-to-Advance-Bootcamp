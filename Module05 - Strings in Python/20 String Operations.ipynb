{
 "cells": [
  {
   "cell_type": "markdown",
   "id": "27ac3f3d-c0a9-49cc-a14c-49f12f3e6e9d",
   "metadata": {},
   "source": [
    "# String Operations\n",
    "\n",
    "- Arithmetic Operations\n",
    "- Relational Operations\n",
    "- Logical Operations\n",
    "- Loops on Strings\n",
    "- Membership Operations"
   ]
  },
  {
   "cell_type": "code",
   "execution_count": 1,
   "id": "2322e20e-2359-4896-81dc-66f5dfd2523c",
   "metadata": {},
   "outputs": [
    {
     "name": "stdout",
     "output_type": "stream",
     "text": [
      "Hi Eveyone\n"
     ]
    }
   ],
   "source": [
    "print(\"Hi \" + \"Eveyone\") # Concatenation"
   ]
  },
  {
   "cell_type": "code",
   "execution_count": 2,
   "id": "1b99cb7e-ad9c-48d0-858f-b3d111ba7fc6",
   "metadata": {},
   "outputs": [
    {
     "name": "stdout",
     "output_type": "stream",
     "text": [
      "Hi Eveyone\n"
     ]
    }
   ],
   "source": [
    "print(\"Hi\" + \" \" +\"Eveyone\") # Concatenation"
   ]
  },
  {
   "cell_type": "code",
   "execution_count": 3,
   "id": "aace6c6f-191e-44fe-acb6-7742dd36bb8d",
   "metadata": {},
   "outputs": [
    {
     "name": "stdout",
     "output_type": "stream",
     "text": [
      "HiHiHiHiHi\n"
     ]
    }
   ],
   "source": [
    "print(\"Hi\" * 5)"
   ]
  },
  {
   "cell_type": "code",
   "execution_count": 4,
   "id": "d3829f70-d37f-4130-9f4d-cfc883bb7a05",
   "metadata": {},
   "outputs": [
    {
     "name": "stdout",
     "output_type": "stream",
     "text": [
      "*****\n"
     ]
    }
   ],
   "source": [
    "print(\"*\" * 5)"
   ]
  },
  {
   "cell_type": "code",
   "execution_count": 5,
   "id": "0892e58a-7892-4025-ba96-bcd0d1089810",
   "metadata": {},
   "outputs": [
    {
     "name": "stdout",
     "output_type": "stream",
     "text": [
      "True\n",
      "True\n",
      "False\n",
      "True\n",
      "True\n"
     ]
    }
   ],
   "source": [
    "print(\"Hello\" == \"Hello\")\n",
    "print(\"Hello\" != \"World\")\n",
    "print(\"Hello\" > \"Hi\")\n",
    "print(\"Hello\" < \"World\")\n",
    "print(\"Hello\" >= \"Hello\")"
   ]
  },
  {
   "cell_type": "code",
   "execution_count": 6,
   "id": "d294d7b9-410a-41d1-acc5-b84cb61ce574",
   "metadata": {},
   "outputs": [
    {
     "data": {
      "text/plain": [
       "'world'"
      ]
     },
     "execution_count": 6,
     "metadata": {},
     "output_type": "execute_result"
    }
   ],
   "source": [
    "\"hello\" and \"world\""
   ]
  },
  {
   "cell_type": "code",
   "execution_count": 7,
   "id": "b7ab5f04-9d31-46b2-9300-e0f84820a72b",
   "metadata": {},
   "outputs": [
    {
     "data": {
      "text/plain": [
       "'hello'"
      ]
     },
     "execution_count": 7,
     "metadata": {},
     "output_type": "execute_result"
    }
   ],
   "source": [
    "\"hello\" or \"world\""
   ]
  },
  {
   "cell_type": "code",
   "execution_count": 8,
   "id": "2268b641-5bb6-4657-9923-52851c67f3d3",
   "metadata": {},
   "outputs": [
    {
     "data": {
      "text/plain": [
       "'world'"
      ]
     },
     "execution_count": 8,
     "metadata": {},
     "output_type": "execute_result"
    }
   ],
   "source": [
    "\"\" or \"world\""
   ]
  },
  {
   "cell_type": "code",
   "execution_count": 9,
   "id": "471d88d3-9d27-4da4-b83a-939fb1a495b9",
   "metadata": {},
   "outputs": [
    {
     "data": {
      "text/plain": [
       "False"
      ]
     },
     "execution_count": 9,
     "metadata": {},
     "output_type": "execute_result"
    }
   ],
   "source": [
    "not \"hello\""
   ]
  },
  {
   "cell_type": "code",
   "execution_count": 10,
   "id": "c3e2292d-508f-4815-a360-0d0fb4a8a1ec",
   "metadata": {},
   "outputs": [
    {
     "name": "stdout",
     "output_type": "stream",
     "text": [
      "A\n",
      "n\n",
      "a\n",
      "n\n",
      "t\n",
      "h\n"
     ]
    }
   ],
   "source": [
    "for char in \"Ananth\":\n",
    "    print(char)"
   ]
  },
  {
   "cell_type": "code",
   "execution_count": 11,
   "id": "15542432-717a-4a81-bad1-9a54a6660173",
   "metadata": {},
   "outputs": [
    {
     "name": "stdout",
     "output_type": "stream",
     "text": [
      "Ananth\n",
      "Ananth\n",
      "Ananth\n",
      "Ananth\n",
      "Ananth\n",
      "Ananth\n"
     ]
    }
   ],
   "source": [
    "for char in \"Ananth\":\n",
    "    print(\"Ananth\")"
   ]
  },
  {
   "cell_type": "code",
   "execution_count": 12,
   "id": "b1de3a31-a9cb-4060-b48d-1d38b007d6eb",
   "metadata": {},
   "outputs": [
    {
     "data": {
      "text/plain": [
       "True"
      ]
     },
     "execution_count": 12,
     "metadata": {},
     "output_type": "execute_result"
    }
   ],
   "source": [
    "\"A\" in \"Ananth\""
   ]
  },
  {
   "cell_type": "code",
   "execution_count": 13,
   "id": "5a1cad20-722a-43c5-b672-20bb23257308",
   "metadata": {},
   "outputs": [
    {
     "data": {
      "text/plain": [
       "False"
      ]
     },
     "execution_count": 13,
     "metadata": {},
     "output_type": "execute_result"
    }
   ],
   "source": [
    "\"A\" not in \"Ananth\""
   ]
  },
  {
   "cell_type": "code",
   "execution_count": 14,
   "id": "826addad-d4cf-486b-86e7-9815b6c74a71",
   "metadata": {},
   "outputs": [
    {
     "data": {
      "text/plain": [
       "False"
      ]
     },
     "execution_count": 14,
     "metadata": {},
     "output_type": "execute_result"
    }
   ],
   "source": [
    "\"D\" in \"Ananth\""
   ]
  },
  {
   "cell_type": "code",
   "execution_count": 15,
   "id": "68d4cfbd-021e-4beb-bcfd-7f814709e822",
   "metadata": {},
   "outputs": [
    {
     "data": {
      "text/plain": [
       "True"
      ]
     },
     "execution_count": 15,
     "metadata": {},
     "output_type": "execute_result"
    }
   ],
   "source": [
    "\"D\" not in \"Ananth\""
   ]
  },
  {
   "cell_type": "code",
   "execution_count": null,
   "id": "1102398c-df4c-4a8a-8b08-1acb345d21b2",
   "metadata": {},
   "outputs": [],
   "source": []
  }
 ],
 "metadata": {
  "kernelspec": {
   "display_name": "Python 3 (ipykernel)",
   "language": "python",
   "name": "python3"
  },
  "language_info": {
   "codemirror_mode": {
    "name": "ipython",
    "version": 3
   },
   "file_extension": ".py",
   "mimetype": "text/x-python",
   "name": "python",
   "nbconvert_exporter": "python",
   "pygments_lexer": "ipython3",
   "version": "3.11.7"
  }
 },
 "nbformat": 4,
 "nbformat_minor": 5
}
