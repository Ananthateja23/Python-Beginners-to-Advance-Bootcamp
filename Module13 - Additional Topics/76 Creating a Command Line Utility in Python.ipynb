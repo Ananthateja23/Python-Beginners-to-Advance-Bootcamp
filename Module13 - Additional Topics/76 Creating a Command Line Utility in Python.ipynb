{
 "cells": [
  {
   "cell_type": "markdown",
   "id": "2311b523-3428-444d-8fcc-920e9e9c2324",
   "metadata": {},
   "source": [
    "```\n",
    "Command line utilities:\n",
    "-----------------------\n",
    "\n",
    "- dir\n",
    "- cd folder\n",
    "- python\n",
    "- exit()\n",
    "- cls\n",
    "- python 77.cmd_line_utility.py --a 10 --b 23 --operation \"mul\"\n",
    "- python 77.cmd_line_utility.py\n",
    "- python 77.cmd_line_utility.py --a 10 --b 23 --operation \"add\"\n",
    "- python 77.cmd_line_utility.py --a 10 --b 23 --operation \"sub\"\n",
    "\n",
    "```"
   ]
  },
  {
   "cell_type": "code",
   "execution_count": 1,
   "id": "a0f06109-c9bc-47cb-b180-d4a404ad5296",
   "metadata": {},
   "outputs": [
    {
     "name": "stdout",
     "output_type": "stream",
     "text": [
      "6\n"
     ]
    }
   ],
   "source": [
    "def calculator(a, b, operation):\n",
    "    if operation == \"add\":\n",
    "        return a + b\n",
    "    elif operation == \"sub\":\n",
    "        return a - b\n",
    "    elif operation == \"mul\":\n",
    "        return a * b\n",
    "    elif operation == \"div\":\n",
    "        if b!=0:\n",
    "            return a / b\n",
    "        else:\n",
    "            return \"Error: Division by zero\"\n",
    "\n",
    "results = calculator(a = 2, b = 4, operation = \"add\")\n",
    "print(results)"
   ]
  },
  {
   "cell_type": "markdown",
   "id": "d8381025-7f7d-4049-8b9d-10ce825d1043",
   "metadata": {},
   "source": [
    "```python\n",
    "\n",
    "import argparse\n",
    "import sys\n",
    "\n",
    "def calculator(args):\n",
    "    if args.operation == \"add\":\n",
    "        return args.a + args.b\n",
    "    elif args.operation == \"sub\":\n",
    "        return args.a - args.b\n",
    "    elif args.operation == \"mul\":\n",
    "        return args.a * args.b\n",
    "    elif args.operation == \"div\":\n",
    "        if args.b!=0:\n",
    "            return args.a / args.b\n",
    "        else:\n",
    "            return \"Error: Division by zero\"\n",
    "\n",
    "parser = argparse.ArgumentParser()\n",
    "parser.add_argument(\"--a\", type = float, default = 1.0)\n",
    "parser.add_argument(\"--b\", type = float, default = 2.0)\n",
    "parser.add_argument(\"--operation\", type = str, default = \"add\")\n",
    "\n",
    "args = parser.parse_args()\n",
    "sys.stdout.write(str(calculator(args)))\n",
    "```"
   ]
  },
  {
   "cell_type": "code",
   "execution_count": null,
   "id": "f85945f2-1ab0-423f-afb0-0415b07ce78e",
   "metadata": {},
   "outputs": [],
   "source": []
  }
 ],
 "metadata": {
  "kernelspec": {
   "display_name": "Python 3 (ipykernel)",
   "language": "python",
   "name": "python3"
  },
  "language_info": {
   "codemirror_mode": {
    "name": "ipython",
    "version": 3
   },
   "file_extension": ".py",
   "mimetype": "text/x-python",
   "name": "python",
   "nbconvert_exporter": "python",
   "pygments_lexer": "ipython3",
   "version": "3.11.7"
  }
 },
 "nbformat": 4,
 "nbformat_minor": 5
}
