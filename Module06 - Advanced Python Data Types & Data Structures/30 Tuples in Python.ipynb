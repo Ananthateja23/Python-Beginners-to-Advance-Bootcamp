{
 "cells": [
  {
   "cell_type": "markdown",
   "id": "b07fc63d-e675-4232-b3a5-5e11d5d987c9",
   "metadata": {},
   "source": [
    "# Tuples\n",
    "\n",
    "- A tuple in Python is similar to a list. The difference between them is that we cannot change the elements of a tuple once it is assigned, whereas we can change the elements of a list\n",
    "\n",
    "- In short, a tuple is an immutable list. A tuple cannot be changed in any way once it is created\n",
    "\n",
    "## Characteristics\n",
    "\n",
    "- Ordered\n",
    "- Unchangeable\n",
    "- Allows duplicate\n",
    "\n",
    "\n",
    "## Topics to be covered\n",
    "\n",
    "- Creating a tuple\n",
    "- Accessing items\n",
    "- Editing items\n",
    "- Adding items\n",
    "- Deleting items\n",
    "- Operations on Tuples\n",
    "- Tuple Functions"
   ]
  },
  {
   "cell_type": "markdown",
   "id": "3f75ae95-b70e-4f93-84e7-345f7b9f93f8",
   "metadata": {},
   "source": [
    "# Creating Tuples"
   ]
  },
  {
   "cell_type": "code",
   "execution_count": 1,
   "id": "97d0b45e-3c2e-4333-ac5e-30132049eae5",
   "metadata": {},
   "outputs": [
    {
     "name": "stdout",
     "output_type": "stream",
     "text": [
      "()\n",
      "<class 'tuple'>\n"
     ]
    }
   ],
   "source": [
    "# empty tuple\n",
    "t1 = ()\n",
    "print(t1)\n",
    "print(type(t1))"
   ]
  },
  {
   "cell_type": "code",
   "execution_count": 2,
   "id": "edac60b2-5bb6-4661-b1e4-09ec0088793f",
   "metadata": {},
   "outputs": [
    {
     "name": "stdout",
     "output_type": "stream",
     "text": [
      "Happy\n",
      "<class 'str'>\n"
     ]
    }
   ],
   "source": [
    "# tuple with single item\n",
    "t2 = (\"Happy\")\n",
    "print(t2)\n",
    "print(type(t2))"
   ]
  },
  {
   "cell_type": "code",
   "execution_count": 3,
   "id": "00cc6a00-e03a-4ce1-9e17-87faad4d0a2b",
   "metadata": {},
   "outputs": [
    {
     "name": "stdout",
     "output_type": "stream",
     "text": [
      "('Happy',)\n",
      "<class 'tuple'>\n"
     ]
    }
   ],
   "source": [
    "# tuple with single item\n",
    "t2 = (\"Happy\", )\n",
    "print(t2)\n",
    "print(type(t2))"
   ]
  },
  {
   "cell_type": "code",
   "execution_count": 4,
   "id": "14eeed2e-615d-4225-9976-817a326063bb",
   "metadata": {},
   "outputs": [
    {
     "name": "stdout",
     "output_type": "stream",
     "text": [
      "(1, 2, 3, 4)\n",
      "(1, 2.5, True, [1, 2, 3])\n",
      "(1, 2, 3, (4, 5))\n",
      "('h', 'e', 'l', 'l', 'o')\n"
     ]
    }
   ],
   "source": [
    "# homogeneous tuple\n",
    "t3 = (1, 2, 3, 4)\n",
    "print(t3)\n",
    "\n",
    "# heterogeneous tuple\n",
    "t4 = (1, 2.5, True, [1,2,3])\n",
    "print(t4)\n",
    "\n",
    "# nested tuple\n",
    "t5 = (1, 2, 3, (4, 5))\n",
    "print(t5)\n",
    "\n",
    "# using type conversion\n",
    "t6 = tuple(\"hello\")\n",
    "print(t6)"
   ]
  },
  {
   "cell_type": "markdown",
   "id": "4b2897bc-03e6-44d0-8621-42189c0b06f0",
   "metadata": {},
   "source": [
    "# Accessing items in tuple\n",
    "\n",
    "- Indexing\n",
    "- Slicing"
   ]
  },
  {
   "cell_type": "code",
   "execution_count": 6,
   "id": "0b569487-2659-4ee0-a7ed-ef4396e5163f",
   "metadata": {},
   "outputs": [
    {
     "name": "stdout",
     "output_type": "stream",
     "text": [
      "(1, 2, 3, 4)\n"
     ]
    }
   ],
   "source": [
    "t3 = (1, 2, 3, 4)\n",
    "print(t3)"
   ]
  },
  {
   "cell_type": "code",
   "execution_count": 7,
   "id": "5595b462-865e-49ef-8185-9e3887944e13",
   "metadata": {},
   "outputs": [
    {
     "data": {
      "text/plain": [
       "1"
      ]
     },
     "execution_count": 7,
     "metadata": {},
     "output_type": "execute_result"
    }
   ],
   "source": [
    "t3[0]"
   ]
  },
  {
   "cell_type": "code",
   "execution_count": 8,
   "id": "596375f5-8023-4988-813f-2a7979f18168",
   "metadata": {},
   "outputs": [
    {
     "ename": "IndexError",
     "evalue": "tuple index out of range",
     "output_type": "error",
     "traceback": [
      "\u001b[1;31m---------------------------------------------------------------------------\u001b[0m",
      "\u001b[1;31mIndexError\u001b[0m                                Traceback (most recent call last)",
      "Cell \u001b[1;32mIn[8], line 1\u001b[0m\n\u001b[1;32m----> 1\u001b[0m t3[\u001b[38;5;241m23\u001b[39m]\n",
      "\u001b[1;31mIndexError\u001b[0m: tuple index out of range"
     ]
    }
   ],
   "source": [
    "t3[23]"
   ]
  },
  {
   "cell_type": "code",
   "execution_count": 9,
   "id": "01d9c6c0-8c64-4b71-be66-ba9bcbb350da",
   "metadata": {},
   "outputs": [
    {
     "data": {
      "text/plain": [
       "4"
      ]
     },
     "execution_count": 9,
     "metadata": {},
     "output_type": "execute_result"
    }
   ],
   "source": [
    "t3[-1]"
   ]
  },
  {
   "cell_type": "code",
   "execution_count": 10,
   "id": "689b7ca8-954e-4451-a999-ad3fb8c08b00",
   "metadata": {},
   "outputs": [
    {
     "data": {
      "text/plain": [
       "3"
      ]
     },
     "execution_count": 10,
     "metadata": {},
     "output_type": "execute_result"
    }
   ],
   "source": [
    "t3[-2]"
   ]
  },
  {
   "cell_type": "code",
   "execution_count": 11,
   "id": "bc689e3d-e9e9-4d19-89c2-64bea3b57e48",
   "metadata": {},
   "outputs": [
    {
     "data": {
      "text/plain": [
       "(1, 2, 3)"
      ]
     },
     "execution_count": 11,
     "metadata": {},
     "output_type": "execute_result"
    }
   ],
   "source": [
    "t3[0:3]"
   ]
  },
  {
   "cell_type": "code",
   "execution_count": 12,
   "id": "20582741-5408-4315-a0a3-66eee1f7807e",
   "metadata": {},
   "outputs": [
    {
     "data": {
      "text/plain": [
       "(1, 3)"
      ]
     },
     "execution_count": 12,
     "metadata": {},
     "output_type": "execute_result"
    }
   ],
   "source": [
    "t3[::2]"
   ]
  },
  {
   "cell_type": "markdown",
   "id": "8b559668-6113-4f48-bf31-85a36f906c45",
   "metadata": {},
   "source": [
    "# Editing / deleting items"
   ]
  },
  {
   "cell_type": "code",
   "execution_count": 13,
   "id": "d05ecac9-3e1f-4853-885b-47e330e19c63",
   "metadata": {},
   "outputs": [
    {
     "name": "stdout",
     "output_type": "stream",
     "text": [
      "(1, 2, 3, 4)\n"
     ]
    }
   ],
   "source": [
    "t3 = (1, 2, 3, 4)\n",
    "print(t3)"
   ]
  },
  {
   "cell_type": "code",
   "execution_count": 14,
   "id": "0cf5fc24-b07b-464c-870b-fcafcf9c2247",
   "metadata": {},
   "outputs": [
    {
     "ename": "TypeError",
     "evalue": "'tuple' object does not support item assignment",
     "output_type": "error",
     "traceback": [
      "\u001b[1;31m---------------------------------------------------------------------------\u001b[0m",
      "\u001b[1;31mTypeError\u001b[0m                                 Traceback (most recent call last)",
      "Cell \u001b[1;32mIn[14], line 1\u001b[0m\n\u001b[1;32m----> 1\u001b[0m t3[\u001b[38;5;241m0\u001b[39m] \u001b[38;5;241m=\u001b[39m \u001b[38;5;241m100\u001b[39m\n",
      "\u001b[1;31mTypeError\u001b[0m: 'tuple' object does not support item assignment"
     ]
    }
   ],
   "source": [
    "t3[0] = 100"
   ]
  },
  {
   "cell_type": "code",
   "execution_count": 15,
   "id": "22f60340-8fb2-4782-9f17-aebecc51fb57",
   "metadata": {},
   "outputs": [
    {
     "ename": "TypeError",
     "evalue": "'tuple' object doesn't support item deletion",
     "output_type": "error",
     "traceback": [
      "\u001b[1;31m---------------------------------------------------------------------------\u001b[0m",
      "\u001b[1;31mTypeError\u001b[0m                                 Traceback (most recent call last)",
      "Cell \u001b[1;32mIn[15], line 1\u001b[0m\n\u001b[1;32m----> 1\u001b[0m \u001b[38;5;28;01mdel\u001b[39;00m t3[\u001b[38;5;241m0\u001b[39m]\n",
      "\u001b[1;31mTypeError\u001b[0m: 'tuple' object doesn't support item deletion"
     ]
    }
   ],
   "source": [
    "del t3[0]"
   ]
  },
  {
   "cell_type": "code",
   "execution_count": 16,
   "id": "f8d23e18-a65c-4e96-be6c-47eca45eec80",
   "metadata": {},
   "outputs": [
    {
     "name": "stdout",
     "output_type": "stream",
     "text": [
      "[1, 2, 3, 4] <class 'list'>\n"
     ]
    }
   ],
   "source": [
    "# type casting to list and then list to tuple\n",
    "\n",
    "t3 = 1, 2, 3, 4\n",
    "\n",
    "temp = list(t3)\n",
    "\n",
    "print(temp, type(temp))"
   ]
  },
  {
   "cell_type": "code",
   "execution_count": 17,
   "id": "9403e5a3-8788-4fe7-bcd4-5a99353f9906",
   "metadata": {},
   "outputs": [
    {
     "data": {
      "text/plain": [
       "[1, 2, 3, 4, 200]"
      ]
     },
     "execution_count": 17,
     "metadata": {},
     "output_type": "execute_result"
    }
   ],
   "source": [
    "temp.append(200)\n",
    "temp"
   ]
  },
  {
   "cell_type": "code",
   "execution_count": 18,
   "id": "d153dbb0-d59d-4028-be3c-d3ea8852716d",
   "metadata": {},
   "outputs": [
    {
     "name": "stdout",
     "output_type": "stream",
     "text": [
      "(1, 2, 3, 4, 200)\n"
     ]
    }
   ],
   "source": [
    "t3 = tuple(temp)\n",
    "print(t3)"
   ]
  },
  {
   "cell_type": "code",
   "execution_count": null,
   "id": "26dd1768-d90f-4dc7-99b3-5e10d86c3ddd",
   "metadata": {},
   "outputs": [],
   "source": []
  }
 ],
 "metadata": {
  "kernelspec": {
   "display_name": "Python 3 (ipykernel)",
   "language": "python",
   "name": "python3"
  },
  "language_info": {
   "codemirror_mode": {
    "name": "ipython",
    "version": 3
   },
   "file_extension": ".py",
   "mimetype": "text/x-python",
   "name": "python",
   "nbconvert_exporter": "python",
   "pygments_lexer": "ipython3",
   "version": "3.11.7"
  }
 },
 "nbformat": 4,
 "nbformat_minor": 5
}
