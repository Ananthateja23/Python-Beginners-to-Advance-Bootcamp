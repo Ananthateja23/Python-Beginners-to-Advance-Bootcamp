{
 "cells": [
  {
   "cell_type": "markdown",
   "id": "158796c6-4347-419c-8a91-c3b5467923e2",
   "metadata": {},
   "source": [
    "# List Comprehension\n",
    "\n",
    "- It provides a concise way of creating lists\n",
    "\n",
    "## syntax\n",
    "\n",
    "new_list = [expression for item in iterable if condition]\n",
    "\n",
    "## Advantages\n",
    "\n",
    "- More time and space efficient than loops\n",
    "- Require fewer lines of code\n",
    "- Transform the iterative statement into a formula"
   ]
  },
  {
   "cell_type": "markdown",
   "id": "8dd5a630-98a0-4b8d-bf5c-2ef1b12e156a",
   "metadata": {},
   "source": [
    "## Excercise"
   ]
  },
  {
   "cell_type": "code",
   "execution_count": 1,
   "id": "2450f412-a923-43df-b2f0-9d5e1765f14f",
   "metadata": {},
   "outputs": [
    {
     "name": "stdout",
     "output_type": "stream",
     "text": [
      "[1, 2, 3, 4, 5, 6, 7, 8, 9, 10]\n"
     ]
    }
   ],
   "source": [
    "# Add 1 to 10 numbers to a list\n",
    "\n",
    "l = []\n",
    "\n",
    "for i in range(1, 11):\n",
    "    l.append(i)\n",
    "\n",
    "print(l)"
   ]
  },
  {
   "cell_type": "code",
   "execution_count": 2,
   "id": "35a2bc8c-70bc-4c83-9056-6c86020b83ff",
   "metadata": {},
   "outputs": [
    {
     "name": "stdout",
     "output_type": "stream",
     "text": [
      "[1, 2, 3, 4, 5, 6, 7, 8, 9, 10]\n"
     ]
    }
   ],
   "source": [
    "l = [i for i in range(1, 11)]\n",
    "print(l)"
   ]
  },
  {
   "cell_type": "code",
   "execution_count": 3,
   "id": "873b8ccb-994d-4366-af02-628979c9c26a",
   "metadata": {},
   "outputs": [
    {
     "name": "stdout",
     "output_type": "stream",
     "text": [
      "[-6, -9, -12]\n"
     ]
    }
   ],
   "source": [
    "# scalar multiplication of vector\n",
    "\n",
    "v = [2, 3, 4]\n",
    "s = -3\n",
    "\n",
    "l = []\n",
    "for i in v:\n",
    "    l.append(s * i)\n",
    "\n",
    "print(l)"
   ]
  },
  {
   "cell_type": "code",
   "execution_count": 4,
   "id": "4d188321-17bc-4257-9943-57aea29b4e32",
   "metadata": {},
   "outputs": [
    {
     "name": "stdout",
     "output_type": "stream",
     "text": [
      "[-6, -9, -12]\n"
     ]
    }
   ],
   "source": [
    "l = [i*s for i in v]\n",
    "print(l)"
   ]
  },
  {
   "cell_type": "code",
   "execution_count": 5,
   "id": "546aab22-0635-4dc2-bc3b-191c8b5eb7db",
   "metadata": {},
   "outputs": [
    {
     "data": {
      "text/plain": [
       "[1, 4, 9, 16]"
      ]
     },
     "execution_count": 5,
     "metadata": {},
     "output_type": "execute_result"
    }
   ],
   "source": [
    "# Add square to list\n",
    "\n",
    "l = [1, 2, 3, 4]\n",
    "\n",
    "lc = [i*i for i in l]\n",
    "lc"
   ]
  },
  {
   "cell_type": "code",
   "execution_count": 6,
   "id": "251307f9-f151-45b5-a01f-2f5d1bdc0b56",
   "metadata": {},
   "outputs": [
    {
     "data": {
      "text/plain": [
       "[5, 10, 15, 20, 25, 30, 35, 40, 45, 50]"
      ]
     },
     "execution_count": 6,
     "metadata": {},
     "output_type": "execute_result"
    }
   ],
   "source": [
    "# print all numbers divisible by 5 in the range of 1 to 50\n",
    "\n",
    "num_div_5 = [i for i in range(1, 51) if (i % 5 == 0)]\n",
    "num_div_5"
   ]
  },
  {
   "cell_type": "code",
   "execution_count": 7,
   "id": "4a94a969-31ba-493d-89d0-aff6f1405842",
   "metadata": {},
   "outputs": [
    {
     "name": "stdout",
     "output_type": "stream",
     "text": [
      "['python', 'php']\n"
     ]
    }
   ],
   "source": [
    "# find languages which start with the letter p\n",
    "\n",
    "languages = ['java', 'python', 'php', 'c', 'javascript']\n",
    "\n",
    "language_with_p = [language for language in languages if language[0] == 'p']\n",
    "print(language_with_p)"
   ]
  },
  {
   "cell_type": "code",
   "execution_count": null,
   "id": "e92c5471-b925-46d5-a771-7dcc8e845f28",
   "metadata": {},
   "outputs": [],
   "source": []
  }
 ],
 "metadata": {
  "kernelspec": {
   "display_name": "Python 3 (ipykernel)",
   "language": "python",
   "name": "python3"
  },
  "language_info": {
   "codemirror_mode": {
    "name": "ipython",
    "version": 3
   },
   "file_extension": ".py",
   "mimetype": "text/x-python",
   "name": "python",
   "nbconvert_exporter": "python",
   "pygments_lexer": "ipython3",
   "version": "3.11.7"
  }
 },
 "nbformat": 4,
 "nbformat_minor": 5
}
