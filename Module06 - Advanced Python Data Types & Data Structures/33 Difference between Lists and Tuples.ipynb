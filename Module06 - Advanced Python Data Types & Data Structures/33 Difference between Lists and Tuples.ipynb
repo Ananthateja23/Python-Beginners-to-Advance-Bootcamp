{
 "cells": [
  {
   "cell_type": "markdown",
   "id": "692cae48-517f-459b-bd13-2772c0a7e2fe",
   "metadata": {},
   "source": [
    "# Difference between lists and tuples\n",
    "\n",
    "- Syntax\n",
    "- Mutability\n",
    "- Speed (immutables are much faster than mutables)\n",
    "- Memory (tuple takes less memory)\n",
    "- Built-in functionality\n",
    "- Error-prone (always careful with operation on both of them)\n",
    "- Usability (depends on changeable or unchangeable)"
   ]
  },
  {
   "cell_type": "code",
   "execution_count": 1,
   "id": "8c28ecc7-0edb-4138-91ee-ba2ccd402795",
   "metadata": {},
   "outputs": [
    {
     "name": "stdout",
     "output_type": "stream",
     "text": [
      "list size 8056\n",
      "tuple size 8040\n"
     ]
    }
   ],
   "source": [
    "import sys\n",
    "\n",
    "l = list(range(1000))\n",
    "t = tuple(range(1000))\n",
    "\n",
    "print(\"list size\", sys.getsizeof(l))\n",
    "print(\"tuple size\", sys.getsizeof(t))"
   ]
  },
  {
   "cell_type": "code",
   "execution_count": 2,
   "id": "dd037785-bd11-4472-bd09-aed79101c9b9",
   "metadata": {},
   "outputs": [
    {
     "name": "stdout",
     "output_type": "stream",
     "text": [
      "[1, 2, 3, 4]\n",
      "[1, 2, 3, 4]\n"
     ]
    }
   ],
   "source": [
    "a = [1, 2, 3]\n",
    "b = a\n",
    "\n",
    "a.append(4)\n",
    "print(a)\n",
    "print(b)"
   ]
  },
  {
   "cell_type": "code",
   "execution_count": 3,
   "id": "0aab371f-09f2-42a2-8799-591e2494c315",
   "metadata": {},
   "outputs": [
    {
     "name": "stdout",
     "output_type": "stream",
     "text": [
      "(1, 2, 3, 4)\n",
      "(1, 2, 3)\n"
     ]
    }
   ],
   "source": [
    "a = (1, 2, 3)\n",
    "b = a\n",
    "\n",
    "a = a + (4, )\n",
    "print(a)\n",
    "print(b)"
   ]
  },
  {
   "cell_type": "code",
   "execution_count": null,
   "id": "f08636ee-0df1-4f4b-9a53-04e6c1df358e",
   "metadata": {},
   "outputs": [],
   "source": []
  }
 ],
 "metadata": {
  "kernelspec": {
   "display_name": "Python 3 (ipykernel)",
   "language": "python",
   "name": "python3"
  },
  "language_info": {
   "codemirror_mode": {
    "name": "ipython",
    "version": 3
   },
   "file_extension": ".py",
   "mimetype": "text/x-python",
   "name": "python",
   "nbconvert_exporter": "python",
   "pygments_lexer": "ipython3",
   "version": "3.11.7"
  }
 },
 "nbformat": 4,
 "nbformat_minor": 5
}
