{
 "cells": [
  {
   "cell_type": "markdown",
   "id": "52eb331c-4716-4a5e-9ef9-15d78179ec60",
   "metadata": {},
   "source": [
    "# Dictionary Methods\n",
    "\n",
    "- len\n",
    "- min\n",
    "- max\n",
    "- sorted\n",
    "- items\n",
    "- keys\n",
    "- values\n",
    "- update"
   ]
  },
  {
   "cell_type": "code",
   "execution_count": 1,
   "id": "8533f6b1-d853-4cf5-be81-4ac99339e001",
   "metadata": {},
   "outputs": [
    {
     "data": {
      "text/plain": [
       "{'name': 'Happy', 'age': 22, 'gender': 'male'}"
      ]
     },
     "execution_count": 1,
     "metadata": {},
     "output_type": "execute_result"
    }
   ],
   "source": [
    "d = {\"name\": \"Happy\", \"age\": 22, \"gender\": \"male\"}\n",
    "d"
   ]
  },
  {
   "cell_type": "code",
   "execution_count": 2,
   "id": "d78e48b1-05d0-41fe-873a-d6d60f2b6beb",
   "metadata": {},
   "outputs": [
    {
     "name": "stdout",
     "output_type": "stream",
     "text": [
      "3\n",
      "['name', 'gender', 'age']\n",
      "name\n",
      "age\n"
     ]
    }
   ],
   "source": [
    "# common functios\n",
    "\n",
    "print(len(d))\n",
    "print(sorted(d, reverse = True))\n",
    "print(max(d))\n",
    "print(min(d))"
   ]
  },
  {
   "cell_type": "markdown",
   "id": "73b5f92c-9398-4c49-b076-6466a44a2683",
   "metadata": {},
   "source": [
    "# items, keys, values"
   ]
  },
  {
   "cell_type": "code",
   "execution_count": 3,
   "id": "24750f3f-8004-43a1-bfb5-4e8885723a9e",
   "metadata": {},
   "outputs": [
    {
     "data": {
      "text/plain": [
       "{'name': 'Happy', 'age': 22, 'gender': 'male'}"
      ]
     },
     "execution_count": 3,
     "metadata": {},
     "output_type": "execute_result"
    }
   ],
   "source": [
    "d = {\"name\": \"Happy\", \"age\": 22, \"gender\": \"male\"}\n",
    "d"
   ]
  },
  {
   "cell_type": "code",
   "execution_count": 4,
   "id": "38e48f89-4af4-4195-92e0-b4dbc6146858",
   "metadata": {},
   "outputs": [
    {
     "data": {
      "text/plain": [
       "dict_items([('name', 'Happy'), ('age', 22), ('gender', 'male')])"
      ]
     },
     "execution_count": 4,
     "metadata": {},
     "output_type": "execute_result"
    }
   ],
   "source": [
    "d.items()"
   ]
  },
  {
   "cell_type": "code",
   "execution_count": 5,
   "id": "8c6c356e-28c5-40ff-9278-8ff6a175a272",
   "metadata": {},
   "outputs": [
    {
     "data": {
      "text/plain": [
       "dict_keys(['name', 'age', 'gender'])"
      ]
     },
     "execution_count": 5,
     "metadata": {},
     "output_type": "execute_result"
    }
   ],
   "source": [
    "d.keys()"
   ]
  },
  {
   "cell_type": "code",
   "execution_count": 6,
   "id": "d7c05d2a-12aa-40f5-ab49-3a9bf29300de",
   "metadata": {},
   "outputs": [
    {
     "data": {
      "text/plain": [
       "dict_values(['Happy', 22, 'male'])"
      ]
     },
     "execution_count": 6,
     "metadata": {},
     "output_type": "execute_result"
    }
   ],
   "source": [
    "d.values()"
   ]
  },
  {
   "cell_type": "markdown",
   "id": "4e93be17-1325-4dfb-bace-482f9ed4d3fa",
   "metadata": {},
   "source": [
    "# update"
   ]
  },
  {
   "cell_type": "code",
   "execution_count": 7,
   "id": "071e5d2a-a76a-4793-9de6-cb1cb0a79184",
   "metadata": {},
   "outputs": [
    {
     "name": "stdout",
     "output_type": "stream",
     "text": [
      "{1: 2, 3: 4, 4: 7, 6: 8}\n"
     ]
    }
   ],
   "source": [
    "d1 = {1: 2, 3: 4, 4: 5}\n",
    "d2 = {4: 7, 6: 8}\n",
    "\n",
    "d1.update(d2)\n",
    "print(d1)"
   ]
  },
  {
   "cell_type": "code",
   "execution_count": null,
   "id": "54af145e-06d1-4566-a1ca-7c74606726e7",
   "metadata": {},
   "outputs": [],
   "source": []
  }
 ],
 "metadata": {
  "kernelspec": {
   "display_name": "Python 3 (ipykernel)",
   "language": "python",
   "name": "python3"
  },
  "language_info": {
   "codemirror_mode": {
    "name": "ipython",
    "version": 3
   },
   "file_extension": ".py",
   "mimetype": "text/x-python",
   "name": "python",
   "nbconvert_exporter": "python",
   "pygments_lexer": "ipython3",
   "version": "3.11.7"
  }
 },
 "nbformat": 4,
 "nbformat_minor": 5
}
