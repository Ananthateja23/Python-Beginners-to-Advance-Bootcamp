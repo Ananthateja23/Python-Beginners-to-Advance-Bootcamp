{
 "cells": [
  {
   "cell_type": "markdown",
   "id": "fd9e89d0-011b-4ec7-b280-2538b788e1d7",
   "metadata": {},
   "source": [
    "# List Operations\n",
    "\n",
    "- Arithmetic\n",
    "- Membership\n",
    "- Loop"
   ]
  },
  {
   "cell_type": "code",
   "execution_count": 1,
   "id": "d2de5c82-4cbc-4db2-9e5f-8a6cf60974e5",
   "metadata": {},
   "outputs": [
    {
     "data": {
      "text/plain": [
       "[1, 2, 3, 4, 5, 6, 7, 8, 9, 10]"
      ]
     },
     "execution_count": 1,
     "metadata": {},
     "output_type": "execute_result"
    }
   ],
   "source": [
    "l1 = [1, 2, 3, 4, 5]\n",
    "l2 = [6, 7, 8, 9, 10]\n",
    "\n",
    "l1 + l2 # concatenation"
   ]
  },
  {
   "cell_type": "code",
   "execution_count": 2,
   "id": "2d11db8f-3262-4c86-8a05-9a6cab6fd2c9",
   "metadata": {},
   "outputs": [
    {
     "data": {
      "text/plain": [
       "[1, 2, 3, 4, 5, 1, 2, 3, 4, 5, 1, 2, 3, 4, 5]"
      ]
     },
     "execution_count": 2,
     "metadata": {},
     "output_type": "execute_result"
    }
   ],
   "source": [
    "l1 * 3"
   ]
  },
  {
   "cell_type": "code",
   "execution_count": 3,
   "id": "8dbd5852-1f6c-4c2b-9d78-6a643cdecb86",
   "metadata": {},
   "outputs": [
    {
     "data": {
      "text/plain": [
       "[1, 2, 3, 4, 5, 1, 2, 3, 4, 5, 1, 2, 3, 4, 5, 1, 2, 3, 4, 5]"
      ]
     },
     "execution_count": 3,
     "metadata": {},
     "output_type": "execute_result"
    }
   ],
   "source": [
    "l1 * 4"
   ]
  },
  {
   "cell_type": "code",
   "execution_count": 4,
   "id": "423f95d0-1c43-4b81-9ec3-0b50463d2670",
   "metadata": {},
   "outputs": [
    {
     "ename": "TypeError",
     "evalue": "can't multiply sequence by non-int of type 'list'",
     "output_type": "error",
     "traceback": [
      "\u001b[1;31m---------------------------------------------------------------------------\u001b[0m",
      "\u001b[1;31mTypeError\u001b[0m                                 Traceback (most recent call last)",
      "Cell \u001b[1;32mIn[4], line 1\u001b[0m\n\u001b[1;32m----> 1\u001b[0m l1 \u001b[38;5;241m*\u001b[39m l2\n",
      "\u001b[1;31mTypeError\u001b[0m: can't multiply sequence by non-int of type 'list'"
     ]
    }
   ],
   "source": [
    "l1 * l2"
   ]
  },
  {
   "cell_type": "code",
   "execution_count": 8,
   "id": "55f1f4af-6d01-494c-affe-7c93a01c90d1",
   "metadata": {},
   "outputs": [],
   "source": [
    "l1 = [1, 2, 3, 4, 5]\n",
    "l2 = [5, 6, [7, 8, 9], 10]"
   ]
  },
  {
   "cell_type": "code",
   "execution_count": 9,
   "id": "1c05c49d-45fa-484f-8e90-1ba71889366b",
   "metadata": {},
   "outputs": [
    {
     "name": "stdout",
     "output_type": "stream",
     "text": [
      "True\n"
     ]
    }
   ],
   "source": [
    "print(4 in l1)"
   ]
  },
  {
   "cell_type": "code",
   "execution_count": 10,
   "id": "483b1705-07bf-4da5-a6de-87fb3a8025d1",
   "metadata": {},
   "outputs": [
    {
     "name": "stdout",
     "output_type": "stream",
     "text": [
      "False\n"
     ]
    }
   ],
   "source": [
    "print(40 in l1)"
   ]
  },
  {
   "cell_type": "code",
   "execution_count": 11,
   "id": "d04134d1-0511-46e9-8083-ba8bd5fc83e2",
   "metadata": {},
   "outputs": [
    {
     "name": "stdout",
     "output_type": "stream",
     "text": [
      "False\n"
     ]
    }
   ],
   "source": [
    "print([7, 8, 9] not in l2)"
   ]
  },
  {
   "cell_type": "code",
   "execution_count": 12,
   "id": "d90986cb-a68e-4ddb-8f77-13640198684e",
   "metadata": {},
   "outputs": [
    {
     "name": "stdout",
     "output_type": "stream",
     "text": [
      "True\n"
     ]
    }
   ],
   "source": [
    "print([7, 8, 90] not in l2)"
   ]
  },
  {
   "cell_type": "code",
   "execution_count": 13,
   "id": "030dec67-8980-4c2a-8233-c389a4990450",
   "metadata": {},
   "outputs": [
    {
     "name": "stdout",
     "output_type": "stream",
     "text": [
      "1\n",
      "2\n",
      "3\n",
      "4\n",
      "5\n"
     ]
    }
   ],
   "source": [
    "l1 = [1, 2, 3, 4, 5]\n",
    "\n",
    "for i in l1:\n",
    "    print(i)"
   ]
  },
  {
   "cell_type": "code",
   "execution_count": null,
   "id": "44be26bb-4e23-4b54-8883-befa3a6517d7",
   "metadata": {},
   "outputs": [],
   "source": []
  }
 ],
 "metadata": {
  "kernelspec": {
   "display_name": "Python 3 (ipykernel)",
   "language": "python",
   "name": "python3"
  },
  "language_info": {
   "codemirror_mode": {
    "name": "ipython",
    "version": 3
   },
   "file_extension": ".py",
   "mimetype": "text/x-python",
   "name": "python",
   "nbconvert_exporter": "python",
   "pygments_lexer": "ipython3",
   "version": "3.11.7"
  }
 },
 "nbformat": 4,
 "nbformat_minor": 5
}
