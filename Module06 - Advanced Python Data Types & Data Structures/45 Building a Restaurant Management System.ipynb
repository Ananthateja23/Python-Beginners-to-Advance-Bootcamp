{
 "cells": [
  {
   "cell_type": "code",
   "execution_count": 1,
   "id": "ef5431b5-59a3-4553-89d8-f42ac9d07470",
   "metadata": {},
   "outputs": [
    {
     "name": "stdout",
     "output_type": "stream",
     "text": [
      "\n",
      "    Welcome to ABC Restaurant. Please Order Food!\n",
      "\n",
      "    Coffee : $2\n",
      "    Pasta  : $3\n",
      "    Pizza  : $5\n",
      "    Burger : $6\n",
      "    Chicken: $10\n",
      "    \n"
     ]
    },
    {
     "name": "stdin",
     "output_type": "stream",
     "text": [
      "Enter the name of the item you want to order :  Coffee\n"
     ]
    },
    {
     "name": "stdout",
     "output_type": "stream",
     "text": [
      "You ordered Coffee. Your total order is $2.\n"
     ]
    },
    {
     "name": "stdin",
     "output_type": "stream",
     "text": [
      "Do you want to add another item? (Yes/No):  No\n"
     ]
    },
    {
     "name": "stdout",
     "output_type": "stream",
     "text": [
      "Your Total amount is $2. Thank you!\n"
     ]
    }
   ],
   "source": [
    "menu = {\n",
    "    \"Coffee\": 2,\n",
    "    \"Pasta\": 3,\n",
    "    \"Pizza\": 5,\n",
    "    \"Burger\": 6,\n",
    "    \"Chicken\": 10\n",
    "}\n",
    "\n",
    "print(\n",
    "    \"\"\"\n",
    "    Welcome to ABC Restaurant. Please Order Food!\n",
    "\n",
    "    Coffee : $2\n",
    "    Pasta  : $3\n",
    "    Pizza  : $5\n",
    "    Burger : $6\n",
    "    Chicken: $10\n",
    "    \"\"\"\n",
    ")\n",
    "\n",
    "total_price = 0\n",
    "\n",
    "item1 = input(\"Enter the name of the item you want to order : \")\n",
    "\n",
    "if item1 in menu:\n",
    "    total_price += menu[item1]\n",
    "    print(f\"You ordered {item1}. Your total order is ${total_price}.\")\n",
    "else:\n",
    "    print(\"Invalid item. Please order something from the menu.\")\n",
    "\n",
    "another_order = input(\"Do you want to add another item? (Yes/No): \").lower()\n",
    "\n",
    "if another_order == 'yes':\n",
    "    item2 = input(\"Enter the name of the 2nd item you want to order : \")\n",
    "    if item2 in menu:\n",
    "        total_price += menu[item2]\n",
    "        print(f\"You ordered {item2}. Your total order is ${total_price}.\")\n",
    "    else:\n",
    "        print(\"Invalid item. Please order something from the menu.\")\n",
    "\n",
    "print(f\"Your Total amount is ${total_price}. Thank you!\")"
   ]
  },
  {
   "cell_type": "code",
   "execution_count": 2,
   "id": "0df00e4a-2153-4669-9ef9-e0073fcccae4",
   "metadata": {},
   "outputs": [
    {
     "name": "stdout",
     "output_type": "stream",
     "text": [
      "\n",
      "    Welcome to ABC Restaurant. Please Order Food!\n",
      "\n",
      "    Coffee : $2\n",
      "    Pasta  : $3\n",
      "    Pizza  : $5\n",
      "    Burger : $6\n",
      "    Chicken: $10\n",
      "    \n"
     ]
    },
    {
     "name": "stdin",
     "output_type": "stream",
     "text": [
      "Enter the name of the item you want to order :  Pasta\n"
     ]
    },
    {
     "name": "stdout",
     "output_type": "stream",
     "text": [
      "You ordered Pasta. Your total order is $3.\n"
     ]
    },
    {
     "name": "stdin",
     "output_type": "stream",
     "text": [
      "Do you want to add another item? (Yes/No):  Yes\n",
      "Enter the name of the 2nd item you want to order :  Chicken\n"
     ]
    },
    {
     "name": "stdout",
     "output_type": "stream",
     "text": [
      "You ordered Chicken. Your total order is $13.\n",
      "Your Total amount is $13. Thank you!\n"
     ]
    }
   ],
   "source": [
    "menu = {\n",
    "    \"Coffee\": 2,\n",
    "    \"Pasta\": 3,\n",
    "    \"Pizza\": 5,\n",
    "    \"Burger\": 6,\n",
    "    \"Chicken\": 10\n",
    "}\n",
    "\n",
    "print(\n",
    "    \"\"\"\n",
    "    Welcome to ABC Restaurant. Please Order Food!\n",
    "\n",
    "    Coffee : $2\n",
    "    Pasta  : $3\n",
    "    Pizza  : $5\n",
    "    Burger : $6\n",
    "    Chicken: $10\n",
    "    \"\"\"\n",
    ")\n",
    "\n",
    "total_price = 0\n",
    "\n",
    "item1 = input(\"Enter the name of the item you want to order : \")\n",
    "\n",
    "if item1 in menu:\n",
    "    total_price += menu[item1]\n",
    "    print(f\"You ordered {item1}. Your total order is ${total_price}.\")\n",
    "else:\n",
    "    print(\"Invalid item. Please order something from the menu.\")\n",
    "\n",
    "another_order = input(\"Do you want to add another item? (Yes/No): \").lower()\n",
    "\n",
    "if another_order == 'yes':\n",
    "    item2 = input(\"Enter the name of the 2nd item you want to order : \")\n",
    "    if item2 in menu:\n",
    "        total_price += menu[item2]\n",
    "        print(f\"You ordered {item2}. Your total order is ${total_price}.\")\n",
    "    else:\n",
    "        print(\"Invalid item. Please order something from the menu.\")\n",
    "\n",
    "print(f\"Your Total amount is ${total_price}. Thank you!\")"
   ]
  },
  {
   "cell_type": "code",
   "execution_count": null,
   "id": "2fe11ab8-e22e-47ae-94e4-9079b665d32b",
   "metadata": {},
   "outputs": [],
   "source": []
  }
 ],
 "metadata": {
  "kernelspec": {
   "display_name": "Python 3 (ipykernel)",
   "language": "python",
   "name": "python3"
  },
  "language_info": {
   "codemirror_mode": {
    "name": "ipython",
    "version": 3
   },
   "file_extension": ".py",
   "mimetype": "text/x-python",
   "name": "python",
   "nbconvert_exporter": "python",
   "pygments_lexer": "ipython3",
   "version": "3.11.7"
  }
 },
 "nbformat": 4,
 "nbformat_minor": 5
}
