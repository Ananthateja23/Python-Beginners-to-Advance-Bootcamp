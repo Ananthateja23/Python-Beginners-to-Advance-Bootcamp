{
 "cells": [
  {
   "cell_type": "markdown",
   "id": "64d638f3-fe80-4e87-9763-c2972b49422c",
   "metadata": {},
   "source": [
    "# Dictionary\n",
    "\n",
    "- A dictionary in Python is a collection of keys and values, used to store data values like a map, which, unlike other data types which hold any single value as an element.\n",
    "- In some languages, it is known as a map or assosiative arrays\n",
    "\n",
    "- dict = {\"name\": \"Happy\", \"age\": 22, \"gender\": \"male\"}\n",
    "\n",
    "\n",
    "## Characteristics\n",
    "\n",
    "- Mutable\n",
    "- Indexing has no meaning\n",
    "- keys can't be duplicated\n",
    "- keys can't be mutable items"
   ]
  },
  {
   "cell_type": "markdown",
   "id": "cb461e82-ffbe-4a85-918b-fc12f7f2d684",
   "metadata": {},
   "source": [
    "# Creating Dictionary"
   ]
  },
  {
   "cell_type": "code",
   "execution_count": 1,
   "id": "427b79eb-d548-4c9d-b1d1-a303b07ae6ec",
   "metadata": {},
   "outputs": [
    {
     "name": "stdout",
     "output_type": "stream",
     "text": [
      "{}\n",
      "<class 'dict'>\n"
     ]
    }
   ],
   "source": [
    "# empty dictionary\n",
    "\n",
    "d = {}\n",
    "print(d)\n",
    "print(type(d))"
   ]
  },
  {
   "cell_type": "code",
   "execution_count": 2,
   "id": "808dfda7-0127-4788-bd4e-da5b61aecba4",
   "metadata": {},
   "outputs": [
    {
     "name": "stdout",
     "output_type": "stream",
     "text": [
      "{'name': 'Happy', 'age': 22, 'gender': 'male'}\n"
     ]
    }
   ],
   "source": [
    "# 1D dictionary\n",
    "\n",
    "d1 = {\"name\": \"Happy\", \"age\": 22, \"gender\": \"male\"}\n",
    "print(d1)"
   ]
  },
  {
   "cell_type": "code",
   "execution_count": 3,
   "id": "8be148ad-b5a1-4c95-ac5f-699906c5a058",
   "metadata": {},
   "outputs": [
    {
     "name": "stdout",
     "output_type": "stream",
     "text": [
      "{(1, 2, 3): 33, 'name': 'Happy'}\n"
     ]
    }
   ],
   "source": [
    "# with mixed keys\n",
    "\n",
    "d2 = {(1, 2, 3): 33, \"name\": \"Happy\"}\n",
    "print(d2)"
   ]
  },
  {
   "cell_type": "code",
   "execution_count": 4,
   "id": "46c75c82-38d6-4bd6-8189-66d5b4d378ba",
   "metadata": {},
   "outputs": [
    {
     "name": "stdout",
     "output_type": "stream",
     "text": [
      "{'name': 'Happy', 'college_name': 'ABC', 'semester': 5, 'subjects': {'DSA': 80, 'Math': 50, 'English': 70}}\n"
     ]
    }
   ],
   "source": [
    "# 2D dictionary\n",
    "\n",
    "d3 = {\n",
    "    \"name\": \"Happy\",\n",
    "    \"college_name\": \"ABC\",\n",
    "    \"semester\": 5,\n",
    "    \"subjects\": {\n",
    "        \"DSA\": 80,\n",
    "        \"Math\": 50,\n",
    "        \"English\": 70\n",
    "    }\n",
    "}\n",
    "\n",
    "print(d3)"
   ]
  },
  {
   "cell_type": "code",
   "execution_count": 5,
   "id": "a7a98b93-f964-49f5-9678-ee24c56f16c5",
   "metadata": {},
   "outputs": [
    {
     "name": "stdout",
     "output_type": "stream",
     "text": [
      "{'name': 'Happy', 'age': 22}\n"
     ]
    }
   ],
   "source": [
    "# using sequence and dict function\n",
    "\n",
    "d4 = dict([(\"name\", \"Happy\"), (\"age\", 22)])\n",
    "print(d4)"
   ]
  },
  {
   "cell_type": "code",
   "execution_count": 6,
   "id": "3abaa00c-5c15-4ba2-942d-6e27653dcc9e",
   "metadata": {},
   "outputs": [
    {
     "name": "stdout",
     "output_type": "stream",
     "text": [
      "{'name': 'Alex', 'age': 22, 'gender': 'male'}\n"
     ]
    }
   ],
   "source": [
    "# ducplicate keys\n",
    "\n",
    "d5 = {\"name\": \"Happy\", \"age\": 22, \"gender\": \"male\", \"name\": \"Alex\"}\n",
    "print(d5)"
   ]
  },
  {
   "cell_type": "code",
   "execution_count": 7,
   "id": "98104aad-d592-4c06-ab35-2ad19edc70de",
   "metadata": {},
   "outputs": [
    {
     "ename": "TypeError",
     "evalue": "unhashable type: 'list'",
     "output_type": "error",
     "traceback": [
      "\u001b[1;31m---------------------------------------------------------------------------\u001b[0m",
      "\u001b[1;31mTypeError\u001b[0m                                 Traceback (most recent call last)",
      "Cell \u001b[1;32mIn[7], line 3\u001b[0m\n\u001b[0;32m      1\u001b[0m \u001b[38;5;66;03m# mutable items as keys\u001b[39;00m\n\u001b[1;32m----> 3\u001b[0m d6 \u001b[38;5;241m=\u001b[39m {(\u001b[38;5;241m1\u001b[39m, \u001b[38;5;241m2\u001b[39m, \u001b[38;5;241m3\u001b[39m): \u001b[38;5;241m33\u001b[39m, \u001b[38;5;124m\"\u001b[39m\u001b[38;5;124mname\u001b[39m\u001b[38;5;124m\"\u001b[39m: \u001b[38;5;124m\"\u001b[39m\u001b[38;5;124mHappy\u001b[39m\u001b[38;5;124m\"\u001b[39m, [\u001b[38;5;241m1\u001b[39m, \u001b[38;5;241m2\u001b[39m, \u001b[38;5;241m3\u001b[39m]: \u001b[38;5;241m33\u001b[39m}\n\u001b[0;32m      4\u001b[0m \u001b[38;5;28mprint\u001b[39m(d6)\n",
      "\u001b[1;31mTypeError\u001b[0m: unhashable type: 'list'"
     ]
    }
   ],
   "source": [
    "# mutable items as keys\n",
    "\n",
    "d6 = {(1, 2, 3): 33, \"name\": \"Happy\", [1, 2, 3]: 33}\n",
    "print(d6)"
   ]
  },
  {
   "cell_type": "markdown",
   "id": "9ae5c9ab-e439-4e92-99d3-28588b6a7ec4",
   "metadata": {},
   "source": [
    "# Accessing items of dictionary"
   ]
  },
  {
   "cell_type": "code",
   "execution_count": 8,
   "id": "7fb0b391-c956-4f0e-be4d-44ce07f1fcbf",
   "metadata": {},
   "outputs": [
    {
     "name": "stdout",
     "output_type": "stream",
     "text": [
      "{'name': 'Happy', 'age': 22, 'gender': 'male'}\n"
     ]
    }
   ],
   "source": [
    "d1 = {\"name\": \"Happy\", \"age\": 22, \"gender\": \"male\"}\n",
    "print(d1)"
   ]
  },
  {
   "cell_type": "code",
   "execution_count": 9,
   "id": "58ad0cfa-f6a9-406c-a5e7-42d97ef9aea9",
   "metadata": {},
   "outputs": [
    {
     "ename": "KeyError",
     "evalue": "0",
     "output_type": "error",
     "traceback": [
      "\u001b[1;31m---------------------------------------------------------------------------\u001b[0m",
      "\u001b[1;31mKeyError\u001b[0m                                  Traceback (most recent call last)",
      "Cell \u001b[1;32mIn[9], line 1\u001b[0m\n\u001b[1;32m----> 1\u001b[0m d1[\u001b[38;5;241m0\u001b[39m]\n",
      "\u001b[1;31mKeyError\u001b[0m: 0"
     ]
    }
   ],
   "source": [
    "d1[0]"
   ]
  },
  {
   "cell_type": "code",
   "execution_count": 10,
   "id": "3ec2f1fd-b93d-492c-89e3-93f860b04683",
   "metadata": {},
   "outputs": [
    {
     "data": {
      "text/plain": [
       "'Happy'"
      ]
     },
     "execution_count": 10,
     "metadata": {},
     "output_type": "execute_result"
    }
   ],
   "source": [
    "d1[\"name\"]"
   ]
  },
  {
   "cell_type": "code",
   "execution_count": 11,
   "id": "ca49507f-0208-4b22-9dd2-4114d3110a46",
   "metadata": {},
   "outputs": [
    {
     "data": {
      "text/plain": [
       "22"
      ]
     },
     "execution_count": 11,
     "metadata": {},
     "output_type": "execute_result"
    }
   ],
   "source": [
    "d1[\"age\"]"
   ]
  },
  {
   "cell_type": "code",
   "execution_count": 12,
   "id": "73420247-c93e-48a1-ac7f-1b4462e20e76",
   "metadata": {},
   "outputs": [
    {
     "data": {
      "text/plain": [
       "'male'"
      ]
     },
     "execution_count": 12,
     "metadata": {},
     "output_type": "execute_result"
    }
   ],
   "source": [
    "d1[\"gender\"]"
   ]
  },
  {
   "cell_type": "code",
   "execution_count": 13,
   "id": "4d65f592-8dc0-4a5e-8ec6-f6b949bd4450",
   "metadata": {},
   "outputs": [
    {
     "name": "stdout",
     "output_type": "stream",
     "text": [
      "{'name': 'Happy', 'college_name': 'ABC', 'semester': 5, 'subjects': {'DSA': 80, 'Math': 50, 'English': 70}}\n"
     ]
    }
   ],
   "source": [
    "d3 = {\n",
    "    \"name\": \"Happy\",\n",
    "    \"college_name\": \"ABC\",\n",
    "    \"semester\": 5,\n",
    "    \"subjects\": {\n",
    "        \"DSA\": 80,\n",
    "        \"Math\": 50,\n",
    "        \"English\": 70\n",
    "    }\n",
    "}\n",
    "\n",
    "print(d3)"
   ]
  },
  {
   "cell_type": "code",
   "execution_count": 14,
   "id": "30acff40-a9ad-451f-b067-e885144a988d",
   "metadata": {},
   "outputs": [
    {
     "data": {
      "text/plain": [
       "'ABC'"
      ]
     },
     "execution_count": 14,
     "metadata": {},
     "output_type": "execute_result"
    }
   ],
   "source": [
    "d3[\"college_name\"]"
   ]
  },
  {
   "cell_type": "code",
   "execution_count": 15,
   "id": "04a4740a-0020-475f-a426-0a0f3b88eb2c",
   "metadata": {},
   "outputs": [
    {
     "data": {
      "text/plain": [
       "80"
      ]
     },
     "execution_count": 15,
     "metadata": {},
     "output_type": "execute_result"
    }
   ],
   "source": [
    "d3[\"subjects\"][\"DSA\"]"
   ]
  },
  {
   "cell_type": "code",
   "execution_count": 16,
   "id": "0ed5a259-3e3d-4efd-ae7c-0d891d6f3cd7",
   "metadata": {},
   "outputs": [
    {
     "data": {
      "text/plain": [
       "70"
      ]
     },
     "execution_count": 16,
     "metadata": {},
     "output_type": "execute_result"
    }
   ],
   "source": [
    "d3[\"subjects\"][\"English\"]"
   ]
  },
  {
   "cell_type": "markdown",
   "id": "7bc71619-09c5-4193-9986-4c427731c1e5",
   "metadata": {},
   "source": [
    "# Adding key, value pair"
   ]
  },
  {
   "cell_type": "code",
   "execution_count": 17,
   "id": "6a801e12-ce6f-4602-8c2d-acb00e418ae5",
   "metadata": {},
   "outputs": [
    {
     "name": "stdout",
     "output_type": "stream",
     "text": [
      "{'name': 'Happy', 'age': 22, 'gender': 'male'}\n"
     ]
    }
   ],
   "source": [
    "d1 = {\"name\": \"Happy\", \"age\": 22, \"gender\": \"male\"}\n",
    "print(d1)"
   ]
  },
  {
   "cell_type": "code",
   "execution_count": 18,
   "id": "2c2fb866-dc50-4b81-bf51-21fec211d02a",
   "metadata": {},
   "outputs": [
    {
     "name": "stdout",
     "output_type": "stream",
     "text": [
      "{'name': 'Happy', 'age': 22, 'gender': 'male', 'weight': 70}\n"
     ]
    }
   ],
   "source": [
    "d1[\"weight\"] = 70\n",
    "print(d1)"
   ]
  },
  {
   "cell_type": "code",
   "execution_count": 19,
   "id": "904f6511-7ead-4b44-86f3-e5f0c88d3182",
   "metadata": {},
   "outputs": [
    {
     "name": "stdout",
     "output_type": "stream",
     "text": [
      "{'name': 'Happy', 'college_name': 'ABC', 'semester': 5, 'subjects': {'DSA': 80, 'Math': 50, 'English': 70}}\n"
     ]
    }
   ],
   "source": [
    "d3 = {\n",
    "    \"name\": \"Happy\",\n",
    "    \"college_name\": \"ABC\",\n",
    "    \"semester\": 5,\n",
    "    \"subjects\": {\n",
    "        \"DSA\": 80,\n",
    "        \"Math\": 50,\n",
    "        \"English\": 70\n",
    "    }\n",
    "}\n",
    "\n",
    "print(d3)"
   ]
  },
  {
   "cell_type": "code",
   "execution_count": 20,
   "id": "d063e641-8c33-473f-a4cf-028522cdc202",
   "metadata": {},
   "outputs": [],
   "source": [
    "d3[\"subjects\"][\"Python\"] = 80"
   ]
  },
  {
   "cell_type": "code",
   "execution_count": 21,
   "id": "6885a935-5a03-45e3-8777-96cbe1a446d2",
   "metadata": {},
   "outputs": [
    {
     "name": "stdout",
     "output_type": "stream",
     "text": [
      "{'name': 'Happy', 'college_name': 'ABC', 'semester': 5, 'subjects': {'DSA': 80, 'Math': 50, 'English': 70, 'Python': 80}}\n"
     ]
    }
   ],
   "source": [
    "print(d3)"
   ]
  },
  {
   "cell_type": "markdown",
   "id": "62c53bf0-76aa-4340-8881-974cb7442133",
   "metadata": {},
   "source": [
    "# Editing key, value pair"
   ]
  },
  {
   "cell_type": "code",
   "execution_count": 22,
   "id": "98d59798-ce94-4cfe-b819-5b2cfde4cd29",
   "metadata": {},
   "outputs": [
    {
     "name": "stdout",
     "output_type": "stream",
     "text": [
      "{'name': 'Happy', 'age': 22, 'gender': 'male'}\n"
     ]
    }
   ],
   "source": [
    "d1 = {\"name\": \"Happy\", \"age\": 22, \"gender\": \"male\"}\n",
    "print(d1)"
   ]
  },
  {
   "cell_type": "code",
   "execution_count": 23,
   "id": "af0de9ae-4cc0-49a1-a5ed-59920f08976d",
   "metadata": {},
   "outputs": [
    {
     "name": "stdout",
     "output_type": "stream",
     "text": [
      "{'name': 'Alex', 'age': 22, 'gender': 'male'}\n"
     ]
    }
   ],
   "source": [
    "d1[\"name\"] = \"Alex\"\n",
    "print(d1)"
   ]
  },
  {
   "cell_type": "markdown",
   "id": "bdf1a3f9-1716-4829-839e-cfabd140b0bf",
   "metadata": {},
   "source": [
    "# Remove key, value pair"
   ]
  },
  {
   "cell_type": "code",
   "execution_count": 24,
   "id": "030c7c3f-721c-46ce-8271-7f180d2f7fcb",
   "metadata": {},
   "outputs": [
    {
     "name": "stdout",
     "output_type": "stream",
     "text": [
      "{'name': 'Happy', 'age': 22, 'gender': 'male'}\n"
     ]
    }
   ],
   "source": [
    "d1 = {\"name\": \"Happy\", \"age\": 22, \"gender\": \"male\"}\n",
    "print(d1)"
   ]
  },
  {
   "cell_type": "code",
   "execution_count": 25,
   "id": "edecb837-2f51-4597-b609-d53cb5e4d57e",
   "metadata": {},
   "outputs": [
    {
     "name": "stdout",
     "output_type": "stream",
     "text": [
      "{'name': 'Happy', 'gender': 'male'}\n"
     ]
    }
   ],
   "source": [
    "# pop\n",
    "\n",
    "d1.pop(\"age\")\n",
    "print(d1)"
   ]
  },
  {
   "cell_type": "code",
   "execution_count": 26,
   "id": "e395b5ac-8da9-4711-96ba-eee1ac8c7417",
   "metadata": {},
   "outputs": [
    {
     "ename": "KeyError",
     "evalue": "22",
     "output_type": "error",
     "traceback": [
      "\u001b[1;31m---------------------------------------------------------------------------\u001b[0m",
      "\u001b[1;31mKeyError\u001b[0m                                  Traceback (most recent call last)",
      "Cell \u001b[1;32mIn[26], line 1\u001b[0m\n\u001b[1;32m----> 1\u001b[0m d1\u001b[38;5;241m.\u001b[39mpop(\u001b[38;5;241m22\u001b[39m)\n",
      "\u001b[1;31mKeyError\u001b[0m: 22"
     ]
    }
   ],
   "source": [
    "d1.pop(22)"
   ]
  },
  {
   "cell_type": "code",
   "execution_count": 27,
   "id": "2590ccfe-e32e-4d13-8541-a8259918239b",
   "metadata": {},
   "outputs": [
    {
     "name": "stdout",
     "output_type": "stream",
     "text": [
      "{'name': 'Happy', 'age': 22, 'gender': 'male'}\n"
     ]
    }
   ],
   "source": [
    "# popitem\n",
    "\n",
    "d1 = {\"name\": \"Happy\", \"age\": 22, \"gender\": \"male\"}\n",
    "print(d1)"
   ]
  },
  {
   "cell_type": "code",
   "execution_count": 28,
   "id": "a6a10717-a161-464a-a2e0-26bda19a1a5f",
   "metadata": {},
   "outputs": [
    {
     "data": {
      "text/plain": [
       "('gender', 'male')"
      ]
     },
     "execution_count": 28,
     "metadata": {},
     "output_type": "execute_result"
    }
   ],
   "source": [
    "d1.popitem()"
   ]
  },
  {
   "cell_type": "code",
   "execution_count": 29,
   "id": "75dad3e2-b6f9-4a91-9880-890216afadf5",
   "metadata": {},
   "outputs": [
    {
     "data": {
      "text/plain": [
       "{'name': 'Happy', 'age': 22}"
      ]
     },
     "execution_count": 29,
     "metadata": {},
     "output_type": "execute_result"
    }
   ],
   "source": [
    "d1"
   ]
  },
  {
   "cell_type": "code",
   "execution_count": 30,
   "id": "4fd669cf-01f5-441a-be88-19404a6c07d6",
   "metadata": {},
   "outputs": [
    {
     "name": "stdout",
     "output_type": "stream",
     "text": [
      "{'name': 'Happy', 'age': 22, 'gender': 'male'}\n"
     ]
    }
   ],
   "source": [
    "# del\n",
    "d1 = {\"name\": \"Happy\", \"age\": 22, \"gender\": \"male\"}\n",
    "print(d1)"
   ]
  },
  {
   "cell_type": "code",
   "execution_count": 31,
   "id": "548e5981-e220-476e-8300-2e93e1c58a46",
   "metadata": {},
   "outputs": [
    {
     "name": "stdout",
     "output_type": "stream",
     "text": [
      "{'age': 22, 'gender': 'male'}\n"
     ]
    }
   ],
   "source": [
    "del d1[\"name\"]\n",
    "\n",
    "print(d1)"
   ]
  },
  {
   "cell_type": "code",
   "execution_count": 32,
   "id": "2c277cda-857b-4f81-a51a-93eae938c7f5",
   "metadata": {},
   "outputs": [
    {
     "name": "stdout",
     "output_type": "stream",
     "text": [
      "{'name': 'Happy', 'age': 22, 'gender': 'male'}\n",
      "{}\n"
     ]
    }
   ],
   "source": [
    "# clear\n",
    "d1 = {\"name\": \"Happy\", \"age\": 22, \"gender\": \"male\"}\n",
    "print(d1)\n",
    "\n",
    "d1.clear()\n",
    "print(d1)"
   ]
  },
  {
   "cell_type": "code",
   "execution_count": null,
   "id": "7bffaca9-0a2e-4167-8d68-e2d1d8c1f5c1",
   "metadata": {},
   "outputs": [],
   "source": []
  }
 ],
 "metadata": {
  "kernelspec": {
   "display_name": "Python 3 (ipykernel)",
   "language": "python",
   "name": "python3"
  },
  "language_info": {
   "codemirror_mode": {
    "name": "ipython",
    "version": 3
   },
   "file_extension": ".py",
   "mimetype": "text/x-python",
   "name": "python",
   "nbconvert_exporter": "python",
   "pygments_lexer": "ipython3",
   "version": "3.11.7"
  }
 },
 "nbformat": 4,
 "nbformat_minor": 5
}
