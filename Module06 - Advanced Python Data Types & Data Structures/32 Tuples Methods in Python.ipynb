{
 "cells": [
  {
   "cell_type": "markdown",
   "id": "02631c6b-910e-429e-aab4-d9505fbb8ee5",
   "metadata": {},
   "source": [
    "# Tuples Methods\n",
    "\n",
    "- len\n",
    "- max\n",
    "- min\n",
    "- sorted\n",
    "- sum\n",
    "- index\n",
    "- count"
   ]
  },
  {
   "cell_type": "code",
   "execution_count": 3,
   "id": "b072dccd-834f-49ff-9753-c2ab2df5015e",
   "metadata": {},
   "outputs": [
    {
     "name": "stdout",
     "output_type": "stream",
     "text": [
      "4\n",
      "1\n",
      "40\n",
      "46\n",
      "[40, 3, 2, 1]\n"
     ]
    }
   ],
   "source": [
    "# len, min, max, sorted, sum\n",
    "\n",
    "t = (1, 2, 3, 40)\n",
    "\n",
    "print(len(t))\n",
    "print(min(t))\n",
    "print(max(t))\n",
    "print(sum(t))\n",
    "print(sorted(t, reverse = True))"
   ]
  },
  {
   "cell_type": "code",
   "execution_count": 5,
   "id": "567207cc-6680-43c3-a779-042ca4d6f5d4",
   "metadata": {},
   "outputs": [
    {
     "name": "stdout",
     "output_type": "stream",
     "text": [
      "0\n",
      "2\n"
     ]
    }
   ],
   "source": [
    "# index\n",
    "\n",
    "t = (1, 2, 3, 40, 3)\n",
    "\n",
    "print(t.index(1))\n",
    "print(t.index(3))"
   ]
  },
  {
   "cell_type": "code",
   "execution_count": 4,
   "id": "ca1f5d20-fcb0-4ff6-87db-a04b17e9fac8",
   "metadata": {},
   "outputs": [
    {
     "data": {
      "text/plain": [
       "2"
      ]
     },
     "execution_count": 4,
     "metadata": {},
     "output_type": "execute_result"
    }
   ],
   "source": [
    "# count\n",
    "\n",
    "t = (1, 2, 3, 40, 3)\n",
    "\n",
    "t.count(3)"
   ]
  },
  {
   "cell_type": "code",
   "execution_count": 6,
   "id": "04b62d0d-0e76-44fc-b29e-d216be01a7b9",
   "metadata": {},
   "outputs": [
    {
     "data": {
      "text/plain": [
       "[1, 2, 3, 40, 3]"
      ]
     },
     "execution_count": 6,
     "metadata": {},
     "output_type": "execute_result"
    }
   ],
   "source": [
    "t = (1, 2, 3, 40, 3)\n",
    "\n",
    "temp = list(t)\n",
    "temp"
   ]
  },
  {
   "cell_type": "code",
   "execution_count": null,
   "id": "3a6f4e79-45e2-4dc4-8c3a-593a0cf4b9aa",
   "metadata": {},
   "outputs": [],
   "source": []
  }
 ],
 "metadata": {
  "kernelspec": {
   "display_name": "Python 3 (ipykernel)",
   "language": "python",
   "name": "python3"
  },
  "language_info": {
   "codemirror_mode": {
    "name": "ipython",
    "version": 3
   },
   "file_extension": ".py",
   "mimetype": "text/x-python",
   "name": "python",
   "nbconvert_exporter": "python",
   "pygments_lexer": "ipython3",
   "version": "3.11.7"
  }
 },
 "nbformat": 4,
 "nbformat_minor": 5
}
