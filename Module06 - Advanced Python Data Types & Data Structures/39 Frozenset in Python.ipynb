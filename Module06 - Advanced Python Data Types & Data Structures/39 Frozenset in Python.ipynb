{
 "cells": [
  {
   "cell_type": "markdown",
   "id": "f0ca615e-e385-4d41-b153-5496fde171cd",
   "metadata": {},
   "source": [
    "# Frozenset\n",
    "\n",
    "- It is just an immutable version of a python set object"
   ]
  },
  {
   "cell_type": "code",
   "execution_count": 1,
   "id": "264cc077-ce23-4783-a279-aacf691094b1",
   "metadata": {},
   "outputs": [
    {
     "name": "stdout",
     "output_type": "stream",
     "text": [
      "frozenset({1, 2, 3, 4})\n",
      "<class 'frozenset'>\n"
     ]
    }
   ],
   "source": [
    "fs1 = frozenset([1, 2, 3, 4])\n",
    "print(fs1)\n",
    "print(type(fs1))"
   ]
  },
  {
   "cell_type": "code",
   "execution_count": 2,
   "id": "611426d7-a221-4b83-b38c-2fb26cb84cc2",
   "metadata": {},
   "outputs": [
    {
     "name": "stdout",
     "output_type": "stream",
     "text": [
      "frozenset({3, 4, 5, 6})\n",
      "<class 'frozenset'>\n"
     ]
    }
   ],
   "source": [
    "fs2 = frozenset([3, 4, 5, 6])\n",
    "print(fs2)\n",
    "print(type(fs2))"
   ]
  },
  {
   "cell_type": "code",
   "execution_count": 3,
   "id": "225b8c12-0419-4648-b83a-0d7eb3519d42",
   "metadata": {},
   "outputs": [
    {
     "data": {
      "text/plain": [
       "frozenset({1, 2, 3, 4, 5, 6})"
      ]
     },
     "execution_count": 3,
     "metadata": {},
     "output_type": "execute_result"
    }
   ],
   "source": [
    "fs1 | fs2"
   ]
  },
  {
   "cell_type": "code",
   "execution_count": 4,
   "id": "325e18b8-6a9e-4362-b402-20548f2fa967",
   "metadata": {},
   "outputs": [
    {
     "data": {
      "text/plain": [
       "frozenset({3, 4})"
      ]
     },
     "execution_count": 4,
     "metadata": {},
     "output_type": "execute_result"
    }
   ],
   "source": [
    "fs1 & fs2"
   ]
  },
  {
   "cell_type": "code",
   "execution_count": 5,
   "id": "ce1665e0-8e96-4927-9d84-fb5b9d4c5090",
   "metadata": {},
   "outputs": [
    {
     "name": "stdout",
     "output_type": "stream",
     "text": [
      "frozenset({frozenset({3, 4}), 1, 2})\n"
     ]
    }
   ],
   "source": [
    "# 2D frozenset\n",
    "fs = frozenset([1, 2, frozenset([3, 4])])\n",
    "print(fs)"
   ]
  },
  {
   "cell_type": "code",
   "execution_count": null,
   "id": "2b66467b-6e29-4a29-82ef-6c236260ffa9",
   "metadata": {},
   "outputs": [],
   "source": []
  }
 ],
 "metadata": {
  "kernelspec": {
   "display_name": "Python 3 (ipykernel)",
   "language": "python",
   "name": "python3"
  },
  "language_info": {
   "codemirror_mode": {
    "name": "ipython",
    "version": 3
   },
   "file_extension": ".py",
   "mimetype": "text/x-python",
   "name": "python",
   "nbconvert_exporter": "python",
   "pygments_lexer": "ipython3",
   "version": "3.11.7"
  }
 },
 "nbformat": 4,
 "nbformat_minor": 5
}
