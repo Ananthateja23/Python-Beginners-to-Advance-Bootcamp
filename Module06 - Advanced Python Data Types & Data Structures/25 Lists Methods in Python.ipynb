{
 "cells": [
  {
   "cell_type": "markdown",
   "id": "05610a57-00fc-4ada-a7dc-b406068862c5",
   "metadata": {},
   "source": [
    "# List Methods / Functions\n",
    "\n",
    "- list is a mutable (i.e, you can change the list)\n",
    "\n",
    "- append\n",
    "- extend\n",
    "- insert\n",
    "- remove\n",
    "- pop\n",
    "- clear\n",
    "- len\n",
    "- min\n",
    "- max\n",
    "- sorted\n",
    "- count\n",
    "- reverse\n",
    "- sort\n",
    "- copy"
   ]
  },
  {
   "cell_type": "code",
   "execution_count": 1,
   "id": "e749acbb-ac85-4e4b-88ad-dbb365ca06dc",
   "metadata": {},
   "outputs": [
    {
     "name": "stdout",
     "output_type": "stream",
     "text": [
      "[1, 2, 3, 4]\n",
      "[1, 2, 3, 4, 5]\n"
     ]
    }
   ],
   "source": [
    "# append\n",
    "\n",
    "l = [1, 2, 3, 4]\n",
    "print(l)\n",
    "\n",
    "l.append(5)\n",
    "print(l)"
   ]
  },
  {
   "cell_type": "code",
   "execution_count": 2,
   "id": "d2199a30-2fcc-4a9b-b8bb-857e555e3280",
   "metadata": {},
   "outputs": [
    {
     "ename": "TypeError",
     "evalue": "'str' object does not support item assignment",
     "output_type": "error",
     "traceback": [
      "\u001b[1;31m---------------------------------------------------------------------------\u001b[0m",
      "\u001b[1;31mTypeError\u001b[0m                                 Traceback (most recent call last)",
      "Cell \u001b[1;32mIn[2], line 2\u001b[0m\n\u001b[0;32m      1\u001b[0m s \u001b[38;5;241m=\u001b[39m \u001b[38;5;124m\"\u001b[39m\u001b[38;5;124mAnanth\u001b[39m\u001b[38;5;124m\"\u001b[39m\n\u001b[1;32m----> 2\u001b[0m s[\u001b[38;5;241m0\u001b[39m] \u001b[38;5;241m=\u001b[39m \u001b[38;5;124m\"\u001b[39m\u001b[38;5;124mH\u001b[39m\u001b[38;5;124m\"\u001b[39m\n",
      "\u001b[1;31mTypeError\u001b[0m: 'str' object does not support item assignment"
     ]
    }
   ],
   "source": [
    "s = \"Ananth\"\n",
    "s[0] = \"H\""
   ]
  },
  {
   "cell_type": "code",
   "execution_count": 3,
   "id": "0f9c312e-b1d8-4170-8f68-ab54a601a153",
   "metadata": {},
   "outputs": [
    {
     "name": "stdout",
     "output_type": "stream",
     "text": [
      "[1, 2, 3, 4]\n",
      "[100, 2, 3, 4]\n"
     ]
    }
   ],
   "source": [
    "# Editing with indexing\n",
    "l = [1, 2, 3, 4]\n",
    "print(l)\n",
    "\n",
    "l[0] = 100\n",
    "print(l)"
   ]
  },
  {
   "cell_type": "code",
   "execution_count": 4,
   "id": "ae625b2b-0139-442a-9c9a-abafba01abfe",
   "metadata": {},
   "outputs": [
    {
     "name": "stdout",
     "output_type": "stream",
     "text": [
      "[100, 2, 3, 200]\n"
     ]
    }
   ],
   "source": [
    "l[3] = 200\n",
    "print(l)"
   ]
  },
  {
   "cell_type": "code",
   "execution_count": 5,
   "id": "697617e6-c44e-4821-82c8-557ff24c6ddb",
   "metadata": {},
   "outputs": [
    {
     "name": "stdout",
     "output_type": "stream",
     "text": [
      "[1, 2, 3, 4]\n",
      "[1, 200, 300, 400]\n"
     ]
    }
   ],
   "source": [
    "# Editing with slicing\n",
    "\n",
    "l = [1, 2, 3, 4]\n",
    "print(l)\n",
    "\n",
    "l[1:4] = [200, 300, 400]\n",
    "print(l)"
   ]
  },
  {
   "cell_type": "code",
   "execution_count": 6,
   "id": "247a0f3e-3022-47f1-8176-c436a208c230",
   "metadata": {},
   "outputs": [
    {
     "name": "stdout",
     "output_type": "stream",
     "text": [
      "[1, 2, 3, 4]\n",
      "[1, 2, 3, 4, [6, 7, 8]]\n"
     ]
    }
   ],
   "source": [
    "l = [1, 2, 3, 4]\n",
    "print(l)\n",
    "\n",
    "l.append([6, 7, 8])\n",
    "print(l)"
   ]
  },
  {
   "cell_type": "code",
   "execution_count": 7,
   "id": "b1a03256-6f29-4add-90c8-54748f799676",
   "metadata": {},
   "outputs": [
    {
     "name": "stdout",
     "output_type": "stream",
     "text": [
      "[1, 2, 3, 4]\n",
      "[1, 2, 3, 4, 10, 11, 12]\n"
     ]
    }
   ],
   "source": [
    "# extend\n",
    "\n",
    "l = [1, 2, 3, 4]\n",
    "print(l)\n",
    "\n",
    "a = [10, 11, 12]\n",
    "l.extend(a)\n",
    "print(l)"
   ]
  },
  {
   "cell_type": "code",
   "execution_count": 8,
   "id": "60bd4042-c67c-4066-911d-0722b6dcb314",
   "metadata": {},
   "outputs": [
    {
     "name": "stdout",
     "output_type": "stream",
     "text": [
      "[1, 2, 3, 4, 10, 11, 12, 'H', 'e', 'l', 'l', 'o']\n"
     ]
    }
   ],
   "source": [
    "l.extend(\"Hello\")\n",
    "print(l)"
   ]
  },
  {
   "cell_type": "code",
   "execution_count": 9,
   "id": "bb259d15-b3f3-4d61-a423-803f2903bbd3",
   "metadata": {},
   "outputs": [
    {
     "name": "stdout",
     "output_type": "stream",
     "text": [
      "[1, 2, 3, 4]\n",
      "[1, 200, 2, 3, 4]\n"
     ]
    }
   ],
   "source": [
    "# insert\n",
    "\n",
    "l = [1, 2, 3, 4]\n",
    "print(l)\n",
    "\n",
    "l.insert(1, 200)\n",
    "print(l)"
   ]
  },
  {
   "cell_type": "code",
   "execution_count": 10,
   "id": "c893f04b-e05d-47e7-99d9-fd7081042dd1",
   "metadata": {},
   "outputs": [
    {
     "name": "stdout",
     "output_type": "stream",
     "text": [
      "[1, 2, 3, 4]\n",
      "[2, 3, 4]\n"
     ]
    }
   ],
   "source": [
    "# Deleting items from a list\n",
    "\n",
    "l = [1, 2, 3, 4]\n",
    "print(l)\n",
    "\n",
    "del l[0]\n",
    "print(l)"
   ]
  },
  {
   "cell_type": "code",
   "execution_count": 11,
   "id": "df45a599-0bff-44ad-805b-fd06cf045a81",
   "metadata": {},
   "outputs": [
    {
     "name": "stdout",
     "output_type": "stream",
     "text": [
      "[1, 2, 3, 4]\n",
      "[1, 4]\n"
     ]
    }
   ],
   "source": [
    "# Deleting items from a list\n",
    "\n",
    "l = [1, 2, 3, 4]\n",
    "print(l)\n",
    "\n",
    "del l[1:3]\n",
    "print(l)"
   ]
  },
  {
   "cell_type": "code",
   "execution_count": 12,
   "id": "3df375e3-4799-42ae-bd5f-6722c1b1d5b9",
   "metadata": {},
   "outputs": [
    {
     "name": "stdout",
     "output_type": "stream",
     "text": [
      "[1, 2, 3, 4]\n",
      "[1, 2, 3]\n"
     ]
    }
   ],
   "source": [
    "# remove\n",
    "\n",
    "l = [1, 2, 3, 4]\n",
    "print(l)\n",
    "\n",
    "l.remove(4)\n",
    "print(l)"
   ]
  },
  {
   "cell_type": "code",
   "execution_count": 13,
   "id": "b13ae62b-f4df-4232-bad1-0dd3b24f1237",
   "metadata": {},
   "outputs": [
    {
     "name": "stdout",
     "output_type": "stream",
     "text": [
      "[1, 2, 4, 3, 4]\n",
      "[1, 2, 3, 4]\n"
     ]
    }
   ],
   "source": [
    "# remove\n",
    "\n",
    "l = [1, 2, 4, 3, 4]\n",
    "print(l)\n",
    "\n",
    "l.remove(4)\n",
    "print(l)"
   ]
  },
  {
   "cell_type": "code",
   "execution_count": 14,
   "id": "75583032-430c-4a4d-8362-699669f5dbd0",
   "metadata": {},
   "outputs": [
    {
     "name": "stdout",
     "output_type": "stream",
     "text": [
      "[1, 2, 4, 3, 4]\n",
      "4\n",
      "[1, 2, 4, 3]\n"
     ]
    }
   ],
   "source": [
    "# pop\n",
    "\n",
    "l = [1, 2, 4, 3, 4]\n",
    "print(l)\n",
    "\n",
    "value = l.pop()\n",
    "print(value)\n",
    "\n",
    "print(l)"
   ]
  },
  {
   "cell_type": "code",
   "execution_count": 15,
   "id": "519be937-36d4-474f-a56d-0d4ee3056b1a",
   "metadata": {},
   "outputs": [
    {
     "name": "stdout",
     "output_type": "stream",
     "text": [
      "[1, 2, 4, 3, 4]\n",
      "4\n",
      "3\n",
      "4\n",
      "[1, 2]\n"
     ]
    }
   ],
   "source": [
    "# pop\n",
    "\n",
    "l = [1, 2, 4, 3, 4]\n",
    "print(l)\n",
    "\n",
    "print(l.pop())\n",
    "print(l.pop())\n",
    "print(l.pop())\n",
    "print(l)"
   ]
  },
  {
   "cell_type": "code",
   "execution_count": 16,
   "id": "e6142441-fc07-468d-9080-a7d31b7301de",
   "metadata": {},
   "outputs": [
    {
     "name": "stdout",
     "output_type": "stream",
     "text": [
      "[1, 2, 4, 3, 4]\n",
      "[]\n"
     ]
    }
   ],
   "source": [
    "# clear\n",
    "\n",
    "l = [1, 2, 4, 3, 4]\n",
    "print(l)\n",
    "\n",
    "l.clear()\n",
    "print(l)"
   ]
  },
  {
   "cell_type": "code",
   "execution_count": 17,
   "id": "b6233591-ab2f-4747-abe1-d453f645d63f",
   "metadata": {},
   "outputs": [
    {
     "name": "stdout",
     "output_type": "stream",
     "text": [
      "[1, 2, 3, 4]\n"
     ]
    }
   ],
   "source": [
    "# len, min, max, sorted\n",
    "\n",
    "l = [1, 2, 3, 4]\n",
    "print(l)"
   ]
  },
  {
   "cell_type": "code",
   "execution_count": 18,
   "id": "7ac34581-107f-4718-ba20-b2530da3db0a",
   "metadata": {},
   "outputs": [
    {
     "name": "stdout",
     "output_type": "stream",
     "text": [
      "4\n",
      "1\n",
      "4\n",
      "[4, 3, 2, 1]\n"
     ]
    }
   ],
   "source": [
    "print(len(l))\n",
    "print(min(l))\n",
    "print(max(l))\n",
    "print(sorted(l, reverse = True))"
   ]
  },
  {
   "cell_type": "code",
   "execution_count": 19,
   "id": "0b74e8ea-b52b-4210-925a-6842dd9d06e1",
   "metadata": {},
   "outputs": [
    {
     "name": "stdout",
     "output_type": "stream",
     "text": [
      "3\n",
      "2\n"
     ]
    }
   ],
   "source": [
    "# count\n",
    "\n",
    "l = [1, 2, 3, 4, 4, 4, 5, 5]\n",
    "\n",
    "print(l.count(4))\n",
    "print(l.count(5))"
   ]
  },
  {
   "cell_type": "code",
   "execution_count": 20,
   "id": "03881003-1571-49ce-bfdd-b4da19a886d6",
   "metadata": {},
   "outputs": [
    {
     "name": "stdout",
     "output_type": "stream",
     "text": [
      "0\n",
      "1\n",
      "3\n",
      "6\n"
     ]
    }
   ],
   "source": [
    "# index\n",
    "\n",
    "l = [1, 2, 3, 4, 4, 4, 5, 5]\n",
    "\n",
    "print(l.index(1))\n",
    "print(l.index(2))\n",
    "print(l.index(4))\n",
    "print(l.index(5))"
   ]
  },
  {
   "cell_type": "code",
   "execution_count": 21,
   "id": "77ebf75f-9817-4d99-b058-ad3fae2c53a4",
   "metadata": {},
   "outputs": [
    {
     "name": "stdout",
     "output_type": "stream",
     "text": [
      "[1, 2, 3, 4]\n",
      "[4, 3, 2, 1]\n"
     ]
    }
   ],
   "source": [
    "# reverse\n",
    "\n",
    "l = [1, 2, 3, 4]\n",
    "print(l)\n",
    "\n",
    "l.reverse()\n",
    "print(l)"
   ]
  },
  {
   "cell_type": "code",
   "execution_count": 22,
   "id": "6f8935f8-424b-488b-be83-24308380a225",
   "metadata": {},
   "outputs": [
    {
     "name": "stdout",
     "output_type": "stream",
     "text": [
      "[4, 2, 1, 55, 10]\n",
      "[1, 2, 4, 10, 55]\n"
     ]
    }
   ],
   "source": [
    "# sort\n",
    "\n",
    "l = [4, 2, 1, 55, 10]\n",
    "print(l)\n",
    "\n",
    "l.sort()\n",
    "print(l)"
   ]
  },
  {
   "cell_type": "code",
   "execution_count": 23,
   "id": "1b5e29f5-884b-40cd-98ea-16d7ee66bcc9",
   "metadata": {},
   "outputs": [
    {
     "name": "stdout",
     "output_type": "stream",
     "text": [
      "[1, 2, 3, 4]\n"
     ]
    }
   ],
   "source": [
    "# copy\n",
    "\n",
    "l = [1, 2, 3, 4]\n",
    "l1 = l.copy()\n",
    "print(l1)"
   ]
  },
  {
   "cell_type": "code",
   "execution_count": 24,
   "id": "1b5b2bce-ec19-49af-a744-28f86af72739",
   "metadata": {},
   "outputs": [
    {
     "name": "stdout",
     "output_type": "stream",
     "text": [
      "[1, 2, 3, 4, 500]\n",
      "[1, 2, 3, 4]\n"
     ]
    }
   ],
   "source": [
    "l.append(500)\n",
    "print(l)\n",
    "print(l1)"
   ]
  },
  {
   "cell_type": "code",
   "execution_count": 25,
   "id": "95083c5a-707f-439b-853e-6fc0d65e0825",
   "metadata": {},
   "outputs": [
    {
     "name": "stdout",
     "output_type": "stream",
     "text": [
      "1844750191936\n",
      "1844750471808\n"
     ]
    }
   ],
   "source": [
    "print(id(l))\n",
    "print(id(l1))"
   ]
  },
  {
   "cell_type": "code",
   "execution_count": null,
   "id": "fbb90ea2-73f0-4898-8044-e51039111a2e",
   "metadata": {},
   "outputs": [],
   "source": []
  }
 ],
 "metadata": {
  "kernelspec": {
   "display_name": "Python 3 (ipykernel)",
   "language": "python",
   "name": "python3"
  },
  "language_info": {
   "codemirror_mode": {
    "name": "ipython",
    "version": 3
   },
   "file_extension": ".py",
   "mimetype": "text/x-python",
   "name": "python",
   "nbconvert_exporter": "python",
   "pygments_lexer": "ipython3",
   "version": "3.11.7"
  }
 },
 "nbformat": 4,
 "nbformat_minor": 5
}
