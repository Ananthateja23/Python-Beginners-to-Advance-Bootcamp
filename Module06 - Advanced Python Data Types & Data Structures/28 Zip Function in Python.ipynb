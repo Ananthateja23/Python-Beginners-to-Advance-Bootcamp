{
 "cells": [
  {
   "cell_type": "markdown",
   "id": "ad67a034-2f0e-45c5-8c54-8a46e778e44f",
   "metadata": {},
   "source": [
    "# Zip\n",
    "\n",
    "- zip() function returns a zip object, which is an iterator of tuples, where the first item in each passed iterator is paired together, and then the second item in each passed iterator are paired together\n",
    "- If the passed iterators have different lengths, the iterator with the least items decides the length of the new iterator "
   ]
  },
  {
   "cell_type": "code",
   "execution_count": 1,
   "id": "eb7bc318-e883-4766-8d10-58364f184c1b",
   "metadata": {},
   "outputs": [
    {
     "data": {
      "text/plain": [
       "<zip at 0x2bf18a3ccc0>"
      ]
     },
     "execution_count": 1,
     "metadata": {},
     "output_type": "execute_result"
    }
   ],
   "source": [
    "l1 = [1, 2, 3, 4]\n",
    "l2 = [5, 6, 7, 8]\n",
    "\n",
    "\n",
    "zip(l1, l2)"
   ]
  },
  {
   "cell_type": "code",
   "execution_count": 2,
   "id": "12f07145-1dcf-4568-9089-2c80056dc3b5",
   "metadata": {},
   "outputs": [
    {
     "data": {
      "text/plain": [
       "[(1, 5), (2, 6), (3, 7), (4, 8)]"
      ]
     },
     "execution_count": 2,
     "metadata": {},
     "output_type": "execute_result"
    }
   ],
   "source": [
    "list(zip(l1, l2))"
   ]
  },
  {
   "cell_type": "code",
   "execution_count": 3,
   "id": "f948e2a6-da9b-4c22-af94-f7a32600d7a5",
   "metadata": {},
   "outputs": [
    {
     "data": {
      "text/plain": [
       "[(1, 'Happy'), (2, 'Alex'), (3, 'Harish'), (4, 'kumar'), (5, 'Ahmed')]"
      ]
     },
     "execution_count": 3,
     "metadata": {},
     "output_type": "execute_result"
    }
   ],
   "source": [
    "roll_num = [1, 2, 3, 4, 5]\n",
    "\n",
    "student_name = ['Happy', 'Alex', 'Harish', 'kumar', 'Ahmed']\n",
    "\n",
    "list(zip(roll_num, student_name))"
   ]
  },
  {
   "cell_type": "code",
   "execution_count": 4,
   "id": "df0078bb-f2af-4b59-9c82-8396a311f316",
   "metadata": {},
   "outputs": [
    {
     "data": {
      "text/plain": [
       "[-4, -4, -4, -4]"
      ]
     },
     "execution_count": 4,
     "metadata": {},
     "output_type": "execute_result"
    }
   ],
   "source": [
    "l1 = [1, 2, 3, 4]\n",
    "l2 = [5, 6, 7, 8]\n",
    "\n",
    "[i-j for i,j in zip(l1, l2)]"
   ]
  },
  {
   "cell_type": "code",
   "execution_count": 5,
   "id": "bdf075ee-49a6-4be7-98c3-2f51a6be8999",
   "metadata": {},
   "outputs": [
    {
     "data": {
      "text/plain": [
       "[4, 4, 4, 4]"
      ]
     },
     "execution_count": 5,
     "metadata": {},
     "output_type": "execute_result"
    }
   ],
   "source": [
    "[i-j for i,j in zip(l2, l1)]"
   ]
  },
  {
   "cell_type": "code",
   "execution_count": 6,
   "id": "c8cca9ea-34f6-4b96-a0d7-4c6b7030d3ad",
   "metadata": {},
   "outputs": [
    {
     "data": {
      "text/plain": [
       "[(1, 5, 9), (2, 6, 10), (3, 7, 11), (4, 8, 12)]"
      ]
     },
     "execution_count": 6,
     "metadata": {},
     "output_type": "execute_result"
    }
   ],
   "source": [
    "l1 = [1, 2, 3, 4]\n",
    "l2 = [5, 6, 7, 8]\n",
    "l3 = [9, 10, 11, 12]\n",
    "\n",
    "list(zip(l1, l2, l3))"
   ]
  },
  {
   "cell_type": "code",
   "execution_count": 7,
   "id": "f41071ca-1a17-433a-98c2-5cd13d5f037b",
   "metadata": {},
   "outputs": [
    {
     "data": {
      "text/plain": [
       "[(1, 5, 9), (2, 6, 10), (3, 7, 11)]"
      ]
     },
     "execution_count": 7,
     "metadata": {},
     "output_type": "execute_result"
    }
   ],
   "source": [
    "l1 = [1, 2, 3, 4]\n",
    "l2 = [5, 6, 7, 8]\n",
    "l3 = [9, 10, 11]\n",
    "\n",
    "list(zip(l1, l2, l3))"
   ]
  },
  {
   "cell_type": "code",
   "execution_count": 8,
   "id": "96e0b8d1-7ae1-4c68-af3b-8a57310dbfbd",
   "metadata": {},
   "outputs": [
    {
     "data": {
      "text/plain": [
       "[(1, 5, 9), (2, 6, 10)]"
      ]
     },
     "execution_count": 8,
     "metadata": {},
     "output_type": "execute_result"
    }
   ],
   "source": [
    "l1 = [1, 2, 3, 4]\n",
    "l2 = [5, 6, 7, 8]\n",
    "l3 = [9, 10]\n",
    "\n",
    "list(zip(l1, l2, l3))"
   ]
  },
  {
   "cell_type": "code",
   "execution_count": 9,
   "id": "856ab53d-d019-4523-9e6c-b2f2af3b8c43",
   "metadata": {},
   "outputs": [
    {
     "name": "stdout",
     "output_type": "stream",
     "text": [
      "(1, 5)\n",
      "(2, 6)\n",
      "(3, 7)\n",
      "(4, 8)\n"
     ]
    }
   ],
   "source": [
    "for i in zip(l1, l2):\n",
    "    print(i)"
   ]
  },
  {
   "cell_type": "code",
   "execution_count": null,
   "id": "b2177a18-f752-48a0-bf98-029071eab78f",
   "metadata": {},
   "outputs": [],
   "source": []
  }
 ],
 "metadata": {
  "kernelspec": {
   "display_name": "Python 3 (ipykernel)",
   "language": "python",
   "name": "python3"
  },
  "language_info": {
   "codemirror_mode": {
    "name": "ipython",
    "version": 3
   },
   "file_extension": ".py",
   "mimetype": "text/x-python",
   "name": "python",
   "nbconvert_exporter": "python",
   "pygments_lexer": "ipython3",
   "version": "3.11.7"
  }
 },
 "nbformat": 4,
 "nbformat_minor": 5
}
