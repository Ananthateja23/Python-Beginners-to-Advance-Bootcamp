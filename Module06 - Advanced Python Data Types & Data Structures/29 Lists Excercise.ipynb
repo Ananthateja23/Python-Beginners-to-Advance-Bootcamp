{
 "cells": [
  {
   "cell_type": "markdown",
   "id": "2686421e-02cd-4317-bfa8-629bc3316e12",
   "metadata": {},
   "source": [
    "## 01 Update no of items available"
   ]
  },
  {
   "cell_type": "code",
   "execution_count": 3,
   "id": "ced7363a-84ac-42a1-be1d-a2d8f2d9f9fd",
   "metadata": {},
   "outputs": [
    {
     "data": {
      "text/plain": [
       "[('Audi', 10), ('BMW', 20), ('TATA', 30), ('Volvo', 15)]"
      ]
     },
     "execution_count": 3,
     "metadata": {},
     "output_type": "execute_result"
    }
   ],
   "source": [
    "cars_name = ['Audi', 'BMW', 'TATA', 'Volvo']\n",
    "\n",
    "no_of_cars = [10, 20, 30, 15]\n",
    "\n",
    "list(zip(cars_name, no_of_cars))"
   ]
  },
  {
   "cell_type": "code",
   "execution_count": 2,
   "id": "16115bfa-2a06-4cb9-883c-d6154a0987e9",
   "metadata": {},
   "outputs": [
    {
     "name": "stdout",
     "output_type": "stream",
     "text": [
      "Audi = 10\n",
      "BMW = 20\n",
      "TATA = 30\n",
      "Volvo = 15\n"
     ]
    }
   ],
   "source": [
    "for i, j in zip(cars_name, no_of_cars):\n",
    "    print(f\"{i} = {j}\")"
   ]
  },
  {
   "cell_type": "markdown",
   "id": "894f6ad6-774f-4d3f-b1f2-d97b180d47b1",
   "metadata": {},
   "source": [
    "## 02 You are given a list of integers. You are asked to make a list by running through elements of the list by adding all elements greater and itself"
   ]
  },
  {
   "cell_type": "code",
   "execution_count": 4,
   "id": "d7f6b890-f870-45fe-8e6c-8912c8604417",
   "metadata": {},
   "outputs": [
    {
     "name": "stdout",
     "output_type": "stream",
     "text": [
      "[22, 20, 16, 10, 23]\n"
     ]
    }
   ],
   "source": [
    "l = [2, 4, 6, 10, 1]\n",
    "result = []\n",
    "for i in l:\n",
    "    total = 0\n",
    "    for j in l:\n",
    "        if (i <= j):\n",
    "            total += j\n",
    "    result.append(total)\n",
    "\n",
    "print(result)"
   ]
  },
  {
   "cell_type": "markdown",
   "id": "d39eae74-f1e6-443e-9102-0b150abd094d",
   "metadata": {},
   "source": [
    "## 03 Find list of common unique items from two lists and show in increasing order"
   ]
  },
  {
   "cell_type": "code",
   "execution_count": 6,
   "id": "e1f1cb84-4057-4bcb-b458-d2d0bb2f0750",
   "metadata": {},
   "outputs": [
    {
     "name": "stdout",
     "output_type": "stream",
     "text": [
      "[34, 67, 89]\n"
     ]
    }
   ],
   "source": [
    "num1 = [23, 45, 67, 78, 89, 34, 67]\n",
    "num2 = [34, 89, 55, 56, 39, 67, 67]\n",
    "\n",
    "common_unique = []\n",
    "\n",
    "for i in num1:\n",
    "    for j in num2:\n",
    "        if (i==j) and (i not in common_unique):\n",
    "            common_unique.append(i)\n",
    "            \n",
    "common_unique.sort()\n",
    "print(common_unique)"
   ]
  },
  {
   "cell_type": "code",
   "execution_count": null,
   "id": "0afb5da2-c3d5-4b91-a460-a5708fd13ab8",
   "metadata": {},
   "outputs": [],
   "source": []
  }
 ],
 "metadata": {
  "kernelspec": {
   "display_name": "Python 3 (ipykernel)",
   "language": "python",
   "name": "python3"
  },
  "language_info": {
   "codemirror_mode": {
    "name": "ipython",
    "version": 3
   },
   "file_extension": ".py",
   "mimetype": "text/x-python",
   "name": "python",
   "nbconvert_exporter": "python",
   "pygments_lexer": "ipython3",
   "version": "3.11.7"
  }
 },
 "nbformat": 4,
 "nbformat_minor": 5
}
