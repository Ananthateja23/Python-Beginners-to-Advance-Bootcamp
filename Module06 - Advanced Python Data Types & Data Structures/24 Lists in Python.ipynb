{
 "cells": [
  {
   "cell_type": "markdown",
   "id": "45744b1b-eaa3-44f8-82c6-6e9698b5a84b",
   "metadata": {},
   "source": [
    "# Lists\n",
    "\n",
    "- What are Lists?\n",
    "- Lists Vs Arrays\n",
    "- Characteristics of a list\n",
    "- How to create a list\n",
    "- Access items from a list\n",
    "- Editing items in a list\n",
    "- Deleting items from a list\n",
    "- Operations on lists\n",
    "- Functions on lists\n",
    "- List comprehensions"
   ]
  },
  {
   "cell_type": "markdown",
   "id": "61764fb3-4162-4e10-be8b-de5790efad72",
   "metadata": {},
   "source": [
    "# What are lists?\n",
    "\n",
    "- List is a data type where you can store multiple items under 1 name\n",
    "- More technically, lists act like dynamic arrays which means you can add more items on the fly\n",
    "\n",
    "Example:\n",
    "\n",
    "L = [20, 'jessy', 35.75, [30, 60, 90]]\n",
    "\n",
    "Here,\n",
    "\n",
    "L[0]   ==> 20\n",
    "\n",
    "L[1]   ==> 'jessy'\n",
    "\n",
    "L[2]   ==> 35.75\n",
    "\n",
    "L[3]   ==> [30, 60, 90]"
   ]
  },
  {
   "cell_type": "markdown",
   "id": "af2b89a0-f6a3-48e6-8c7c-575889221140",
   "metadata": {},
   "source": [
    "# Why lists are required in programming?\n",
    "\n",
    "- Storing values in separate variables is not feasible and can use more memory.\n",
    "- It helps you store data efficiently"
   ]
  },
  {
   "cell_type": "markdown",
   "id": "e6285821-2365-4918-855f-82377daa68a3",
   "metadata": {},
   "source": [
    "# Lists Vs Arrays\n",
    "\n",
    "## Arrays:\n",
    "\n",
    "- It has a fixed size\n",
    "- It is homogeneous (i.e, it takes only a single data type value)\n",
    "- Its speed of execution is fast\n",
    "- It uses less memory to store the values\n",
    "\n",
    "## Arrays:\n",
    "\n",
    "- It has a dynamic size\n",
    "- It is heterogeneous (i.e, it takes multiple data type values)\n",
    "- Its speed of execution is slower compared to arrays\n",
    "- It uses more memory to store the values"
   ]
  },
  {
   "cell_type": "code",
   "execution_count": 1,
   "id": "f483182e-b56b-49e5-9bc7-d28f24d0a9dc",
   "metadata": {},
   "outputs": [
    {
     "name": "stdout",
     "output_type": "stream",
     "text": [
      "1693088608896\n",
      "140706017624872\n",
      "140706017624904\n",
      "140706017624936\n"
     ]
    }
   ],
   "source": [
    "# Understanding how lists store their values\n",
    "\n",
    "l = [1, 2, 3]\n",
    "\n",
    "print(id(l))\n",
    "print(id(l[0]))\n",
    "print(id(l[1]))\n",
    "print(id(l[2]))"
   ]
  },
  {
   "cell_type": "code",
   "execution_count": 2,
   "id": "dbfea1e5-b5c5-44a4-8aec-fc4473772aba",
   "metadata": {},
   "outputs": [
    {
     "name": "stdout",
     "output_type": "stream",
     "text": [
      "140706017624872\n",
      "140706017624904\n",
      "140706017624936\n"
     ]
    }
   ],
   "source": [
    "print(id(1))\n",
    "print(id(2))\n",
    "print(id(3))"
   ]
  },
  {
   "cell_type": "markdown",
   "id": "7d330e49-7e73-43dd-8691-d94a3c7f426c",
   "metadata": {},
   "source": [
    "# Characteristics of a List\n",
    "\n",
    "- Ordered\n",
    "- Changable / Mutable\n",
    "- Heterogeneous\n",
    "- Can have duplicates\n",
    "- are Dynamic\n",
    "- can be Nested\n",
    "- items can be accessed\n",
    "- can contain any kind of objects in python"
   ]
  },
  {
   "cell_type": "code",
   "execution_count": 3,
   "id": "0c89038d-dfbb-44c2-ad02-e21dc1460424",
   "metadata": {},
   "outputs": [
    {
     "data": {
      "text/plain": [
       "False"
      ]
     },
     "execution_count": 3,
     "metadata": {},
     "output_type": "execute_result"
    }
   ],
   "source": [
    "l1 = [1, 2, 3]\n",
    "l2 = [2, 3, 1]\n",
    "\n",
    "l1 == l2"
   ]
  },
  {
   "cell_type": "code",
   "execution_count": 4,
   "id": "4236a35d-7192-47ed-ab47-b859cc4667f0",
   "metadata": {},
   "outputs": [
    {
     "data": {
      "text/plain": [
       "[1, 2, 3, 1]"
      ]
     },
     "execution_count": 4,
     "metadata": {},
     "output_type": "execute_result"
    }
   ],
   "source": [
    "l1 = [1, 2, 3, 1]\n",
    "l1"
   ]
  },
  {
   "cell_type": "code",
   "execution_count": 5,
   "id": "0ed52025-bd8b-42ed-a16e-2afa6e7bfddb",
   "metadata": {},
   "outputs": [
    {
     "data": {
      "text/plain": [
       "1"
      ]
     },
     "execution_count": 5,
     "metadata": {},
     "output_type": "execute_result"
    }
   ],
   "source": [
    "l1[0]"
   ]
  },
  {
   "cell_type": "markdown",
   "id": "a580a381-c36b-410f-8aba-5bad53e4e560",
   "metadata": {},
   "source": [
    "# Creating a List"
   ]
  },
  {
   "cell_type": "code",
   "execution_count": null,
   "id": "cbb46c65-d635-42ec-8808-467cc2ff35b0",
   "metadata": {},
   "outputs": [],
   "source": [
    "# empty list\n",
    "print([])"
   ]
  },
  {
   "cell_type": "code",
   "execution_count": null,
   "id": "61eaa253-b0f2-4bc2-986a-32a9c05adbd0",
   "metadata": {},
   "outputs": [],
   "source": [
    "# 1D\n",
    "print([1, 2, 3, 4, 5])"
   ]
  },
  {
   "cell_type": "code",
   "execution_count": null,
   "id": "9f35f1a9-5730-41f2-b3db-c4c7ef207018",
   "metadata": {},
   "outputs": [],
   "source": [
    "# 2D\n",
    "print([1, 2, 3, [4, 5]])"
   ]
  },
  {
   "cell_type": "code",
   "execution_count": 6,
   "id": "ff22ff53-46b4-4c78-b20e-28e32f6f61b3",
   "metadata": {},
   "outputs": [
    {
     "name": "stdout",
     "output_type": "stream",
     "text": [
      "[[[1, 2], [3, 4]], [[5, 6], [7, 8]]]\n"
     ]
    }
   ],
   "source": [
    "# 3D\n",
    "print([[[1, 2], [3, 4]], [[5, 6], [7, 8]]])"
   ]
  },
  {
   "cell_type": "code",
   "execution_count": 7,
   "id": "e7fafd2b-6983-4c81-a4e3-b8c2a522ac1c",
   "metadata": {},
   "outputs": [
    {
     "name": "stdout",
     "output_type": "stream",
     "text": [
      "[1, True, 5.6, (5+6j), 'Hello']\n"
     ]
    }
   ],
   "source": [
    "# Heterogeneous\n",
    "print([1, True, 5.6, 5+6j, 'Hello'])"
   ]
  },
  {
   "cell_type": "code",
   "execution_count": 8,
   "id": "5c0dac2f-73a3-41b1-b5df-df1e116afde5",
   "metadata": {},
   "outputs": [
    {
     "name": "stdout",
     "output_type": "stream",
     "text": [
      "['h', 'e', 'l', 'l', 'o']\n"
     ]
    }
   ],
   "source": [
    "# with Type conversion\n",
    "print(list('hello'))"
   ]
  },
  {
   "cell_type": "markdown",
   "id": "ea9b8f64-8d81-4b52-b0a2-4d1ee16ff54e",
   "metadata": {},
   "source": [
    "# Accessing items from a list\n",
    "\n",
    "- Indexing\n",
    "- Slicing"
   ]
  },
  {
   "cell_type": "code",
   "execution_count": 9,
   "id": "4afc8c80-c5af-4457-90be-7f07f8386bf7",
   "metadata": {},
   "outputs": [
    {
     "data": {
      "text/plain": [
       "[1, 2, 3, 4, 5]"
      ]
     },
     "execution_count": 9,
     "metadata": {},
     "output_type": "execute_result"
    }
   ],
   "source": [
    "l = [1, 2, 3, 4, 5]\n",
    "l"
   ]
  },
  {
   "cell_type": "code",
   "execution_count": 10,
   "id": "e5309846-7cd2-4c45-9390-a3f5cc7778f4",
   "metadata": {},
   "outputs": [
    {
     "data": {
      "text/plain": [
       "5"
      ]
     },
     "execution_count": 10,
     "metadata": {},
     "output_type": "execute_result"
    }
   ],
   "source": [
    "l[4]"
   ]
  },
  {
   "cell_type": "code",
   "execution_count": 11,
   "id": "1c508607-a003-43b5-88f9-20e2197d7189",
   "metadata": {},
   "outputs": [
    {
     "data": {
      "text/plain": [
       "5"
      ]
     },
     "execution_count": 11,
     "metadata": {},
     "output_type": "execute_result"
    }
   ],
   "source": [
    "l[-1]"
   ]
  },
  {
   "cell_type": "code",
   "execution_count": 12,
   "id": "d655badd-7784-4d17-abc0-35ac1d3edb77",
   "metadata": {},
   "outputs": [
    {
     "data": {
      "text/plain": [
       "4"
      ]
     },
     "execution_count": 12,
     "metadata": {},
     "output_type": "execute_result"
    }
   ],
   "source": [
    "l[-2]"
   ]
  },
  {
   "cell_type": "code",
   "execution_count": 13,
   "id": "ab65f7d0-d3e0-4976-9132-71aea1bcb013",
   "metadata": {},
   "outputs": [
    {
     "name": "stdout",
     "output_type": "stream",
     "text": [
      "[1, 2, 3, [4, 5]]\n"
     ]
    }
   ],
   "source": [
    "print([1, 2, 3, [4, 5]])"
   ]
  },
  {
   "cell_type": "code",
   "execution_count": 14,
   "id": "cc06440a-d9e0-4663-b2c6-47032aff2cbf",
   "metadata": {},
   "outputs": [
    {
     "data": {
      "text/plain": [
       "[1, 2, 3, [4, 5]]"
      ]
     },
     "execution_count": 14,
     "metadata": {},
     "output_type": "execute_result"
    }
   ],
   "source": [
    "l2 = [1, 2, 3, [4, 5]]\n",
    "l2"
   ]
  },
  {
   "cell_type": "code",
   "execution_count": 15,
   "id": "bf7a9e17-c51a-42b6-ac54-540ead9ce417",
   "metadata": {},
   "outputs": [
    {
     "data": {
      "text/plain": [
       "[4, 5]"
      ]
     },
     "execution_count": 15,
     "metadata": {},
     "output_type": "execute_result"
    }
   ],
   "source": [
    "l2[3]"
   ]
  },
  {
   "cell_type": "code",
   "execution_count": 16,
   "id": "c3fc0303-4c28-4f1e-a96f-420066f279ef",
   "metadata": {},
   "outputs": [
    {
     "data": {
      "text/plain": [
       "5"
      ]
     },
     "execution_count": 16,
     "metadata": {},
     "output_type": "execute_result"
    }
   ],
   "source": [
    "l2[3][1]"
   ]
  },
  {
   "cell_type": "code",
   "execution_count": 17,
   "id": "4b95514c-d535-481d-b530-75fa03a393ce",
   "metadata": {},
   "outputs": [
    {
     "data": {
      "text/plain": [
       "4"
      ]
     },
     "execution_count": 17,
     "metadata": {},
     "output_type": "execute_result"
    }
   ],
   "source": [
    "l2[3][0]"
   ]
  },
  {
   "cell_type": "code",
   "execution_count": 18,
   "id": "2c6bec43-c249-4eb1-bcf5-0f10a57ddec1",
   "metadata": {},
   "outputs": [
    {
     "data": {
      "text/plain": [
       "[[[1, 2], [3, 4]], [[5, 6], [7, 8]]]"
      ]
     },
     "execution_count": 18,
     "metadata": {},
     "output_type": "execute_result"
    }
   ],
   "source": [
    "l3 = [[[1, 2], [3, 4]], [[5, 6], [7, 8]]]\n",
    "l3"
   ]
  },
  {
   "cell_type": "code",
   "execution_count": 22,
   "id": "ccda339b-b158-4e65-8855-ffde35748f72",
   "metadata": {},
   "outputs": [
    {
     "data": {
      "text/plain": [
       "2"
      ]
     },
     "execution_count": 22,
     "metadata": {},
     "output_type": "execute_result"
    }
   ],
   "source": [
    "len(l3)"
   ]
  },
  {
   "cell_type": "code",
   "execution_count": 20,
   "id": "32c1c6f2-bfff-43ad-ae92-cba855847a27",
   "metadata": {},
   "outputs": [
    {
     "data": {
      "text/plain": [
       "[[1, 2], [3, 4]]"
      ]
     },
     "execution_count": 20,
     "metadata": {},
     "output_type": "execute_result"
    }
   ],
   "source": [
    "l3[0]"
   ]
  },
  {
   "cell_type": "code",
   "execution_count": 21,
   "id": "db40ac11-3099-4c70-921c-060d17d0c085",
   "metadata": {},
   "outputs": [
    {
     "data": {
      "text/plain": [
       "[[5, 6], [7, 8]]"
      ]
     },
     "execution_count": 21,
     "metadata": {},
     "output_type": "execute_result"
    }
   ],
   "source": [
    "l3[1]"
   ]
  },
  {
   "cell_type": "code",
   "execution_count": 23,
   "id": "582b1f4e-f867-4e8f-9af5-001f0822da9e",
   "metadata": {},
   "outputs": [
    {
     "data": {
      "text/plain": [
       "2"
      ]
     },
     "execution_count": 23,
     "metadata": {},
     "output_type": "execute_result"
    }
   ],
   "source": [
    "len(l3[0])"
   ]
  },
  {
   "cell_type": "code",
   "execution_count": 24,
   "id": "05fbdb83-29e2-413c-8317-0482c3e11c4a",
   "metadata": {},
   "outputs": [
    {
     "data": {
      "text/plain": [
       "4"
      ]
     },
     "execution_count": 24,
     "metadata": {},
     "output_type": "execute_result"
    }
   ],
   "source": [
    "l3[0][1][1]"
   ]
  },
  {
   "cell_type": "code",
   "execution_count": 25,
   "id": "3ae8d99a-9c30-461c-8126-24bb22cc6f47",
   "metadata": {},
   "outputs": [
    {
     "data": {
      "text/plain": [
       "5"
      ]
     },
     "execution_count": 25,
     "metadata": {},
     "output_type": "execute_result"
    }
   ],
   "source": [
    "l3[1][0][0]"
   ]
  },
  {
   "cell_type": "code",
   "execution_count": 26,
   "id": "be4e76c9-7ddf-4cae-b08b-6cef872fd513",
   "metadata": {},
   "outputs": [
    {
     "data": {
      "text/plain": [
       "[1, 2, 3, 4, 5]"
      ]
     },
     "execution_count": 26,
     "metadata": {},
     "output_type": "execute_result"
    }
   ],
   "source": [
    "l = [1, 2, 3, 4, 5]\n",
    "l"
   ]
  },
  {
   "cell_type": "code",
   "execution_count": 27,
   "id": "31a97270-5178-4d00-8863-91294ad13dac",
   "metadata": {},
   "outputs": [
    {
     "data": {
      "text/plain": [
       "[1, 2]"
      ]
     },
     "execution_count": 27,
     "metadata": {},
     "output_type": "execute_result"
    }
   ],
   "source": [
    "l[0:2]"
   ]
  },
  {
   "cell_type": "code",
   "execution_count": 28,
   "id": "f041f19b-ac70-4aaa-b1e3-f2d2af139cea",
   "metadata": {},
   "outputs": [
    {
     "data": {
      "text/plain": [
       "[3, 4, 5]"
      ]
     },
     "execution_count": 28,
     "metadata": {},
     "output_type": "execute_result"
    }
   ],
   "source": [
    "l[2:5]"
   ]
  },
  {
   "cell_type": "code",
   "execution_count": 29,
   "id": "98949b80-c0b8-460f-988b-f7ccbd7bf3d7",
   "metadata": {},
   "outputs": [
    {
     "data": {
      "text/plain": [
       "[1, 2, 3, 4, 5]"
      ]
     },
     "execution_count": 29,
     "metadata": {},
     "output_type": "execute_result"
    }
   ],
   "source": [
    "l[:]"
   ]
  },
  {
   "cell_type": "code",
   "execution_count": 30,
   "id": "79b32e66-8aab-4784-9426-0cad2538fc31",
   "metadata": {},
   "outputs": [
    {
     "data": {
      "text/plain": [
       "[1, 3, 5]"
      ]
     },
     "execution_count": 30,
     "metadata": {},
     "output_type": "execute_result"
    }
   ],
   "source": [
    "l[::2]"
   ]
  },
  {
   "cell_type": "code",
   "execution_count": null,
   "id": "194d20b0-c4bf-414d-8ec5-ceaecba674b4",
   "metadata": {},
   "outputs": [],
   "source": []
  }
 ],
 "metadata": {
  "kernelspec": {
   "display_name": "Python 3 (ipykernel)",
   "language": "python",
   "name": "python3"
  },
  "language_info": {
   "codemirror_mode": {
    "name": "ipython",
    "version": 3
   },
   "file_extension": ".py",
   "mimetype": "text/x-python",
   "name": "python",
   "nbconvert_exporter": "python",
   "pygments_lexer": "ipython3",
   "version": "3.11.7"
  }
 },
 "nbformat": 4,
 "nbformat_minor": 5
}
