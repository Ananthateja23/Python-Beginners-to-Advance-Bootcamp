{
 "cells": [
  {
   "cell_type": "markdown",
   "id": "d3f1e22b-ce1a-47a6-ba6c-33a98dbdd8ee",
   "metadata": {},
   "source": [
    "# Tuple Comprehension\n",
    "\n",
    "- You might have read about list comprehension in Python. However, there is no tuple comprehension in Python. But we will discuss how we can emulate tuple comprehension in python"
   ]
  },
  {
   "cell_type": "code",
   "execution_count": 1,
   "id": "c159f1c0-f742-4ecf-a725-418820d6616f",
   "metadata": {},
   "outputs": [
    {
     "name": "stdout",
     "output_type": "stream",
     "text": [
      "[1, 2, 3, 4, 5, 6, 7, 8, 9, 10]\n"
     ]
    }
   ],
   "source": [
    "# Add 1 to 10 numbers to a list\n",
    "\n",
    "l = []\n",
    "\n",
    "for i in range(1, 11):\n",
    "    l.append(i)\n",
    "\n",
    "print(l)"
   ]
  },
  {
   "cell_type": "code",
   "execution_count": 2,
   "id": "57ad8591-a135-4726-a1b9-e8eb7c19cb4d",
   "metadata": {},
   "outputs": [
    {
     "data": {
      "text/plain": [
       "<generator object <genexpr> at 0x0000022995429490>"
      ]
     },
     "execution_count": 2,
     "metadata": {},
     "output_type": "execute_result"
    }
   ],
   "source": [
    "(i for i in range(1, 11))"
   ]
  },
  {
   "cell_type": "code",
   "execution_count": 3,
   "id": "914ea9d7-406e-4a04-bca7-ed86832e7373",
   "metadata": {},
   "outputs": [
    {
     "data": {
      "text/plain": [
       "(1, 2, 3, 4, 5, 6, 7, 8, 9, 10)"
      ]
     },
     "execution_count": 3,
     "metadata": {},
     "output_type": "execute_result"
    }
   ],
   "source": [
    "tuple((i for i in range(1, 11)))"
   ]
  },
  {
   "cell_type": "code",
   "execution_count": 4,
   "id": "7dcbf978-31d0-44e4-9b6c-4d880c687770",
   "metadata": {},
   "outputs": [
    {
     "data": {
      "text/plain": [
       "(1, 2, 3, 4, 5, 6, 7, 8, 9, 10)"
      ]
     },
     "execution_count": 4,
     "metadata": {},
     "output_type": "execute_result"
    }
   ],
   "source": [
    "tcomp = tuple((i for i in range(1, 11)))\n",
    "tcomp"
   ]
  },
  {
   "cell_type": "code",
   "execution_count": null,
   "id": "c4b763d2-6200-4171-8899-5f2922f4c922",
   "metadata": {},
   "outputs": [],
   "source": [
    "# watch list comprehension and practice with tuple comprehension"
   ]
  }
 ],
 "metadata": {
  "kernelspec": {
   "display_name": "Python 3 (ipykernel)",
   "language": "python",
   "name": "python3"
  },
  "language_info": {
   "codemirror_mode": {
    "name": "ipython",
    "version": 3
   },
   "file_extension": ".py",
   "mimetype": "text/x-python",
   "name": "python",
   "nbconvert_exporter": "python",
   "pygments_lexer": "ipython3",
   "version": "3.11.7"
  }
 },
 "nbformat": 4,
 "nbformat_minor": 5
}
