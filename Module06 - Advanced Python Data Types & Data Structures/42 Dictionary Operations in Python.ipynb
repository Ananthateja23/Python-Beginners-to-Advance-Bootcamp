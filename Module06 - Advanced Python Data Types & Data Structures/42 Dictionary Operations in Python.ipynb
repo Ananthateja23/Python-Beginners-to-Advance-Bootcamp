{
 "cells": [
  {
   "cell_type": "markdown",
   "id": "f767af2c-01c0-4991-8963-5411d12bdd1a",
   "metadata": {},
   "source": [
    "# Dictionary Operations\n",
    "\n",
    "- Membership\n",
    "- Iteration"
   ]
  },
  {
   "cell_type": "code",
   "execution_count": 1,
   "id": "3850e5b0-debe-49f0-bec7-7a5ca7ea45dd",
   "metadata": {},
   "outputs": [
    {
     "name": "stdout",
     "output_type": "stream",
     "text": [
      "{'name': 'Happy', 'age': 22, 'gender': 'male'}\n"
     ]
    }
   ],
   "source": [
    "d = {\"name\": \"Happy\", \"age\": 22, \"gender\": \"male\"}\n",
    "print(d)"
   ]
  },
  {
   "cell_type": "code",
   "execution_count": 3,
   "id": "3ca1d931-745c-4062-a9b4-cb35c0573edc",
   "metadata": {},
   "outputs": [
    {
     "data": {
      "text/plain": [
       "False"
      ]
     },
     "execution_count": 3,
     "metadata": {},
     "output_type": "execute_result"
    }
   ],
   "source": [
    "\"Happy\" in d"
   ]
  },
  {
   "cell_type": "code",
   "execution_count": 4,
   "id": "46f60582-8d4f-4b59-9dff-6342bcc9d694",
   "metadata": {},
   "outputs": [
    {
     "data": {
      "text/plain": [
       "True"
      ]
     },
     "execution_count": 4,
     "metadata": {},
     "output_type": "execute_result"
    }
   ],
   "source": [
    "\"name\" in d"
   ]
  },
  {
   "cell_type": "code",
   "execution_count": 5,
   "id": "6201b5b4-d24e-4537-9ed6-15b49b9b93d9",
   "metadata": {},
   "outputs": [
    {
     "data": {
      "text/plain": [
       "False"
      ]
     },
     "execution_count": 5,
     "metadata": {},
     "output_type": "execute_result"
    }
   ],
   "source": [
    "\"name\" not in d"
   ]
  },
  {
   "cell_type": "code",
   "execution_count": 6,
   "id": "cf4fc441-32c8-48dd-b2f6-c7eb03b905bd",
   "metadata": {},
   "outputs": [
    {
     "name": "stdout",
     "output_type": "stream",
     "text": [
      "name\n",
      "age\n",
      "gender\n"
     ]
    }
   ],
   "source": [
    "for i in d:\n",
    "    print(i)"
   ]
  },
  {
   "cell_type": "code",
   "execution_count": 7,
   "id": "2e0e28a2-4cd3-404e-8c65-43cc93fc197f",
   "metadata": {},
   "outputs": [
    {
     "name": "stdout",
     "output_type": "stream",
     "text": [
      "Happy\n",
      "22\n",
      "male\n"
     ]
    }
   ],
   "source": [
    "for i in d.values():\n",
    "    print(i)"
   ]
  },
  {
   "cell_type": "code",
   "execution_count": 8,
   "id": "52851b4e-3033-4558-9e24-ca8b7d04c502",
   "metadata": {},
   "outputs": [
    {
     "name": "stdout",
     "output_type": "stream",
     "text": [
      "name Happy\n",
      "age 22\n",
      "gender male\n"
     ]
    }
   ],
   "source": [
    "for i in d:\n",
    "    print(i, d[i])"
   ]
  },
  {
   "cell_type": "code",
   "execution_count": null,
   "id": "7654b5ee-9d10-46a2-9470-c10fa248f5f5",
   "metadata": {},
   "outputs": [],
   "source": []
  }
 ],
 "metadata": {
  "kernelspec": {
   "display_name": "Python 3 (ipykernel)",
   "language": "python",
   "name": "python3"
  },
  "language_info": {
   "codemirror_mode": {
    "name": "ipython",
    "version": 3
   },
   "file_extension": ".py",
   "mimetype": "text/x-python",
   "name": "python",
   "nbconvert_exporter": "python",
   "pygments_lexer": "ipython3",
   "version": "3.11.7"
  }
 },
 "nbformat": 4,
 "nbformat_minor": 5
}
