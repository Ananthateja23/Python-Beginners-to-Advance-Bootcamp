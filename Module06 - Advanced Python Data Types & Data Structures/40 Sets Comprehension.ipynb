{
 "cells": [
  {
   "cell_type": "code",
   "execution_count": 1,
   "id": "28367f80-cec7-48a6-83f5-920fc25e9fec",
   "metadata": {},
   "outputs": [
    {
     "name": "stdout",
     "output_type": "stream",
     "text": [
      "{1, 2, 3, 4, 5, 6, 7, 8, 9, 10}\n"
     ]
    }
   ],
   "source": [
    "scomp = {i for i in range(1, 11)}\n",
    "print(scomp)"
   ]
  },
  {
   "cell_type": "code",
   "execution_count": 2,
   "id": "c2ae8c16-7a22-4070-aeba-0a267e64470e",
   "metadata": {},
   "outputs": [
    {
     "name": "stdout",
     "output_type": "stream",
     "text": [
      "{64, 36, 100, 49, 81}\n"
     ]
    }
   ],
   "source": [
    "scomp = {i**2 for i in range(1, 11) if (i > 5)}\n",
    "print(scomp)"
   ]
  },
  {
   "cell_type": "code",
   "execution_count": null,
   "id": "1b287735-f5f3-43eb-aa99-6d1d4ff1c82d",
   "metadata": {},
   "outputs": [],
   "source": [
    "# Assignment: watch list comprehension and implement set comprehension to those examples"
   ]
  }
 ],
 "metadata": {
  "kernelspec": {
   "display_name": "Python 3 (ipykernel)",
   "language": "python",
   "name": "python3"
  },
  "language_info": {
   "codemirror_mode": {
    "name": "ipython",
    "version": 3
   },
   "file_extension": ".py",
   "mimetype": "text/x-python",
   "name": "python",
   "nbconvert_exporter": "python",
   "pygments_lexer": "ipython3",
   "version": "3.11.7"
  }
 },
 "nbformat": 4,
 "nbformat_minor": 5
}
