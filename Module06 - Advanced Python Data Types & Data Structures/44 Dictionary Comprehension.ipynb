{
 "cells": [
  {
   "cell_type": "markdown",
   "id": "50f25938-d24e-458d-964e-a92a2d45f351",
   "metadata": {},
   "source": [
    "# Dictionary Comprehension\n",
    "\n",
    "- new_dict = {key: value for vars in iterable}"
   ]
  },
  {
   "cell_type": "code",
   "execution_count": 1,
   "id": "7318e578-6cbc-4514-bd7e-47cb79eb881d",
   "metadata": {},
   "outputs": [
    {
     "data": {
      "text/plain": [
       "{1: 1, 2: 4, 3: 9, 4: 16, 5: 25, 6: 36, 7: 49, 8: 64, 9: 81, 10: 100}"
      ]
     },
     "execution_count": 1,
     "metadata": {},
     "output_type": "execute_result"
    }
   ],
   "source": [
    "# print 1 to 10 number and their squares\n",
    "\n",
    "new_dict = {i: i**2 for i in range(1, 11)}\n",
    "new_dict"
   ]
  },
  {
   "cell_type": "code",
   "execution_count": 2,
   "id": "3828ba08-a8af-4d4b-8507-3aa9759904da",
   "metadata": {},
   "outputs": [
    {
     "name": "stdout",
     "output_type": "stream",
     "text": [
      "{'phone': 10, 'laptop': 0, 'charger': 32, 'tablet': 0}\n"
     ]
    }
   ],
   "source": [
    "# using if condition\n",
    "\n",
    "products = {'phone': 10, 'laptop': 0, 'charger': 32, 'tablet': 0}\n",
    "print(products)"
   ]
  },
  {
   "cell_type": "code",
   "execution_count": 3,
   "id": "cc933ee2-b51a-44dd-a2f9-e71e0d5a3cd2",
   "metadata": {},
   "outputs": [
    {
     "data": {
      "text/plain": [
       "{'phone': 10, 'charger': 32}"
      ]
     },
     "execution_count": 3,
     "metadata": {},
     "output_type": "execute_result"
    }
   ],
   "source": [
    "new_product = {key: value for key, value in products.items() if (products[key] != 0)}\n",
    "new_product"
   ]
  },
  {
   "cell_type": "code",
   "execution_count": 4,
   "id": "01eae389-78d6-4815-b4e4-807cfd49c4d9",
   "metadata": {},
   "outputs": [
    {
     "data": {
      "text/plain": [
       "{'phone': 10, 'charger': 32}"
      ]
     },
     "execution_count": 4,
     "metadata": {},
     "output_type": "execute_result"
    }
   ],
   "source": [
    "new_product = {key: value for key, value in products.items() if (value > 0)}\n",
    "new_product"
   ]
  },
  {
   "cell_type": "code",
   "execution_count": 6,
   "id": "0dc33ebc-34d3-4c67-b6cc-6ae2fe7e4439",
   "metadata": {},
   "outputs": [
    {
     "data": {
      "text/plain": [
       "{'Sunday': 30.5,\n",
       " 'Monday': 32.6,\n",
       " 'Tuesday': 31.8,\n",
       " 'Wednesday': 33.4,\n",
       " 'Thursday': 29.8,\n",
       " 'Friday': 30.2,\n",
       " 'Saturday': 29.9}"
      ]
     },
     "execution_count": 6,
     "metadata": {},
     "output_type": "execute_result"
    }
   ],
   "source": [
    "# using zip function\n",
    "\n",
    "days = [\"Sunday\", \"Monday\", \"Tuesday\", \"Wednesday\", \"Thursday\", \"Friday\", \"Saturday\"]\n",
    "temp_c = [30.5, 32.6, 31.8, 33.4, 29.8, 30.2, 29.9]\n",
    "\n",
    "dict_zip = {key: value for key, value in zip(days, temp_c)}\n",
    "dict_zip"
   ]
  },
  {
   "cell_type": "code",
   "execution_count": null,
   "id": "840c4328-97d0-4cf0-a534-d09a91f0106a",
   "metadata": {},
   "outputs": [],
   "source": []
  }
 ],
 "metadata": {
  "kernelspec": {
   "display_name": "Python 3 (ipykernel)",
   "language": "python",
   "name": "python3"
  },
  "language_info": {
   "codemirror_mode": {
    "name": "ipython",
    "version": 3
   },
   "file_extension": ".py",
   "mimetype": "text/x-python",
   "name": "python",
   "nbconvert_exporter": "python",
   "pygments_lexer": "ipython3",
   "version": "3.11.7"
  }
 },
 "nbformat": 4,
 "nbformat_minor": 5
}
