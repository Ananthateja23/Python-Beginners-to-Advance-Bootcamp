{
 "cells": [
  {
   "cell_type": "markdown",
   "id": "d73022b7-bb62-4682-8348-1b1558d4edda",
   "metadata": {},
   "source": [
    "```python\n",
    "\n",
    "\n",
    "import os\n",
    "import shutil # it does copy and move operations\n",
    "\n",
    "\n",
    "path = input(\"Enter the path : \")\n",
    "files = os.listdir(path)\n",
    "\n",
    "print(files)\n",
    "\n",
    "for file in files:\n",
    "    filename, extension = os.path.splitext(file)\n",
    "    print(filename, extension)\n",
    "    extension = extension[1:]\n",
    "    print(extension)\n",
    "\n",
    "    print(path+\"/\"+extension)\n",
    "    if os.path.exists(path+\"/\"+extension):\n",
    "        shutil.move(path+\"/\"+file, path+\"/\"+extension+\"/\"+file)\n",
    "    else:\n",
    "        os.makedirs(path+\"/\"+extension)\n",
    "        shutil.move(path+\"/\"+file, path+\"/\"+extension+\"/\"+file)\n",
    "        \n",
    "```"
   ]
  },
  {
   "cell_type": "code",
   "execution_count": null,
   "id": "8c824987-c043-4e4c-b490-9c7773d48cf8",
   "metadata": {},
   "outputs": [],
   "source": []
  }
 ],
 "metadata": {
  "kernelspec": {
   "display_name": "Python 3 (ipykernel)",
   "language": "python",
   "name": "python3"
  },
  "language_info": {
   "codemirror_mode": {
    "name": "ipython",
    "version": 3
   },
   "file_extension": ".py",
   "mimetype": "text/x-python",
   "name": "python",
   "nbconvert_exporter": "python",
   "pygments_lexer": "ipython3",
   "version": "3.11.7"
  }
 },
 "nbformat": 4,
 "nbformat_minor": 5
}
