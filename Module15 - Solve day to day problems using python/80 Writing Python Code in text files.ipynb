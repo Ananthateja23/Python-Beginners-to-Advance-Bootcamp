{
 "cells": [
  {
   "cell_type": "markdown",
   "id": "6e43f6a6-ab08-47e9-8352-cc8114bfde09",
   "metadata": {},
   "source": [
    "# Writing python code in text files"
   ]
  },
  {
   "cell_type": "markdown",
   "id": "2bef5b1c-09fa-486d-9103-f6b3d756c599",
   "metadata": {},
   "source": [
    "```python\n",
    "\n",
    "filename: my_program.txt\n",
    "\n",
    "program:\n",
    "\n",
    "a = 5\n",
    "b = 6\n",
    "\n",
    "result =  a + b\n",
    "print(result)\n",
    "\n",
    "\n",
    "Command to execute a Python program in a text file: python my_program.txt\n",
    "```"
   ]
  },
  {
   "cell_type": "code",
   "execution_count": null,
   "id": "f19180eb-91a1-4c79-8eb7-962043dad205",
   "metadata": {},
   "outputs": [],
   "source": []
  }
 ],
 "metadata": {
  "kernelspec": {
   "display_name": "Python 3 (ipykernel)",
   "language": "python",
   "name": "python3"
  },
  "language_info": {
   "codemirror_mode": {
    "name": "ipython",
    "version": 3
   },
   "file_extension": ".py",
   "mimetype": "text/x-python",
   "name": "python",
   "nbconvert_exporter": "python",
   "pygments_lexer": "ipython3",
   "version": "3.11.7"
  }
 },
 "nbformat": 4,
 "nbformat_minor": 5
}
