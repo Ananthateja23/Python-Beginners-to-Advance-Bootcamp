{
 "cells": [
  {
   "cell_type": "code",
   "execution_count": 1,
   "id": "35cf994f-5442-4fb5-a231-e6d3e31be6ea",
   "metadata": {},
   "outputs": [
    {
     "name": "stdout",
     "output_type": "stream",
     "text": [
      "hello world\n",
      "Inside finally block. It always excutes\n"
     ]
    }
   ],
   "source": [
    "try:\n",
    "    f = open(\"files/sample.txt\", \"r\")\n",
    "except FileNotFoundError:\n",
    "    print(\"File not found\")\n",
    "else:\n",
    "    print(f.read())\n",
    "finally:\n",
    "    print(\"Inside finally block. It always excutes\")"
   ]
  },
  {
   "cell_type": "code",
   "execution_count": 2,
   "id": "2f7a365e-12fd-456a-ba19-99479a98a497",
   "metadata": {},
   "outputs": [
    {
     "name": "stdout",
     "output_type": "stream",
     "text": [
      "File not found\n",
      "Inside finally block. It always excutes\n"
     ]
    }
   ],
   "source": [
    "try:\n",
    "    f = open(\"files/sample1.txt\", \"r\")\n",
    "except FileNotFoundError:\n",
    "    print(\"File not found\")\n",
    "else:\n",
    "    print(f.read())\n",
    "finally:\n",
    "    print(\"Inside finally block. It always excutes\")"
   ]
  },
  {
   "cell_type": "code",
   "execution_count": null,
   "id": "7a07aaaf-5e1a-4f8d-aa73-8ed7cc6cd8b6",
   "metadata": {},
   "outputs": [],
   "source": []
  }
 ],
 "metadata": {
  "kernelspec": {
   "display_name": "Python 3 (ipykernel)",
   "language": "python",
   "name": "python3"
  },
  "language_info": {
   "codemirror_mode": {
    "name": "ipython",
    "version": 3
   },
   "file_extension": ".py",
   "mimetype": "text/x-python",
   "name": "python",
   "nbconvert_exporter": "python",
   "pygments_lexer": "ipython3",
   "version": "3.11.7"
  }
 },
 "nbformat": 4,
 "nbformat_minor": 5
}
