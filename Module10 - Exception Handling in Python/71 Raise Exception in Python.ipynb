{
 "cells": [
  {
   "cell_type": "code",
   "execution_count": 1,
   "id": "1a351699-20eb-4c4d-8d27-0a6c99d30b28",
   "metadata": {},
   "outputs": [
    {
     "ename": "Exception",
     "evalue": "It is exception message",
     "output_type": "error",
     "traceback": [
      "\u001b[1;31m---------------------------------------------------------------------------\u001b[0m",
      "\u001b[1;31mException\u001b[0m                                 Traceback (most recent call last)",
      "Cell \u001b[1;32mIn[1], line 1\u001b[0m\n\u001b[1;32m----> 1\u001b[0m \u001b[38;5;28;01mraise\u001b[39;00m \u001b[38;5;167;01mException\u001b[39;00m(\u001b[38;5;124m\"\u001b[39m\u001b[38;5;124mIt is exception message\u001b[39m\u001b[38;5;124m\"\u001b[39m)\n",
      "\u001b[1;31mException\u001b[0m: It is exception message"
     ]
    }
   ],
   "source": [
    "raise Exception(\"It is exception message\")"
   ]
  },
  {
   "cell_type": "code",
   "execution_count": 2,
   "id": "0b37755c-8e34-40c0-b0c6-d0bc1e825693",
   "metadata": {},
   "outputs": [
    {
     "ename": "TypeError",
     "evalue": "It is exception message",
     "output_type": "error",
     "traceback": [
      "\u001b[1;31m---------------------------------------------------------------------------\u001b[0m",
      "\u001b[1;31mTypeError\u001b[0m                                 Traceback (most recent call last)",
      "Cell \u001b[1;32mIn[2], line 1\u001b[0m\n\u001b[1;32m----> 1\u001b[0m \u001b[38;5;28;01mraise\u001b[39;00m \u001b[38;5;167;01mTypeError\u001b[39;00m(\u001b[38;5;124m\"\u001b[39m\u001b[38;5;124mIt is exception message\u001b[39m\u001b[38;5;124m\"\u001b[39m)\n",
      "\u001b[1;31mTypeError\u001b[0m: It is exception message"
     ]
    }
   ],
   "source": [
    "raise TypeError(\"It is exception message\")"
   ]
  },
  {
   "cell_type": "code",
   "execution_count": 3,
   "id": "eab3cb6d-a695-4ff8-a929-ef1423c100bb",
   "metadata": {},
   "outputs": [
    {
     "ename": "NameError",
     "evalue": "It is exception message",
     "output_type": "error",
     "traceback": [
      "\u001b[1;31m---------------------------------------------------------------------------\u001b[0m",
      "\u001b[1;31mNameError\u001b[0m                                 Traceback (most recent call last)",
      "Cell \u001b[1;32mIn[3], line 1\u001b[0m\n\u001b[1;32m----> 1\u001b[0m \u001b[38;5;28;01mraise\u001b[39;00m \u001b[38;5;167;01mNameError\u001b[39;00m(\u001b[38;5;124m\"\u001b[39m\u001b[38;5;124mIt is exception message\u001b[39m\u001b[38;5;124m\"\u001b[39m)\n",
      "\u001b[1;31mNameError\u001b[0m: It is exception message"
     ]
    }
   ],
   "source": [
    "raise NameError(\"It is exception message\")"
   ]
  },
  {
   "cell_type": "code",
   "execution_count": 4,
   "id": "1dd4209e-b757-457d-b13d-72e14ffec653",
   "metadata": {},
   "outputs": [],
   "source": [
    "def divide_numbers(a, b):\n",
    "    if b == 0:\n",
    "        raise Exception(\"can't divide number with zero\")\n",
    "    else:\n",
    "        return a/b"
   ]
  },
  {
   "cell_type": "code",
   "execution_count": 5,
   "id": "97567906-f204-4c17-94bc-45637b12d5ad",
   "metadata": {},
   "outputs": [
    {
     "name": "stdout",
     "output_type": "stream",
     "text": [
      "can't divide number with zero\n"
     ]
    }
   ],
   "source": [
    "try:\n",
    "    result = divide_numbers(10, 0)\n",
    "    print(result)\n",
    "except Exception as e:\n",
    "    print(e)"
   ]
  },
  {
   "cell_type": "code",
   "execution_count": 6,
   "id": "0c2a667c-5cd7-46c4-ba21-5a66f74525c2",
   "metadata": {},
   "outputs": [
    {
     "name": "stdout",
     "output_type": "stream",
     "text": [
      "1.1111111111111112\n"
     ]
    }
   ],
   "source": [
    "try:\n",
    "    result = divide_numbers(10, 9)\n",
    "    print(result)\n",
    "except Exception as e:\n",
    "    print(e)"
   ]
  },
  {
   "cell_type": "code",
   "execution_count": null,
   "id": "98caed5c-4ab5-48f3-ae92-7b4f36fecd72",
   "metadata": {},
   "outputs": [],
   "source": []
  }
 ],
 "metadata": {
  "kernelspec": {
   "display_name": "Python 3 (ipykernel)",
   "language": "python",
   "name": "python3"
  },
  "language_info": {
   "codemirror_mode": {
    "name": "ipython",
    "version": 3
   },
   "file_extension": ".py",
   "mimetype": "text/x-python",
   "name": "python",
   "nbconvert_exporter": "python",
   "pygments_lexer": "ipython3",
   "version": "3.11.7"
  }
 },
 "nbformat": 4,
 "nbformat_minor": 5
}
