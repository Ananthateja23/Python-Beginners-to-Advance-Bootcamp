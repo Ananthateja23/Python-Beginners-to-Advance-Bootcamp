{
 "cells": [
  {
   "cell_type": "code",
   "execution_count": 2,
   "id": "0e1daa93-4a9f-4e02-a809-e6a53cc61fbd",
   "metadata": {},
   "outputs": [
    {
     "name": "stdout",
     "output_type": "stream",
     "text": [
      "hello world\n"
     ]
    }
   ],
   "source": [
    "# let's read a file\n",
    "\n",
    "try:\n",
    "    with open(\"files/sample.txt\", \"r\") as f:\n",
    "        print(f.read())\n",
    "except:\n",
    "    print(\"file not found\")"
   ]
  },
  {
   "cell_type": "code",
   "execution_count": 3,
   "id": "9b0b4e08-92fe-422c-994d-db9f98e15c6f",
   "metadata": {},
   "outputs": [
    {
     "name": "stdout",
     "output_type": "stream",
     "text": [
      "hello world\n",
      "8\n"
     ]
    }
   ],
   "source": [
    "# let's read a file\n",
    "\n",
    "try:\n",
    "    with open(\"files/sample.txt\", \"r\") as f:\n",
    "        print(f.read())\n",
    "\n",
    "    a = 4\n",
    "    b = 4\n",
    "    print(a + b)\n",
    "except:\n",
    "    print(\"file not found\")"
   ]
  },
  {
   "cell_type": "code",
   "execution_count": 4,
   "id": "eb41fcc7-e370-47b5-aaee-4dfb52a5f1a3",
   "metadata": {},
   "outputs": [
    {
     "name": "stdout",
     "output_type": "stream",
     "text": [
      "hello world\n",
      "file not found\n"
     ]
    }
   ],
   "source": [
    "# let's read a file\n",
    "\n",
    "try:\n",
    "    with open(\"files/sample.txt\", \"r\") as f:\n",
    "        print(f.read())\n",
    "\n",
    "    a = 4\n",
    "    b = 4\n",
    "    print(a + m)\n",
    "except:\n",
    "    print(\"file not found\")"
   ]
  },
  {
   "cell_type": "code",
   "execution_count": 5,
   "id": "d2177aef-1231-4410-a95b-45f4dc29af10",
   "metadata": {},
   "outputs": [
    {
     "name": "stdout",
     "output_type": "stream",
     "text": [
      "hello world\n",
      "8\n",
      "file not found\n"
     ]
    }
   ],
   "source": [
    "# let's read a file\n",
    "\n",
    "try:\n",
    "    with open(\"files/sample.txt\", \"r\") as f:\n",
    "        print(f.read())\n",
    "\n",
    "    a = 4\n",
    "    b = 4\n",
    "    print(a + b)\n",
    "\n",
    "    l = [1, 2, 3, 4, 5]\n",
    "    l[6]\n",
    "except:\n",
    "    print(\"file not found\")"
   ]
  },
  {
   "cell_type": "code",
   "execution_count": 7,
   "id": "466878ea-f24c-4521-9184-af47a0740ab5",
   "metadata": {},
   "outputs": [
    {
     "name": "stdout",
     "output_type": "stream",
     "text": [
      "file not found\n"
     ]
    }
   ],
   "source": [
    "# let's read a file\n",
    "\n",
    "try:\n",
    "    with open(\"files/sample1.txt\", \"r\") as f:\n",
    "        print(f.read())\n",
    "\n",
    "    print(x)\n",
    "    l = [1, 2, 3, 4, 5]\n",
    "    l[10]\n",
    "except FileNotFoundError:\n",
    "    print(\"file not found\")\n",
    "except NameError:\n",
    "    print(\"variable not defined\")\n",
    "except IndexError:\n",
    "    print(\"Index is not available\")"
   ]
  },
  {
   "cell_type": "code",
   "execution_count": 8,
   "id": "2105a98b-8694-4265-9004-6e2300ea1c84",
   "metadata": {},
   "outputs": [
    {
     "name": "stdout",
     "output_type": "stream",
     "text": [
      "hello world\n",
      "variable not defined\n"
     ]
    }
   ],
   "source": [
    "# let's read a file\n",
    "\n",
    "try:\n",
    "    with open(\"files/sample.txt\", \"r\") as f:\n",
    "        print(f.read())\n",
    "\n",
    "    print(x)\n",
    "    l = [1, 2, 3, 4, 5]\n",
    "    l[10]\n",
    "except FileNotFoundError:\n",
    "    print(\"file not found\")\n",
    "except NameError:\n",
    "    print(\"variable not defined\")\n",
    "except IndexError:\n",
    "    print(\"Index is not available\")"
   ]
  },
  {
   "cell_type": "code",
   "execution_count": 9,
   "id": "d737f04b-cd88-4161-a48a-0098ac4329b7",
   "metadata": {},
   "outputs": [
    {
     "name": "stdout",
     "output_type": "stream",
     "text": [
      "hello world\n",
      "5\n",
      "Index is not available\n"
     ]
    }
   ],
   "source": [
    "# let's read a file\n",
    "\n",
    "try:\n",
    "    with open(\"files/sample.txt\", \"r\") as f:\n",
    "        print(f.read())\n",
    "    x = 5\n",
    "    print(x)\n",
    "    l = [1, 2, 3, 4, 5]\n",
    "    l[10]\n",
    "except FileNotFoundError:\n",
    "    print(\"file not found\")\n",
    "except NameError:\n",
    "    print(\"variable not defined\")\n",
    "except IndexError:\n",
    "    print(\"Index is not available\")"
   ]
  },
  {
   "cell_type": "code",
   "execution_count": 11,
   "id": "30870074-71c1-4f2c-9be5-b05987f9d980",
   "metadata": {},
   "outputs": [
    {
     "name": "stdout",
     "output_type": "stream",
     "text": [
      "hello world\n",
      "5\n",
      "4\n",
      "division by zero\n"
     ]
    }
   ],
   "source": [
    "# let's read a file\n",
    "\n",
    "try:\n",
    "    with open(\"files/sample.txt\", \"r\") as f:\n",
    "        print(f.read())\n",
    "    x = 5\n",
    "    print(x)\n",
    "    l = [1, 2, 3, 4, 5]\n",
    "    print(l[3])\n",
    "    print(10/0)\n",
    "except FileNotFoundError:\n",
    "    print(\"file not found\")\n",
    "except NameError:\n",
    "    print(\"variable not defined\")\n",
    "except IndexError:\n",
    "    print(\"Index is not available\")\n",
    "except Exception as e:\n",
    "    print(e)"
   ]
  },
  {
   "cell_type": "code",
   "execution_count": 12,
   "id": "7a3ef3f9-eca4-4f01-b62d-b13055714461",
   "metadata": {},
   "outputs": [
    {
     "name": "stdout",
     "output_type": "stream",
     "text": [
      "hello world\n",
      "5\n",
      "4\n",
      "<built-in method with_traceback of ZeroDivisionError object at 0x000001EA59696860>\n"
     ]
    }
   ],
   "source": [
    "# let's read a file\n",
    "\n",
    "try:\n",
    "    with open(\"files/sample.txt\", \"r\") as f:\n",
    "        print(f.read())\n",
    "    x = 5\n",
    "    print(x)\n",
    "    l = [1, 2, 3, 4, 5]\n",
    "    print(l[3])\n",
    "    print(10/0)\n",
    "except FileNotFoundError:\n",
    "    print(\"file not found\")\n",
    "except NameError:\n",
    "    print(\"variable not defined\")\n",
    "except IndexError:\n",
    "    print(\"Index is not available\")\n",
    "except Exception as e:\n",
    "    print(e.with_traceback)"
   ]
  },
  {
   "cell_type": "code",
   "execution_count": null,
   "id": "6b92bf5f-29c9-44bf-8944-e2a0356c8351",
   "metadata": {},
   "outputs": [],
   "source": []
  }
 ],
 "metadata": {
  "kernelspec": {
   "display_name": "Python 3 (ipykernel)",
   "language": "python",
   "name": "python3"
  },
  "language_info": {
   "codemirror_mode": {
    "name": "ipython",
    "version": 3
   },
   "file_extension": ".py",
   "mimetype": "text/x-python",
   "name": "python",
   "nbconvert_exporter": "python",
   "pygments_lexer": "ipython3",
   "version": "3.11.7"
  }
 },
 "nbformat": 4,
 "nbformat_minor": 5
}
