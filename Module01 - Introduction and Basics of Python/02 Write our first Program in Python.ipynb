{
 "cells": [
  {
   "cell_type": "markdown",
   "id": "747b42ed-a745-41be-9ae1-388cd71f2aca",
   "metadata": {},
   "source": [
    "```\n",
    "print():\n",
    "--------\n",
    "\n",
    "==> It is a Python built-in function that takes the input and prints the output\n",
    "```"
   ]
  },
  {
   "cell_type": "code",
   "execution_count": 1,
   "id": "ff77c88e-30e5-4f1d-b298-4ed16c188c59",
   "metadata": {},
   "outputs": [
    {
     "name": "stdout",
     "output_type": "stream",
     "text": [
      "Hello World\n"
     ]
    }
   ],
   "source": [
    "print('Hello World')"
   ]
  },
  {
   "cell_type": "code",
   "execution_count": 2,
   "id": "0b197bae-a238-4d9b-8ffa-362ecc06d872",
   "metadata": {},
   "outputs": [
    {
     "name": "stdout",
     "output_type": "stream",
     "text": [
      "Hello World\n"
     ]
    }
   ],
   "source": [
    "print(\"Hello World\")"
   ]
  },
  {
   "cell_type": "code",
   "execution_count": 4,
   "id": "99711020-e9f1-4b79-aaaa-65cc90f27fd9",
   "metadata": {},
   "outputs": [
    {
     "name": "stdout",
     "output_type": "stream",
     "text": [
      "Anantha Teja\n"
     ]
    }
   ],
   "source": [
    "print(\"Anantha Teja\")"
   ]
  },
  {
   "cell_type": "code",
   "execution_count": 5,
   "id": "9aaabbcc-8ae1-459c-ac0c-5ff70794ff96",
   "metadata": {},
   "outputs": [
    {
     "ename": "SyntaxError",
     "evalue": "invalid syntax. Perhaps you forgot a comma? (3627749417.py, line 1)",
     "output_type": "error",
     "traceback": [
      "\u001b[1;36m  Cell \u001b[1;32mIn[5], line 1\u001b[1;36m\u001b[0m\n\u001b[1;33m    print(Anantha Teja)\u001b[0m\n\u001b[1;37m          ^\u001b[0m\n\u001b[1;31mSyntaxError\u001b[0m\u001b[1;31m:\u001b[0m invalid syntax. Perhaps you forgot a comma?\n"
     ]
    }
   ],
   "source": [
    "print(Anantha Teja)"
   ]
  },
  {
   "cell_type": "markdown",
   "id": "34ddb0c4-775a-48b0-8e30-521d27d4240e",
   "metadata": {},
   "source": [
    "```\n",
    "Note:\n",
    "-----\n",
    "\n",
    "==> Words or Sentences should be inside single quotes or double quotes\n",
    "```"
   ]
  },
  {
   "cell_type": "code",
   "execution_count": 6,
   "id": "f0e26241-560e-44f3-a8bb-e6d17ce965d2",
   "metadata": {},
   "outputs": [
    {
     "name": "stdout",
     "output_type": "stream",
     "text": [
      "9\n"
     ]
    }
   ],
   "source": [
    "print(9)"
   ]
  },
  {
   "cell_type": "code",
   "execution_count": 7,
   "id": "1411c04b-b691-4eca-8dd8-c8ddfea1bf06",
   "metadata": {},
   "outputs": [
    {
     "name": "stdout",
     "output_type": "stream",
     "text": [
      "9.9\n"
     ]
    }
   ],
   "source": [
    "print(9.9)"
   ]
  },
  {
   "cell_type": "code",
   "execution_count": 8,
   "id": "97354259-ac92-40ac-924f-4df1539abf3e",
   "metadata": {},
   "outputs": [
    {
     "name": "stdout",
     "output_type": "stream",
     "text": [
      "True\n"
     ]
    }
   ],
   "source": [
    "print(True)"
   ]
  },
  {
   "cell_type": "code",
   "execution_count": 9,
   "id": "ca133d3b-0b88-4799-870e-c256c6283f97",
   "metadata": {},
   "outputs": [
    {
     "name": "stdout",
     "output_type": "stream",
     "text": [
      "Hello 1 3 5 5.6 True\n"
     ]
    }
   ],
   "source": [
    "print(\"Hello\", 1, 3, 5, 5.6, True)"
   ]
  },
  {
   "cell_type": "markdown",
   "id": "1daff1e5-3b0a-48be-b97a-311414a7d102",
   "metadata": {},
   "source": [
    "```\n",
    "Note:\n",
    "-----\n",
    "\n",
    "==> We can also print multiple values with the print statement and also we can see that values are seperated with the spaces\n",
    "```"
   ]
  },
  {
   "cell_type": "code",
   "execution_count": 10,
   "id": "eb95d2e1-3aa5-4109-a356-4cc6d041590a",
   "metadata": {},
   "outputs": [
    {
     "name": "stdout",
     "output_type": "stream",
     "text": [
      "Hello 1 3 5 5.6 True\n"
     ]
    }
   ],
   "source": [
    "print(\"Hello\", 1, 3, 5, 5.6, True, sep = \" \")"
   ]
  },
  {
   "cell_type": "code",
   "execution_count": 11,
   "id": "1b95f39d-5f15-4da7-bfa2-726e403d4598",
   "metadata": {},
   "outputs": [
    {
     "name": "stdout",
     "output_type": "stream",
     "text": [
      "Hello-1-3-5-5.6-True\n"
     ]
    }
   ],
   "source": [
    "print(\"Hello\", 1, 3, 5, 5.6, True, sep = \"-\")"
   ]
  },
  {
   "cell_type": "code",
   "execution_count": 12,
   "id": "3c94b12a-a894-4980-a889-2492f4eb4a8d",
   "metadata": {},
   "outputs": [
    {
     "name": "stdout",
     "output_type": "stream",
     "text": [
      "Hello,1,3,5,5.6,True\n"
     ]
    }
   ],
   "source": [
    "print(\"Hello\", 1, 3, 5, 5.6, True, sep = \",\")"
   ]
  },
  {
   "cell_type": "code",
   "execution_count": 13,
   "id": "e6a839c8-14e4-4e0a-8b2c-bc84f56a0e77",
   "metadata": {},
   "outputs": [
    {
     "name": "stdout",
     "output_type": "stream",
     "text": [
      "Anantha\n",
      "Teja\n"
     ]
    }
   ],
   "source": [
    "print(\"Anantha\")\n",
    "print(\"Teja\")"
   ]
  },
  {
   "cell_type": "markdown",
   "id": "cf67ddde-66a6-4669-83fd-30cc97e7ecad",
   "metadata": {},
   "source": [
    "```\n",
    "Note:\n",
    "----\n",
    "\n",
    "==> If we observe here, second string is printed on next line. let's understand why it was happend\n",
    "```"
   ]
  },
  {
   "cell_type": "code",
   "execution_count": 14,
   "id": "e894b7e0-048c-47d8-b61a-d1b25efaed9d",
   "metadata": {},
   "outputs": [
    {
     "name": "stdout",
     "output_type": "stream",
     "text": [
      "Anantha-Teja\n"
     ]
    }
   ],
   "source": [
    "print(\"Anantha\", end = \"-\")\n",
    "print(\"Teja\")"
   ]
  },
  {
   "cell_type": "code",
   "execution_count": 15,
   "id": "58ca1225-5518-4519-97b2-b0e78dfbe220",
   "metadata": {},
   "outputs": [
    {
     "name": "stdout",
     "output_type": "stream",
     "text": [
      "Anantha Teja\n"
     ]
    }
   ],
   "source": [
    "print(\"Anantha\", end = \" \")\n",
    "print(\"Teja\")"
   ]
  },
  {
   "cell_type": "code",
   "execution_count": null,
   "id": "2664bfae-1853-47a7-8813-e7ce88bea99d",
   "metadata": {},
   "outputs": [],
   "source": []
  }
 ],
 "metadata": {
  "kernelspec": {
   "display_name": "Python 3 (ipykernel)",
   "language": "python",
   "name": "python3"
  },
  "language_info": {
   "codemirror_mode": {
    "name": "ipython",
    "version": 3
   },
   "file_extension": ".py",
   "mimetype": "text/x-python",
   "name": "python",
   "nbconvert_exporter": "python",
   "pygments_lexer": "ipython3",
   "version": "3.11.7"
  }
 },
 "nbformat": 4,
 "nbformat_minor": 5
}
