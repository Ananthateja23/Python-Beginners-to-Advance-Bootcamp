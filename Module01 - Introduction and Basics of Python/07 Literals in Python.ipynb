{
 "cells": [
  {
   "cell_type": "markdown",
   "id": "68acfa3c-6d41-4fde-9dba-299a62ac0dc5",
   "metadata": {},
   "source": [
    "# Literals\n",
    "\n",
    "- These are the values that we stored inside any variable"
   ]
  },
  {
   "cell_type": "code",
   "execution_count": 1,
   "id": "cf08a6a3-9f40-4cad-b61e-fb0c3cf1dea3",
   "metadata": {},
   "outputs": [
    {
     "name": "stdout",
     "output_type": "stream",
     "text": [
      "3\n"
     ]
    }
   ],
   "source": [
    "a = 3\n",
    "print(a)"
   ]
  },
  {
   "cell_type": "code",
   "execution_count": 2,
   "id": "2d818e41-c4f2-44e4-9ea6-2875f24c52f5",
   "metadata": {},
   "outputs": [],
   "source": [
    "a = 0b1010 # Binary Literal\n",
    "b = 100    # Decimal Literal\n",
    "c = 0o310  # Octal Literal\n",
    "d = 0x12c  # Hexadecimal Literal"
   ]
  },
  {
   "cell_type": "code",
   "execution_count": 3,
   "id": "c45041f5-8153-4dcc-ad4e-19657d7c9467",
   "metadata": {},
   "outputs": [
    {
     "name": "stdout",
     "output_type": "stream",
     "text": [
      "10\n"
     ]
    }
   ],
   "source": [
    "print(a)"
   ]
  },
  {
   "cell_type": "code",
   "execution_count": 4,
   "id": "17354e02-9ba1-4421-8cf0-75548d3418a9",
   "metadata": {},
   "outputs": [
    {
     "name": "stdout",
     "output_type": "stream",
     "text": [
      "100\n"
     ]
    }
   ],
   "source": [
    "print(b)"
   ]
  },
  {
   "cell_type": "code",
   "execution_count": 5,
   "id": "2843e820-9f5e-4646-a891-664e583a8f7f",
   "metadata": {},
   "outputs": [
    {
     "name": "stdout",
     "output_type": "stream",
     "text": [
      "200\n"
     ]
    }
   ],
   "source": [
    "print(c)"
   ]
  },
  {
   "cell_type": "code",
   "execution_count": 6,
   "id": "73fcae9e-d05e-4e80-9bce-0ae2ba0e99be",
   "metadata": {},
   "outputs": [
    {
     "name": "stdout",
     "output_type": "stream",
     "text": [
      "300\n"
     ]
    }
   ],
   "source": [
    "print(d)"
   ]
  },
  {
   "cell_type": "code",
   "execution_count": 7,
   "id": "368b6b33-276b-4f8a-a27d-90d424ee3f84",
   "metadata": {},
   "outputs": [],
   "source": [
    "# Float Literals\n",
    "\n",
    "float_1 = 10.5\n",
    "float_2 = 1.5e2\n",
    "float_3 = 1.5e-3"
   ]
  },
  {
   "cell_type": "code",
   "execution_count": 8,
   "id": "dee4c4a6-a313-4402-ab39-9db2def71eed",
   "metadata": {},
   "outputs": [
    {
     "name": "stdout",
     "output_type": "stream",
     "text": [
      "10.5\n",
      "150.0\n",
      "0.0015\n"
     ]
    }
   ],
   "source": [
    "print(float_1)\n",
    "print(float_2)\n",
    "print(float_3)"
   ]
  },
  {
   "cell_type": "code",
   "execution_count": 9,
   "id": "284d4558-8eb0-4369-a1e1-38e634af4dcc",
   "metadata": {},
   "outputs": [],
   "source": [
    "# Complex Literal\n",
    "\n",
    "x = 3.14j"
   ]
  },
  {
   "cell_type": "code",
   "execution_count": 10,
   "id": "edb46f6e-c000-4e86-bdbe-d9f1e81cbbe9",
   "metadata": {},
   "outputs": [
    {
     "name": "stdout",
     "output_type": "stream",
     "text": [
      "3.14j\n"
     ]
    }
   ],
   "source": [
    "print(x)"
   ]
  },
  {
   "cell_type": "code",
   "execution_count": 11,
   "id": "4defbdb1-f2f0-45d5-b1e2-4dd8a456890c",
   "metadata": {},
   "outputs": [
    {
     "name": "stdout",
     "output_type": "stream",
     "text": [
      "0.0\n"
     ]
    }
   ],
   "source": [
    "print(x.real)"
   ]
  },
  {
   "cell_type": "code",
   "execution_count": 12,
   "id": "a8532a3d-85af-4797-b9a7-5bccd5d1e06d",
   "metadata": {},
   "outputs": [
    {
     "name": "stdout",
     "output_type": "stream",
     "text": [
      "3.14\n"
     ]
    }
   ],
   "source": [
    "print(x.imag)"
   ]
  },
  {
   "cell_type": "code",
   "execution_count": 13,
   "id": "4562935a-9019-4cba-9893-d6f831660b75",
   "metadata": {},
   "outputs": [
    {
     "name": "stdout",
     "output_type": "stream",
     "text": [
      "This is Python\n",
      "This is Python\n",
      "C\n",
      "This is a multiline string with more than one line code\n",
      "😀😆🤣\n",
      "raw \\n string\n"
     ]
    }
   ],
   "source": [
    "string = 'This is Python'\n",
    "strings = \"This is Python\"\n",
    "char = \"C\"\n",
    "multiline_str = \"\"\"This is a multiline string with more than one line code\"\"\"\n",
    "unicode = u\"\\U0001f600\\U0001F606\\U0001F923\"\n",
    "raw_str = r\"raw \\n string\"\n",
    "\n",
    "print(string)\n",
    "print(strings)\n",
    "print(char)\n",
    "print(multiline_str)\n",
    "print(unicode)\n",
    "print(raw_str)"
   ]
  },
  {
   "cell_type": "code",
   "execution_count": 14,
   "id": "9c8810ce-93e9-4ffe-aa3f-ed405a4ac559",
   "metadata": {},
   "outputs": [
    {
     "name": "stdout",
     "output_type": "stream",
     "text": [
      "a : 5\n",
      "b : 10\n"
     ]
    }
   ],
   "source": [
    "# True = 1\n",
    "# False = 0\n",
    "\n",
    "a = True + 4\n",
    "b = False + 10\n",
    "\n",
    "print(\"a : {}\".format(a))\n",
    "print(\"b : {}\".format(b))"
   ]
  },
  {
   "cell_type": "code",
   "execution_count": 15,
   "id": "0fe3a083-2b9d-4a01-bcea-efe340a2957e",
   "metadata": {},
   "outputs": [
    {
     "name": "stdout",
     "output_type": "stream",
     "text": [
      "None\n"
     ]
    }
   ],
   "source": [
    "# None\n",
    "\n",
    "a = None\n",
    "print(a)"
   ]
  },
  {
   "cell_type": "code",
   "execution_count": 16,
   "id": "46387361-e438-42fd-b0fc-353f6a17b5a3",
   "metadata": {},
   "outputs": [
    {
     "data": {
      "text/plain": [
       "False"
      ]
     },
     "execution_count": 16,
     "metadata": {},
     "output_type": "execute_result"
    }
   ],
   "source": [
    "bool(a)"
   ]
  },
  {
   "cell_type": "code",
   "execution_count": 17,
   "id": "0db80dbb-c81b-41de-8160-28f23be10f34",
   "metadata": {},
   "outputs": [
    {
     "ename": "SyntaxError",
     "evalue": "invalid syntax (3591650101.py, line 1)",
     "output_type": "error",
     "traceback": [
      "\u001b[1;36m  Cell \u001b[1;32mIn[17], line 1\u001b[1;36m\u001b[0m\n\u001b[1;33m    x =\u001b[0m\n\u001b[1;37m        ^\u001b[0m\n\u001b[1;31mSyntaxError\u001b[0m\u001b[1;31m:\u001b[0m invalid syntax\n"
     ]
    }
   ],
   "source": [
    "x = \n",
    "y = 2\n",
    "z = 4\n",
    "\n",
    "print(x, y, z)"
   ]
  },
  {
   "cell_type": "code",
   "execution_count": 18,
   "id": "1b4536ea-f82b-43e1-8be5-bf8afefdcf2c",
   "metadata": {},
   "outputs": [
    {
     "name": "stdout",
     "output_type": "stream",
     "text": [
      "None 2 4\n"
     ]
    }
   ],
   "source": [
    "x = None\n",
    "y = 2\n",
    "z = 4\n",
    "\n",
    "print(x, y, z)"
   ]
  },
  {
   "cell_type": "code",
   "execution_count": null,
   "id": "5168101f-05c6-42ab-b44d-07330af7e61e",
   "metadata": {},
   "outputs": [],
   "source": []
  }
 ],
 "metadata": {
  "kernelspec": {
   "display_name": "Python 3 (ipykernel)",
   "language": "python",
   "name": "python3"
  },
  "language_info": {
   "codemirror_mode": {
    "name": "ipython",
    "version": 3
   },
   "file_extension": ".py",
   "mimetype": "text/x-python",
   "name": "python",
   "nbconvert_exporter": "python",
   "pygments_lexer": "ipython3",
   "version": "3.11.7"
  }
 },
 "nbformat": 4,
 "nbformat_minor": 5
}
