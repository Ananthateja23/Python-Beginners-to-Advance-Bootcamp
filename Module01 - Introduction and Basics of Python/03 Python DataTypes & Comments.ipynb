{
 "cells": [
  {
   "cell_type": "markdown",
   "id": "2b1c88c0-a780-43e1-b54c-f570339ed7b0",
   "metadata": {},
   "source": [
    "# Data Types in Python\n",
    "\n",
    "1. Integer\n",
    "2. Float (decimal)\n",
    "3. Boolean\n",
    "4. Complex\n",
    "5. String (Text)\n",
    "6. List\n",
    "7. Tuple\n",
    "8. Set\n",
    "9. Dictionary"
   ]
  },
  {
   "cell_type": "code",
   "execution_count": 1,
   "id": "b2a32895-cfa7-4d87-b7c0-e0c5e7f32f47",
   "metadata": {},
   "outputs": [
    {
     "name": "stdout",
     "output_type": "stream",
     "text": [
      "My name is Anantha Teja\n"
     ]
    }
   ],
   "source": [
    "# This is a single line comment, The below function prints a sentence\n",
    "print(\"My name is Anantha Teja\")"
   ]
  },
  {
   "cell_type": "code",
   "execution_count": 5,
   "id": "9a534b91-f8a2-409f-bc6d-f0873e6b6a72",
   "metadata": {},
   "outputs": [
    {
     "name": "stdout",
     "output_type": "stream",
     "text": [
      "My name is Anantha Teja\n"
     ]
    }
   ],
   "source": [
    "\"\"\"\n",
    "This is a multiline comment\n",
    "The below function prints a sentence\n",
    "This is first comment\n",
    "This is second comment\n",
    "This is third comment\n",
    "This is fourth comment\n",
    "This is fifth comment\n",
    "\"\"\"\n",
    "print(\"My name is Anantha Teja\")"
   ]
  },
  {
   "cell_type": "code",
   "execution_count": 3,
   "id": "6fae2056-9a95-4242-afb3-73f3c84c6af3",
   "metadata": {},
   "outputs": [
    {
     "name": "stdout",
     "output_type": "stream",
     "text": [
      "3\n"
     ]
    }
   ],
   "source": [
    "# Integer : a number without decimal values\n",
    "print(3)"
   ]
  },
  {
   "cell_type": "code",
   "execution_count": 4,
   "id": "8244dbb7-c0cf-452f-9f45-c6d418fc7c4f",
   "metadata": {},
   "outputs": [
    {
     "name": "stdout",
     "output_type": "stream",
     "text": [
      "10000000\n"
     ]
    }
   ],
   "source": [
    "print(10000000)"
   ]
  },
  {
   "cell_type": "code",
   "execution_count": 6,
   "id": "bc3cfb5c-7fff-40d2-ae24-f988a2163c6a",
   "metadata": {},
   "outputs": [
    {
     "name": "stdout",
     "output_type": "stream",
     "text": [
      "2.5\n"
     ]
    }
   ],
   "source": [
    "# Float :  a number with decimal value\n",
    "print(2.5)"
   ]
  },
  {
   "cell_type": "code",
   "execution_count": 7,
   "id": "b853ab09-96a8-4789-ac53-0515a2e0087e",
   "metadata": {},
   "outputs": [
    {
     "data": {
      "text/plain": [
       "int"
      ]
     },
     "execution_count": 7,
     "metadata": {},
     "output_type": "execute_result"
    }
   ],
   "source": [
    "type(3)"
   ]
  },
  {
   "cell_type": "code",
   "execution_count": 8,
   "id": "2e310585-d2cb-4af0-ad23-372dcc4e249b",
   "metadata": {},
   "outputs": [
    {
     "data": {
      "text/plain": [
       "float"
      ]
     },
     "execution_count": 8,
     "metadata": {},
     "output_type": "execute_result"
    }
   ],
   "source": [
    "type(2.5)"
   ]
  },
  {
   "cell_type": "code",
   "execution_count": 9,
   "id": "759de7f7-6b19-4ad1-a2d7-b848ee4354ee",
   "metadata": {},
   "outputs": [
    {
     "name": "stdout",
     "output_type": "stream",
     "text": [
      "True\n"
     ]
    }
   ],
   "source": [
    "# Boolean\n",
    "# Python is case sensitive language\n",
    "print(True)"
   ]
  },
  {
   "cell_type": "code",
   "execution_count": 10,
   "id": "55b23cd8-2d84-45e1-8089-bf4bfcf10a8d",
   "metadata": {},
   "outputs": [
    {
     "ename": "NameError",
     "evalue": "name 'true' is not defined",
     "output_type": "error",
     "traceback": [
      "\u001b[1;31m---------------------------------------------------------------------------\u001b[0m",
      "\u001b[1;31mNameError\u001b[0m                                 Traceback (most recent call last)",
      "Cell \u001b[1;32mIn[10], line 1\u001b[0m\n\u001b[1;32m----> 1\u001b[0m \u001b[38;5;28mprint\u001b[39m(true)\n",
      "\u001b[1;31mNameError\u001b[0m: name 'true' is not defined"
     ]
    }
   ],
   "source": [
    "print(true)"
   ]
  },
  {
   "cell_type": "code",
   "execution_count": 11,
   "id": "6cf74748-3dc4-47df-a00b-4217746c0e06",
   "metadata": {},
   "outputs": [
    {
     "name": "stdout",
     "output_type": "stream",
     "text": [
      "False\n"
     ]
    }
   ],
   "source": [
    "print(False)"
   ]
  },
  {
   "cell_type": "code",
   "execution_count": 12,
   "id": "190d67e7-b93b-4429-8451-df949409d74e",
   "metadata": {},
   "outputs": [
    {
     "data": {
      "text/plain": [
       "bool"
      ]
     },
     "execution_count": 12,
     "metadata": {},
     "output_type": "execute_result"
    }
   ],
   "source": [
    "type(True)"
   ]
  },
  {
   "cell_type": "code",
   "execution_count": 13,
   "id": "15013fb6-5075-4aea-a1d8-3bf97ace2490",
   "metadata": {},
   "outputs": [
    {
     "data": {
      "text/plain": [
       "bool"
      ]
     },
     "execution_count": 13,
     "metadata": {},
     "output_type": "execute_result"
    }
   ],
   "source": [
    "type(False)"
   ]
  },
  {
   "cell_type": "code",
   "execution_count": 14,
   "id": "01f35c03-531f-4d7c-a46f-9c5df2ed02a9",
   "metadata": {},
   "outputs": [
    {
     "name": "stdout",
     "output_type": "stream",
     "text": [
      "Hello world\n"
     ]
    }
   ],
   "source": [
    "# String\n",
    "print(\"Hello world\")"
   ]
  },
  {
   "cell_type": "code",
   "execution_count": 15,
   "id": "5e52bb23-2e2d-442c-86e1-32a70fda893c",
   "metadata": {},
   "outputs": [
    {
     "data": {
      "text/plain": [
       "str"
      ]
     },
     "execution_count": 15,
     "metadata": {},
     "output_type": "execute_result"
    }
   ],
   "source": [
    "type(\"Hello world\")"
   ]
  },
  {
   "cell_type": "code",
   "execution_count": 16,
   "id": "02e4d22e-14ce-475f-bc9e-d5963092b133",
   "metadata": {},
   "outputs": [
    {
     "name": "stdout",
     "output_type": "stream",
     "text": [
      "(5+7j)\n"
     ]
    }
   ],
   "source": [
    "# Complex\n",
    "print(5 + 7j)"
   ]
  },
  {
   "cell_type": "code",
   "execution_count": 17,
   "id": "3729c80f-5bf2-4002-a7f9-7651f9f3ace8",
   "metadata": {},
   "outputs": [
    {
     "data": {
      "text/plain": [
       "complex"
      ]
     },
     "execution_count": 17,
     "metadata": {},
     "output_type": "execute_result"
    }
   ],
   "source": [
    "type(5 + 7j)"
   ]
  },
  {
   "cell_type": "code",
   "execution_count": 18,
   "id": "1c303989-ed19-4738-95d6-17e452dfeeec",
   "metadata": {},
   "outputs": [
    {
     "name": "stdout",
     "output_type": "stream",
     "text": [
      "[1, 2, 3]\n"
     ]
    }
   ],
   "source": [
    "# List\n",
    "print([1, 2, 3])"
   ]
  },
  {
   "cell_type": "code",
   "execution_count": 19,
   "id": "1ffdc216-0cce-4c4d-bd04-69845c04e92c",
   "metadata": {},
   "outputs": [
    {
     "data": {
      "text/plain": [
       "list"
      ]
     },
     "execution_count": 19,
     "metadata": {},
     "output_type": "execute_result"
    }
   ],
   "source": [
    "type([1, 2, 3])"
   ]
  },
  {
   "cell_type": "code",
   "execution_count": 20,
   "id": "91de9a18-ca3f-417f-b31c-a585405f9d49",
   "metadata": {},
   "outputs": [
    {
     "name": "stdout",
     "output_type": "stream",
     "text": [
      "(1, 2, 3)\n"
     ]
    }
   ],
   "source": [
    "# Tuple\n",
    "print((1, 2, 3))"
   ]
  },
  {
   "cell_type": "code",
   "execution_count": 21,
   "id": "d8988985-62c1-4316-a9e0-ff09ae58116f",
   "metadata": {},
   "outputs": [
    {
     "data": {
      "text/plain": [
       "tuple"
      ]
     },
     "execution_count": 21,
     "metadata": {},
     "output_type": "execute_result"
    }
   ],
   "source": [
    "type((1, 2, 3))"
   ]
  },
  {
   "cell_type": "code",
   "execution_count": 22,
   "id": "839e0860-e825-4e71-be2f-c68bb1a88478",
   "metadata": {},
   "outputs": [
    {
     "name": "stdout",
     "output_type": "stream",
     "text": [
      "{1, 2, 3}\n"
     ]
    }
   ],
   "source": [
    "# Set\n",
    "print({1, 2, 3})"
   ]
  },
  {
   "cell_type": "code",
   "execution_count": 23,
   "id": "39d202b6-d680-434e-9fdd-3b9e470cda5f",
   "metadata": {},
   "outputs": [
    {
     "data": {
      "text/plain": [
       "set"
      ]
     },
     "execution_count": 23,
     "metadata": {},
     "output_type": "execute_result"
    }
   ],
   "source": [
    "type({1, 2, 3})"
   ]
  },
  {
   "cell_type": "code",
   "execution_count": 24,
   "id": "db8d86fd-8e8c-48a5-a7af-5d83de8bdff4",
   "metadata": {},
   "outputs": [
    {
     "name": "stdout",
     "output_type": "stream",
     "text": [
      "{'name': 'Anantha Teja', 'age': 25, 'gender': 'male'}\n"
     ]
    }
   ],
   "source": [
    "# Dictionary\n",
    "print({\"name\": \"Anantha Teja\", \"age\": 25, \"gender\": \"male\"})"
   ]
  },
  {
   "cell_type": "code",
   "execution_count": 25,
   "id": "7ba660f8-4a55-4380-be98-c431f64b2aa1",
   "metadata": {},
   "outputs": [
    {
     "data": {
      "text/plain": [
       "dict"
      ]
     },
     "execution_count": 25,
     "metadata": {},
     "output_type": "execute_result"
    }
   ],
   "source": [
    "type({'name': 'Anantha Teja', 'age': 25, 'gender': 'male'})"
   ]
  },
  {
   "cell_type": "code",
   "execution_count": null,
   "id": "71e50c16-dde6-43cc-93e5-fb4956741b0d",
   "metadata": {},
   "outputs": [],
   "source": []
  }
 ],
 "metadata": {
  "kernelspec": {
   "display_name": "Python 3 (ipykernel)",
   "language": "python",
   "name": "python3"
  },
  "language_info": {
   "codemirror_mode": {
    "name": "ipython",
    "version": 3
   },
   "file_extension": ".py",
   "mimetype": "text/x-python",
   "name": "python",
   "nbconvert_exporter": "python",
   "pygments_lexer": "ipython3",
   "version": "3.11.7"
  }
 },
 "nbformat": 4,
 "nbformat_minor": 5
}
