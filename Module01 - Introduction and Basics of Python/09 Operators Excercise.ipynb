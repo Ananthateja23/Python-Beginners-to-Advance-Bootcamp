{
 "cells": [
  {
   "cell_type": "markdown",
   "id": "22537320-8f5f-4164-a5d6-93a00aee0e59",
   "metadata": {},
   "source": [
    "# Excercise\n",
    "- Find the sum of a 3-digit number entered by the user"
   ]
  },
  {
   "cell_type": "code",
   "execution_count": 1,
   "id": "53f1c4d2-1f02-4dd4-ba3d-d73de99995f6",
   "metadata": {},
   "outputs": [
    {
     "data": {
      "text/plain": [
       "6"
      ]
     },
     "execution_count": 1,
     "metadata": {},
     "output_type": "execute_result"
    }
   ],
   "source": [
    "1 + 2 + 3"
   ]
  },
  {
   "cell_type": "code",
   "execution_count": 2,
   "id": "5e954f1c-7083-4f0b-ab94-6b18629b0611",
   "metadata": {},
   "outputs": [
    {
     "name": "stdin",
     "output_type": "stream",
     "text": [
      "Enter 3-digit number for addition 345\n"
     ]
    },
    {
     "name": "stdout",
     "output_type": "stream",
     "text": [
      "5 4 3\n",
      "12\n"
     ]
    }
   ],
   "source": [
    "number = int(input(\"Enter 3-digit number for addition\"))\n",
    "\n",
    "a = number % 10\n",
    "\n",
    "number //= 10\n",
    "b = number % 10\n",
    "\n",
    "number //=10\n",
    "c = number % 10\n",
    "\n",
    "print(a, b, c)\n",
    "\n",
    "result = a + b + c\n",
    "print(result)"
   ]
  },
  {
   "cell_type": "code",
   "execution_count": null,
   "id": "0a0fa42b-2cfc-4b1b-b75a-ac28c45aa0b9",
   "metadata": {},
   "outputs": [],
   "source": [
    "# number = int(input(\"Enter 3-digit number for addition\"))\n",
    "\n",
    "# # Accessing the last digit and adding it to a temporary variable.\n",
    "# print(number)\n",
    "# total = 0\n",
    "# rem = number % 10\n",
    "# total = total + rem\n",
    "# number = number // 10\n",
    "\n",
    "# # Accessing the last digit and adding it to a temporary variable\n",
    "# print(number)\n",
    "# rem = number % 10\n",
    "# total = total + rem\n",
    "# number = number // 10\n",
    "\n",
    "# # Accessing the last digit and adding it to a temporary variable\n",
    "# print(number)\n",
    "# rem = number % 10\n",
    "# total = total + rem\n",
    "# number = number // 10\n",
    "\n",
    "# print(\"Sum of a 3-digit number {}\".format(total))"
   ]
  }
 ],
 "metadata": {
  "kernelspec": {
   "display_name": "Python 3 (ipykernel)",
   "language": "python",
   "name": "python3"
  },
  "language_info": {
   "codemirror_mode": {
    "name": "ipython",
    "version": 3
   },
   "file_extension": ".py",
   "mimetype": "text/x-python",
   "name": "python",
   "nbconvert_exporter": "python",
   "pygments_lexer": "ipython3",
   "version": "3.11.7"
  }
 },
 "nbformat": 4,
 "nbformat_minor": 5
}
