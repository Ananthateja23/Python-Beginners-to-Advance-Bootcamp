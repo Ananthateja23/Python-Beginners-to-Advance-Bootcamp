{
 "cells": [
  {
   "cell_type": "markdown",
   "id": "12136bd0-92f9-4594-9844-4501c254a606",
   "metadata": {},
   "source": [
    "```\n",
    "Topics Breakdown:\n",
    "-----------------\n",
    "\n",
    "1. Introduction to python\n",
    "\n",
    "2. Installation & Environment Setup\n",
    "\n",
    "3. Write our first program in python\n",
    "```"
   ]
  },
  {
   "cell_type": "markdown",
   "id": "b7dc1d96-6ac3-4681-b50e-35c9505567f8",
   "metadata": {},
   "source": [
    "```\n",
    "Introduction to Python:\n",
    "-----------------------\n",
    "\n",
    "==> Python is a high-level, general-purpose programming language.\n",
    "==> Its design philosophy emphasizes code readability with the use if significant indentation\n",
    "\n",
    "Why Python?:\n",
    "------------\n",
    "\n",
    "==> Easy to learn\n",
    "==> design philosophy\n",
    "==> Batteries included(lots of predefined functions)\n",
    "==> General Purpose(Software Engineering, Data Science, Web Development, Block Chain)\n",
    "==> Libraries & Community(lots of libraries like sklearn, numpy, pandas etc)\n",
    "```"
   ]
  },
  {
   "cell_type": "markdown",
   "id": "56b83c41-ab2e-45dd-a3d4-80e2334c1045",
   "metadata": {},
   "source": [
    "```\n",
    "Installation & Environment Setup:\n",
    "---------------------------------\n",
    "\n",
    "==> we have some many ways to use the python. Here, we are discussing few popular ones\n",
    "\n",
    "(1) Python Installer     ==> Used over local machine\n",
    "\n",
    "(2) Anconda Naviagtor    ==> used over local machine\n",
    "\n",
    "(3) Google Colaboratory  ==> Used over internet\n",
    "\n",
    "(4) Vs Code  ==> used as Editor over local machine\n",
    "\n",
    "```"
   ]
  },
  {
   "cell_type": "code",
   "execution_count": null,
   "id": "003ad0ee-5b26-440f-8a7d-49f8019f7631",
   "metadata": {},
   "outputs": [],
   "source": []
  }
 ],
 "metadata": {
  "kernelspec": {
   "display_name": "Python 3 (ipykernel)",
   "language": "python",
   "name": "python3"
  },
  "language_info": {
   "codemirror_mode": {
    "name": "ipython",
    "version": 3
   },
   "file_extension": ".py",
   "mimetype": "text/x-python",
   "name": "python",
   "nbconvert_exporter": "python",
   "pygments_lexer": "ipython3",
   "version": "3.11.7"
  }
 },
 "nbformat": 4,
 "nbformat_minor": 5
}
