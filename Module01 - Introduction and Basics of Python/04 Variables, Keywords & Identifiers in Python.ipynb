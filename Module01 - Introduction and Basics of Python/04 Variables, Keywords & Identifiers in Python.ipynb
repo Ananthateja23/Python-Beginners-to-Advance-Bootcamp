{
 "cells": [
  {
   "cell_type": "markdown",
   "id": "452e303c-6b2d-418e-8f04-e2251d832e82",
   "metadata": {},
   "source": [
    "# Variable\n",
    "- It is a container that stores any kind of value"
   ]
  },
  {
   "cell_type": "code",
   "execution_count": 1,
   "id": "2f228d15-086f-477e-87d7-d4abfca0e336",
   "metadata": {},
   "outputs": [
    {
     "name": "stdout",
     "output_type": "stream",
     "text": [
      "2\n"
     ]
    }
   ],
   "source": [
    "a = 2\n",
    "print(a)"
   ]
  },
  {
   "cell_type": "code",
   "execution_count": 2,
   "id": "828fe854-1657-4431-84c9-f9fdc9283bf8",
   "metadata": {},
   "outputs": [
    {
     "name": "stdout",
     "output_type": "stream",
     "text": [
      "3.5\n"
     ]
    }
   ],
   "source": [
    "b = 3.5\n",
    "print(b)"
   ]
  },
  {
   "cell_type": "code",
   "execution_count": 3,
   "id": "c95b67cc-dedd-4bdb-83e5-901728515f1a",
   "metadata": {},
   "outputs": [
    {
     "name": "stdout",
     "output_type": "stream",
     "text": [
      "True\n",
      "Ananth\n"
     ]
    }
   ],
   "source": [
    "c = True\n",
    "d = \"Ananth\"\n",
    "print(c)\n",
    "print(d)"
   ]
  },
  {
   "cell_type": "code",
   "execution_count": 5,
   "id": "04575d61-2085-4059-a302-235d80425617",
   "metadata": {},
   "outputs": [
    {
     "name": "stdout",
     "output_type": "stream",
     "text": [
      "Welcome Ananth\n"
     ]
    }
   ],
   "source": [
    "name = \"Ananth\"\n",
    "print(\"Welcome\", name)"
   ]
  },
  {
   "cell_type": "code",
   "execution_count": 6,
   "id": "92550582-dabc-4a56-8404-e5b9b8d2e145",
   "metadata": {},
   "outputs": [
    {
     "name": "stdout",
     "output_type": "stream",
     "text": [
      "5\n"
     ]
    }
   ],
   "source": [
    "a = 2\n",
    "b = 3\n",
    "print(a + b)"
   ]
  },
  {
   "cell_type": "markdown",
   "id": "2bea6f53-07d2-4f9e-87f7-7f2b399df8a8",
   "metadata": {},
   "source": [
    "```\n",
    "Note:\n",
    "-----\n",
    "\n",
    "(1) Dynamic Typing\n",
    "\n",
    "==> a = 7 # assigning directly\n",
    "\n",
    "(2) Static Typing\n",
    "\n",
    "==> int a = 7 # declare variable type and assigning\n",
    "\n",
    "(3) Dynamic Binding\n",
    "\n",
    "==> It takes input as any kind of values\n",
    "a = 5\n",
    "print(a)\n",
    "\n",
    "a = \"Ananth\"\n",
    "print(a)\n",
    "\n",
    "(4) Static Binding\n",
    "\n",
    "==> It takes input as only declared variable type\n",
    "\n",
    "int a = 7\n",
    "\n",
    "str a = \"Ananth\"\n",
    "```"
   ]
  },
  {
   "cell_type": "code",
   "execution_count": 7,
   "id": "1a936c40-33b6-49da-aac5-f55821c75a8d",
   "metadata": {},
   "outputs": [
    {
     "name": "stdout",
     "output_type": "stream",
     "text": [
      "1\n",
      "2\n",
      "3\n"
     ]
    }
   ],
   "source": [
    "a = 1\n",
    "b = 2\n",
    "c = 3\n",
    "\n",
    "print(a)\n",
    "print(b)\n",
    "print(c)"
   ]
  },
  {
   "cell_type": "code",
   "execution_count": 8,
   "id": "bed3de0f-419a-401d-b4e0-a2489fd71b8f",
   "metadata": {},
   "outputs": [
    {
     "name": "stdout",
     "output_type": "stream",
     "text": [
      "1 2 3\n"
     ]
    }
   ],
   "source": [
    "a, b, c = 1, 2, 3\n",
    "\n",
    "print(a, b, c)"
   ]
  },
  {
   "cell_type": "code",
   "execution_count": 9,
   "id": "9f93c736-7e71-42f5-bdd8-f7962493c109",
   "metadata": {},
   "outputs": [
    {
     "name": "stdout",
     "output_type": "stream",
     "text": [
      "5\n",
      "5\n",
      "5\n"
     ]
    }
   ],
   "source": [
    "a = 5\n",
    "b = 5\n",
    "c = 5\n",
    "\n",
    "print(a)\n",
    "print(b)\n",
    "print(c)"
   ]
  },
  {
   "cell_type": "code",
   "execution_count": 10,
   "id": "b5312a46-c460-4f0d-836b-ad71e7bfcfb8",
   "metadata": {},
   "outputs": [
    {
     "name": "stdout",
     "output_type": "stream",
     "text": [
      "5 5 5\n"
     ]
    }
   ],
   "source": [
    "a = b = c = 5\n",
    "\n",
    "print(a, b, c)"
   ]
  },
  {
   "cell_type": "markdown",
   "id": "2f74a427-4175-490a-8688-2016c2fb8c14",
   "metadata": {},
   "source": [
    "# Keywords"
   ]
  },
  {
   "cell_type": "code",
   "execution_count": 13,
   "id": "5f3673f8-42d9-4537-970c-c8f5c6aa8ef7",
   "metadata": {},
   "outputs": [
    {
     "name": "stdout",
     "output_type": "stream",
     "text": [
      "35\n",
      "['False', 'None', 'True', 'and', 'as', 'assert', 'async', 'await', 'break', 'class', 'continue', 'def', 'del', 'elif', 'else', 'except', 'finally', 'for', 'from', 'global', 'if', 'import', 'in', 'is', 'lambda', 'nonlocal', 'not', 'or', 'pass', 'raise', 'return', 'try', 'while', 'with', 'yield']\n"
     ]
    }
   ],
   "source": [
    "import keyword\n",
    "print(len(keyword.kwlist))\n",
    "print(keyword.kwlist)"
   ]
  },
  {
   "cell_type": "markdown",
   "id": "ec967894-ebd1-4029-b77f-6e8ac4e70be7",
   "metadata": {},
   "source": [
    "# Identifier\n",
    "- It gives names to variables, functions and classes\n",
    "- Identifier has few rules, one should use at the time of giving names"
   ]
  },
  {
   "cell_type": "code",
   "execution_count": 14,
   "id": "9f74db01-94e7-4393-bc9e-67e0d6645da5",
   "metadata": {},
   "outputs": [],
   "source": [
    "name = \"Ananth\"\n",
    "\n",
    "a = 1"
   ]
  },
  {
   "cell_type": "code",
   "execution_count": 15,
   "id": "3588e393-bce3-43a5-b7fc-f7c1fe2fe015",
   "metadata": {},
   "outputs": [
    {
     "ename": "SyntaxError",
     "evalue": "invalid decimal literal (324291255.py, line 3)",
     "output_type": "error",
     "traceback": [
      "\u001b[1;36m  Cell \u001b[1;32mIn[15], line 3\u001b[1;36m\u001b[0m\n\u001b[1;33m    1name = \"Ananth\"\u001b[0m\n\u001b[1;37m    ^\u001b[0m\n\u001b[1;31mSyntaxError\u001b[0m\u001b[1;31m:\u001b[0m invalid decimal literal\n"
     ]
    }
   ],
   "source": [
    "# you can't start with number\n",
    "\n",
    "1name = \"Ananth\""
   ]
  },
  {
   "cell_type": "code",
   "execution_count": 16,
   "id": "97a1bd64-9c0a-4d29-bbc4-4e56a80c4eea",
   "metadata": {},
   "outputs": [],
   "source": [
    "# But you can use number other than starting\n",
    "\n",
    "name1 = \"Ananth\""
   ]
  },
  {
   "cell_type": "code",
   "execution_count": 17,
   "id": "6efeeefd-d100-41ca-9863-d98cd1d907c9",
   "metadata": {},
   "outputs": [
    {
     "ename": "SyntaxError",
     "evalue": "invalid syntax (2908281960.py, line 3)",
     "output_type": "error",
     "traceback": [
      "\u001b[1;36m  Cell \u001b[1;32mIn[17], line 3\u001b[1;36m\u001b[0m\n\u001b[1;33m    &name = \"Ananth\"\u001b[0m\n\u001b[1;37m    ^\u001b[0m\n\u001b[1;31mSyntaxError\u001b[0m\u001b[1;31m:\u001b[0m invalid syntax\n"
     ]
    }
   ],
   "source": [
    "# you can't use special characters except underscore\n",
    "\n",
    "&name = \"Ananth\""
   ]
  },
  {
   "cell_type": "code",
   "execution_count": 18,
   "id": "bbff1bf5-646e-42e0-9dd7-3cebae17cae9",
   "metadata": {},
   "outputs": [
    {
     "ename": "SyntaxError",
     "evalue": "invalid syntax (989871001.py, line 1)",
     "output_type": "error",
     "traceback": [
      "\u001b[1;36m  Cell \u001b[1;32mIn[18], line 1\u001b[1;36m\u001b[0m\n\u001b[1;33m    name& = \"Ananth\"\u001b[0m\n\u001b[1;37m          ^\u001b[0m\n\u001b[1;31mSyntaxError\u001b[0m\u001b[1;31m:\u001b[0m invalid syntax\n"
     ]
    }
   ],
   "source": [
    "name& = \"Ananth\""
   ]
  },
  {
   "cell_type": "code",
   "execution_count": 19,
   "id": "12b90d28-e64c-493f-a1bf-5209f87ebe2c",
   "metadata": {},
   "outputs": [],
   "source": [
    "_name = \"Ananth\""
   ]
  },
  {
   "cell_type": "code",
   "execution_count": 20,
   "id": "249785d7-25cd-4a70-a0c8-7c2c25235f97",
   "metadata": {},
   "outputs": [],
   "source": [
    "name_ = \"Ananth\""
   ]
  },
  {
   "cell_type": "code",
   "execution_count": 21,
   "id": "d901c6c0-4ba6-4bd3-a626-f72ef9969cb9",
   "metadata": {},
   "outputs": [],
   "source": [
    "_ = \"Ananth\""
   ]
  },
  {
   "cell_type": "code",
   "execution_count": null,
   "id": "bf46b8f9-4a62-48c8-bce8-fda28d55ee95",
   "metadata": {},
   "outputs": [],
   "source": []
  }
 ],
 "metadata": {
  "kernelspec": {
   "display_name": "Python 3 (ipykernel)",
   "language": "python",
   "name": "python3"
  },
  "language_info": {
   "codemirror_mode": {
    "name": "ipython",
    "version": 3
   },
   "file_extension": ".py",
   "mimetype": "text/x-python",
   "name": "python",
   "nbconvert_exporter": "python",
   "pygments_lexer": "ipython3",
   "version": "3.11.7"
  }
 },
 "nbformat": 4,
 "nbformat_minor": 5
}
