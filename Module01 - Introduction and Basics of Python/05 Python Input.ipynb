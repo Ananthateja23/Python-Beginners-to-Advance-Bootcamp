{
 "cells": [
  {
   "cell_type": "markdown",
   "id": "44a7f587-6d20-4845-a05e-29eec7fdbd2d",
   "metadata": {},
   "source": [
    "```\n",
    "why we need input()??\n",
    "\n",
    "==> There are two types of applications in real-time\n",
    "\n",
    "(1) Static Application: Calendar, Clock (no input needed)\n",
    "\n",
    "(2) Dynamic Application: YouTube, Facebook (input needed)\n",
    "```"
   ]
  },
  {
   "cell_type": "code",
   "execution_count": 1,
   "id": "94073221-c540-4390-84aa-48cb7f00ddb0",
   "metadata": {},
   "outputs": [
    {
     "name": "stdin",
     "output_type": "stream",
     "text": [
      " Ananth\n"
     ]
    },
    {
     "data": {
      "text/plain": [
       "'Ananth'"
      ]
     },
     "execution_count": 1,
     "metadata": {},
     "output_type": "execute_result"
    }
   ],
   "source": [
    "input()"
   ]
  },
  {
   "cell_type": "code",
   "execution_count": 2,
   "id": "2ad12215-acbf-4a74-887a-0a94752cd26d",
   "metadata": {},
   "outputs": [
    {
     "name": "stdin",
     "output_type": "stream",
     "text": [
      " 10\n"
     ]
    },
    {
     "data": {
      "text/plain": [
       "'10'"
      ]
     },
     "execution_count": 2,
     "metadata": {},
     "output_type": "execute_result"
    }
   ],
   "source": [
    "input()"
   ]
  },
  {
   "cell_type": "code",
   "execution_count": 3,
   "id": "a4692e8f-7c10-40d2-bf25-e1971a7df785",
   "metadata": {},
   "outputs": [
    {
     "name": "stdin",
     "output_type": "stream",
     "text": [
      " 3.454\n"
     ]
    },
    {
     "data": {
      "text/plain": [
       "'3.454'"
      ]
     },
     "execution_count": 3,
     "metadata": {},
     "output_type": "execute_result"
    }
   ],
   "source": [
    "input()"
   ]
  },
  {
   "cell_type": "code",
   "execution_count": 4,
   "id": "6c993406-4e5e-440f-ac51-e6538c7e5f49",
   "metadata": {},
   "outputs": [
    {
     "name": "stdin",
     "output_type": "stream",
     "text": [
      " Ananth\n"
     ]
    }
   ],
   "source": [
    "var = input()"
   ]
  },
  {
   "cell_type": "code",
   "execution_count": 5,
   "id": "a1e959dc-1307-46cd-bad2-060052822821",
   "metadata": {},
   "outputs": [
    {
     "name": "stdout",
     "output_type": "stream",
     "text": [
      "Ananth\n"
     ]
    }
   ],
   "source": [
    "print(var)"
   ]
  },
  {
   "cell_type": "code",
   "execution_count": 6,
   "id": "cc00b022-ecc8-4c1a-89e3-e4998212c191",
   "metadata": {},
   "outputs": [
    {
     "data": {
      "text/plain": [
       "str"
      ]
     },
     "execution_count": 6,
     "metadata": {},
     "output_type": "execute_result"
    }
   ],
   "source": [
    "type(var)"
   ]
  },
  {
   "cell_type": "code",
   "execution_count": 7,
   "id": "ed02d039-bf2e-4ba2-ac6c-43db48f30c6f",
   "metadata": {},
   "outputs": [
    {
     "name": "stdin",
     "output_type": "stream",
     "text": [
      " 123\n"
     ]
    },
    {
     "name": "stdout",
     "output_type": "stream",
     "text": [
      "123\n",
      "<class 'str'>\n"
     ]
    }
   ],
   "source": [
    "var = input()\n",
    "print(var)\n",
    "print(type(var))"
   ]
  },
  {
   "cell_type": "code",
   "execution_count": 8,
   "id": "3cb018ef-2595-4de6-98dc-874d666eb02c",
   "metadata": {},
   "outputs": [
    {
     "name": "stdin",
     "output_type": "stream",
     "text": [
      " 1.23\n"
     ]
    },
    {
     "name": "stdout",
     "output_type": "stream",
     "text": [
      "1.23\n",
      "<class 'str'>\n"
     ]
    }
   ],
   "source": [
    "var = input()\n",
    "print(var)\n",
    "print(type(var))"
   ]
  },
  {
   "cell_type": "code",
   "execution_count": 9,
   "id": "f825d5ee-d102-46b2-a45f-af6add9fd9dd",
   "metadata": {},
   "outputs": [
    {
     "name": "stdout",
     "output_type": "stream",
     "text": [
      "<class 'float'>\n"
     ]
    }
   ],
   "source": [
    "var = float(var)\n",
    "print(type(var))"
   ]
  },
  {
   "cell_type": "code",
   "execution_count": 10,
   "id": "4ba70679-a63e-46be-a2c1-e09e0817669a",
   "metadata": {},
   "outputs": [
    {
     "name": "stdin",
     "output_type": "stream",
     "text": [
      "Enter your name :  Ananth\n"
     ]
    }
   ],
   "source": [
    "var = input(\"Enter your name : \")"
   ]
  },
  {
   "cell_type": "code",
   "execution_count": 11,
   "id": "fd45a617-dd16-484e-95dd-d68f922d3b1b",
   "metadata": {},
   "outputs": [
    {
     "data": {
      "text/plain": [
       "'Ananth'"
      ]
     },
     "execution_count": 11,
     "metadata": {},
     "output_type": "execute_result"
    }
   ],
   "source": [
    "var"
   ]
  },
  {
   "cell_type": "markdown",
   "id": "a4af6464-c4e1-4cce-be60-806986626781",
   "metadata": {},
   "source": [
    "### Excercise : Simple Python Calculator\n",
    "\n",
    "- Takes 2 inputs as an input\n",
    "- It will perform only addition operation\n",
    "- It will print the result in console"
   ]
  },
  {
   "cell_type": "code",
   "execution_count": 12,
   "id": "209d25ae-65dd-4e05-889f-328dd29ba81d",
   "metadata": {},
   "outputs": [
    {
     "name": "stdin",
     "output_type": "stream",
     "text": [
      "Enter first number :  2\n",
      "Enter Second number:  3\n"
     ]
    }
   ],
   "source": [
    "num1 = input(\"Enter first number : \")\n",
    "num2 = input(\"Enter Second number: \")"
   ]
  },
  {
   "cell_type": "code",
   "execution_count": 13,
   "id": "16cf516b-28b3-43a9-881d-ea0afd355e48",
   "metadata": {},
   "outputs": [
    {
     "data": {
      "text/plain": [
       "str"
      ]
     },
     "execution_count": 13,
     "metadata": {},
     "output_type": "execute_result"
    }
   ],
   "source": [
    "type(num1)"
   ]
  },
  {
   "cell_type": "code",
   "execution_count": 14,
   "id": "59f0cc71-8725-4b8f-88ec-6ebab743edf7",
   "metadata": {},
   "outputs": [
    {
     "data": {
      "text/plain": [
       "str"
      ]
     },
     "execution_count": 14,
     "metadata": {},
     "output_type": "execute_result"
    }
   ],
   "source": [
    "type(num2)"
   ]
  },
  {
   "cell_type": "code",
   "execution_count": 15,
   "id": "4fa1b6e2-9303-4abb-8c80-32a6358ba03c",
   "metadata": {},
   "outputs": [
    {
     "name": "stdin",
     "output_type": "stream",
     "text": [
      "Enter first number :  2\n",
      "Enter Second number:  3\n"
     ]
    }
   ],
   "source": [
    "num1 = float(input(\"Enter first number : \"))\n",
    "num2 = float(input(\"Enter Second number: \"))"
   ]
  },
  {
   "cell_type": "code",
   "execution_count": 16,
   "id": "803cad46-7b54-4459-8ef1-596aad54c889",
   "metadata": {},
   "outputs": [
    {
     "data": {
      "text/plain": [
       "float"
      ]
     },
     "execution_count": 16,
     "metadata": {},
     "output_type": "execute_result"
    }
   ],
   "source": [
    "type(num1)"
   ]
  },
  {
   "cell_type": "code",
   "execution_count": 17,
   "id": "7a3b2892-9b31-4c0d-aece-4948c1b98171",
   "metadata": {},
   "outputs": [
    {
     "data": {
      "text/plain": [
       "float"
      ]
     },
     "execution_count": 17,
     "metadata": {},
     "output_type": "execute_result"
    }
   ],
   "source": [
    "type(num2)"
   ]
  },
  {
   "cell_type": "code",
   "execution_count": 18,
   "id": "b502974f-7da6-42ef-9f4a-d0e31ac28d5d",
   "metadata": {},
   "outputs": [
    {
     "name": "stdin",
     "output_type": "stream",
     "text": [
      "Enter first number :  2\n",
      "Enter Second number:  3\n"
     ]
    },
    {
     "name": "stdout",
     "output_type": "stream",
     "text": [
      "Addition of 2.0 and 3.0 is : 5.0\n"
     ]
    }
   ],
   "source": [
    "num1 = float(input(\"Enter first number : \"))\n",
    "num2 = float(input(\"Enter Second number: \"))\n",
    "\n",
    "result = num1 + num2\n",
    "\n",
    "print(\"Addition of {} and {} is : {}\".format(num1, num2, result))"
   ]
  },
  {
   "cell_type": "code",
   "execution_count": 19,
   "id": "79efc967-7e14-4af3-94e7-b4e5ab46d4e5",
   "metadata": {},
   "outputs": [
    {
     "name": "stdin",
     "output_type": "stream",
     "text": [
      "Enter first number :  2.3\n",
      "Enter Second number:  3.4\n"
     ]
    },
    {
     "name": "stdout",
     "output_type": "stream",
     "text": [
      "Addition of 2.3 and 3.4 is : 5.699999999999999\n"
     ]
    }
   ],
   "source": [
    "num1 = float(input(\"Enter first number : \"))\n",
    "num2 = float(input(\"Enter Second number: \"))\n",
    "\n",
    "result = num1 + num2\n",
    "\n",
    "print(\"Addition of {} and {} is : {}\".format(num1, num2, result))"
   ]
  },
  {
   "cell_type": "code",
   "execution_count": null,
   "id": "2e399464-6cce-4991-93ee-fa67191aaddf",
   "metadata": {},
   "outputs": [],
   "source": []
  }
 ],
 "metadata": {
  "kernelspec": {
   "display_name": "Python 3 (ipykernel)",
   "language": "python",
   "name": "python3"
  },
  "language_info": {
   "codemirror_mode": {
    "name": "ipython",
    "version": 3
   },
   "file_extension": ".py",
   "mimetype": "text/x-python",
   "name": "python",
   "nbconvert_exporter": "python",
   "pygments_lexer": "ipython3",
   "version": "3.11.7"
  }
 },
 "nbformat": 4,
 "nbformat_minor": 5
}
