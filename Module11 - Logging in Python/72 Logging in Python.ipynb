{
 "cells": [
  {
   "cell_type": "code",
   "execution_count": 1,
   "id": "b16f409d-f17c-4802-aa03-9702a675748c",
   "metadata": {},
   "outputs": [],
   "source": [
    "# import modules\n",
    "\n",
    "import logging\n",
    "import os"
   ]
  },
  {
   "cell_type": "code",
   "execution_count": 2,
   "id": "a15f193a-b21e-4a39-93f1-192edcd210e0",
   "metadata": {},
   "outputs": [],
   "source": [
    "# create log directory and log file\n",
    "\n",
    "LOG_DIR = \"logs\"\n",
    "LOG_FILE_NAME = \"application.log\""
   ]
  },
  {
   "cell_type": "code",
   "execution_count": 3,
   "id": "01651f64-a939-491b-87ba-d7e0ac77e8dd",
   "metadata": {},
   "outputs": [],
   "source": [
    "os.makedirs(LOG_DIR)"
   ]
  },
  {
   "cell_type": "code",
   "execution_count": 4,
   "id": "faa4e347-7c82-4d9f-8bb3-44a677272e29",
   "metadata": {},
   "outputs": [
    {
     "ename": "FileExistsError",
     "evalue": "[WinError 183] Cannot create a file when that file already exists: 'logs'",
     "output_type": "error",
     "traceback": [
      "\u001b[1;31m---------------------------------------------------------------------------\u001b[0m",
      "\u001b[1;31mFileExistsError\u001b[0m                           Traceback (most recent call last)",
      "Cell \u001b[1;32mIn[4], line 1\u001b[0m\n\u001b[1;32m----> 1\u001b[0m os\u001b[38;5;241m.\u001b[39mmakedirs(LOG_DIR)\n",
      "File \u001b[1;32m<frozen os>:225\u001b[0m, in \u001b[0;36mmakedirs\u001b[1;34m(name, mode, exist_ok)\u001b[0m\n",
      "\u001b[1;31mFileExistsError\u001b[0m: [WinError 183] Cannot create a file when that file already exists: 'logs'"
     ]
    }
   ],
   "source": [
    "os.makedirs(LOG_DIR)"
   ]
  },
  {
   "cell_type": "code",
   "execution_count": 5,
   "id": "13d1b5f7-90eb-4d83-bb6b-ab22cbd1283b",
   "metadata": {},
   "outputs": [],
   "source": [
    "os.makedirs(LOG_DIR, exist_ok = True)"
   ]
  },
  {
   "cell_type": "code",
   "execution_count": 6,
   "id": "c2190ec5-4d7d-42da-80de-48bfaf9fe785",
   "metadata": {},
   "outputs": [
    {
     "data": {
      "text/plain": [
       "'logs/application.log'"
      ]
     },
     "execution_count": 6,
     "metadata": {},
     "output_type": "execute_result"
    }
   ],
   "source": [
    "path = LOG_DIR + \"/\" + LOG_FILE_NAME\n",
    "path"
   ]
  },
  {
   "cell_type": "code",
   "execution_count": 8,
   "id": "c148178f-4020-4f24-9ab5-c1135f427736",
   "metadata": {},
   "outputs": [
    {
     "data": {
      "text/plain": [
       "'logs\\\\application.log'"
      ]
     },
     "execution_count": 8,
     "metadata": {},
     "output_type": "execute_result"
    }
   ],
   "source": [
    "log_path = os.path.join(LOG_DIR, LOG_FILE_NAME)\n",
    "log_path"
   ]
  },
  {
   "cell_type": "code",
   "execution_count": 9,
   "id": "0364bb40-2303-4e1c-b52a-a5447ed20dd7",
   "metadata": {},
   "outputs": [],
   "source": [
    "# To get the data to the log file\n",
    "\n",
    "logging.basicConfig(\n",
    "    filename = log_path,\n",
    "    format = \"[ %(asctime)s ] %(name)s - %(levelname)s - %(message)s\",\n",
    "    level = logging.INFO\n",
    ")"
   ]
  },
  {
   "cell_type": "code",
   "execution_count": 10,
   "id": "d8d8c86f-584e-40ae-a9b3-b7c56aa35420",
   "metadata": {},
   "outputs": [],
   "source": [
    "logging.info(\"This is first log message\")"
   ]
  },
  {
   "cell_type": "code",
   "execution_count": 11,
   "id": "5f99dfda-7a37-4b57-8730-08fa96a5a858",
   "metadata": {},
   "outputs": [
    {
     "name": "stdout",
     "output_type": "stream",
     "text": [
      "This is first log message\n"
     ]
    }
   ],
   "source": [
    "print(\"This is first log message\")"
   ]
  },
  {
   "cell_type": "code",
   "execution_count": 12,
   "id": "2d703025-acd0-419f-8c82-3deaac45dad4",
   "metadata": {},
   "outputs": [],
   "source": [
    "logging.info(\"This is Second log message\")"
   ]
  },
  {
   "cell_type": "code",
   "execution_count": 13,
   "id": "c6d49fa7-81e0-4533-a562-d1058cbf324f",
   "metadata": {},
   "outputs": [
    {
     "name": "stdout",
     "output_type": "stream",
     "text": [
      "This is sample text message\n"
     ]
    }
   ],
   "source": [
    "# let's read a file\n",
    "\n",
    "try:\n",
    "    with open(\"files/sample.txt\", \"r\") as f:\n",
    "        print(f.read())\n",
    "        \n",
    "except Exception as e:\n",
    "    logging.info(e)"
   ]
  },
  {
   "cell_type": "code",
   "execution_count": 14,
   "id": "c0fb2956-034d-4ca8-b219-fdb76b63430c",
   "metadata": {},
   "outputs": [],
   "source": [
    "# let's read a file\n",
    "\n",
    "try:\n",
    "    with open(\"files/sample1.txt\", \"r\") as f:\n",
    "        print(f.read())\n",
    "        \n",
    "except Exception as e:\n",
    "    logging.info(e)"
   ]
  },
  {
   "cell_type": "code",
   "execution_count": null,
   "id": "21d6474d-2fa0-435c-b92b-f598260dce03",
   "metadata": {},
   "outputs": [],
   "source": []
  }
 ],
 "metadata": {
  "kernelspec": {
   "display_name": "Python 3 (ipykernel)",
   "language": "python",
   "name": "python3"
  },
  "language_info": {
   "codemirror_mode": {
    "name": "ipython",
    "version": 3
   },
   "file_extension": ".py",
   "mimetype": "text/x-python",
   "name": "python",
   "nbconvert_exporter": "python",
   "pygments_lexer": "ipython3",
   "version": "3.11.7"
  }
 },
 "nbformat": 4,
 "nbformat_minor": 5
}
