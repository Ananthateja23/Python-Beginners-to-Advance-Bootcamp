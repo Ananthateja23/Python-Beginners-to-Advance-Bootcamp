{
 "cells": [
  {
   "cell_type": "code",
   "execution_count": 1,
   "id": "30e3924d-383a-4db0-8617-e7554badec4d",
   "metadata": {},
   "outputs": [
    {
     "name": "stdin",
     "output_type": "stream",
     "text": [
      "Enter your email address :  ananth73@gmail.com\n",
      "Enter you password :  1234\n"
     ]
    },
    {
     "name": "stdout",
     "output_type": "stream",
     "text": [
      "Login Successful :)\n"
     ]
    }
   ],
   "source": [
    "# Login Function demo - AnanthWeb\n",
    "\n",
    "\n",
    "\"\"\"\n",
    "Actual Credentials\n",
    "\n",
    "Email: ananth73@gmail.com\n",
    "\n",
    "Password : 1234\n",
    "\"\"\"\n",
    "\n",
    "email = input(\"Enter your email address : \")\n",
    "password = input(\"Enter you password : \")\n",
    "\n",
    "if email == \"ananth73@gmail.com\" and password == \"1234\":\n",
    "    print(\"Login Successful :)\")\n",
    "else:\n",
    "    print(\"Invalid Credentials :(\")"
   ]
  },
  {
   "cell_type": "code",
   "execution_count": 2,
   "id": "3e86f358-1bc1-4dde-b92b-924d1f528220",
   "metadata": {},
   "outputs": [
    {
     "name": "stdin",
     "output_type": "stream",
     "text": [
      "Enter your email address :  ananth73@gmail.com\n",
      "Enter you password :  1234\n"
     ]
    },
    {
     "name": "stdout",
     "output_type": "stream",
     "text": [
      "Login Successful :)\n"
     ]
    }
   ],
   "source": [
    "# Login Function demo - AnanthWeb\n",
    "\n",
    "\n",
    "\"\"\"\n",
    "Actual Credentials\n",
    "\n",
    "Email: ananth73@gmail.com\n",
    "\n",
    "Password : 1234\n",
    "\"\"\"\n",
    "\n",
    "email = input(\"Enter your email address : \")\n",
    "password = input(\"Enter you password : \")\n",
    "\n",
    "if email == \"ananth73@gmail.com\" and password == \"1234\":\n",
    "    print(\"Login Successful :)\")\n",
    "elif email == \"ananth73@gmail.com\" and password != \"1234\":\n",
    "    print(\"Please try again :(\")\n",
    "else:\n",
    "    print(\"Invalid Credentials :(\")"
   ]
  },
  {
   "cell_type": "code",
   "execution_count": 3,
   "id": "929609bb-4da5-49f6-bf63-f1550ee9eb14",
   "metadata": {},
   "outputs": [
    {
     "name": "stdin",
     "output_type": "stream",
     "text": [
      "Enter your email address :  ananth3@gmail.com\n",
      "Enter you password :  1254\n"
     ]
    },
    {
     "name": "stdout",
     "output_type": "stream",
     "text": [
      "Invalid Credentials :(\n"
     ]
    }
   ],
   "source": [
    "# Login Function demo - AnanthWeb\n",
    "\n",
    "\n",
    "\"\"\"\n",
    "Actual Credentials\n",
    "\n",
    "Email: ananth73@gmail.com\n",
    "\n",
    "Password : 1234\n",
    "\"\"\"\n",
    "\n",
    "email = input(\"Enter your email address : \")\n",
    "password = input(\"Enter you password : \")\n",
    "\n",
    "if email == \"ananth73@gmail.com\" and password == \"1234\":\n",
    "    print(\"Login Successful :)\")\n",
    "elif email == \"ananth73@gmail.com\" and password != \"1234\":\n",
    "    print(\"Please try again :(\")\n",
    "else:\n",
    "    print(\"Invalid Credentials :(\")"
   ]
  },
  {
   "cell_type": "code",
   "execution_count": 4,
   "id": "e5d08553-3a71-42bf-9983-fa41d27f0fca",
   "metadata": {},
   "outputs": [
    {
     "name": "stdin",
     "output_type": "stream",
     "text": [
      "Enter your email address :  ananth73@gmail.com\n",
      "Enter you password :  1235\n"
     ]
    },
    {
     "name": "stdout",
     "output_type": "stream",
     "text": [
      "Please try again :(\n"
     ]
    }
   ],
   "source": [
    "# Login Function demo - AnanthWeb\n",
    "\n",
    "\n",
    "\"\"\"\n",
    "Actual Credentials\n",
    "\n",
    "Email: ananth73@gmail.com\n",
    "\n",
    "Password : 1234\n",
    "\"\"\"\n",
    "\n",
    "email = input(\"Enter your email address : \")\n",
    "password = input(\"Enter you password : \")\n",
    "\n",
    "if email == \"ananth73@gmail.com\" and password == \"1234\":\n",
    "    print(\"Login Successful :)\")\n",
    "elif email == \"ananth73@gmail.com\" and password != \"1234\":\n",
    "    print(\"Please try again :(\")\n",
    "else:\n",
    "    print(\"Invalid Credentials :(\")"
   ]
  },
  {
   "cell_type": "code",
   "execution_count": 5,
   "id": "a34c861b-9335-4541-a8ac-a4fa5269a79e",
   "metadata": {},
   "outputs": [
    {
     "name": "stdin",
     "output_type": "stream",
     "text": [
      "Enter your email address :  ananth73@gmail.com\n",
      "Enter you password :  1256\n"
     ]
    },
    {
     "name": "stdout",
     "output_type": "stream",
     "text": [
      "Please try again :(\n"
     ]
    },
    {
     "name": "stdin",
     "output_type": "stream",
     "text": [
      "Enter correct password again :  1234\n"
     ]
    },
    {
     "name": "stdout",
     "output_type": "stream",
     "text": [
      "Success\n"
     ]
    }
   ],
   "source": [
    "# Login Function demo - AnanthWeb\n",
    "\n",
    "\n",
    "\"\"\"\n",
    "Actual Credentials\n",
    "\n",
    "Email: ananth73@gmail.com\n",
    "\n",
    "Password : 1234\n",
    "\"\"\"\n",
    "\n",
    "email = input(\"Enter your email address : \")\n",
    "password = input(\"Enter you password : \")\n",
    "\n",
    "if email == \"ananth73@gmail.com\" and password == \"1234\":\n",
    "    print(\"Login Successful :)\")\n",
    "elif email == \"ananth73@gmail.com\" and password != \"1234\":\n",
    "    print(\"Please try again :(\")\n",
    "    password = input(\"Enter correct password again : \")\n",
    "    if password == \"1234\":\n",
    "        print(\"Success\")\n",
    "    else:\n",
    "        print(\"Wrong\")\n",
    "else:\n",
    "    print(\"Invalid Credentials :(\")"
   ]
  },
  {
   "cell_type": "code",
   "execution_count": null,
   "id": "34764c6a-1972-45d8-bf30-d35b071d74c7",
   "metadata": {},
   "outputs": [],
   "source": []
  }
 ],
 "metadata": {
  "kernelspec": {
   "display_name": "Python 3 (ipykernel)",
   "language": "python",
   "name": "python3"
  },
  "language_info": {
   "codemirror_mode": {
    "name": "ipython",
    "version": 3
   },
   "file_extension": ".py",
   "mimetype": "text/x-python",
   "name": "python",
   "nbconvert_exporter": "python",
   "pygments_lexer": "ipython3",
   "version": "3.11.7"
  }
 },
 "nbformat": 4,
 "nbformat_minor": 5
}
