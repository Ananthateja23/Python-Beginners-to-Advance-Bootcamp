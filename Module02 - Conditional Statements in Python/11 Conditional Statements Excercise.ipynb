{
 "cells": [
  {
   "cell_type": "markdown",
   "id": "6ca49fbd-6660-4861-840d-0417253e1cca",
   "metadata": {},
   "source": [
    "# Excercise\n",
    "\n",
    "- Find the minimum of 3 given numbers"
   ]
  },
  {
   "cell_type": "markdown",
   "id": "fa3fa9f3-a732-443a-abe5-e415f818a3e0",
   "metadata": {},
   "source": [
    "```python\n",
    "if (a < b):\n",
    "    if (a < c):\n",
    "        print(\"a : {} is minimum\".format(a))\n",
    "    else:\n",
    "        print(\"c : {} is minimum\".format(c))\n",
    "else:\n",
    "    if (b < c):\n",
    "        print(\"b : {} is minimum\".format(b))\n",
    "    else:\n",
    "        print(\"c : {} is minimum\".format(a))\n",
    "```"
   ]
  },
  {
   "cell_type": "code",
   "execution_count": 1,
   "id": "e9088754-b01f-4be8-a06c-b701bad0fa70",
   "metadata": {},
   "outputs": [
    {
     "name": "stdin",
     "output_type": "stream",
     "text": [
      "Enter the first number :  1\n",
      "Enter the second number :  2\n",
      "Enter the third number :  3\n"
     ]
    },
    {
     "name": "stdout",
     "output_type": "stream",
     "text": [
      "Minimum number is  1\n"
     ]
    }
   ],
   "source": [
    "num1 = int(input(\"Enter the first number : \"))\n",
    "num2 = int(input(\"Enter the second number : \"))\n",
    "num3 = int(input(\"Enter the third number : \"))\n",
    "\n",
    "if (num1 < num2) and (num1 < num3):\n",
    "    print(\"Minimum number is \", num1)\n",
    "elif (num2 < num1) and (num2 < num3):\n",
    "    print(\"Minimum number is \", num2)\n",
    "else:\n",
    "    print(\"Minimum number is \", num3)"
   ]
  },
  {
   "cell_type": "markdown",
   "id": "14113eae-e811-40f6-91db-ebc72281994f",
   "metadata": {},
   "source": [
    "<hr>"
   ]
  },
  {
   "cell_type": "markdown",
   "id": "392c941c-c9c2-4f95-a223-8517c7954bce",
   "metadata": {},
   "source": [
    "# Excercise\n",
    "\n",
    "- ATM Machine menu\n",
    "\n",
    "1. Pin Change\n",
    "2. Balance check\n",
    "3. Withdraw\n",
    "4. Deposit\n",
    "5. Exit"
   ]
  },
  {
   "cell_type": "code",
   "execution_count": 2,
   "id": "b728a0f9-d08d-4254-adc4-0c9a3166c8dd",
   "metadata": {},
   "outputs": [
    {
     "name": "stdin",
     "output_type": "stream",
     "text": [
      "\n",
      "Hi there! Welcome to ATM\n",
      "Please choose,\n",
      "\n",
      "1. Enter 1 for Pin change\n",
      "2. Enter 2 for Balance Check\n",
      "3. Enter 3 for Withdraw\n",
      "4. Enter 4 for Deposit\n",
      "5. Enter 5 for Exit\n",
      "\n",
      "\n",
      " 1\n"
     ]
    },
    {
     "name": "stdout",
     "output_type": "stream",
     "text": [
      "1\n"
     ]
    }
   ],
   "source": [
    "menu = input(\"\"\"\n",
    "Hi there! Welcome to ATM\n",
    "Please choose,\n",
    "\n",
    "1. Enter 1 for Pin change\n",
    "2. Enter 2 for Balance Check\n",
    "3. Enter 3 for Withdraw\n",
    "4. Enter 4 for Deposit\n",
    "5. Enter 5 for Exit\n",
    "\n",
    "\n",
    "\"\"\")\n",
    "print(menu)"
   ]
  },
  {
   "cell_type": "code",
   "execution_count": 5,
   "id": "1b49db8a-5a86-4e74-a67e-99b76a86a4a4",
   "metadata": {},
   "outputs": [
    {
     "name": "stdin",
     "output_type": "stream",
     "text": [
      "\n",
      "Hi there! Welcome to ATM\n",
      "Please choose,\n",
      "\n",
      "1. Enter 1 for Pin change\n",
      "2. Enter 2 for Balance Check\n",
      "3. Enter 3 for Withdraw\n",
      "4. Enter 4 for Deposit\n",
      "5. Enter 5 for Exit\n",
      "\n",
      "\n",
      " 1\n"
     ]
    },
    {
     "name": "stdout",
     "output_type": "stream",
     "text": [
      "1\n",
      "Pin change\n"
     ]
    }
   ],
   "source": [
    "menu = input(\"\"\"\n",
    "Hi there! Welcome to ATM\n",
    "Please choose,\n",
    "\n",
    "1. Enter 1 for Pin change\n",
    "2. Enter 2 for Balance Check\n",
    "3. Enter 3 for Withdraw\n",
    "4. Enter 4 for Deposit\n",
    "5. Enter 5 for Exit\n",
    "\n",
    "\n",
    "\"\"\")\n",
    "print(menu)\n",
    "\n",
    "if menu == \"1\":\n",
    "    print(\"Pin change\")\n",
    "elif menu == \"2\":\n",
    "    print(\"Balance check\")\n",
    "elif menu == \"3\":\n",
    "    print(\"Withdraw\")\n",
    "elif menu == \"4\":\n",
    "    print(\"Deposit\")\n",
    "else:\n",
    "    print(\"Exit\")"
   ]
  },
  {
   "cell_type": "code",
   "execution_count": null,
   "id": "553fad91-4fd0-4615-80be-1e54826c1316",
   "metadata": {},
   "outputs": [],
   "source": []
  }
 ],
 "metadata": {
  "kernelspec": {
   "display_name": "Python 3 (ipykernel)",
   "language": "python",
   "name": "python3"
  },
  "language_info": {
   "codemirror_mode": {
    "name": "ipython",
    "version": 3
   },
   "file_extension": ".py",
   "mimetype": "text/x-python",
   "name": "python",
   "nbconvert_exporter": "python",
   "pygments_lexer": "ipython3",
   "version": "3.11.7"
  }
 },
 "nbformat": 4,
 "nbformat_minor": 5
}
