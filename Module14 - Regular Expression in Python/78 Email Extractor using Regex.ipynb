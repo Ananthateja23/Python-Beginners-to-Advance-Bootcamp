{
 "cells": [
  {
   "cell_type": "code",
   "execution_count": 1,
   "id": "9b3d7eb8-e7a4-4eec-abe3-5cf7cb92943f",
   "metadata": {},
   "outputs": [],
   "source": [
    "text = '''Cyclone Dumazile was a strong tropical cyclone in\n",
    "the South-West Indian Ocean that affected Madagascar\n",
    "and Reunion in early March 2018. Dumazile originated \n",
    "from a Cyclone low-pressure happy@gmail.com area that formed\n",
    "near Agalega on 27 February. It became a tropical\n",
    "disturbance on 2 March, and was named the next day\n",
    "after attaining tropical storm status. contact to contact77@gmail.com and alex.gray@amazon.co.uk\n",
    "'''"
   ]
  },
  {
   "cell_type": "code",
   "execution_count": 2,
   "id": "dbaff599-ba1b-4f0a-8748-b2bc3be7611f",
   "metadata": {},
   "outputs": [],
   "source": [
    "import re"
   ]
  },
  {
   "cell_type": "code",
   "execution_count": 3,
   "id": "7132150b-0288-43dd-b9de-670da5e0d459",
   "metadata": {},
   "outputs": [],
   "source": [
    "pattern = \"[a-zA-Z0-9_.+-]+@[a-zA-Z0-9-]+\\.[a-zA-Z0-9-.]+\""
   ]
  },
  {
   "cell_type": "code",
   "execution_count": 4,
   "id": "49132aa8-859a-47c0-a237-2d64d31207fc",
   "metadata": {},
   "outputs": [
    {
     "name": "stdout",
     "output_type": "stream",
     "text": [
      "['happy@gmail.com', 'contact77@gmail.com', 'alex.gray@amazon.co.uk']\n"
     ]
    }
   ],
   "source": [
    "emails = re.findall(pattern, text)\n",
    "print(emails)"
   ]
  },
  {
   "cell_type": "code",
   "execution_count": 5,
   "id": "426394e0-d918-442d-8506-eaec5d6fb710",
   "metadata": {},
   "outputs": [
    {
     "name": "stdout",
     "output_type": "stream",
     "text": [
      "happy@gmail.com\n",
      "contact77@gmail.com\n",
      "alex.gray@amazon.co.uk\n"
     ]
    }
   ],
   "source": [
    "for email in emails:\n",
    "    print(email)"
   ]
  },
  {
   "cell_type": "code",
   "execution_count": null,
   "id": "ea81e277-1e76-4a4a-828d-6e216930933b",
   "metadata": {},
   "outputs": [],
   "source": []
  }
 ],
 "metadata": {
  "kernelspec": {
   "display_name": "Python 3 (ipykernel)",
   "language": "python",
   "name": "python3"
  },
  "language_info": {
   "codemirror_mode": {
    "name": "ipython",
    "version": 3
   },
   "file_extension": ".py",
   "mimetype": "text/x-python",
   "name": "python",
   "nbconvert_exporter": "python",
   "pygments_lexer": "ipython3",
   "version": "3.11.7"
  }
 },
 "nbformat": 4,
 "nbformat_minor": 5
}
