{
 "cells": [
  {
   "cell_type": "code",
   "execution_count": 1,
   "id": "522cb386-3283-49f8-9b57-7d91950f914b",
   "metadata": {},
   "outputs": [],
   "source": [
    "text = '''Cyclone Dumazile was a strong tropical cyclone in\n",
    "the South-West Indian Ocean that affected Madagascar\n",
    "and Reunion in early March 2018. Dumazile originated \n",
    "from a Cyclone low-pressure area that formed\n",
    "near Agalega on 27 February. It became a tropical\n",
    "disturbance on 2 March, and was named the next day\n",
    "after attaining tropical storm status.\n",
    "'''"
   ]
  },
  {
   "cell_type": "code",
   "execution_count": 2,
   "id": "d41105c0-10e5-4ebe-9b16-2d4d447d3c1e",
   "metadata": {},
   "outputs": [
    {
     "data": {
      "text/plain": [
       "True"
      ]
     },
     "execution_count": 2,
     "metadata": {},
     "output_type": "execute_result"
    }
   ],
   "source": [
    "\"Cyclone\" in text"
   ]
  },
  {
   "cell_type": "code",
   "execution_count": 3,
   "id": "e6d0f17d-c1bd-44a5-803b-d02bf08a65c2",
   "metadata": {},
   "outputs": [],
   "source": [
    "text2 = '''Cyclone Dumazile was a strong tropical cyclone in\n",
    "the South-West Indian Ocean that affected Madagascar\n",
    "and Reunion in early March 2018. Dumazile originated \n",
    "from a Cyclone low-pressure Dyclone area that formed\n",
    "near Agalega on 27 February. It became a tropical\n",
    "disturbance on 2 March, and was named the next day\n",
    "after attaining tropical storm status.\n",
    "'''"
   ]
  },
  {
   "cell_type": "code",
   "execution_count": 4,
   "id": "e24b8a15-ed6b-4fb2-97b6-d8c37316bd67",
   "metadata": {},
   "outputs": [],
   "source": [
    "text3 = '''Cyclone Dumazile was a strong tropical cyclone in\n",
    "the South-West Indian Ocean that affected Madagascar\n",
    "and Reunion in early March 2018. Dumazile originated \n",
    "from a Cyclone low-pressure Dyclone  Pyclone area that formed\n",
    "near Agalega on 27 February. It became a tropical\n",
    "disturbance on 2 March, and was named the next day\n",
    "after attaining tropical storm status.\n",
    "'''"
   ]
  },
  {
   "cell_type": "code",
   "execution_count": 5,
   "id": "fda9d932-e838-4ecf-b1b6-d7f7a58b025c",
   "metadata": {},
   "outputs": [],
   "source": [
    "import re"
   ]
  },
  {
   "cell_type": "code",
   "execution_count": 12,
   "id": "b9688236-bb25-4272-afb6-9b0fbb7124df",
   "metadata": {},
   "outputs": [],
   "source": [
    "pattern = r\"[A-Z]+yclone\""
   ]
  },
  {
   "cell_type": "code",
   "execution_count": 8,
   "id": "99119b46-41d3-4b62-a216-96a348c6362d",
   "metadata": {},
   "outputs": [
    {
     "data": {
      "text/plain": [
       "<re.Match object; span=(0, 7), match='Cyclone'>"
      ]
     },
     "execution_count": 8,
     "metadata": {},
     "output_type": "execute_result"
    }
   ],
   "source": [
    "match = re.search(pattern, text)\n",
    "match"
   ]
  },
  {
   "cell_type": "code",
   "execution_count": 9,
   "id": "303afb3d-cb0f-4d5a-84ec-9d1ea7537371",
   "metadata": {},
   "outputs": [
    {
     "data": {
      "text/plain": [
       "'Cyclone'"
      ]
     },
     "execution_count": 9,
     "metadata": {},
     "output_type": "execute_result"
    }
   ],
   "source": [
    "text[0:7]"
   ]
  },
  {
   "cell_type": "code",
   "execution_count": 18,
   "id": "fa0a56fc-df55-4033-a591-5b8445f279bd",
   "metadata": {},
   "outputs": [
    {
     "data": {
      "text/plain": [
       "<callable_iterator at 0x2dc02c9a7d0>"
      ]
     },
     "execution_count": 18,
     "metadata": {},
     "output_type": "execute_result"
    }
   ],
   "source": [
    "match_item = re.finditer(pattern, text)\n",
    "match_item"
   ]
  },
  {
   "cell_type": "code",
   "execution_count": 19,
   "id": "9cf102f5-ffa1-4118-82e2-a61d26399023",
   "metadata": {},
   "outputs": [
    {
     "name": "stdout",
     "output_type": "stream",
     "text": [
      "<re.Match object; span=(0, 7), match='Cyclone'>\n",
      "<re.Match object; span=(164, 171), match='Cyclone'>\n"
     ]
    }
   ],
   "source": [
    "for match in match_item:\n",
    "    # print(match.span())\n",
    "    print(match)"
   ]
  },
  {
   "cell_type": "markdown",
   "id": "7eed8d7a-a7c2-4c9f-bd93-266d6d771bca",
   "metadata": {},
   "source": [
    "```python\n",
    "for match in match_item:\n",
    "    index = match.span()\n",
    "    print(text[index[0] : index[1]])\n",
    "```"
   ]
  },
  {
   "cell_type": "code",
   "execution_count": null,
   "id": "980c57cc-1994-4843-9209-2eeb951fb37e",
   "metadata": {},
   "outputs": [],
   "source": []
  },
  {
   "cell_type": "code",
   "execution_count": null,
   "id": "5079d710-5f19-448b-850a-9d9e221357a7",
   "metadata": {},
   "outputs": [],
   "source": []
  }
 ],
 "metadata": {
  "kernelspec": {
   "display_name": "Python 3 (ipykernel)",
   "language": "python",
   "name": "python3"
  },
  "language_info": {
   "codemirror_mode": {
    "name": "ipython",
    "version": 3
   },
   "file_extension": ".py",
   "mimetype": "text/x-python",
   "name": "python",
   "nbconvert_exporter": "python",
   "pygments_lexer": "ipython3",
   "version": "3.11.7"
  }
 },
 "nbformat": 4,
 "nbformat_minor": 5
}
