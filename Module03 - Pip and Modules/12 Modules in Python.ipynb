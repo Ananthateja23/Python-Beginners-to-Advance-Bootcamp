{
 "cells": [
  {
   "cell_type": "markdown",
   "id": "c982c6cb-8010-4464-8b64-3820decf5e1d",
   "metadata": {},
   "source": [
    "# Module\n",
    "\n",
    "- The file contains functions, classes, and variables, as well as the implementation of various logics\n",
    "- These files are created by other programmers, so we don't need to write them from scratch\n",
    "- We simply import them and use them in our code"
   ]
  },
  {
   "cell_type": "markdown",
   "id": "6ea4dea0-053b-47e7-a37d-96076ae77de0",
   "metadata": {},
   "source": [
    "```\n",
    "Generally, we have two types of modules i.e\n",
    "\n",
    "(1) Builtin Module or Package  ==> These modules are already installed on our machine.\n",
    "\n",
    "==> math\n",
    "==> keyword\n",
    "==> random\n",
    "==> datetime\n",
    "\n",
    "(2) External Module or Package ==> We install these based on our needs.\n",
    "\n",
    "```"
   ]
  },
  {
   "cell_type": "code",
   "execution_count": 1,
   "id": "07360497-0603-436a-99bf-55b533a3ccc0",
   "metadata": {},
   "outputs": [],
   "source": [
    "import math"
   ]
  },
  {
   "cell_type": "code",
   "execution_count": 2,
   "id": "4e330cb4-73e2-411b-a89d-f07ebe7a279b",
   "metadata": {},
   "outputs": [
    {
     "data": {
      "text/plain": [
       "4.898979485566356"
      ]
     },
     "execution_count": 2,
     "metadata": {},
     "output_type": "execute_result"
    }
   ],
   "source": [
    "math.sqrt(24)"
   ]
  },
  {
   "cell_type": "code",
   "execution_count": 3,
   "id": "61997178-8b0d-43a5-bee0-70e582a7db58",
   "metadata": {},
   "outputs": [
    {
     "data": {
      "text/plain": [
       "14.0"
      ]
     },
     "execution_count": 3,
     "metadata": {},
     "output_type": "execute_result"
    }
   ],
   "source": [
    "math.sqrt(196)"
   ]
  },
  {
   "cell_type": "code",
   "execution_count": 4,
   "id": "d1d9fe38-ff61-4200-96c4-9ac7a1951197",
   "metadata": {},
   "outputs": [
    {
     "data": {
      "text/plain": [
       "24"
      ]
     },
     "execution_count": 4,
     "metadata": {},
     "output_type": "execute_result"
    }
   ],
   "source": [
    "math.factorial(4)"
   ]
  },
  {
   "cell_type": "code",
   "execution_count": 5,
   "id": "b00d21fa-b4ed-4117-9583-fcabe9a1c4cf",
   "metadata": {},
   "outputs": [
    {
     "name": "stdout",
     "output_type": "stream",
     "text": [
      "['False', 'None', 'True', 'and', 'as', 'assert', 'async', 'await', 'break', 'class', 'continue', 'def', 'del', 'elif', 'else', 'except', 'finally', 'for', 'from', 'global', 'if', 'import', 'in', 'is', 'lambda', 'nonlocal', 'not', 'or', 'pass', 'raise', 'return', 'try', 'while', 'with', 'yield']\n"
     ]
    }
   ],
   "source": [
    "import keyword\n",
    "print(keyword.kwlist)"
   ]
  },
  {
   "cell_type": "code",
   "execution_count": 6,
   "id": "d68961a1-3dc2-4ae8-9f16-48908f6ed7d2",
   "metadata": {},
   "outputs": [],
   "source": [
    "import random"
   ]
  },
  {
   "cell_type": "code",
   "execution_count": 7,
   "id": "0bde3254-4f31-4a5c-b2bd-c90356324d3c",
   "metadata": {},
   "outputs": [
    {
     "data": {
      "text/plain": [
       "28"
      ]
     },
     "execution_count": 7,
     "metadata": {},
     "output_type": "execute_result"
    }
   ],
   "source": [
    "random.randint(1, 100)"
   ]
  },
  {
   "cell_type": "code",
   "execution_count": 8,
   "id": "428400de-1cc2-4bc2-8594-913c39608dae",
   "metadata": {},
   "outputs": [
    {
     "name": "stdout",
     "output_type": "stream",
     "text": [
      "2025-07-30 17:48:41.997828\n"
     ]
    }
   ],
   "source": [
    "import datetime\n",
    "print(datetime.datetime.now())"
   ]
  },
  {
   "cell_type": "code",
   "execution_count": 9,
   "id": "c8b5401a-b079-4394-b9d1-37f764b67328",
   "metadata": {},
   "outputs": [
    {
     "name": "stdout",
     "output_type": "stream",
     "text": [
      "\n",
      "Please wait a moment while I gather a list of all available modules...\n",
      "\n"
     ]
    },
    {
     "name": "stderr",
     "output_type": "stream",
     "text": [
      "C:\\Users\\ANANTH\\anaconda3\\Lib\\site-packages\\paramiko\\transport.py:219: CryptographyDeprecationWarning: Blowfish has been deprecated and will be removed in a future release\n",
      "  \"class\": algorithms.Blowfish,\n",
      "C:\\Users\\ANANTH\\anaconda3\\Lib\\site-packages\\Cryptodome\\SelfTest\\PublicKey\\test_ECC_NIST.py:764: UserWarning: Warning: skipping extended tests for P-192 tests from point-at-infinity.org\n",
      "  tv_pai = load_test_vectors((\"PublicKey\", \"ECC\"),\n",
      "C:\\Users\\ANANTH\\anaconda3\\Lib\\site-packages\\Cryptodome\\SelfTest\\PublicKey\\test_ECC_NIST.py:785: UserWarning: Warning: skipping extended tests for P-224 tests from point-at-infinity.org\n",
      "  tv_pai = load_test_vectors((\"PublicKey\", \"ECC\"),\n",
      "C:\\Users\\ANANTH\\anaconda3\\Lib\\site-packages\\Cryptodome\\SelfTest\\PublicKey\\test_ECC_NIST.py:806: UserWarning: Warning: skipping extended tests for P-256 tests from point-at-infinity.org\n",
      "  tv_pai = load_test_vectors((\"PublicKey\", \"ECC\"),\n",
      "C:\\Users\\ANANTH\\anaconda3\\Lib\\site-packages\\Cryptodome\\SelfTest\\PublicKey\\test_ECC_NIST.py:827: UserWarning: Warning: skipping extended tests for P-384 tests from point-at-infinity.org\n",
      "  tv_pai = load_test_vectors((\"PublicKey\", \"ECC\"),\n",
      "C:\\Users\\ANANTH\\anaconda3\\Lib\\site-packages\\Cryptodome\\SelfTest\\PublicKey\\test_ECC_NIST.py:848: UserWarning: Warning: skipping extended tests for P-521 tests from point-at-infinity.org\n",
      "  tv_pai = load_test_vectors((\"PublicKey\", \"ECC\"),\n",
      "C:\\Users\\ANANTH\\anaconda3\\Lib\\site-packages\\Cryptodome\\SelfTest\\Signature\\test_pkcs1_15.py:70: UserWarning: Warning: skipping extended tests for Signature Verification 186-3\n",
      "  test_vectors_verify = load_test_vectors((\"Signature\", \"PKCS1-v1.5\"),\n",
      "C:\\Users\\ANANTH\\anaconda3\\Lib\\site-packages\\Cryptodome\\SelfTest\\Signature\\test_pkcs1_15.py:117: UserWarning: Warning: skipping extended tests for Signature Generation 186-2\n",
      "  test_vectors_sign  = load_test_vectors((\"Signature\", \"PKCS1-v1.5\"),\n",
      "C:\\Users\\ANANTH\\anaconda3\\Lib\\site-packages\\Cryptodome\\SelfTest\\Signature\\test_pkcs1_15.py:122: UserWarning: Warning: skipping extended tests for Signature Generation 186-3\n",
      "  test_vectors_sign += load_test_vectors((\"Signature\", \"PKCS1-v1.5\"),\n",
      "C:\\Users\\ANANTH\\anaconda3\\Lib\\site-packages\\Cryptodome\\SelfTest\\Signature\\test_pss.py:117: UserWarning: Warning: skipping extended tests for Signature Verification 186-3\n",
      "  test_vectors_verify = load_test_vectors((\"Signature\", \"PKCS1-PSS\"),\n",
      "C:\\Users\\ANANTH\\anaconda3\\Lib\\site-packages\\Cryptodome\\SelfTest\\Signature\\test_pss.py:169: UserWarning: Warning: skipping extended tests for Signature Generation 186-2\n",
      "  test_vectors_sign = load_test_vectors((\"Signature\", \"PKCS1-PSS\"),\n",
      "C:\\Users\\ANANTH\\anaconda3\\Lib\\site-packages\\Cryptodome\\SelfTest\\Signature\\test_pss.py:174: UserWarning: Warning: skipping extended tests for Signature Generation 186-3\n",
      "  test_vectors_sign += load_test_vectors((\"Signature\", \"PKCS1-PSS\"),\n",
      "C:\\Users\\ANANTH\\anaconda3\\Lib\\site-packages\\Cryptodome\\SelfTest\\Signature\\test_dss.py:159: UserWarning: Warning: skipping extended tests for Signature Verification 186-3\n",
      "  test_vectors_verify = load_test_vectors((\"Signature\", \"DSA\"),\n",
      "C:\\Users\\ANANTH\\anaconda3\\Lib\\site-packages\\Cryptodome\\SelfTest\\Signature\\test_dss.py:197: UserWarning: Warning: skipping extended tests for Signature Creation 186-3\n",
      "  test_vectors_sign = load_test_vectors((\"Signature\", \"DSA\"),\n",
      "C:\\Users\\ANANTH\\anaconda3\\Lib\\site-packages\\Cryptodome\\SelfTest\\Signature\\test_dss.py:307: UserWarning: Warning: skipping extended tests for ECDSA Signature Verification 186-3\n",
      "  test_vectors_verify = load_test_vectors((\"Signature\", \"ECDSA\"),\n",
      "C:\\Users\\ANANTH\\anaconda3\\Lib\\site-packages\\Cryptodome\\SelfTest\\Signature\\test_dss.py:314: UserWarning: Warning: skipping extended tests for ECDSA Signature Verification 186-3\n",
      "  test_vectors_verify += load_test_vectors((\"Signature\", \"ECDSA\"),\n",
      "C:\\Users\\ANANTH\\anaconda3\\Lib\\site-packages\\Cryptodome\\SelfTest\\Signature\\test_dss.py:357: UserWarning: Warning: skipping extended tests for ECDSA Signature Verification 186-3\n",
      "  test_vectors_sign = load_test_vectors((\"Signature\", \"ECDSA\"),\n",
      "C:\\Users\\ANANTH\\anaconda3\\Lib\\pkgutil.py:92: UserWarning: \n",
      "The dash_core_components package is deprecated. Please replace\n",
      "`import dash_core_components as dcc` with `from dash import dcc`\n",
      "  __import__(info.name)\n",
      "C:\\Users\\ANANTH\\anaconda3\\Lib\\pkgutil.py:92: UserWarning: \n",
      "The dash_html_components package is deprecated. Please replace\n",
      "`import dash_html_components as html` with `from dash import html`\n",
      "  __import__(info.name)\n",
      "C:\\Users\\ANANTH\\anaconda3\\Lib\\pkgutil.py:92: UserWarning: \n",
      "The dash_table package is deprecated. Please replace\n",
      "`import dash_table` with `from dash import dash_table`\n",
      "\n",
      "Also, if you're using any of the table format helpers (e.g. Group), replace \n",
      "`from dash_table.Format import Group` with \n",
      "`from dash.dash_table.Format import Group`\n",
      "  __import__(info.name)\n",
      "C:\\Users\\ANANTH\\anaconda3\\Lib\\site-packages\\nltk\\twitter\\__init__.py:20: UserWarning: The twython library has not been installed. Some functionality from the twitter package will not be available.\n",
      "  warnings.warn(\n",
      "C:\\Users\\ANANTH\\anaconda3\\Lib\\pkgutil.py:92: UserWarning: The numpy.array_api submodule is still experimental. See NEP 47.\n",
      "  __import__(info.name)\n",
      "C:\\Users\\ANANTH\\anaconda3\\Lib\\pkgutil.py:92: DeprecationWarning: \n",
      "\n",
      "  `numpy.distutils` is deprecated since NumPy 1.23.0, as a result\n",
      "  of the deprecation of `distutils` itself. It will be removed for\n",
      "  Python >= 3.12. For older Python versions it will remain present.\n",
      "  It is recommended to use `setuptools < 60.0` for those Python versions.\n",
      "  For more details, see:\n",
      "    https://numpy.org/devdocs/reference/distutils_status_migration.html \n",
      "\n",
      "\n",
      "  __import__(info.name)\n",
      "C:\\Users\\ANANTH\\anaconda3\\Lib\\site-packages\\_distutils_hack\\__init__.py:33: UserWarning: Setuptools is replacing distutils.\n",
      "  warnings.warn(\"Setuptools is replacing distutils.\")\n",
      "C:\\Users\\ANANTH\\anaconda3\\Lib\\pkgutil.py:92: DeprecationWarning: pkg_resources is deprecated as an API. See https://setuptools.pypa.io/en/latest/pkg_resources.html\n",
      "  __import__(info.name)\n",
      "C:\\Users\\ANANTH\\anaconda3\\Lib\\site-packages\\pip\\_vendor\\pkg_resources\\__init__.py:2871: DeprecationWarning: Deprecated call to `pkg_resources.declare_namespace('zope')`.\n",
      "Implementing implicit namespace packages (as specified in PEP 420) is preferred to `pkg_resources.declare_namespace`. See https://setuptools.pypa.io/en/latest/references/keywords.html#keyword-namespace-packages\n",
      "  declare_namespace(pkg)\n",
      "C:\\Users\\ANANTH\\anaconda3\\Lib\\site-packages\\pip\\_vendor\\pkg_resources\\__init__.py:2871: DeprecationWarning: Deprecated call to `pkg_resources.declare_namespace('google')`.\n",
      "Implementing implicit namespace packages (as specified in PEP 420) is preferred to `pkg_resources.declare_namespace`. See https://setuptools.pypa.io/en/latest/references/keywords.html#keyword-namespace-packages\n",
      "  declare_namespace(pkg)\n",
      "C:\\Users\\ANANTH\\anaconda3\\Lib\\site-packages\\pip\\_vendor\\pkg_resources\\__init__.py:2871: DeprecationWarning: Deprecated call to `pkg_resources.declare_namespace('ruamel')`.\n",
      "Implementing implicit namespace packages (as specified in PEP 420) is preferred to `pkg_resources.declare_namespace`. See https://setuptools.pypa.io/en/latest/references/keywords.html#keyword-namespace-packages\n",
      "  declare_namespace(pkg)\n",
      "C:\\Users\\ANANTH\\anaconda3\\Lib\\site-packages\\pip\\_vendor\\pkg_resources\\__init__.py:2871: DeprecationWarning: Deprecated call to `pkg_resources.declare_namespace('sphinxcontrib')`.\n",
      "Implementing implicit namespace packages (as specified in PEP 420) is preferred to `pkg_resources.declare_namespace`. See https://setuptools.pypa.io/en/latest/references/keywords.html#keyword-namespace-packages\n",
      "  declare_namespace(pkg)\n",
      "C:\\Users\\ANANTH\\anaconda3\\Lib\\site-packages\\pip\\_vendor\\pkg_resources\\__init__.py:2871: DeprecationWarning: Deprecated call to `pkg_resources.declare_namespace('sphinxcontrib')`.\n",
      "Implementing implicit namespace packages (as specified in PEP 420) is preferred to `pkg_resources.declare_namespace`. See https://setuptools.pypa.io/en/latest/references/keywords.html#keyword-namespace-packages\n",
      "  declare_namespace(pkg)\n",
      "C:\\Users\\ANANTH\\anaconda3\\Lib\\site-packages\\pip\\_vendor\\pkg_resources\\__init__.py:2871: DeprecationWarning: Deprecated call to `pkg_resources.declare_namespace('sphinxcontrib')`.\n",
      "Implementing implicit namespace packages (as specified in PEP 420) is preferred to `pkg_resources.declare_namespace`. See https://setuptools.pypa.io/en/latest/references/keywords.html#keyword-namespace-packages\n",
      "  declare_namespace(pkg)\n",
      "C:\\Users\\ANANTH\\anaconda3\\Lib\\site-packages\\pip\\_vendor\\pkg_resources\\__init__.py:2871: DeprecationWarning: Deprecated call to `pkg_resources.declare_namespace('sphinxcontrib')`.\n",
      "Implementing implicit namespace packages (as specified in PEP 420) is preferred to `pkg_resources.declare_namespace`. See https://setuptools.pypa.io/en/latest/references/keywords.html#keyword-namespace-packages\n",
      "  declare_namespace(pkg)\n",
      "C:\\Users\\ANANTH\\anaconda3\\Lib\\site-packages\\pip\\_vendor\\pkg_resources\\__init__.py:2871: DeprecationWarning: Deprecated call to `pkg_resources.declare_namespace('sphinxcontrib')`.\n",
      "Implementing implicit namespace packages (as specified in PEP 420) is preferred to `pkg_resources.declare_namespace`. See https://setuptools.pypa.io/en/latest/references/keywords.html#keyword-namespace-packages\n",
      "  declare_namespace(pkg)\n",
      "C:\\Users\\ANANTH\\anaconda3\\Lib\\site-packages\\pip\\_vendor\\pkg_resources\\__init__.py:2871: DeprecationWarning: Deprecated call to `pkg_resources.declare_namespace('sphinxcontrib')`.\n",
      "Implementing implicit namespace packages (as specified in PEP 420) is preferred to `pkg_resources.declare_namespace`. See https://setuptools.pypa.io/en/latest/references/keywords.html#keyword-namespace-packages\n",
      "  declare_namespace(pkg)\n",
      "C:\\Users\\ANANTH\\anaconda3\\Lib\\site-packages\\numpy\\distutils\\system_info.py:189: DeprecationWarning:\n",
      "\n",
      "The distutils package is deprecated and slated for removal in Python 3.12. Use setuptools or check PEP 632 for potential alternatives\n",
      "\n",
      "C:\\Users\\ANANTH\\anaconda3\\Lib\\distutils\\command\\config.py:16: DeprecationWarning:\n",
      "\n",
      "The distutils.sysconfig module is deprecated, use sysconfig instead\n",
      "\n",
      "C:\\Users\\ANANTH\\anaconda3\\Lib\\site-packages\\twisted\\web\\http.py:103: DeprecationWarning:\n",
      "\n",
      "'cgi' is deprecated and slated for removal in Python 3.13\n",
      "\n",
      "No QCoreApplication instance found. Application patches not applied. You have to call load_stylesheet function after instantiation of QApplication to take effect. \n"
     ]
    },
    {
     "ename": "Skipped",
     "evalue": "could not import 'hypothesis': No module named 'hypothesis'",
     "output_type": "error",
     "traceback": [
      "\u001b[1;31m---------------------------------------------------------------------------\u001b[0m",
      "\u001b[1;31mSkipped\u001b[0m                                   Traceback (most recent call last)",
      "Cell \u001b[1;32mIn[9], line 1\u001b[0m\n\u001b[1;32m----> 1\u001b[0m help(\u001b[38;5;124m\"\u001b[39m\u001b[38;5;124mmodules\u001b[39m\u001b[38;5;124m\"\u001b[39m)\n",
      "File \u001b[1;32m<frozen _sitebuiltins>:103\u001b[0m, in \u001b[0;36m__call__\u001b[1;34m(self, *args, **kwds)\u001b[0m\n",
      "File \u001b[1;32m~\\anaconda3\\Lib\\pydoc.py:2011\u001b[0m, in \u001b[0;36mHelper.__call__\u001b[1;34m(self, request)\u001b[0m\n\u001b[0;32m   2009\u001b[0m \u001b[38;5;28;01mif\u001b[39;00m request \u001b[38;5;129;01mis\u001b[39;00m \u001b[38;5;129;01mnot\u001b[39;00m \u001b[38;5;28mself\u001b[39m\u001b[38;5;241m.\u001b[39m_GoInteractive:\n\u001b[0;32m   2010\u001b[0m     \u001b[38;5;28;01mtry\u001b[39;00m:\n\u001b[1;32m-> 2011\u001b[0m         \u001b[38;5;28mself\u001b[39m\u001b[38;5;241m.\u001b[39mhelp(request)\n\u001b[0;32m   2012\u001b[0m     \u001b[38;5;28;01mexcept\u001b[39;00m \u001b[38;5;167;01mImportError\u001b[39;00m \u001b[38;5;28;01mas\u001b[39;00m e:\n\u001b[0;32m   2013\u001b[0m         \u001b[38;5;28mself\u001b[39m\u001b[38;5;241m.\u001b[39moutput\u001b[38;5;241m.\u001b[39mwrite(\u001b[38;5;124mf\u001b[39m\u001b[38;5;124m'\u001b[39m\u001b[38;5;132;01m{\u001b[39;00me\u001b[38;5;132;01m}\u001b[39;00m\u001b[38;5;130;01m\\n\u001b[39;00m\u001b[38;5;124m'\u001b[39m)\n",
      "File \u001b[1;32m~\\anaconda3\\Lib\\pydoc.py:2060\u001b[0m, in \u001b[0;36mHelper.help\u001b[1;34m(self, request, is_cli)\u001b[0m\n\u001b[0;32m   2058\u001b[0m \u001b[38;5;28;01melif\u001b[39;00m request \u001b[38;5;241m==\u001b[39m \u001b[38;5;124m'\u001b[39m\u001b[38;5;124msymbols\u001b[39m\u001b[38;5;124m'\u001b[39m: \u001b[38;5;28mself\u001b[39m\u001b[38;5;241m.\u001b[39mlistsymbols()\n\u001b[0;32m   2059\u001b[0m \u001b[38;5;28;01melif\u001b[39;00m request \u001b[38;5;241m==\u001b[39m \u001b[38;5;124m'\u001b[39m\u001b[38;5;124mtopics\u001b[39m\u001b[38;5;124m'\u001b[39m: \u001b[38;5;28mself\u001b[39m\u001b[38;5;241m.\u001b[39mlisttopics()\n\u001b[1;32m-> 2060\u001b[0m \u001b[38;5;28;01melif\u001b[39;00m request \u001b[38;5;241m==\u001b[39m \u001b[38;5;124m'\u001b[39m\u001b[38;5;124mmodules\u001b[39m\u001b[38;5;124m'\u001b[39m: \u001b[38;5;28mself\u001b[39m\u001b[38;5;241m.\u001b[39mlistmodules()\n\u001b[0;32m   2061\u001b[0m \u001b[38;5;28;01melif\u001b[39;00m request[:\u001b[38;5;241m8\u001b[39m] \u001b[38;5;241m==\u001b[39m \u001b[38;5;124m'\u001b[39m\u001b[38;5;124mmodules \u001b[39m\u001b[38;5;124m'\u001b[39m:\n\u001b[0;32m   2062\u001b[0m     \u001b[38;5;28mself\u001b[39m\u001b[38;5;241m.\u001b[39mlistmodules(request\u001b[38;5;241m.\u001b[39msplit()[\u001b[38;5;241m1\u001b[39m])\n",
      "File \u001b[1;32m~\\anaconda3\\Lib\\pydoc.py:2214\u001b[0m, in \u001b[0;36mHelper.listmodules\u001b[1;34m(self, key)\u001b[0m\n\u001b[0;32m   2212\u001b[0m             \u001b[38;5;28;01mdef\u001b[39;00m \u001b[38;5;21monerror\u001b[39m(modname):\n\u001b[0;32m   2213\u001b[0m                 callback(\u001b[38;5;28;01mNone\u001b[39;00m, modname, \u001b[38;5;28;01mNone\u001b[39;00m)\n\u001b[1;32m-> 2214\u001b[0m             ModuleScanner()\u001b[38;5;241m.\u001b[39mrun(callback, onerror\u001b[38;5;241m=\u001b[39monerror)\n\u001b[0;32m   2215\u001b[0m             \u001b[38;5;28mself\u001b[39m\u001b[38;5;241m.\u001b[39mlist(modules\u001b[38;5;241m.\u001b[39mkeys())\n\u001b[0;32m   2216\u001b[0m             \u001b[38;5;28mself\u001b[39m\u001b[38;5;241m.\u001b[39moutput\u001b[38;5;241m.\u001b[39mwrite(\u001b[38;5;124m'''\u001b[39m\n\u001b[0;32m   2217\u001b[0m \u001b[38;5;124mEnter any module name to get more help.  Or, type \u001b[39m\u001b[38;5;124m\"\u001b[39m\u001b[38;5;124mmodules spam\u001b[39m\u001b[38;5;124m\"\u001b[39m\u001b[38;5;124m to search\u001b[39m\n\u001b[0;32m   2218\u001b[0m \u001b[38;5;124mfor modules whose name or summary contain the string \u001b[39m\u001b[38;5;124m\"\u001b[39m\u001b[38;5;124mspam\u001b[39m\u001b[38;5;124m\"\u001b[39m\u001b[38;5;124m.\u001b[39m\n\u001b[0;32m   2219\u001b[0m \u001b[38;5;124m'''\u001b[39m)\n",
      "File \u001b[1;32m~\\anaconda3\\Lib\\pydoc.py:2243\u001b[0m, in \u001b[0;36mModuleScanner.run\u001b[1;34m(self, callback, key, completer, onerror)\u001b[0m\n\u001b[0;32m   2240\u001b[0m             \u001b[38;5;28;01mif\u001b[39;00m name\u001b[38;5;241m.\u001b[39mlower()\u001b[38;5;241m.\u001b[39mfind(key) \u001b[38;5;241m>\u001b[39m\u001b[38;5;241m=\u001b[39m \u001b[38;5;241m0\u001b[39m:\n\u001b[0;32m   2241\u001b[0m                 callback(\u001b[38;5;28;01mNone\u001b[39;00m, modname, desc)\n\u001b[1;32m-> 2243\u001b[0m \u001b[38;5;28;01mfor\u001b[39;00m importer, modname, ispkg \u001b[38;5;129;01min\u001b[39;00m pkgutil\u001b[38;5;241m.\u001b[39mwalk_packages(onerror\u001b[38;5;241m=\u001b[39monerror):\n\u001b[0;32m   2244\u001b[0m     \u001b[38;5;28;01mif\u001b[39;00m \u001b[38;5;28mself\u001b[39m\u001b[38;5;241m.\u001b[39mquit:\n\u001b[0;32m   2245\u001b[0m         \u001b[38;5;28;01mbreak\u001b[39;00m\n",
      "File \u001b[1;32m~\\anaconda3\\Lib\\pkgutil.py:107\u001b[0m, in \u001b[0;36mwalk_packages\u001b[1;34m(path, prefix, onerror)\u001b[0m\n\u001b[0;32m    104\u001b[0m \u001b[38;5;66;03m# don't traverse path items we've seen before\u001b[39;00m\n\u001b[0;32m    105\u001b[0m path \u001b[38;5;241m=\u001b[39m [p \u001b[38;5;28;01mfor\u001b[39;00m p \u001b[38;5;129;01min\u001b[39;00m path \u001b[38;5;28;01mif\u001b[39;00m \u001b[38;5;129;01mnot\u001b[39;00m seen(p)]\n\u001b[1;32m--> 107\u001b[0m \u001b[38;5;28;01myield from\u001b[39;00m walk_packages(path, info\u001b[38;5;241m.\u001b[39mname\u001b[38;5;241m+\u001b[39m\u001b[38;5;124m'\u001b[39m\u001b[38;5;124m.\u001b[39m\u001b[38;5;124m'\u001b[39m, onerror)\n",
      "File \u001b[1;32m~\\anaconda3\\Lib\\pkgutil.py:92\u001b[0m, in \u001b[0;36mwalk_packages\u001b[1;34m(path, prefix, onerror)\u001b[0m\n\u001b[0;32m     90\u001b[0m \u001b[38;5;28;01mif\u001b[39;00m info\u001b[38;5;241m.\u001b[39mispkg:\n\u001b[0;32m     91\u001b[0m     \u001b[38;5;28;01mtry\u001b[39;00m:\n\u001b[1;32m---> 92\u001b[0m         \u001b[38;5;28m__import__\u001b[39m(info\u001b[38;5;241m.\u001b[39mname)\n\u001b[0;32m     93\u001b[0m     \u001b[38;5;28;01mexcept\u001b[39;00m \u001b[38;5;167;01mImportError\u001b[39;00m:\n\u001b[0;32m     94\u001b[0m         \u001b[38;5;28;01mif\u001b[39;00m onerror \u001b[38;5;129;01mis\u001b[39;00m \u001b[38;5;129;01mnot\u001b[39;00m \u001b[38;5;28;01mNone\u001b[39;00m:\n",
      "File \u001b[1;32m~\\anaconda3\\Lib\\site-packages\\xgboost\\testing\\__init__.py:51\u001b[0m\n\u001b[0;32m     42\u001b[0m \u001b[38;5;28;01mfrom\u001b[39;00m \u001b[38;5;21;01mxgboost\u001b[39;00m\u001b[38;5;21;01m.\u001b[39;00m\u001b[38;5;21;01msklearn\u001b[39;00m \u001b[38;5;28;01mimport\u001b[39;00m SklObjective\n\u001b[0;32m     43\u001b[0m \u001b[38;5;28;01mfrom\u001b[39;00m \u001b[38;5;21;01mxgboost\u001b[39;00m\u001b[38;5;21;01m.\u001b[39;00m\u001b[38;5;21;01mtesting\u001b[39;00m\u001b[38;5;21;01m.\u001b[39;00m\u001b[38;5;21;01mdata\u001b[39;00m \u001b[38;5;28;01mimport\u001b[39;00m (\n\u001b[0;32m     44\u001b[0m     get_california_housing,\n\u001b[0;32m     45\u001b[0m     get_cancer,\n\u001b[1;32m   (...)\u001b[0m\n\u001b[0;32m     48\u001b[0m     memory,\n\u001b[0;32m     49\u001b[0m )\n\u001b[1;32m---> 51\u001b[0m hypothesis \u001b[38;5;241m=\u001b[39m pytest\u001b[38;5;241m.\u001b[39mimportorskip(\u001b[38;5;124m\"\u001b[39m\u001b[38;5;124mhypothesis\u001b[39m\u001b[38;5;124m\"\u001b[39m)\n\u001b[0;32m     53\u001b[0m \u001b[38;5;66;03m# pylint:disable=wrong-import-position,wrong-import-order\u001b[39;00m\n\u001b[0;32m     54\u001b[0m \u001b[38;5;28;01mfrom\u001b[39;00m \u001b[38;5;21;01mhypothesis\u001b[39;00m \u001b[38;5;28;01mimport\u001b[39;00m strategies\n",
      "File \u001b[1;32m~\\anaconda3\\Lib\\site-packages\\_pytest\\outcomes.py:296\u001b[0m, in \u001b[0;36mimportorskip\u001b[1;34m(modname, minversion, reason)\u001b[0m\n\u001b[0;32m    294\u001b[0m         \u001b[38;5;28;01mif\u001b[39;00m reason \u001b[38;5;129;01mis\u001b[39;00m \u001b[38;5;28;01mNone\u001b[39;00m:\n\u001b[0;32m    295\u001b[0m             reason \u001b[38;5;241m=\u001b[39m \u001b[38;5;124mf\u001b[39m\u001b[38;5;124m\"\u001b[39m\u001b[38;5;124mcould not import \u001b[39m\u001b[38;5;132;01m{\u001b[39;00mmodname\u001b[38;5;132;01m!r}\u001b[39;00m\u001b[38;5;124m: \u001b[39m\u001b[38;5;132;01m{\u001b[39;00mexc\u001b[38;5;132;01m}\u001b[39;00m\u001b[38;5;124m\"\u001b[39m\n\u001b[1;32m--> 296\u001b[0m         \u001b[38;5;28;01mraise\u001b[39;00m Skipped(reason, allow_module_level\u001b[38;5;241m=\u001b[39m\u001b[38;5;28;01mTrue\u001b[39;00m) \u001b[38;5;28;01mfrom\u001b[39;00m \u001b[38;5;28;01mNone\u001b[39;00m\n\u001b[0;32m    297\u001b[0m mod \u001b[38;5;241m=\u001b[39m sys\u001b[38;5;241m.\u001b[39mmodules[modname]\n\u001b[0;32m    298\u001b[0m \u001b[38;5;28;01mif\u001b[39;00m minversion \u001b[38;5;129;01mis\u001b[39;00m \u001b[38;5;28;01mNone\u001b[39;00m:\n",
      "\u001b[1;31mSkipped\u001b[0m: could not import 'hypothesis': No module named 'hypothesis'"
     ]
    }
   ],
   "source": [
    "help(\"modules\")"
   ]
  },
  {
   "cell_type": "code",
   "execution_count": null,
   "id": "fb5cb8ed-f15a-4ca1-92ea-dccc47108c44",
   "metadata": {},
   "outputs": [],
   "source": []
  }
 ],
 "metadata": {
  "kernelspec": {
   "display_name": "Python 3 (ipykernel)",
   "language": "python",
   "name": "python3"
  },
  "language_info": {
   "codemirror_mode": {
    "name": "ipython",
    "version": 3
   },
   "file_extension": ".py",
   "mimetype": "text/x-python",
   "name": "python",
   "nbconvert_exporter": "python",
   "pygments_lexer": "ipython3",
   "version": "3.11.7"
  }
 },
 "nbformat": 4,
 "nbformat_minor": 5
}
