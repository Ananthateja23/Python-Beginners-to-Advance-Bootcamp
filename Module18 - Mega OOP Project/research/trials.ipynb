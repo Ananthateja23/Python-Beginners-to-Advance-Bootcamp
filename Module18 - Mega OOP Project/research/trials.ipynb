{
 "cells": [
  {
   "cell_type": "code",
   "execution_count": 2,
   "id": "6b2b9eb3",
   "metadata": {},
   "outputs": [],
   "source": [
    "import google.generativeai as genai"
   ]
  },
  {
   "cell_type": "code",
   "execution_count": null,
   "id": "2cb14fe5",
   "metadata": {},
   "outputs": [],
   "source": []
  },
  {
   "cell_type": "code",
   "execution_count": null,
   "id": "5f2c2462",
   "metadata": {},
   "outputs": [
    {
     "name": "stdout",
     "output_type": "stream",
     "text": [
      "Of course! Here are a few ways to translate \"I hate this movie\" into Hindi, ranging from literal to more common expressions.\n",
      "\n",
      "**Most Direct Translation:**\n",
      "\n",
      "*   **मुझे इस फ़िल्म से नफ़रत है।**\n",
      "    (Mujhe is film se nafrat hai.)\n",
      "\n",
      "---\n",
      "\n",
      "### **Other Common Ways to Say It:**\n",
      "\n",
      "These are often used more frequently in casual conversation.\n",
      "\n",
      "*   **मुझे यह फ़िल्म बिल्कुल पसंद नहीं आई।**\n",
      "    (Mujhe yeh film bilkul pasand nahin aayi.)\n",
      "    *This translates to \"I did not like this movie at all.\"*\n",
      "\n",
      "*   **यह फ़िल्म बहुत बेकार है।**\n",
      "    (Yeh film bahut bekaar hai.)\n",
      "    *This translates to \"This movie is very bad/useless.\"*\n",
      "\n",
      "*   **यह फ़िल्म एकदम बकवास है।**\n",
      "    (Yeh film ekdam bakwaas hai.)\n",
      "    *This translates to \"This movie is complete nonsense/rubbish.\"*\n",
      "\n",
      "For most situations, any of these options will perfectly convey your feeling.\n"
     ]
    }
   ],
   "source": [
    "\n",
    "GOOGLE_API_KEY = \"\"\n",
    "\n",
    "user_text1 = \"\"\"\n",
    "Give me the sentiment of this sentence:\n",
    "\"I hate this movie\"\n",
    "\"\"\"\n",
    "\n",
    "user_text2 = \"\"\"\n",
    "Give me hindi translation of this sentence:\n",
    "\"I hate this movie\"\n",
    "\"\"\"\n",
    "\n",
    "user_text3 = \"\"\"\n",
    "Detect the language of this sentence:\n",
    "\"I hate this movie\"\n",
    "\"\"\"\n",
    "\n",
    "genai.configure(api_key = GOOGLE_API_KEY)\n",
    "model = genai.GenerativeModel(\"gemini-2.5-pro\")\n",
    "response = model.generate_content(user_text2)\n",
    "results = response.text\n",
    "print(results)"
   ]
  },
  {
   "cell_type": "code",
   "execution_count": null,
   "id": "5d56ec07",
   "metadata": {},
   "outputs": [],
   "source": []
  }
 ],
 "metadata": {
  "kernelspec": {
   "display_name": "nlpapp",
   "language": "python",
   "name": "python3"
  },
  "language_info": {
   "codemirror_mode": {
    "name": "ipython",
    "version": 3
   },
   "file_extension": ".py",
   "mimetype": "text/x-python",
   "name": "python",
   "nbconvert_exporter": "python",
   "pygments_lexer": "ipython3",
   "version": "3.10.18"
  }
 },
 "nbformat": 4,
 "nbformat_minor": 5
}
