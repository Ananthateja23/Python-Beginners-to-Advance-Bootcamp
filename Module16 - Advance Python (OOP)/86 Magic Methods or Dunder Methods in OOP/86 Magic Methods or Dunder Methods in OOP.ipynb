{
 "cells": [
  {
   "cell_type": "markdown",
   "id": "e54062c3-df5a-4fe6-98c5-e3819e4be26d",
   "metadata": {},
   "source": [
    "# Magic Methods or Dunder Methods in OOP\n",
    "\n",
    "- both are the same\n",
    "- We can easily identify them, and their syntax is as follows: `__functionname__`"
   ]
  },
  {
   "cell_type": "code",
   "execution_count": 1,
   "id": "df7f19a2-7876-4459-a7c5-2cb3daca185a",
   "metadata": {},
   "outputs": [
    {
     "name": "stdout",
     "output_type": "stream",
     "text": [
      "Inside Temp constructor\n"
     ]
    }
   ],
   "source": [
    "class Temp:\n",
    "    def __init__(self):\n",
    "        print(\"Inside Temp constructor\")\n",
    "\n",
    "\n",
    "ob = Temp()"
   ]
  },
  {
   "cell_type": "code",
   "execution_count": null,
   "id": "da3295ed-c518-497b-b05a-f12292de1dc5",
   "metadata": {},
   "outputs": [],
   "source": []
  }
 ],
 "metadata": {
  "kernelspec": {
   "display_name": "Python 3 (ipykernel)",
   "language": "python",
   "name": "python3"
  },
  "language_info": {
   "codemirror_mode": {
    "name": "ipython",
    "version": 3
   },
   "file_extension": ".py",
   "mimetype": "text/x-python",
   "name": "python",
   "nbconvert_exporter": "python",
   "pygments_lexer": "ipython3",
   "version": "3.11.7"
  }
 },
 "nbformat": 4,
 "nbformat_minor": 5
}
