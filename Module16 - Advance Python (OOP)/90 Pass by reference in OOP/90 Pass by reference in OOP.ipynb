{
 "cells": [
  {
   "cell_type": "markdown",
   "id": "1217034c-7d39-4992-9f9b-1a2ee81a15f6",
   "metadata": {},
   "source": [
    "# Pass by reference in OOP"
   ]
  },
  {
   "cell_type": "code",
   "execution_count": 1,
   "id": "2bbc60a4-9c73-49fd-998c-a7044033f1c9",
   "metadata": {},
   "outputs": [],
   "source": [
    "class Person:\n",
    "    def __init__(self, name, gender):\n",
    "        self.name = name\n",
    "        self.gender = gender\n",
    "\n",
    "# outside class\n",
    "def greet(person):\n",
    "    print(f\"Hi, My name is {person.name} and I am a {person.gender}\")"
   ]
  },
  {
   "cell_type": "code",
   "execution_count": 2,
   "id": "d95352a4-d381-49f8-868b-1ba095c6faf1",
   "metadata": {},
   "outputs": [],
   "source": [
    "p = Person(\"Happy\", \"male\")"
   ]
  },
  {
   "cell_type": "code",
   "execution_count": 3,
   "id": "294bb55e-be39-497b-82a9-2dbe6f339964",
   "metadata": {},
   "outputs": [
    {
     "name": "stdout",
     "output_type": "stream",
     "text": [
      "Hi, My name is Happy and I am a male\n"
     ]
    }
   ],
   "source": [
    "greet(p)"
   ]
  },
  {
   "cell_type": "code",
   "execution_count": 4,
   "id": "a300d4a9-9122-476f-8f43-ea2e1f8c1937",
   "metadata": {},
   "outputs": [],
   "source": [
    "class Person:\n",
    "    def __init__(self, name, gender):\n",
    "        self.name = name\n",
    "        self.gender = gender\n",
    "\n",
    "# outside class\n",
    "def greet(person):\n",
    "    print(f\"Hi, My name is {person.name} and I am a {person.gender}\")\n",
    "\n",
    "    p1 = Person(\"Teja\", \"Male\")\n",
    "    return p1"
   ]
  },
  {
   "cell_type": "code",
   "execution_count": 5,
   "id": "73c0fce8-c717-4ea2-9a98-fac7959f56c7",
   "metadata": {},
   "outputs": [],
   "source": [
    "p = Person(\"Happy\", \"male\")"
   ]
  },
  {
   "cell_type": "code",
   "execution_count": 6,
   "id": "090c8e21-9d05-4b66-b13b-c08a2e98c466",
   "metadata": {},
   "outputs": [
    {
     "name": "stdout",
     "output_type": "stream",
     "text": [
      "Hi, My name is Happy and I am a male\n"
     ]
    }
   ],
   "source": [
    "new_obj = greet(p)"
   ]
  },
  {
   "cell_type": "code",
   "execution_count": 7,
   "id": "d23f03f3-73a8-40c7-9fb8-ffe8e8c8f3ca",
   "metadata": {},
   "outputs": [
    {
     "data": {
      "text/plain": [
       "'Teja'"
      ]
     },
     "execution_count": 7,
     "metadata": {},
     "output_type": "execute_result"
    }
   ],
   "source": [
    "new_obj.name"
   ]
  },
  {
   "cell_type": "code",
   "execution_count": 8,
   "id": "c905d33d-5ce5-447a-ba55-abea2c54c19b",
   "metadata": {},
   "outputs": [
    {
     "data": {
      "text/plain": [
       "'Male'"
      ]
     },
     "execution_count": 8,
     "metadata": {},
     "output_type": "execute_result"
    }
   ],
   "source": [
    "new_obj.gender"
   ]
  },
  {
   "cell_type": "code",
   "execution_count": null,
   "id": "aa09b697-0f32-4c25-bcf1-cfcd280d3852",
   "metadata": {},
   "outputs": [],
   "source": []
  }
 ],
 "metadata": {
  "kernelspec": {
   "display_name": "Python 3 (ipykernel)",
   "language": "python",
   "name": "python3"
  },
  "language_info": {
   "codemirror_mode": {
    "name": "ipython",
    "version": 3
   },
   "file_extension": ".py",
   "mimetype": "text/x-python",
   "name": "python",
   "nbconvert_exporter": "python",
   "pygments_lexer": "ipython3",
   "version": "3.11.7"
  }
 },
 "nbformat": 4,
 "nbformat_minor": 5
}
