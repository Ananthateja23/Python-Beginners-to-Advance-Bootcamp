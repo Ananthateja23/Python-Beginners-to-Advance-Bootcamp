{
 "cells": [
  {
   "cell_type": "markdown",
   "id": "c810e031-4fb9-43df-a76a-b13b9025ff94",
   "metadata": {},
   "source": [
    "# Mutability of Object in OOP"
   ]
  },
  {
   "cell_type": "code",
   "execution_count": 1,
   "id": "0f544758-cd20-4afd-84c3-ad97b29d923b",
   "metadata": {},
   "outputs": [],
   "source": [
    "class Person:\n",
    "    def __init__(self, name, gender):\n",
    "        self.name = name\n",
    "        self.gender = gender\n",
    "\n",
    "# outside class\n",
    "def greet(person):\n",
    "    person.name = \"Tony Stark\"\n",
    "    return person"
   ]
  },
  {
   "cell_type": "code",
   "execution_count": 2,
   "id": "3ba81a3b-b335-459f-80f2-5bbed8a3f7e9",
   "metadata": {},
   "outputs": [],
   "source": [
    "p = Person(\"Happy\", \"Male\")"
   ]
  },
  {
   "cell_type": "code",
   "execution_count": 3,
   "id": "f6d1a480-1db8-4916-83a5-75995bcb30f4",
   "metadata": {},
   "outputs": [
    {
     "name": "stdout",
     "output_type": "stream",
     "text": [
      "2786438907728\n"
     ]
    }
   ],
   "source": [
    "print(id(p))"
   ]
  },
  {
   "cell_type": "code",
   "execution_count": 4,
   "id": "0b156e6c-bb54-403b-aa06-94405b7bc449",
   "metadata": {},
   "outputs": [],
   "source": [
    "a = greet(p)"
   ]
  },
  {
   "cell_type": "code",
   "execution_count": 5,
   "id": "c9068a04-3f50-4507-ba79-adf77a6aeb6a",
   "metadata": {},
   "outputs": [
    {
     "name": "stdout",
     "output_type": "stream",
     "text": [
      "2786438907728\n"
     ]
    }
   ],
   "source": [
    "print(id(a))"
   ]
  },
  {
   "cell_type": "code",
   "execution_count": 6,
   "id": "42e00763-7d52-4353-8421-bfe97fcdcad1",
   "metadata": {},
   "outputs": [
    {
     "data": {
      "text/plain": [
       "'Tony Stark'"
      ]
     },
     "execution_count": 6,
     "metadata": {},
     "output_type": "execute_result"
    }
   ],
   "source": [
    "a.name"
   ]
  },
  {
   "cell_type": "code",
   "execution_count": 7,
   "id": "f15b988a-36f2-4910-ac30-3480f08fd605",
   "metadata": {},
   "outputs": [
    {
     "data": {
      "text/plain": [
       "'Tony Stark'"
      ]
     },
     "execution_count": 7,
     "metadata": {},
     "output_type": "execute_result"
    }
   ],
   "source": [
    "p.name"
   ]
  },
  {
   "cell_type": "code",
   "execution_count": null,
   "id": "a24948cf-441f-46b5-9e14-8aace62034d9",
   "metadata": {},
   "outputs": [],
   "source": []
  }
 ],
 "metadata": {
  "kernelspec": {
   "display_name": "Python 3 (ipykernel)",
   "language": "python",
   "name": "python3"
  },
  "language_info": {
   "codemirror_mode": {
    "name": "ipython",
    "version": 3
   },
   "file_extension": ".py",
   "mimetype": "text/x-python",
   "name": "python",
   "nbconvert_exporter": "python",
   "pygments_lexer": "ipython3",
   "version": "3.11.7"
  }
 },
 "nbformat": 4,
 "nbformat_minor": 5
}
