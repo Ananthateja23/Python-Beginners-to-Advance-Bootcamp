{
 "cells": [
  {
   "cell_type": "markdown",
   "id": "9fbd4831-f5aa-4b96-ad10-3b993b64099d",
   "metadata": {},
   "source": [
    "# Getter & Setter methods in OOP"
   ]
  },
  {
   "cell_type": "code",
   "execution_count": 1,
   "id": "be2f062f-42d3-453a-8b9d-7916764592e3",
   "metadata": {},
   "outputs": [],
   "source": [
    "class AtmMachine:\n",
    "    # constructor (special function) -> superpowers\n",
    "    def __init__(self):\n",
    "        self.pin = \"\"\n",
    "        self.__balance = 0 # private variable\n",
    "        # self.menu()\n",
    "\n",
    "    # getter method\n",
    "    def get_balance(self):\n",
    "        return self.__balance\n",
    "\n",
    "    def menu(self):\n",
    "        user_input = input(\n",
    "            \"\"\"\n",
    "            Hi, how can I help you?\n",
    "\n",
    "            1. Press 1 to create pin\n",
    "            2. Press 2 to change pin\n",
    "            3. Press 3 to check balance\n",
    "            4. Press 4 to withdraw\n",
    "            5. Anything to exit\n",
    "            \"\"\"\n",
    "        )\n",
    "\n",
    "        if user_input == \"1\":\n",
    "            # create a pin\n",
    "            self.create_pin()\n",
    "        elif user_input == \"2\":\n",
    "            # change pin\n",
    "            self.change_pin()\n",
    "        elif user_input == \"3\":\n",
    "            # check balance\n",
    "            self.check_balance()\n",
    "        elif user_input == \"4\":\n",
    "            # withdraw balance\n",
    "            self.withdraw_balance()\n",
    "        else:\n",
    "            exit()\n",
    "\n",
    "    def create_pin(self):\n",
    "        user_pin = input(\"Enter your pin : \")\n",
    "        self.pin = user_pin\n",
    "\n",
    "        user_balance = int(input(\"Enter balance : \"))\n",
    "        self.__balance = user_balance\n",
    "\n",
    "        print(\"Pin Created Successfully!\")\n",
    "        # self.menu()\n",
    "\n",
    "    def change_pin(self):\n",
    "        old_pin = input(\"Enter your old pin : \")\n",
    "        if old_pin == self.pin:\n",
    "            new_pin = input(\"Enter new pin : \")\n",
    "            self.pin = new_pin\n",
    "            print(\"Pin changed Successfully!\")\n",
    "            # self.menu()\n",
    "        else:\n",
    "            print(\"Invalid Pin!\")\n",
    "            # self.menu()   \n",
    "\n",
    "    def check_balance(self):\n",
    "        user_pin = input(\"Enter your pin :\")\n",
    "        if self.pin == user_pin:\n",
    "            print(f\"Your balance is {self.__balance}\")\n",
    "        else:\n",
    "            print(\"Your pin in incorrect, Please try again\")\n",
    "        # self.menu()\n",
    "\n",
    "    def withdraw_balance(self):\n",
    "        user_pin = input(\"Enter your pin : \")\n",
    "\n",
    "        if user_pin == self.pin:\n",
    "            amount = int(input(\"Enter the amount : \"))\n",
    "            if amount <= self.__balance:\n",
    "                self.__balance -= amount\n",
    "                print(f\"You have withdrawn {amount}. Your new balance is {self.__balance}\")\n",
    "            else:\n",
    "                pass\n",
    "        else:\n",
    "            print(\"Your pin in incorrect, Please try again\")\n",
    "        # self.menu()\n",
    "        "
   ]
  },
  {
   "cell_type": "code",
   "execution_count": 2,
   "id": "2ce89a21-9541-4f87-aaf6-f2379e1378f6",
   "metadata": {},
   "outputs": [],
   "source": [
    "obj = AtmMachine()"
   ]
  },
  {
   "cell_type": "code",
   "execution_count": 3,
   "id": "85fe98e1-c3ea-4c2f-b4e6-6baea13279d9",
   "metadata": {},
   "outputs": [
    {
     "data": {
      "text/plain": [
       "0"
      ]
     },
     "execution_count": 3,
     "metadata": {},
     "output_type": "execute_result"
    }
   ],
   "source": [
    "obj.get_balance()"
   ]
  },
  {
   "cell_type": "code",
   "execution_count": 4,
   "id": "8dbdb30e-37ac-4421-a5e5-238b61a3f20b",
   "metadata": {},
   "outputs": [],
   "source": [
    "class AtmMachine:\n",
    "    # constructor (special function) -> superpowers\n",
    "    def __init__(self):\n",
    "        self.pin = \"\"\n",
    "        self.__balance = 0 # private variable\n",
    "        # self.menu()\n",
    "\n",
    "    # getter method\n",
    "    def get_balance(self):\n",
    "        return self.__balance\n",
    "\n",
    "    # setter method\n",
    "    def set_balance(self, new_balance):\n",
    "        self.__balance = new_balance\n",
    "\n",
    "    \n",
    "    def menu(self):\n",
    "        user_input = input(\n",
    "            \"\"\"\n",
    "            Hi, how can I help you?\n",
    "\n",
    "            1. Press 1 to create pin\n",
    "            2. Press 2 to change pin\n",
    "            3. Press 3 to check balance\n",
    "            4. Press 4 to withdraw\n",
    "            5. Anything to exit\n",
    "            \"\"\"\n",
    "        )\n",
    "\n",
    "        if user_input == \"1\":\n",
    "            # create a pin\n",
    "            self.create_pin()\n",
    "        elif user_input == \"2\":\n",
    "            # change pin\n",
    "            self.change_pin()\n",
    "        elif user_input == \"3\":\n",
    "            # check balance\n",
    "            self.check_balance()\n",
    "        elif user_input == \"4\":\n",
    "            # withdraw balance\n",
    "            self.withdraw_balance()\n",
    "        else:\n",
    "            exit()\n",
    "\n",
    "    def create_pin(self):\n",
    "        user_pin = input(\"Enter your pin : \")\n",
    "        self.pin = user_pin\n",
    "\n",
    "        user_balance = int(input(\"Enter balance : \"))\n",
    "        self.__balance = user_balance\n",
    "\n",
    "        print(\"Pin Created Successfully!\")\n",
    "        # self.menu()\n",
    "\n",
    "    def change_pin(self):\n",
    "        old_pin = input(\"Enter your old pin : \")\n",
    "        if old_pin == self.pin:\n",
    "            new_pin = input(\"Enter new pin : \")\n",
    "            self.pin = new_pin\n",
    "            print(\"Pin changed Successfully!\")\n",
    "            # self.menu()\n",
    "        else:\n",
    "            print(\"Invalid Pin!\")\n",
    "            # self.menu()   \n",
    "\n",
    "    def check_balance(self):\n",
    "        user_pin = input(\"Enter your pin :\")\n",
    "        if self.pin == user_pin:\n",
    "            print(f\"Your balance is {self.__balance}\")\n",
    "        else:\n",
    "            print(\"Your pin in incorrect, Please try again\")\n",
    "        # self.menu()\n",
    "\n",
    "    def withdraw_balance(self):\n",
    "        user_pin = input(\"Enter your pin : \")\n",
    "\n",
    "        if user_pin == self.pin:\n",
    "            amount = int(input(\"Enter the amount : \"))\n",
    "            if amount <= self.__balance:\n",
    "                self.__balance -= amount\n",
    "                print(f\"You have withdrawn {amount}. Your new balance is {self.__balance}\")\n",
    "            else:\n",
    "                pass\n",
    "        else:\n",
    "            print(\"Your pin in incorrect, Please try again\")\n",
    "        # self.menu()\n",
    "        "
   ]
  },
  {
   "cell_type": "code",
   "execution_count": 5,
   "id": "3a5802f7-3dfd-44af-8cf0-cbfb99c1f9c2",
   "metadata": {},
   "outputs": [],
   "source": [
    "obj = AtmMachine()"
   ]
  },
  {
   "cell_type": "code",
   "execution_count": 6,
   "id": "eebd5ab3-4b80-4fd3-97b6-aa01ff3e9bc8",
   "metadata": {},
   "outputs": [
    {
     "data": {
      "text/plain": [
       "0"
      ]
     },
     "execution_count": 6,
     "metadata": {},
     "output_type": "execute_result"
    }
   ],
   "source": [
    "obj.get_balance()"
   ]
  },
  {
   "cell_type": "code",
   "execution_count": 7,
   "id": "cb53ba75-fee9-446f-9ea7-aae822db7b36",
   "metadata": {},
   "outputs": [],
   "source": [
    "obj.set_balance(5000)"
   ]
  },
  {
   "cell_type": "code",
   "execution_count": 8,
   "id": "f1ba504e-1319-47b8-8886-f95503400505",
   "metadata": {},
   "outputs": [
    {
     "data": {
      "text/plain": [
       "5000"
      ]
     },
     "execution_count": 8,
     "metadata": {},
     "output_type": "execute_result"
    }
   ],
   "source": [
    "obj.get_balance()"
   ]
  },
  {
   "cell_type": "code",
   "execution_count": 9,
   "id": "9ff1051b-d3bd-4988-8c66-0301d66825d2",
   "metadata": {},
   "outputs": [],
   "source": [
    "obj.set_balance(\"hello\")"
   ]
  },
  {
   "cell_type": "code",
   "execution_count": 10,
   "id": "3c0b6e74-2a91-4ca2-a994-c4bd7260c848",
   "metadata": {},
   "outputs": [
    {
     "data": {
      "text/plain": [
       "'hello'"
      ]
     },
     "execution_count": 10,
     "metadata": {},
     "output_type": "execute_result"
    }
   ],
   "source": [
    "obj.get_balance()"
   ]
  },
  {
   "cell_type": "code",
   "execution_count": 16,
   "id": "cb7aab2a-f498-4022-ae23-58375b3f6222",
   "metadata": {},
   "outputs": [],
   "source": [
    "class AtmMachine:\n",
    "    # constructor (special function) -> superpowers\n",
    "    def __init__(self):\n",
    "        self.pin = \"\"\n",
    "        self.__balance = 0 # private variable\n",
    "        # self.menu()\n",
    "\n",
    "    # getter method\n",
    "    def get_balance(self):\n",
    "        return self.__balance\n",
    "\n",
    "    # setter method\n",
    "    def set_balance(self, new_balance):\n",
    "        if type(new_balance) == int:\n",
    "            self.__balance = new_balance\n",
    "        else:\n",
    "            print(\"Don't make fun over here\")\n",
    "\n",
    "    \n",
    "    def menu(self):\n",
    "        user_input = input(\n",
    "            \"\"\"\n",
    "            Hi, how can I help you?\n",
    "\n",
    "            1. Press 1 to create pin\n",
    "            2. Press 2 to change pin\n",
    "            3. Press 3 to check balance\n",
    "            4. Press 4 to withdraw\n",
    "            5. Anything to exit\n",
    "            \"\"\"\n",
    "        )\n",
    "\n",
    "        if user_input == \"1\":\n",
    "            # create a pin\n",
    "            self.create_pin()\n",
    "        elif user_input == \"2\":\n",
    "            # change pin\n",
    "            self.change_pin()\n",
    "        elif user_input == \"3\":\n",
    "            # check balance\n",
    "            self.check_balance()\n",
    "        elif user_input == \"4\":\n",
    "            # withdraw balance\n",
    "            self.withdraw_balance()\n",
    "        else:\n",
    "            exit()\n",
    "\n",
    "    def create_pin(self):\n",
    "        user_pin = input(\"Enter your pin : \")\n",
    "        self.pin = user_pin\n",
    "\n",
    "        user_balance = int(input(\"Enter balance : \"))\n",
    "        self.__balance = user_balance\n",
    "\n",
    "        print(\"Pin Created Successfully!\")\n",
    "        # self.menu()\n",
    "\n",
    "    def change_pin(self):\n",
    "        old_pin = input(\"Enter your old pin : \")\n",
    "        if old_pin == self.pin:\n",
    "            new_pin = input(\"Enter new pin : \")\n",
    "            self.pin = new_pin\n",
    "            print(\"Pin changed Successfully!\")\n",
    "            # self.menu()\n",
    "        else:\n",
    "            print(\"Invalid Pin!\")\n",
    "            # self.menu()   \n",
    "\n",
    "    def check_balance(self):\n",
    "        user_pin = input(\"Enter your pin :\")\n",
    "        if self.pin == user_pin:\n",
    "            print(f\"Your balance is {self.__balance}\")\n",
    "        else:\n",
    "            print(\"Your pin in incorrect, Please try again\")\n",
    "        # self.menu()\n",
    "\n",
    "    def withdraw_balance(self):\n",
    "        user_pin = input(\"Enter your pin : \")\n",
    "\n",
    "        if user_pin == self.pin:\n",
    "            amount = int(input(\"Enter the amount : \"))\n",
    "            if amount <= self.__balance:\n",
    "                self.__balance -= amount\n",
    "                print(f\"You have withdrawn {amount}. Your new balance is {self.__balance}\")\n",
    "            else:\n",
    "                pass\n",
    "        else:\n",
    "            print(\"Your pin in incorrect, Please try again\")\n",
    "        # self.menu()\n",
    "        "
   ]
  },
  {
   "cell_type": "code",
   "execution_count": 17,
   "id": "aaf0889c-410e-479f-a759-56e21f74128d",
   "metadata": {},
   "outputs": [],
   "source": [
    "obj = AtmMachine()"
   ]
  },
  {
   "cell_type": "code",
   "execution_count": 18,
   "id": "e31a02c1-549c-4f59-ba11-fa2e526361f2",
   "metadata": {},
   "outputs": [
    {
     "data": {
      "text/plain": [
       "0"
      ]
     },
     "execution_count": 18,
     "metadata": {},
     "output_type": "execute_result"
    }
   ],
   "source": [
    "obj.get_balance()"
   ]
  },
  {
   "cell_type": "code",
   "execution_count": 19,
   "id": "2ed88c24-25cf-4f5f-8e28-616e6e096f8b",
   "metadata": {},
   "outputs": [],
   "source": [
    "obj.set_balance(1000)"
   ]
  },
  {
   "cell_type": "code",
   "execution_count": 20,
   "id": "dde13d22-5f49-47f4-9f51-4c251e022ab1",
   "metadata": {},
   "outputs": [
    {
     "data": {
      "text/plain": [
       "1000"
      ]
     },
     "execution_count": 20,
     "metadata": {},
     "output_type": "execute_result"
    }
   ],
   "source": [
    "obj.get_balance()"
   ]
  },
  {
   "cell_type": "code",
   "execution_count": 21,
   "id": "79f0fea4-8830-414f-80d9-058e95f8ba9b",
   "metadata": {},
   "outputs": [
    {
     "name": "stdout",
     "output_type": "stream",
     "text": [
      "Don't make fun over here\n"
     ]
    }
   ],
   "source": [
    "obj.set_balance(\"hello\")"
   ]
  },
  {
   "cell_type": "code",
   "execution_count": 22,
   "id": "3ef32902-69f7-48c5-8a24-9c5273cacf4c",
   "metadata": {},
   "outputs": [
    {
     "data": {
      "text/plain": [
       "1000"
      ]
     },
     "execution_count": 22,
     "metadata": {},
     "output_type": "execute_result"
    }
   ],
   "source": [
    "obj.get_balance()"
   ]
  },
  {
   "cell_type": "code",
   "execution_count": null,
   "id": "63b66813-cd48-43a2-8dac-2572fdb7dc98",
   "metadata": {},
   "outputs": [],
   "source": []
  }
 ],
 "metadata": {
  "kernelspec": {
   "display_name": "Python 3 (ipykernel)",
   "language": "python",
   "name": "python3"
  },
  "language_info": {
   "codemirror_mode": {
    "name": "ipython",
    "version": 3
   },
   "file_extension": ".py",
   "mimetype": "text/x-python",
   "name": "python",
   "nbconvert_exporter": "python",
   "pygments_lexer": "ipython3",
   "version": "3.11.7"
  }
 },
 "nbformat": 4,
 "nbformat_minor": 5
}
