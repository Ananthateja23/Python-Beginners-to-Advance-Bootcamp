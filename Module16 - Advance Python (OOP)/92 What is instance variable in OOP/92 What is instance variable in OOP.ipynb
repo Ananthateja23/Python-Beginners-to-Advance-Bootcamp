{
 "cells": [
  {
   "cell_type": "markdown",
   "id": "73ff295d-8ad6-4798-b2b7-35ca58b28a49",
   "metadata": {},
   "source": [
    "# What is instance variable in OOP"
   ]
  },
  {
   "cell_type": "code",
   "execution_count": 1,
   "id": "0c957950-19b6-420a-90a7-7fbb1ad89c60",
   "metadata": {},
   "outputs": [],
   "source": [
    "class Person:\n",
    "    def __init__(self, name, country):\n",
    "        self.name = name\n",
    "        self.country = country"
   ]
  },
  {
   "cell_type": "code",
   "execution_count": 2,
   "id": "4c461c55-3200-40a8-b5ac-ba5dc174ae61",
   "metadata": {},
   "outputs": [],
   "source": [
    "p1 = Person(\"Happy\", \"USA\")\n",
    "p2 = Person(\"Teja\", \"India\")\n",
    "p3 = Person(\"Hitler\", \"Germany\")"
   ]
  },
  {
   "cell_type": "code",
   "execution_count": 3,
   "id": "ed51df08-ae40-459c-96ee-7737aec664fe",
   "metadata": {},
   "outputs": [
    {
     "name": "stdout",
     "output_type": "stream",
     "text": [
      "2370440030544\n",
      "2370440034448\n",
      "2370440035856\n"
     ]
    }
   ],
   "source": [
    "print(id(p1))\n",
    "print(id(p2))\n",
    "print(id(p3))"
   ]
  },
  {
   "cell_type": "code",
   "execution_count": 4,
   "id": "c6766821-e89b-4be8-9386-f0bbae0e2ad9",
   "metadata": {},
   "outputs": [
    {
     "data": {
      "text/plain": [
       "'Happy'"
      ]
     },
     "execution_count": 4,
     "metadata": {},
     "output_type": "execute_result"
    }
   ],
   "source": [
    "p1.name"
   ]
  },
  {
   "cell_type": "code",
   "execution_count": 5,
   "id": "49501582-f9b0-40c1-bf34-fbce287a0a9a",
   "metadata": {},
   "outputs": [
    {
     "data": {
      "text/plain": [
       "'Teja'"
      ]
     },
     "execution_count": 5,
     "metadata": {},
     "output_type": "execute_result"
    }
   ],
   "source": [
    "p2.name"
   ]
  },
  {
   "cell_type": "code",
   "execution_count": 6,
   "id": "6eca043e-5cd0-4f0c-985a-32c762213eda",
   "metadata": {},
   "outputs": [
    {
     "data": {
      "text/plain": [
       "'Hitler'"
      ]
     },
     "execution_count": 6,
     "metadata": {},
     "output_type": "execute_result"
    }
   ],
   "source": [
    "p3.name"
   ]
  },
  {
   "cell_type": "code",
   "execution_count": null,
   "id": "19ee96ed-e7b9-4378-8da5-6f2f57243fda",
   "metadata": {},
   "outputs": [],
   "source": [
    "# practice above code on Python Tutor"
   ]
  }
 ],
 "metadata": {
  "kernelspec": {
   "display_name": "Python 3 (ipykernel)",
   "language": "python",
   "name": "python3"
  },
  "language_info": {
   "codemirror_mode": {
    "name": "ipython",
    "version": 3
   },
   "file_extension": ".py",
   "mimetype": "text/x-python",
   "name": "python",
   "nbconvert_exporter": "python",
   "pygments_lexer": "ipython3",
   "version": "3.11.7"
  }
 },
 "nbformat": 4,
 "nbformat_minor": 5
}
