{
 "cells": [
  {
   "cell_type": "markdown",
   "id": "963262c0-ced0-432a-a99a-3107605db551",
   "metadata": {},
   "source": [
    "![](Images/Image02.png)\n",
    "![](Images/Image01.png)\n",
    "![](Images/Image03.png)\n",
    "![](Images/Image04.png)"
   ]
  },
  {
   "cell_type": "code",
   "execution_count": null,
   "id": "885a589d-9b2d-4ce3-b157-8f7dd2f35bd7",
   "metadata": {},
   "outputs": [],
   "source": []
  }
 ],
 "metadata": {
  "kernelspec": {
   "display_name": "Python 3 (ipykernel)",
   "language": "python",
   "name": "python3"
  },
  "language_info": {
   "codemirror_mode": {
    "name": "ipython",
    "version": 3
   },
   "file_extension": ".py",
   "mimetype": "text/x-python",
   "name": "python",
   "nbconvert_exporter": "python",
   "pygments_lexer": "ipython3",
   "version": "3.11.7"
  }
 },
 "nbformat": 4,
 "nbformat_minor": 5
}
