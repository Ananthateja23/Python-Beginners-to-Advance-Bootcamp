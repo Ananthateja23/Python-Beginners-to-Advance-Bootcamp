{
 "cells": [
  {
   "cell_type": "markdown",
   "id": "60cab4dd-87fb-4aa8-b846-29075c8c61a5",
   "metadata": {},
   "source": [
    "# How object access attributes in OOP"
   ]
  },
  {
   "cell_type": "code",
   "execution_count": 1,
   "id": "7c5b6c40-c3a1-4cd1-acba-4dc465d3ab42",
   "metadata": {},
   "outputs": [],
   "source": [
    "class Person:\n",
    "    def __init__(self, name, country):\n",
    "        self.name = name\n",
    "        self.country = country\n",
    "\n",
    "    def greet(self):\n",
    "        if self.country == \"india\":\n",
    "            print(f\"Namaste {self.name}\")\n",
    "        else:\n",
    "            print(f\"Hello {self.name}\")"
   ]
  },
  {
   "cell_type": "code",
   "execution_count": 2,
   "id": "84e87453-d912-4aba-8b86-c6f6ad21980e",
   "metadata": {},
   "outputs": [],
   "source": [
    "p = Person(\"Happy\", \"India\")"
   ]
  },
  {
   "cell_type": "code",
   "execution_count": 3,
   "id": "1c845b2a-3ae4-4df9-bef5-b89342aeb266",
   "metadata": {},
   "outputs": [
    {
     "name": "stdout",
     "output_type": "stream",
     "text": [
      "Happy\n",
      "India\n"
     ]
    }
   ],
   "source": [
    "# Attributes\n",
    "\n",
    "print(p.name)\n",
    "print(p.country)"
   ]
  },
  {
   "cell_type": "code",
   "execution_count": 4,
   "id": "0902db90-2eb3-4c18-9aae-6295220418c1",
   "metadata": {},
   "outputs": [
    {
     "name": "stdout",
     "output_type": "stream",
     "text": [
      "Hello Happy\n"
     ]
    }
   ],
   "source": [
    "p.greet()"
   ]
  },
  {
   "cell_type": "code",
   "execution_count": 5,
   "id": "ccce5df5-07e4-44a8-865a-8984c71dc9db",
   "metadata": {},
   "outputs": [
    {
     "ename": "AttributeError",
     "evalue": "'Person' object has no attribute 'gender'",
     "output_type": "error",
     "traceback": [
      "\u001b[1;31m---------------------------------------------------------------------------\u001b[0m",
      "\u001b[1;31mAttributeError\u001b[0m                            Traceback (most recent call last)",
      "Cell \u001b[1;32mIn[5], line 1\u001b[0m\n\u001b[1;32m----> 1\u001b[0m p\u001b[38;5;241m.\u001b[39mgender\n",
      "\u001b[1;31mAttributeError\u001b[0m: 'Person' object has no attribute 'gender'"
     ]
    }
   ],
   "source": [
    "p.gender"
   ]
  },
  {
   "cell_type": "code",
   "execution_count": 6,
   "id": "4df15c8d-22bc-442c-a8c4-bd96b008fd0d",
   "metadata": {},
   "outputs": [
    {
     "data": {
      "text/plain": [
       "'male'"
      ]
     },
     "execution_count": 6,
     "metadata": {},
     "output_type": "execute_result"
    }
   ],
   "source": [
    "# Attribute creation from outside of the class\n",
    "\n",
    "p.gender = \"male\"\n",
    "p.gender"
   ]
  },
  {
   "cell_type": "code",
   "execution_count": 7,
   "id": "f749a7ba-5e69-45ba-9efa-e5db8895b560",
   "metadata": {},
   "outputs": [],
   "source": [
    "p.age = 23"
   ]
  },
  {
   "cell_type": "code",
   "execution_count": 8,
   "id": "0ce76d72-b539-4652-814d-b7f74712de13",
   "metadata": {},
   "outputs": [
    {
     "data": {
      "text/plain": [
       "23"
      ]
     },
     "execution_count": 8,
     "metadata": {},
     "output_type": "execute_result"
    }
   ],
   "source": [
    "p.age"
   ]
  },
  {
   "cell_type": "code",
   "execution_count": null,
   "id": "57034715-511b-4164-af58-fda7009da93f",
   "metadata": {},
   "outputs": [],
   "source": []
  }
 ],
 "metadata": {
  "kernelspec": {
   "display_name": "Python 3 (ipykernel)",
   "language": "python",
   "name": "python3"
  },
  "language_info": {
   "codemirror_mode": {
    "name": "ipython",
    "version": 3
   },
   "file_extension": ".py",
   "mimetype": "text/x-python",
   "name": "python",
   "nbconvert_exporter": "python",
   "pygments_lexer": "ipython3",
   "version": "3.11.7"
  }
 },
 "nbformat": 4,
 "nbformat_minor": 5
}
