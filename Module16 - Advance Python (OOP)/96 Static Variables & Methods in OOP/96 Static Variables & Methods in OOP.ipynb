{
 "cells": [
  {
   "cell_type": "markdown",
   "id": "f71ed750-7afb-45b8-9a9e-f579665d3a3f",
   "metadata": {},
   "source": [
    "# Static Variables & Methods in OOP"
   ]
  },
  {
   "cell_type": "code",
   "execution_count": 1,
   "id": "16fcf8f8-7680-4423-a20d-418e1d67cae9",
   "metadata": {},
   "outputs": [],
   "source": [
    "class AtmMachine:\n",
    "    # constructor (special function) -> superpowers\n",
    "    def __init__(self):\n",
    "        self.pin = \"\"\n",
    "        self.balance = 0\n",
    "        self.customer_id = 0\n",
    "        self.customer_id += 1\n",
    "        # self.menu()\n",
    "\n",
    "    def menu(self):\n",
    "        user_input = input(\n",
    "            \"\"\"\n",
    "            Hi, how can I help you?\n",
    "\n",
    "            1. Press 1 to create pin\n",
    "            2. Press 2 to change pin\n",
    "            3. Press 3 to check balance\n",
    "            4. Press 4 to withdraw\n",
    "            5. Anything to exit\n",
    "            \"\"\"\n",
    "        )\n",
    "\n",
    "        if user_input == \"1\":\n",
    "            # create a pin\n",
    "            self.create_pin()\n",
    "        elif user_input == \"2\":\n",
    "            # change pin\n",
    "            self.change_pin()\n",
    "        elif user_input == \"3\":\n",
    "            # check balance\n",
    "            self.check_balance()\n",
    "        elif user_input == \"4\":\n",
    "            # withdraw balance\n",
    "            self.withdraw_balance()\n",
    "        else:\n",
    "            exit()\n",
    "\n",
    "    def create_pin(self):\n",
    "        user_pin = input(\"Enter your pin : \")\n",
    "        self.pin = user_pin\n",
    "\n",
    "        user_balance = int(input(\"Enter balance : \"))\n",
    "        self.balance = user_balance\n",
    "\n",
    "        print(\"Pin Created Successfully!\")\n",
    "        # self.menu()\n",
    "\n",
    "    def change_pin(self):\n",
    "        old_pin = input(\"Enter your old pin : \")\n",
    "        if old_pin == self.pin:\n",
    "            new_pin = input(\"Enter new pin : \")\n",
    "            self.pin = new_pin\n",
    "            print(\"Pin changed Successfully!\")\n",
    "            # self.menu()\n",
    "        else:\n",
    "            print(\"Invalid Pin!\")\n",
    "            # self.menu()   \n",
    "\n",
    "    def check_balance(self):\n",
    "        user_pin = input(\"Enter your pin :\")\n",
    "        if self.pin == user_pin:\n",
    "            print(f\"Your balance is {self.balance}\")\n",
    "        else:\n",
    "            print(\"Your pin in incorrect, Please try again\")\n",
    "        # self.menu()\n",
    "\n",
    "    def withdraw_balance(self):\n",
    "        user_pin = input(\"Enter your pin : \")\n",
    "\n",
    "        if user_pin == self.pin:\n",
    "            amount = int(input(\"Enter the amount : \"))\n",
    "            if amount <= self.balance:\n",
    "                self.balance -= amount\n",
    "                print(f\"You have withdrawn {amount}. Your new balance is {self.balance}\")\n",
    "            else:\n",
    "                pass\n",
    "        else:\n",
    "            print(\"Your pin in incorrect, Please try again\")\n",
    "        # self.menu()\n",
    "        "
   ]
  },
  {
   "cell_type": "code",
   "execution_count": 2,
   "id": "8bb77a0b-1d7f-40a7-a66b-ab0da95ca48b",
   "metadata": {},
   "outputs": [],
   "source": [
    "c1 = AtmMachine()"
   ]
  },
  {
   "cell_type": "code",
   "execution_count": 3,
   "id": "68d7bfeb-0eb4-42cd-8e87-6fb2933f8bc8",
   "metadata": {},
   "outputs": [
    {
     "data": {
      "text/plain": [
       "1"
      ]
     },
     "execution_count": 3,
     "metadata": {},
     "output_type": "execute_result"
    }
   ],
   "source": [
    "c1.customer_id"
   ]
  },
  {
   "cell_type": "code",
   "execution_count": 4,
   "id": "4774d0c5-0c37-4e3d-b3f1-4c05efa723f0",
   "metadata": {},
   "outputs": [],
   "source": [
    "c2 = AtmMachine()"
   ]
  },
  {
   "cell_type": "code",
   "execution_count": 5,
   "id": "26eaf1c9-7fe6-4588-87fc-eb1a4852534b",
   "metadata": {},
   "outputs": [
    {
     "data": {
      "text/plain": [
       "1"
      ]
     },
     "execution_count": 5,
     "metadata": {},
     "output_type": "execute_result"
    }
   ],
   "source": [
    "c2.customer_id"
   ]
  },
  {
   "cell_type": "code",
   "execution_count": 6,
   "id": "5f920e6d-7450-482b-8cae-3902fd0c9356",
   "metadata": {},
   "outputs": [],
   "source": [
    "class AtmMachine:\n",
    "    # static variable\n",
    "    customer_id = 0\n",
    "    \n",
    "    # constructor (special function) -> superpowers\n",
    "    def __init__(self):\n",
    "        self.pin = \"\"\n",
    "        self.balance = 0\n",
    "        self.customer_id = AtmMachine.customer_id\n",
    "        AtmMachine.customer_id += 1\n",
    "        # self.menu()\n",
    "\n",
    "    def menu(self):\n",
    "        user_input = input(\n",
    "            \"\"\"\n",
    "            Hi, how can I help you?\n",
    "\n",
    "            1. Press 1 to create pin\n",
    "            2. Press 2 to change pin\n",
    "            3. Press 3 to check balance\n",
    "            4. Press 4 to withdraw\n",
    "            5. Anything to exit\n",
    "            \"\"\"\n",
    "        )\n",
    "\n",
    "        if user_input == \"1\":\n",
    "            # create a pin\n",
    "            self.create_pin()\n",
    "        elif user_input == \"2\":\n",
    "            # change pin\n",
    "            self.change_pin()\n",
    "        elif user_input == \"3\":\n",
    "            # check balance\n",
    "            self.check_balance()\n",
    "        elif user_input == \"4\":\n",
    "            # withdraw balance\n",
    "            self.withdraw_balance()\n",
    "        else:\n",
    "            exit()\n",
    "\n",
    "    def create_pin(self):\n",
    "        user_pin = input(\"Enter your pin : \")\n",
    "        self.pin = user_pin\n",
    "\n",
    "        user_balance = int(input(\"Enter balance : \"))\n",
    "        self.balance = user_balance\n",
    "\n",
    "        print(\"Pin Created Successfully!\")\n",
    "        # self.menu()\n",
    "\n",
    "    def change_pin(self):\n",
    "        old_pin = input(\"Enter your old pin : \")\n",
    "        if old_pin == self.pin:\n",
    "            new_pin = input(\"Enter new pin : \")\n",
    "            self.pin = new_pin\n",
    "            print(\"Pin changed Successfully!\")\n",
    "            # self.menu()\n",
    "        else:\n",
    "            print(\"Invalid Pin!\")\n",
    "            # self.menu()   \n",
    "\n",
    "    def check_balance(self):\n",
    "        user_pin = input(\"Enter your pin :\")\n",
    "        if self.pin == user_pin:\n",
    "            print(f\"Your balance is {self.balance}\")\n",
    "        else:\n",
    "            print(\"Your pin in incorrect, Please try again\")\n",
    "        # self.menu()\n",
    "\n",
    "    def withdraw_balance(self):\n",
    "        user_pin = input(\"Enter your pin : \")\n",
    "\n",
    "        if user_pin == self.pin:\n",
    "            amount = int(input(\"Enter the amount : \"))\n",
    "            if amount <= self.balance:\n",
    "                self.balance -= amount\n",
    "                print(f\"You have withdrawn {amount}. Your new balance is {self.balance}\")\n",
    "            else:\n",
    "                pass\n",
    "        else:\n",
    "            print(\"Your pin in incorrect, Please try again\")\n",
    "        # self.menu()\n",
    "        "
   ]
  },
  {
   "cell_type": "code",
   "execution_count": 7,
   "id": "163edbfc-615f-47fc-a5d3-07200a92d4b6",
   "metadata": {},
   "outputs": [],
   "source": [
    "c1 = AtmMachine()"
   ]
  },
  {
   "cell_type": "code",
   "execution_count": 8,
   "id": "a78e9f20-7c5f-4541-895e-f19507eb5cfd",
   "metadata": {},
   "outputs": [
    {
     "data": {
      "text/plain": [
       "1"
      ]
     },
     "execution_count": 8,
     "metadata": {},
     "output_type": "execute_result"
    }
   ],
   "source": [
    "AtmMachine.customer_id"
   ]
  },
  {
   "cell_type": "code",
   "execution_count": 9,
   "id": "e841d0e0-5696-4e02-b31a-8ed8564daef4",
   "metadata": {},
   "outputs": [],
   "source": [
    "c2 = AtmMachine()"
   ]
  },
  {
   "cell_type": "code",
   "execution_count": 10,
   "id": "767ef8e2-3fef-4cf3-b8df-ecb34b0a5b57",
   "metadata": {},
   "outputs": [
    {
     "data": {
      "text/plain": [
       "2"
      ]
     },
     "execution_count": 10,
     "metadata": {},
     "output_type": "execute_result"
    }
   ],
   "source": [
    "AtmMachine.customer_id"
   ]
  },
  {
   "cell_type": "code",
   "execution_count": 11,
   "id": "a1fc8c37-a9be-4ebf-97f4-e6fd101499a8",
   "metadata": {},
   "outputs": [],
   "source": [
    "c3 = AtmMachine()"
   ]
  },
  {
   "cell_type": "code",
   "execution_count": 12,
   "id": "01e12f76-081b-4f55-bd0f-012dc6f2c903",
   "metadata": {},
   "outputs": [
    {
     "data": {
      "text/plain": [
       "3"
      ]
     },
     "execution_count": 12,
     "metadata": {},
     "output_type": "execute_result"
    }
   ],
   "source": [
    "AtmMachine.customer_id"
   ]
  },
  {
   "cell_type": "code",
   "execution_count": 13,
   "id": "88bc5c08-6c7c-40c7-bcc9-5783db744830",
   "metadata": {},
   "outputs": [],
   "source": [
    "AtmMachine.customer_id = \"hello\""
   ]
  },
  {
   "cell_type": "code",
   "execution_count": 14,
   "id": "c0016e95-f480-4599-8f65-5169e83b1fc7",
   "metadata": {},
   "outputs": [
    {
     "data": {
      "text/plain": [
       "'hello'"
      ]
     },
     "execution_count": 14,
     "metadata": {},
     "output_type": "execute_result"
    }
   ],
   "source": [
    "AtmMachine.customer_id"
   ]
  },
  {
   "cell_type": "code",
   "execution_count": 21,
   "id": "5da096d3-c1cd-4351-bba5-0b09b0dcdb74",
   "metadata": {},
   "outputs": [],
   "source": [
    "class AtmMachine:\n",
    "    # static variable\n",
    "    __customer_id = 0\n",
    "    \n",
    "    # constructor (special function) -> superpowers\n",
    "    def __init__(self):\n",
    "        self.pin = \"\"\n",
    "        self.balance = 0\n",
    "        self.customer_id = AtmMachine.__customer_id\n",
    "        AtmMachine.__customer_id += 1\n",
    "        # self.menu()\n",
    "\n",
    "    @staticmethod\n",
    "    def get_customer_id():\n",
    "        return AtmMachine.__customer_id\n",
    "\n",
    "    def menu(self):\n",
    "        user_input = input(\n",
    "            \"\"\"\n",
    "            Hi, how can I help you?\n",
    "\n",
    "            1. Press 1 to create pin\n",
    "            2. Press 2 to change pin\n",
    "            3. Press 3 to check balance\n",
    "            4. Press 4 to withdraw\n",
    "            5. Anything to exit\n",
    "            \"\"\"\n",
    "        )\n",
    "\n",
    "        if user_input == \"1\":\n",
    "            # create a pin\n",
    "            self.create_pin()\n",
    "        elif user_input == \"2\":\n",
    "            # change pin\n",
    "            self.change_pin()\n",
    "        elif user_input == \"3\":\n",
    "            # check balance\n",
    "            self.check_balance()\n",
    "        elif user_input == \"4\":\n",
    "            # withdraw balance\n",
    "            self.withdraw_balance()\n",
    "        else:\n",
    "            exit()\n",
    "\n",
    "    def create_pin(self):\n",
    "        user_pin = input(\"Enter your pin : \")\n",
    "        self.pin = user_pin\n",
    "\n",
    "        user_balance = int(input(\"Enter balance : \"))\n",
    "        self.balance = user_balance\n",
    "\n",
    "        print(\"Pin Created Successfully!\")\n",
    "        # self.menu()\n",
    "\n",
    "    def change_pin(self):\n",
    "        old_pin = input(\"Enter your old pin : \")\n",
    "        if old_pin == self.pin:\n",
    "            new_pin = input(\"Enter new pin : \")\n",
    "            self.pin = new_pin\n",
    "            print(\"Pin changed Successfully!\")\n",
    "            # self.menu()\n",
    "        else:\n",
    "            print(\"Invalid Pin!\")\n",
    "            # self.menu()   \n",
    "\n",
    "    def check_balance(self):\n",
    "        user_pin = input(\"Enter your pin :\")\n",
    "        if self.pin == user_pin:\n",
    "            print(f\"Your balance is {self.balance}\")\n",
    "        else:\n",
    "            print(\"Your pin in incorrect, Please try again\")\n",
    "        # self.menu()\n",
    "\n",
    "    def withdraw_balance(self):\n",
    "        user_pin = input(\"Enter your pin : \")\n",
    "\n",
    "        if user_pin == self.pin:\n",
    "            amount = int(input(\"Enter the amount : \"))\n",
    "            if amount <= self.balance:\n",
    "                self.balance -= amount\n",
    "                print(f\"You have withdrawn {amount}. Your new balance is {self.balance}\")\n",
    "            else:\n",
    "                pass\n",
    "        else:\n",
    "            print(\"Your pin in incorrect, Please try again\")\n",
    "        # self.menu()\n",
    "        "
   ]
  },
  {
   "cell_type": "code",
   "execution_count": 22,
   "id": "7b8c0f84-a9af-402f-a791-f5649b756bce",
   "metadata": {},
   "outputs": [],
   "source": [
    "c1 = AtmMachine()"
   ]
  },
  {
   "cell_type": "code",
   "execution_count": 23,
   "id": "d157ab1e-c7ae-448b-8347-1617b7a4a7c9",
   "metadata": {},
   "outputs": [
    {
     "data": {
      "text/plain": [
       "1"
      ]
     },
     "execution_count": 23,
     "metadata": {},
     "output_type": "execute_result"
    }
   ],
   "source": [
    "AtmMachine.get_customer_id()"
   ]
  },
  {
   "cell_type": "code",
   "execution_count": null,
   "id": "7b03e878-040d-42fd-a007-d5241b127f0e",
   "metadata": {},
   "outputs": [],
   "source": []
  }
 ],
 "metadata": {
  "kernelspec": {
   "display_name": "Python 3 (ipykernel)",
   "language": "python",
   "name": "python3"
  },
  "language_info": {
   "codemirror_mode": {
    "name": "ipython",
    "version": 3
   },
   "file_extension": ".py",
   "mimetype": "text/x-python",
   "name": "python",
   "nbconvert_exporter": "python",
   "pygments_lexer": "ipython3",
   "version": "3.11.7"
  }
 },
 "nbformat": 4,
 "nbformat_minor": 5
}
