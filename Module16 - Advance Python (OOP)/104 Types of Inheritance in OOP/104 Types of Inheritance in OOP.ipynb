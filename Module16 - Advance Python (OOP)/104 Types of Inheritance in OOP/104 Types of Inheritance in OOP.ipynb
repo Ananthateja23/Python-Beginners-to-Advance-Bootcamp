{
 "cells": [
  {
   "cell_type": "markdown",
   "id": "b200b227-80f9-449b-896d-9b851c4c262d",
   "metadata": {},
   "source": [
    "![](Images/Image01.png)\n",
    "![](Images/Image02.png)"
   ]
  },
  {
   "cell_type": "code",
   "execution_count": 5,
   "id": "70190f3c-5edb-4e18-91b5-1ebb42f1c8dc",
   "metadata": {},
   "outputs": [
    {
     "name": "stdout",
     "output_type": "stream",
     "text": [
      "Inside Phone constructor\n",
      "Buying a phone inside Phone\n",
      "Product customer review\n"
     ]
    }
   ],
   "source": [
    "# Multilevel Inheritance\n",
    "\n",
    "# GrandFather\n",
    "class Product:\n",
    "    def review(self):\n",
    "        print(\"Product customer review\")\n",
    "\n",
    "# Father\n",
    "class Phone(Product):\n",
    "    def __init__(self, price, brand, camera):\n",
    "        print(\"Inside Phone constructor\")\n",
    "        self.price = price\n",
    "        self.brand = brand\n",
    "        self.camera = camera\n",
    "    def buy(self):\n",
    "        print(\"Buying a phone inside Phone\")\n",
    "\n",
    "# child\n",
    "class SmartPhone(Phone):\n",
    "    pass\n",
    "\n",
    "\n",
    "S = SmartPhone(200000, \"apple\", 3)\n",
    "S.buy()\n",
    "S.review()"
   ]
  },
  {
   "cell_type": "code",
   "execution_count": 6,
   "id": "86030d23-5b1e-4372-ad39-11355095e9e7",
   "metadata": {},
   "outputs": [
    {
     "name": "stdout",
     "output_type": "stream",
     "text": [
      "Inside Phone constructor\n",
      "Buying a phone inside Phone\n"
     ]
    }
   ],
   "source": [
    "\n",
    "# Hierarchial\n",
    "\n",
    "# Father\n",
    "class Phone:\n",
    "    def __init__(self, price, brand, camera):\n",
    "        print(\"Inside Phone constructor\")\n",
    "        self.price = price\n",
    "        self.brand = brand\n",
    "        self.camera = camera\n",
    "    def buy(self):\n",
    "        print(\"Buying a phone inside Phone\")\n",
    "\n",
    "# child\n",
    "class SmartPhone(Phone):\n",
    "    pass\n",
    "\n",
    "# child\n",
    "class FeaturePhone(Phone):\n",
    "    pass\n",
    "\n",
    "\n",
    "S = SmartPhone(200000, \"apple\", 3)\n",
    "S.buy()"
   ]
  },
  {
   "cell_type": "code",
   "execution_count": 4,
   "id": "81f7dda5-b75d-4688-80ca-951d51403d38",
   "metadata": {},
   "outputs": [
    {
     "name": "stdout",
     "output_type": "stream",
     "text": [
      "Inside Phone constructor\n",
      "Buying a phone inside Phone\n"
     ]
    }
   ],
   "source": [
    "F = FeaturePhone(200000, \"apple\", 3)\n",
    "F.buy()"
   ]
  },
  {
   "cell_type": "code",
   "execution_count": 7,
   "id": "d280d8a8-2802-4cdc-9b65-01cef73e72a2",
   "metadata": {},
   "outputs": [
    {
     "name": "stdout",
     "output_type": "stream",
     "text": [
      "Inside Phone constructor\n",
      "Buying a phone inside Phone\n",
      "Product customer review\n"
     ]
    }
   ],
   "source": [
    "\n",
    "# Multiple\n",
    "# Parent\n",
    "class Phone(Product):\n",
    "    def __init__(self, price, brand, camera):\n",
    "        print(\"Inside Phone constructor\")\n",
    "        self.price = price\n",
    "        self.brand = brand\n",
    "        self.camera = camera\n",
    "    def buy(self):\n",
    "        print(\"Buying a phone inside Phone\")\n",
    "\n",
    "\n",
    "# Parent\n",
    "class Product:\n",
    "    def __init__(self):\n",
    "        pass\n",
    "        \n",
    "    def review(self):\n",
    "        print(\"Product customer review\")\n",
    "\n",
    "\n",
    "# child\n",
    "class SmartPhone(Phone, Product):\n",
    "    pass\n",
    "\n",
    "\n",
    "S = SmartPhone(200000, \"apple\", 3)\n",
    "S.buy()\n",
    "S.review()"
   ]
  },
  {
   "cell_type": "code",
   "execution_count": null,
   "id": "311ca90c-baa1-468f-a113-f1cdf064f859",
   "metadata": {},
   "outputs": [],
   "source": []
  }
 ],
 "metadata": {
  "kernelspec": {
   "display_name": "Python 3 (ipykernel)",
   "language": "python",
   "name": "python3"
  },
  "language_info": {
   "codemirror_mode": {
    "name": "ipython",
    "version": 3
   },
   "file_extension": ".py",
   "mimetype": "text/x-python",
   "name": "python",
   "nbconvert_exporter": "python",
   "pygments_lexer": "ipython3",
   "version": "3.11.7"
  }
 },
 "nbformat": 4,
 "nbformat_minor": 5
}
