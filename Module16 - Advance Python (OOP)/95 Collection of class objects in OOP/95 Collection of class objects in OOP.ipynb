{
 "cells": [
  {
   "cell_type": "markdown",
   "id": "404f21dd-18cf-463b-b335-07bd25e6c21d",
   "metadata": {},
   "source": [
    "# Collection of class objects in OOP"
   ]
  },
  {
   "cell_type": "code",
   "execution_count": 1,
   "id": "d4d01c54-4217-4e89-ae7d-6953e4ff01c5",
   "metadata": {},
   "outputs": [],
   "source": [
    "class Person:\n",
    "    def __init__(self, name, country):\n",
    "        self.name = name\n",
    "        self.country = country"
   ]
  },
  {
   "cell_type": "code",
   "execution_count": 2,
   "id": "6b442b5b-978e-43bc-b756-fe6e2f9cc2ea",
   "metadata": {},
   "outputs": [],
   "source": [
    "p1 = Person(\"Happy\", \"UK\")\n",
    "p2 = Person(\"Alex\", \"USA\")\n",
    "p3 = Person(\"Ayansh\", \"India\")"
   ]
  },
  {
   "cell_type": "code",
   "execution_count": 3,
   "id": "3889f709-79f7-480d-9043-67bb2a246da5",
   "metadata": {},
   "outputs": [
    {
     "name": "stdout",
     "output_type": "stream",
     "text": [
      "[<__main__.Person object at 0x00000156F9CD3DD0>, <__main__.Person object at 0x00000156F9CE2150>, <__main__.Person object at 0x00000156F9C78490>]\n"
     ]
    }
   ],
   "source": [
    "L = [p1, p2, p3]\n",
    "print(L)"
   ]
  },
  {
   "cell_type": "code",
   "execution_count": 4,
   "id": "c6a066f8-eba1-48c5-8472-cc90fa2aa664",
   "metadata": {},
   "outputs": [
    {
     "name": "stdout",
     "output_type": "stream",
     "text": [
      "<__main__.Person object at 0x00000156F9CD3DD0>\n",
      "<__main__.Person object at 0x00000156F9CE2150>\n",
      "<__main__.Person object at 0x00000156F9C78490>\n"
     ]
    }
   ],
   "source": [
    "for i in L:\n",
    "    print(i)"
   ]
  },
  {
   "cell_type": "code",
   "execution_count": 5,
   "id": "a3e51388-b7af-4e65-9a80-d86cb0456cc0",
   "metadata": {},
   "outputs": [
    {
     "name": "stdout",
     "output_type": "stream",
     "text": [
      "Happy UK\n",
      "Alex USA\n",
      "Ayansh India\n"
     ]
    }
   ],
   "source": [
    "for i in L:\n",
    "    print(i.name, i.country)"
   ]
  },
  {
   "cell_type": "code",
   "execution_count": null,
   "id": "a41d5a9b-b04f-4acf-be29-c85f8e0d7cbe",
   "metadata": {},
   "outputs": [],
   "source": []
  }
 ],
 "metadata": {
  "kernelspec": {
   "display_name": "Python 3 (ipykernel)",
   "language": "python",
   "name": "python3"
  },
  "language_info": {
   "codemirror_mode": {
    "name": "ipython",
    "version": 3
   },
   "file_extension": ".py",
   "mimetype": "text/x-python",
   "name": "python",
   "nbconvert_exporter": "python",
   "pygments_lexer": "ipython3",
   "version": "3.11.7"
  }
 },
 "nbformat": 4,
 "nbformat_minor": 5
}
