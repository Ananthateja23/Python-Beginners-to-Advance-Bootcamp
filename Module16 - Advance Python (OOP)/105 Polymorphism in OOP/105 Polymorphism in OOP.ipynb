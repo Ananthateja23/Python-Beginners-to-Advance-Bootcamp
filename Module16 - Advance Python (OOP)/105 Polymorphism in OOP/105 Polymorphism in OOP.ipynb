{
 "cells": [
  {
   "cell_type": "markdown",
   "id": "7eba4061-30ad-4574-a69b-3615d8373dfe",
   "metadata": {},
   "source": [
    "# Polymorphism in OOP\n",
    "\n",
    "![](Images/Image01.png)"
   ]
  },
  {
   "cell_type": "code",
   "execution_count": 1,
   "id": "8c00506d-05b1-4f2b-97bd-0005370233c2",
   "metadata": {},
   "outputs": [
    {
     "data": {
      "text/plain": [
       "8"
      ]
     },
     "execution_count": 1,
     "metadata": {},
     "output_type": "execute_result"
    }
   ],
   "source": [
    "class Shape:\n",
    "\n",
    "    def area(self, radius):\n",
    "        return 3.14*radius**2\n",
    "\n",
    "\n",
    "    def area(self, l, b):\n",
    "        return l*b\n",
    "\n",
    "S = Shape()\n",
    "S.area(2, 4)"
   ]
  },
  {
   "cell_type": "code",
   "execution_count": 2,
   "id": "60761469-c7d7-4c57-9d01-7939e8ef50fb",
   "metadata": {},
   "outputs": [
    {
     "ename": "TypeError",
     "evalue": "Shape.area() missing 1 required positional argument: 'b'",
     "output_type": "error",
     "traceback": [
      "\u001b[1;31m---------------------------------------------------------------------------\u001b[0m",
      "\u001b[1;31mTypeError\u001b[0m                                 Traceback (most recent call last)",
      "Cell \u001b[1;32mIn[2], line 1\u001b[0m\n\u001b[1;32m----> 1\u001b[0m S\u001b[38;5;241m.\u001b[39marea(\u001b[38;5;241m4\u001b[39m)\n",
      "\u001b[1;31mTypeError\u001b[0m: Shape.area() missing 1 required positional argument: 'b'"
     ]
    }
   ],
   "source": [
    "S.area(4)"
   ]
  },
  {
   "cell_type": "code",
   "execution_count": 6,
   "id": "8bcdcede-0906-4f77-8573-918941f4d1b4",
   "metadata": {},
   "outputs": [],
   "source": [
    "class Shape:\n",
    "\n",
    "    def area(self, radius, l, b):\n",
    "        if b == None:\n",
    "            print(\"Radius\")\n",
    "            return 3.14*radius**2\n",
    "        else:\n",
    "            print(\"Multiply\")\n",
    "            return l*b\n",
    "\n",
    "S = Shape()"
   ]
  },
  {
   "cell_type": "code",
   "execution_count": 7,
   "id": "c886c9c4-37dd-4053-bdcc-cfb9f6c82730",
   "metadata": {},
   "outputs": [
    {
     "name": "stdout",
     "output_type": "stream",
     "text": [
      "Radius\n"
     ]
    },
    {
     "data": {
      "text/plain": [
       "200.96"
      ]
     },
     "execution_count": 7,
     "metadata": {},
     "output_type": "execute_result"
    }
   ],
   "source": [
    "S.area(radius = 8, l = None, b = None)"
   ]
  },
  {
   "cell_type": "code",
   "execution_count": 8,
   "id": "e4d9bed4-955e-44af-bc9d-28d6a8d2a3c2",
   "metadata": {},
   "outputs": [
    {
     "name": "stdout",
     "output_type": "stream",
     "text": [
      "Multiply\n"
     ]
    },
    {
     "data": {
      "text/plain": [
       "135"
      ]
     },
     "execution_count": 8,
     "metadata": {},
     "output_type": "execute_result"
    }
   ],
   "source": [
    "S.area(radius = 8, l = 45, b = 3)"
   ]
  },
  {
   "cell_type": "code",
   "execution_count": 9,
   "id": "f4b93cfa-b87c-42a7-a097-416f165c1c7d",
   "metadata": {},
   "outputs": [
    {
     "data": {
      "text/plain": [
       "'HelloHello'"
      ]
     },
     "execution_count": 9,
     "metadata": {},
     "output_type": "execute_result"
    }
   ],
   "source": [
    "\"Hello\" + \"Hello\""
   ]
  },
  {
   "cell_type": "code",
   "execution_count": 10,
   "id": "899599b7-9ce6-4ccd-8cbd-934bb5982562",
   "metadata": {},
   "outputs": [
    {
     "data": {
      "text/plain": [
       "25"
      ]
     },
     "execution_count": 10,
     "metadata": {},
     "output_type": "execute_result"
    }
   ],
   "source": [
    "10 + 15"
   ]
  },
  {
   "cell_type": "code",
   "execution_count": 11,
   "id": "c638c847-25ae-4843-b8fe-a92a56780dc6",
   "metadata": {},
   "outputs": [
    {
     "data": {
      "text/plain": [
       "[1, 2, 3, 4, 5, 6]"
      ]
     },
     "execution_count": 11,
     "metadata": {},
     "output_type": "execute_result"
    }
   ],
   "source": [
    "[1, 2, 3] + [4, 5, 6]"
   ]
  },
  {
   "cell_type": "code",
   "execution_count": null,
   "id": "595cc62e-8cbe-45a1-a29c-8667e5923f4b",
   "metadata": {},
   "outputs": [],
   "source": []
  }
 ],
 "metadata": {
  "kernelspec": {
   "display_name": "Python 3 (ipykernel)",
   "language": "python",
   "name": "python3"
  },
  "language_info": {
   "codemirror_mode": {
    "name": "ipython",
    "version": 3
   },
   "file_extension": ".py",
   "mimetype": "text/x-python",
   "name": "python",
   "nbconvert_exporter": "python",
   "pygments_lexer": "ipython3",
   "version": "3.11.7"
  }
 },
 "nbformat": 4,
 "nbformat_minor": 5
}
