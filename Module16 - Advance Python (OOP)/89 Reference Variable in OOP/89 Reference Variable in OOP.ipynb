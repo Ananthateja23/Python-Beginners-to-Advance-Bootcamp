{
 "cells": [
  {
   "cell_type": "markdown",
   "id": "3e70a9e6-b16b-4ab0-8881-e474363c3744",
   "metadata": {},
   "source": [
    "# Reference Variable in OOP"
   ]
  },
  {
   "cell_type": "code",
   "execution_count": 1,
   "id": "6e1b3293-8621-43e6-bdbd-2014f87d3cf5",
   "metadata": {},
   "outputs": [],
   "source": [
    "class Person:\n",
    "    def __init__(self):\n",
    "        self.name = \"Happy\"\n",
    "        self.country = \"India\""
   ]
  },
  {
   "cell_type": "code",
   "execution_count": 2,
   "id": "cac374cf-a96c-4d03-bc58-2415b775df09",
   "metadata": {},
   "outputs": [],
   "source": [
    "p = Person()"
   ]
  },
  {
   "cell_type": "code",
   "execution_count": 3,
   "id": "6056a113-276a-4ada-a0ad-45698543acb2",
   "metadata": {},
   "outputs": [
    {
     "data": {
      "text/plain": [
       "1801427645968"
      ]
     },
     "execution_count": 3,
     "metadata": {},
     "output_type": "execute_result"
    }
   ],
   "source": [
    "id(p)"
   ]
  },
  {
   "cell_type": "code",
   "execution_count": 4,
   "id": "4be97637-af2d-420b-82a2-75eadb0ff420",
   "metadata": {},
   "outputs": [
    {
     "data": {
      "text/plain": [
       "1801427645968"
      ]
     },
     "execution_count": 4,
     "metadata": {},
     "output_type": "execute_result"
    }
   ],
   "source": [
    "q = p\n",
    "id(q)"
   ]
  },
  {
   "cell_type": "code",
   "execution_count": 5,
   "id": "2cba31dc-3995-4ff9-a2fc-ad748890aa01",
   "metadata": {},
   "outputs": [
    {
     "name": "stdout",
     "output_type": "stream",
     "text": [
      "Happy\n",
      "Happy\n"
     ]
    }
   ],
   "source": [
    "print(p.name)\n",
    "print(q.name)"
   ]
  },
  {
   "cell_type": "code",
   "execution_count": 6,
   "id": "c3894868-31d6-40b9-b520-e3c4e7f168f2",
   "metadata": {},
   "outputs": [],
   "source": [
    "q.name = \"Tony\""
   ]
  },
  {
   "cell_type": "code",
   "execution_count": 7,
   "id": "84712e72-391b-4c4b-9c3a-2908112fd131",
   "metadata": {},
   "outputs": [
    {
     "name": "stdout",
     "output_type": "stream",
     "text": [
      "Tony\n",
      "Tony\n"
     ]
    }
   ],
   "source": [
    "print(p.name)\n",
    "print(q.name)"
   ]
  },
  {
   "cell_type": "code",
   "execution_count": null,
   "id": "6a7cc872-1d37-4f84-a124-8a18dc09ddd8",
   "metadata": {},
   "outputs": [],
   "source": []
  }
 ],
 "metadata": {
  "kernelspec": {
   "display_name": "Python 3 (ipykernel)",
   "language": "python",
   "name": "python3"
  },
  "language_info": {
   "codemirror_mode": {
    "name": "ipython",
    "version": 3
   },
   "file_extension": ".py",
   "mimetype": "text/x-python",
   "name": "python",
   "nbconvert_exporter": "python",
   "pygments_lexer": "ipython3",
   "version": "3.11.7"
  }
 },
 "nbformat": 4,
 "nbformat_minor": 5
}
