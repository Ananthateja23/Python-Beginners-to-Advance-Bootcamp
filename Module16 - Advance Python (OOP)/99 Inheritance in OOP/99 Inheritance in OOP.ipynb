{
 "cells": [
  {
   "cell_type": "markdown",
   "id": "f5055b9e-14cd-4bb3-bc63-0f20268d8676",
   "metadata": {},
   "source": [
    "![](Images/Image01.png)\n",
    "![](Images/Image02.png)"
   ]
  },
  {
   "cell_type": "code",
   "execution_count": 1,
   "id": "7372144b-0b8a-4c09-90cc-6274b68a7019",
   "metadata": {},
   "outputs": [],
   "source": [
    "class User: # parent class\n",
    "    def __init__(self):\n",
    "        self.name = \"Happy\"\n",
    "        self.gender = \"Male\"\n",
    "\n",
    "    def login(self):\n",
    "        print(\"Login Done!\")\n",
    "\n",
    "    def register(self):\n",
    "        print(\"register Done!\")\n",
    "\n",
    "class Student(User): # child class\n",
    "    def __init__(self):\n",
    "        self.rollno = 12\n",
    "\n",
    "    def enroll(self):\n",
    "        print(\"Enrolled the course!\")\n",
    "\n",
    "\n",
    "class Instructor(User): # child class\n",
    "    def __init__(self):\n",
    "        self.idno = 120\n",
    "\n",
    "    def create(self):\n",
    "        print(\"created the course!\")"
   ]
  },
  {
   "cell_type": "code",
   "execution_count": 2,
   "id": "2b60d5b0-2322-4b7d-9f1c-2bb603053c78",
   "metadata": {},
   "outputs": [],
   "source": [
    "s = Student()"
   ]
  },
  {
   "cell_type": "code",
   "execution_count": 3,
   "id": "18912500-8e73-4cf4-a411-59df3ad7ab46",
   "metadata": {},
   "outputs": [
    {
     "name": "stdout",
     "output_type": "stream",
     "text": [
      "Enrolled the course!\n"
     ]
    }
   ],
   "source": [
    "s.enroll()"
   ]
  },
  {
   "cell_type": "code",
   "execution_count": 4,
   "id": "4e4e4feb-ad65-4d24-a754-48916d84afda",
   "metadata": {},
   "outputs": [
    {
     "name": "stdout",
     "output_type": "stream",
     "text": [
      "Login Done!\n"
     ]
    }
   ],
   "source": [
    "s.login()"
   ]
  },
  {
   "cell_type": "code",
   "execution_count": 5,
   "id": "a33aa81f-906d-42fd-862c-e16fa64b511d",
   "metadata": {},
   "outputs": [
    {
     "name": "stdout",
     "output_type": "stream",
     "text": [
      "register Done!\n"
     ]
    }
   ],
   "source": [
    "s.register()"
   ]
  },
  {
   "cell_type": "code",
   "execution_count": 6,
   "id": "3bbc9dd7-25f8-45db-bb09-b694f37c77d7",
   "metadata": {},
   "outputs": [],
   "source": [
    "i = Instructor()"
   ]
  },
  {
   "cell_type": "code",
   "execution_count": 7,
   "id": "78ec28b3-f7a0-4244-a497-1409511c617e",
   "metadata": {},
   "outputs": [
    {
     "name": "stdout",
     "output_type": "stream",
     "text": [
      "created the course!\n"
     ]
    }
   ],
   "source": [
    "i.create()"
   ]
  },
  {
   "cell_type": "code",
   "execution_count": 8,
   "id": "164c6f2a-c60c-49ab-98e5-fbb539fb0d37",
   "metadata": {},
   "outputs": [
    {
     "name": "stdout",
     "output_type": "stream",
     "text": [
      "Login Done!\n"
     ]
    }
   ],
   "source": [
    "i.login()"
   ]
  },
  {
   "cell_type": "code",
   "execution_count": 9,
   "id": "994bd45a-24ab-4494-875f-30fee1159c9a",
   "metadata": {},
   "outputs": [],
   "source": [
    "class User: # parent class\n",
    "    def __init__(self):\n",
    "        self.name = \"Happy\"\n",
    "        self.gender = \"Male\"\n",
    "\n",
    "    def login(self):\n",
    "        print(\"Login Done!\")\n",
    "\n",
    "    def register(self):\n",
    "        print(\"register Done!\")\n",
    "\n",
    "class Student(User): # child class\n",
    "    def __init__(self):\n",
    "        self.rollno = 12\n",
    "\n",
    "    def enroll(self):\n",
    "        print(\"Enrolled the course!\")"
   ]
  },
  {
   "cell_type": "code",
   "execution_count": 10,
   "id": "7378f40c-e585-4e28-8a4f-8e150d242bb4",
   "metadata": {},
   "outputs": [],
   "source": [
    "s = Student()"
   ]
  },
  {
   "cell_type": "code",
   "execution_count": 11,
   "id": "d61a5c9c-d62f-46a0-b4f9-17a10afb19fe",
   "metadata": {},
   "outputs": [
    {
     "ename": "AttributeError",
     "evalue": "'Student' object has no attribute 'name'",
     "output_type": "error",
     "traceback": [
      "\u001b[1;31m---------------------------------------------------------------------------\u001b[0m",
      "\u001b[1;31mAttributeError\u001b[0m                            Traceback (most recent call last)",
      "Cell \u001b[1;32mIn[11], line 1\u001b[0m\n\u001b[1;32m----> 1\u001b[0m s\u001b[38;5;241m.\u001b[39mname\n",
      "\u001b[1;31mAttributeError\u001b[0m: 'Student' object has no attribute 'name'"
     ]
    }
   ],
   "source": [
    "s.name"
   ]
  },
  {
   "cell_type": "code",
   "execution_count": 12,
   "id": "13460eeb-fdcb-4276-a678-e545bf33e589",
   "metadata": {},
   "outputs": [
    {
     "data": {
      "text/plain": [
       "'Happy'"
      ]
     },
     "execution_count": 12,
     "metadata": {},
     "output_type": "execute_result"
    }
   ],
   "source": [
    "class User: # parent class\n",
    "    def __init__(self):\n",
    "        self.name = \"Happy\"\n",
    "        self.gender = \"Male\"\n",
    "\n",
    "    def login(self):\n",
    "        print(\"Login Done!\")\n",
    "\n",
    "    def register(self):\n",
    "        print(\"register Done!\")\n",
    "\n",
    "class Student(User): # child class\n",
    "    # def __init__(self):\n",
    "    #     self.rollno = 12\n",
    "\n",
    "    def enroll(self):\n",
    "        print(\"Enrolled the course!\")\n",
    "\n",
    "s = Student()\n",
    "s.name"
   ]
  },
  {
   "cell_type": "code",
   "execution_count": 13,
   "id": "8ddce7d3-4df2-404d-96e4-34bb9da30d6a",
   "metadata": {},
   "outputs": [
    {
     "data": {
      "text/plain": [
       "12"
      ]
     },
     "execution_count": 13,
     "metadata": {},
     "output_type": "execute_result"
    }
   ],
   "source": [
    "class User: # parent class\n",
    "    def __init__(self):\n",
    "        self.name = \"Happy\"\n",
    "        self.gender = \"Male\"\n",
    "\n",
    "    def login(self):\n",
    "        print(\"Login Done!\")\n",
    "\n",
    "    def register(self):\n",
    "        print(\"register Done!\")\n",
    "\n",
    "class Student(User): # child class\n",
    "    def __init__(self):\n",
    "        self.rollno = 12\n",
    "\n",
    "    def enroll(self):\n",
    "        print(\"Enrolled the course!\")\n",
    "\n",
    "s = Student()\n",
    "s.rollno"
   ]
  },
  {
   "cell_type": "code",
   "execution_count": null,
   "id": "c3bf0d90-03ae-4cdb-8c38-fdb3d947d2e2",
   "metadata": {},
   "outputs": [],
   "source": []
  }
 ],
 "metadata": {
  "kernelspec": {
   "display_name": "Python 3 (ipykernel)",
   "language": "python",
   "name": "python3"
  },
  "language_info": {
   "codemirror_mode": {
    "name": "ipython",
    "version": 3
   },
   "file_extension": ".py",
   "mimetype": "text/x-python",
   "name": "python",
   "nbconvert_exporter": "python",
   "pygments_lexer": "ipython3",
   "version": "3.11.7"
  }
 },
 "nbformat": 4,
 "nbformat_minor": 5
}
