{
 "cells": [
  {
   "cell_type": "markdown",
   "id": "94881765-79c5-4bb6-a20f-fbc7f5ff9c27",
   "metadata": {},
   "source": [
    "# Method Overriding in OOP"
   ]
  },
  {
   "cell_type": "code",
   "execution_count": 1,
   "id": "3211a7dd-0edf-4e92-b545-97b0de6ea69d",
   "metadata": {},
   "outputs": [
    {
     "name": "stdout",
     "output_type": "stream",
     "text": [
      "Inside Phone constructor\n",
      "Buying a phone inside SmartPhone\n"
     ]
    }
   ],
   "source": [
    "class Phone:\n",
    "    def __init__(self, price, brand, camera):\n",
    "        print(\"Inside Phone constructor\")\n",
    "        self.__price = price\n",
    "        self.brand = brand\n",
    "        self.camera = camera\n",
    "    def buy(self):\n",
    "        print(\"Buying a phone inside Phone\")\n",
    "\n",
    "    def get_price(self):\n",
    "        return self.__price\n",
    "\n",
    "\n",
    "class SmartPhone(Phone):\n",
    "    def buy(self):\n",
    "        print(\"Buying a phone inside SmartPhone\")\n",
    "\n",
    "\n",
    "S = SmartPhone(200000, \"apple\", 3)\n",
    "S.buy()"
   ]
  },
  {
   "cell_type": "code",
   "execution_count": null,
   "id": "b8b8dc42-1233-4643-925d-802d2a266372",
   "metadata": {},
   "outputs": [],
   "source": []
  }
 ],
 "metadata": {
  "kernelspec": {
   "display_name": "Python 3 (ipykernel)",
   "language": "python",
   "name": "python3"
  },
  "language_info": {
   "codemirror_mode": {
    "name": "ipython",
    "version": 3
   },
   "file_extension": ".py",
   "mimetype": "text/x-python",
   "name": "python",
   "nbconvert_exporter": "python",
   "pygments_lexer": "ipython3",
   "version": "3.11.7"
  }
 },
 "nbformat": 4,
 "nbformat_minor": 5
}
