{
 "cells": [
  {
   "cell_type": "markdown",
   "id": "d25ce0a7-5003-4682-900b-2eec1f8f9185",
   "metadata": {},
   "source": [
    "# Abstraction in OOP\n",
    "\n",
    "![](Images/Image01.png)"
   ]
  },
  {
   "cell_type": "code",
   "execution_count": 8,
   "id": "e9e876fe-43c7-4d0b-9fcb-6258e34f652d",
   "metadata": {},
   "outputs": [],
   "source": [
    "# Abstract Base Class (ABC)\n",
    "from abc import ABC, abstractmethod\n",
    "\n",
    "# senior\n",
    "class BankServer(ABC):\n",
    "    def database(self):\n",
    "        print(\"Connected to database\")\n",
    "\n",
    "    @abstractmethod\n",
    "    def security(self):\n",
    "        print(\"Security passed\")\n",
    "\n",
    "# junior\n",
    "class MobileApp(BankServer):\n",
    "    def mobile_login(self):\n",
    "        print(\"Mobile app login successful\")"
   ]
  },
  {
   "cell_type": "code",
   "execution_count": 9,
   "id": "243444af-43b9-430c-a580-7ade81291bb6",
   "metadata": {},
   "outputs": [
    {
     "ename": "TypeError",
     "evalue": "Can't instantiate abstract class MobileApp with abstract method security",
     "output_type": "error",
     "traceback": [
      "\u001b[1;31m---------------------------------------------------------------------------\u001b[0m",
      "\u001b[1;31mTypeError\u001b[0m                                 Traceback (most recent call last)",
      "Cell \u001b[1;32mIn[9], line 1\u001b[0m\n\u001b[1;32m----> 1\u001b[0m mob \u001b[38;5;241m=\u001b[39m MobileApp()\n",
      "\u001b[1;31mTypeError\u001b[0m: Can't instantiate abstract class MobileApp with abstract method security"
     ]
    }
   ],
   "source": [
    "mob = MobileApp()"
   ]
  },
  {
   "cell_type": "code",
   "execution_count": 10,
   "id": "79686bee-f305-4176-a964-a8af3ed98007",
   "metadata": {},
   "outputs": [],
   "source": [
    "# Abstract Base Class (ABC)\n",
    "from abc import ABC, abstractmethod\n",
    "\n",
    "# senior\n",
    "class BankServer(ABC):\n",
    "    def database(self):\n",
    "        print(\"Connected to database\")\n",
    "\n",
    "    @abstractmethod\n",
    "    def security(self):\n",
    "        print(\"Security passed\")\n",
    "\n",
    "# junior\n",
    "class MobileApp(BankServer):\n",
    "    def mobile_login(self):\n",
    "        print(\"Mobile app login successful\")\n",
    "\n",
    "    def security(self):\n",
    "        print(\"Mobile Security passed\")"
   ]
  },
  {
   "cell_type": "code",
   "execution_count": 11,
   "id": "6a4f2c19-fa31-4c8e-b087-f73eee8e38e8",
   "metadata": {},
   "outputs": [],
   "source": [
    "mob = MobileApp()"
   ]
  },
  {
   "cell_type": "code",
   "execution_count": 12,
   "id": "a4d02a6b-d0be-44d1-b2d1-19a816927623",
   "metadata": {},
   "outputs": [
    {
     "name": "stdout",
     "output_type": "stream",
     "text": [
      "Mobile app login successful\n"
     ]
    }
   ],
   "source": [
    "mob.mobile_login()"
   ]
  },
  {
   "cell_type": "code",
   "execution_count": 13,
   "id": "e28d2c95-5a97-445e-ab35-91ae46b7d911",
   "metadata": {},
   "outputs": [
    {
     "name": "stdout",
     "output_type": "stream",
     "text": [
      "Connected to database\n"
     ]
    }
   ],
   "source": [
    "mob.database()"
   ]
  },
  {
   "cell_type": "code",
   "execution_count": 14,
   "id": "149de67a-23df-4948-8f26-f21be51b140e",
   "metadata": {},
   "outputs": [],
   "source": [
    "# Abstract Base Class (ABC)\n",
    "from abc import ABC, abstractmethod\n",
    "\n",
    "# senior\n",
    "class BankServer(ABC):\n",
    "    def database(self):\n",
    "        print(\"Connected to database\")\n",
    "\n",
    "    @abstractmethod\n",
    "    def security(self):\n",
    "        print(\"Security passed\")\n",
    "\n",
    "    @abstractmethod\n",
    "    def display(self):\n",
    "        print(\"Displaying data\")\n",
    "\n",
    "# junior\n",
    "class MobileApp(BankServer):\n",
    "    def mobile_login(self):\n",
    "        print(\"Mobile app login successful\")\n",
    "\n",
    "    def security(self):\n",
    "        print(\"Mobile Security passed\")\n",
    "\n",
    "    def display(self):\n",
    "        print(\"Displaying data of MobileApp\")"
   ]
  },
  {
   "cell_type": "code",
   "execution_count": 15,
   "id": "cdc87ea4-e048-4922-a636-2d7b74664272",
   "metadata": {},
   "outputs": [],
   "source": [
    "mob = MobileApp()"
   ]
  },
  {
   "cell_type": "code",
   "execution_count": null,
   "id": "4a273031-0f23-4961-9ee4-8f5725db9268",
   "metadata": {},
   "outputs": [],
   "source": []
  }
 ],
 "metadata": {
  "kernelspec": {
   "display_name": "Python 3 (ipykernel)",
   "language": "python",
   "name": "python3"
  },
  "language_info": {
   "codemirror_mode": {
    "name": "ipython",
    "version": 3
   },
   "file_extension": ".py",
   "mimetype": "text/x-python",
   "name": "python",
   "nbconvert_exporter": "python",
   "pygments_lexer": "ipython3",
   "version": "3.11.7"
  }
 },
 "nbformat": 4,
 "nbformat_minor": 5
}
