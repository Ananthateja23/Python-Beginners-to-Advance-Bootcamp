{
 "cells": [
  {
   "cell_type": "code",
   "execution_count": 3,
   "id": "3de267de-43ae-4a18-92b8-4639c7e06168",
   "metadata": {},
   "outputs": [
    {
     "name": "stdout",
     "output_type": "stream",
     "text": [
      "It display message\n"
     ]
    }
   ],
   "source": [
    "# Methods vs Functions\n",
    "\n",
    "class Sample:\n",
    "    # method: It is defined inside class\n",
    "    def display(self):\n",
    "        print(\"It display message\")\n",
    "\n",
    "ob = Sample()\n",
    "ob.display()"
   ]
  },
  {
   "cell_type": "code",
   "execution_count": 2,
   "id": "616d085b-5a28-4cc9-933f-ceb63c5b6b32",
   "metadata": {},
   "outputs": [
    {
     "name": "stdout",
     "output_type": "stream",
     "text": [
      "It display message\n"
     ]
    }
   ],
   "source": [
    "# Function: It is not defined inside class \n",
    "def display():\n",
    "    print(\"It display message\")\n",
    "\n",
    "display()"
   ]
  },
  {
   "cell_type": "code",
   "execution_count": null,
   "id": "953180f2-9909-4a9a-b55b-e1df84bfbf5a",
   "metadata": {},
   "outputs": [],
   "source": []
  }
 ],
 "metadata": {
  "kernelspec": {
   "display_name": "Python 3 (ipykernel)",
   "language": "python",
   "name": "python3"
  },
  "language_info": {
   "codemirror_mode": {
    "name": "ipython",
    "version": 3
   },
   "file_extension": ".py",
   "mimetype": "text/x-python",
   "name": "python",
   "nbconvert_exporter": "python",
   "pygments_lexer": "ipython3",
   "version": "3.11.7"
  }
 },
 "nbformat": 4,
 "nbformat_minor": 5
}
