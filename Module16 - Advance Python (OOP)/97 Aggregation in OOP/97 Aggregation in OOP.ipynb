{
 "cells": [
  {
   "cell_type": "markdown",
   "id": "4d5c35a1-5123-44b9-96c2-e9460c6f53ec",
   "metadata": {},
   "source": [
    "# Aggregation (Has a relationship)\n",
    "- one class owns other class\n",
    "- we can perform aggregation only with non private attributes and non private methods\n",
    "- only solution for above problem is inheritance"
   ]
  },
  {
   "cell_type": "code",
   "execution_count": 3,
   "id": "a931765b-3601-45d8-8c9b-6cd7557a5d11",
   "metadata": {},
   "outputs": [],
   "source": [
    "class Customer:\n",
    "    def __init__(self, name, gender, address):\n",
    "        self.name = name\n",
    "        self.gender = gender\n",
    "        self.address = address\n",
    "\n",
    "\n",
    "    def display_info(self):\n",
    "        print(f\"Name: {self.name}, Gender: {self.gender}, Address: {self.address.city}, {self.address.pin}, {self.address.state}\")\n",
    "\n",
    "\n",
    "class Address:\n",
    "    def __init__(self, city, pin, state):\n",
    "        self.city = city\n",
    "        self.pin = pin\n",
    "        self.state = state"
   ]
  },
  {
   "cell_type": "code",
   "execution_count": 4,
   "id": "9eae2038-f47d-4f21-9e06-2fa7eccaaa91",
   "metadata": {},
   "outputs": [],
   "source": [
    "adds = Address(\"Karnataka\", 45454545, \"Bengaluru\")\n",
    "cus = Customer(\"Happy\", \"male\", adds)"
   ]
  },
  {
   "cell_type": "code",
   "execution_count": 5,
   "id": "d6f56d51-da08-455e-9583-22f9576eaed2",
   "metadata": {},
   "outputs": [
    {
     "name": "stdout",
     "output_type": "stream",
     "text": [
      "Name: Happy, Gender: male, Address: Karnataka, 45454545, Bengaluru\n"
     ]
    }
   ],
   "source": [
    "cus.display_info()"
   ]
  },
  {
   "cell_type": "code",
   "execution_count": 6,
   "id": "c27a87e6-4d52-4ada-bf5e-da3d7c61b32d",
   "metadata": {},
   "outputs": [],
   "source": [
    "class Customer:\n",
    "    def __init__(self, name, gender, address):\n",
    "        self.name = name\n",
    "        self.gender = gender\n",
    "        self.address = address\n",
    "\n",
    "\n",
    "    def display_info(self):\n",
    "        print(f\"Name: {self.name}, Gender: {self.gender}, Address: {self.address.__city}, {self.address.pin}, {self.address.state}\")\n",
    "\n",
    "\n",
    "class Address:\n",
    "    def __init__(self, city, pin, state):\n",
    "        self.__city = city\n",
    "        self.pin = pin\n",
    "        self.state = state"
   ]
  },
  {
   "cell_type": "code",
   "execution_count": 7,
   "id": "5919957b-acb6-4fad-993f-9d869f0c83dd",
   "metadata": {},
   "outputs": [],
   "source": [
    "adds = Address(\"Karnataka\", 45454545, \"Bengaluru\")\n",
    "cus = Customer(\"Happy\", \"male\", adds)"
   ]
  },
  {
   "cell_type": "code",
   "execution_count": 8,
   "id": "511b80e0-1963-4fb4-b5d5-d03358efcd49",
   "metadata": {},
   "outputs": [
    {
     "ename": "AttributeError",
     "evalue": "'Address' object has no attribute '_Customer__city'",
     "output_type": "error",
     "traceback": [
      "\u001b[1;31m---------------------------------------------------------------------------\u001b[0m",
      "\u001b[1;31mAttributeError\u001b[0m                            Traceback (most recent call last)",
      "Cell \u001b[1;32mIn[8], line 1\u001b[0m\n\u001b[1;32m----> 1\u001b[0m cus\u001b[38;5;241m.\u001b[39mdisplay_info()\n",
      "Cell \u001b[1;32mIn[6], line 9\u001b[0m, in \u001b[0;36mCustomer.display_info\u001b[1;34m(self)\u001b[0m\n\u001b[0;32m      8\u001b[0m \u001b[38;5;28;01mdef\u001b[39;00m \u001b[38;5;21mdisplay_info\u001b[39m(\u001b[38;5;28mself\u001b[39m):\n\u001b[1;32m----> 9\u001b[0m     \u001b[38;5;28mprint\u001b[39m(\u001b[38;5;124mf\u001b[39m\u001b[38;5;124m\"\u001b[39m\u001b[38;5;124mName: \u001b[39m\u001b[38;5;132;01m{\u001b[39;00m\u001b[38;5;28mself\u001b[39m\u001b[38;5;241m.\u001b[39mname\u001b[38;5;132;01m}\u001b[39;00m\u001b[38;5;124m, Gender: \u001b[39m\u001b[38;5;132;01m{\u001b[39;00m\u001b[38;5;28mself\u001b[39m\u001b[38;5;241m.\u001b[39mgender\u001b[38;5;132;01m}\u001b[39;00m\u001b[38;5;124m, Address: \u001b[39m\u001b[38;5;132;01m{\u001b[39;00m\u001b[38;5;28mself\u001b[39m\u001b[38;5;241m.\u001b[39maddress\u001b[38;5;241m.\u001b[39m__city\u001b[38;5;132;01m}\u001b[39;00m\u001b[38;5;124m, \u001b[39m\u001b[38;5;132;01m{\u001b[39;00m\u001b[38;5;28mself\u001b[39m\u001b[38;5;241m.\u001b[39maddress\u001b[38;5;241m.\u001b[39mpin\u001b[38;5;132;01m}\u001b[39;00m\u001b[38;5;124m, \u001b[39m\u001b[38;5;132;01m{\u001b[39;00m\u001b[38;5;28mself\u001b[39m\u001b[38;5;241m.\u001b[39maddress\u001b[38;5;241m.\u001b[39mstate\u001b[38;5;132;01m}\u001b[39;00m\u001b[38;5;124m\"\u001b[39m)\n",
      "\u001b[1;31mAttributeError\u001b[0m: 'Address' object has no attribute '_Customer__city'"
     ]
    }
   ],
   "source": [
    "cus.display_info()"
   ]
  },
  {
   "cell_type": "code",
   "execution_count": 10,
   "id": "5450810d-1290-4129-a8a0-9023e4f63fd0",
   "metadata": {},
   "outputs": [],
   "source": [
    "class Customer:\n",
    "    def __init__(self, name, gender, address):\n",
    "        self.name = name\n",
    "        self.gender = gender\n",
    "        self.address = address\n",
    "\n",
    "\n",
    "    def display_info(self):\n",
    "        print(f\"Name: {self.name}, Gender: {self.gender}, Address: {self.address.get_city()}, {self.address.pin}, {self.address.state}\")\n",
    "\n",
    "\n",
    "class Address:\n",
    "    def __init__(self, city, pin, state):\n",
    "        self.__city = city\n",
    "        self.pin = pin\n",
    "        self.state = state\n",
    "\n",
    "    def get_city(self):\n",
    "        return self.__city"
   ]
  },
  {
   "cell_type": "code",
   "execution_count": 11,
   "id": "42855429-47f0-4306-a1e0-99864f7d72de",
   "metadata": {},
   "outputs": [
    {
     "name": "stdout",
     "output_type": "stream",
     "text": [
      "Name: Happy, Gender: male, Address: Karnataka, 45454545, Bengaluru\n"
     ]
    }
   ],
   "source": [
    "adds = Address(\"Karnataka\", 45454545, \"Bengaluru\")\n",
    "cus = Customer(\"Happy\", \"male\", adds)\n",
    "cus.display_info()"
   ]
  },
  {
   "cell_type": "code",
   "execution_count": 12,
   "id": "c562b0cb-6e95-4e1f-8fc6-b86e477c403d",
   "metadata": {},
   "outputs": [],
   "source": [
    "class Customer:\n",
    "    def __init__(self, name, gender, address):\n",
    "        self.name = name\n",
    "        self.gender = gender\n",
    "        self.address = address\n",
    "\n",
    "\n",
    "    def display_info(self):\n",
    "        print(f\"Name: {self.name}, Gender: {self.gender}, Address: {self.address._Address__city}, {self.address.pin}, {self.address.state}\")\n",
    "\n",
    "\n",
    "class Address:\n",
    "    def __init__(self, city, pin, state):\n",
    "        self.__city = city\n",
    "        self.pin = pin\n",
    "        self.state = state\n",
    "\n",
    "    # def get_city(self):\n",
    "    #     return self.__city"
   ]
  },
  {
   "cell_type": "code",
   "execution_count": 13,
   "id": "100bfb3e-4f47-4b60-9fb4-5e86ac42ee0b",
   "metadata": {},
   "outputs": [
    {
     "name": "stdout",
     "output_type": "stream",
     "text": [
      "Name: Happy, Gender: male, Address: Karnataka, 45454545, Bengaluru\n"
     ]
    }
   ],
   "source": [
    "adds = Address(\"Karnataka\", 45454545, \"Bengaluru\")\n",
    "cus = Customer(\"Happy\", \"male\", adds)\n",
    "cus.display_info()"
   ]
  },
  {
   "cell_type": "code",
   "execution_count": null,
   "id": "ff68545b-8481-46e7-b2fe-892b6f5b4874",
   "metadata": {},
   "outputs": [],
   "source": []
  }
 ],
 "metadata": {
  "kernelspec": {
   "display_name": "Python 3 (ipykernel)",
   "language": "python",
   "name": "python3"
  },
  "language_info": {
   "codemirror_mode": {
    "name": "ipython",
    "version": 3
   },
   "file_extension": ".py",
   "mimetype": "text/x-python",
   "name": "python",
   "nbconvert_exporter": "python",
   "pygments_lexer": "ipython3",
   "version": "3.11.7"
  }
 },
 "nbformat": 4,
 "nbformat_minor": 5
}
