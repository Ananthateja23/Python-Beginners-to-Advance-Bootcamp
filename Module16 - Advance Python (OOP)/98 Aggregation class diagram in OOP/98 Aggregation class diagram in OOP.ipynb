{
 "cells": [
  {
   "cell_type": "markdown",
   "id": "fd598eba-1be3-4a85-8951-d2777d553257",
   "metadata": {},
   "source": [
    "# Aggregation class diagram in OOP"
   ]
  },
  {
   "cell_type": "markdown",
   "id": "21332536-8edc-4b0b-9e66-b6e042f8eae8",
   "metadata": {},
   "source": [
    "```python\n",
    "class Customer:\n",
    "    def __init__(self, name, gender, address):\n",
    "        self.name = name\n",
    "        self.gender = gender\n",
    "        self.address = address\n",
    "\n",
    "\n",
    "    def display_info(self):\n",
    "        print(f\"Name: {self.name}, Gender: {self.gender}, Address: {self.address.city}, {self.address.pin}, {self.address.state}\")\n",
    "\n",
    "\n",
    "class Address:\n",
    "    def __init__(self, city, pin, state):\n",
    "        self.city = city\n",
    "        self.pin = pin\n",
    "        self.state = state\n",
    "```\n",
    "![](Images/Image01.png)"
   ]
  },
  {
   "cell_type": "code",
   "execution_count": null,
   "id": "f49c7e82-353a-45b5-9cb3-761460a1672a",
   "metadata": {},
   "outputs": [],
   "source": []
  }
 ],
 "metadata": {
  "kernelspec": {
   "display_name": "Python 3 (ipykernel)",
   "language": "python",
   "name": "python3"
  },
  "language_info": {
   "codemirror_mode": {
    "name": "ipython",
    "version": 3
   },
   "file_extension": ".py",
   "mimetype": "text/x-python",
   "name": "python",
   "nbconvert_exporter": "python",
   "pygments_lexer": "ipython3",
   "version": "3.11.7"
  }
 },
 "nbformat": 4,
 "nbformat_minor": 5
}
