{
 "cells": [
  {
   "cell_type": "markdown",
   "id": "1ee21bb1-f286-4222-9d7f-6805f885b28a",
   "metadata": {},
   "source": [
    "# Super Keyword in OOP"
   ]
  },
  {
   "cell_type": "code",
   "execution_count": 2,
   "id": "e04d23f9-2e29-42b7-b6e4-054c39dc7564",
   "metadata": {},
   "outputs": [
    {
     "name": "stdout",
     "output_type": "stream",
     "text": [
      "Inside Phone constructor\n",
      "Buying a phone inside SmartPhone\n",
      "Buying a phone inside Phone\n"
     ]
    }
   ],
   "source": [
    "class Phone:\n",
    "    def __init__(self, price, brand, camera):\n",
    "        print(\"Inside Phone constructor\")\n",
    "        self.price = price\n",
    "        self.brand = brand\n",
    "        self.camera = camera\n",
    "    def buy(self):\n",
    "        print(\"Buying a phone inside Phone\")\n",
    "\n",
    "    def get_price(self):\n",
    "        return self.__price\n",
    "\n",
    "\n",
    "class SmartPhone(Phone):\n",
    "    def buy(self):\n",
    "        print(\"Buying a phone inside SmartPhone\")\n",
    "        super().buy()\n",
    "\n",
    "\n",
    "S = SmartPhone(200000, \"apple\", 3)\n",
    "S.buy()"
   ]
  },
  {
   "cell_type": "code",
   "execution_count": 3,
   "id": "936f6c4e-6ff9-40cc-ba69-3e60b28d23d1",
   "metadata": {},
   "outputs": [
    {
     "name": "stdout",
     "output_type": "stream",
     "text": [
      "Inside SmartPhone constructor\n",
      "Inside Phone constructor\n",
      "apple\n",
      "android\n",
      "200000\n"
     ]
    }
   ],
   "source": [
    "class Phone:\n",
    "    def __init__(self, price, brand, camera):\n",
    "        print(\"Inside Phone constructor\")\n",
    "        self.price = price\n",
    "        self.brand = brand\n",
    "        self.camera = camera\n",
    "    def buy(self):\n",
    "        print(\"Buying a phone inside Phone\")\n",
    "\n",
    "    def get_price(self):\n",
    "        return self.__price\n",
    "\n",
    "\n",
    "class SmartPhone(Phone):\n",
    "    def __init__(self, price, brand, camera, os, ram):\n",
    "        print(\"Inside SmartPhone constructor\")\n",
    "        super().__init__(price, brand, camera)\n",
    "        self.os = os\n",
    "        self.ram = ram\n",
    "        \n",
    "    def buy(self):\n",
    "        print(\"Buying a phone inside SmartPhone\")\n",
    "        super().buy()\n",
    "\n",
    "\n",
    "S = SmartPhone(200000, \"apple\", 3, \"android\", 16)\n",
    "print(S.brand)\n",
    "print(S.os)\n",
    "print(S.price)"
   ]
  },
  {
   "cell_type": "code",
   "execution_count": null,
   "id": "cac7fb58-3351-4feb-8080-2eeb4fceaefb",
   "metadata": {},
   "outputs": [],
   "source": []
  }
 ],
 "metadata": {
  "kernelspec": {
   "display_name": "Python 3 (ipykernel)",
   "language": "python",
   "name": "python3"
  },
  "language_info": {
   "codemirror_mode": {
    "name": "ipython",
    "version": 3
   },
   "file_extension": ".py",
   "mimetype": "text/x-python",
   "name": "python",
   "nbconvert_exporter": "python",
   "pygments_lexer": "ipython3",
   "version": "3.11.7"
  }
 },
 "nbformat": 4,
 "nbformat_minor": 5
}
